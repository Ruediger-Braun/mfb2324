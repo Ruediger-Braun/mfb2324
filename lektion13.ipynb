{
 "cells": [
  {
   "cell_type": "markdown",
   "id": "97e910de",
   "metadata": {
    "slideshow": {
     "slide_type": "slide"
    }
   },
   "source": [
    "# Mathematik für Biologiestudierende II\n",
    "\n",
    "Sommersemester 2024\n",
    "\n",
    "09.04.2024\n",
    "\n",
    "&copy; 2024 Prof. Dr. Rüdiger W. Braun "
   ]
  },
  {
   "cell_type": "markdown",
   "id": "2f4144d1",
   "metadata": {
    "slideshow": {
     "slide_type": "slide"
    }
   },
   "source": [
    "# Tests für Erwartungswerte"
   ]
  },
  {
   "cell_type": "markdown",
   "id": "53e5d419",
   "metadata": {
    "slideshow": {
     "slide_type": "fragment"
    }
   },
   "source": [
    "## Verbundene und unverbundene Stichproben\n",
    "\n",
    "* Zwei Versuchsreihen liefern Messergebnisse.  Der Test soll entscheiden, ob sich diese Ergebnisse signifikant unterscheiden.\n",
    "\n",
    "* *Unverbundene Stichproben:* Die Messerergebnisse werden an verschiedenen Populationen gewonnen."
   ]
  },
  {
   "cell_type": "markdown",
   "id": "120fb1a5",
   "metadata": {
    "slideshow": {
     "slide_type": "slide"
    }
   },
   "source": [
    "# Z-Test zum Vergleich zweier Erwartungswerte bei verbundenen Stichproben\n",
    "\n",
    "* Gegeben sind Zufallsvariable $X_1, \\dots, X_n$ und $Y_1, \\dots, Y_n$\n",
    "* Verteilungsvoraussetzungen:\n",
    "  * Alle $X_j$ sind normalverteilt mit unbekanntem Erwartungswert $\\mu_1$ und *bekannter* Varianz $\\sigma^2$\n",
    "  * Alle $Y_j$ sind normalverteilt mit unbekanntem Erwartungswert $\\mu_2$ und *bekannter* Varianz $\\sigma^2$\n",
    "  * Die beiden Varianzen müssen also gleich und bekannt sein (unrealistisch)\n",
    "* Ziel: $\\mu_1$ und $\\mu_2$ sollen verglichen werden"
   ]
  },
  {
   "cell_type": "markdown",
   "id": "6a2cde7d",
   "metadata": {
    "slideshow": {
     "slide_type": "slide"
    }
   },
   "source": [
    "* $x_j$ und $ _j$ seien Realisierungen (d.h., die Daten)\n",
    "* $z_j = x_j - y_j$ seien die Differenzen\n",
    "* Bestimme arithmetischen Mittelwert\n",
    "$$      \\overline z = \\frac1n \\sum_{j=1}^n z_j   $$"
   ]
  },
  {
   "cell_type": "markdown",
   "id": "42d6e597",
   "metadata": {
    "slideshow": {
     "slide_type": "fragment"
    }
   },
   "source": [
    "* Die *Teststatistik* ist\n",
    "$$        t = \\frac{\\overline z}\\sigma \\cdot \\sqrt{n}  $$\n",
    "* Die Teststatistik wird mit einem Quantil der Standardnormalverteilung verglichen "
   ]
  },
  {
   "cell_type": "markdown",
   "id": "25a0e8cd",
   "metadata": {
    "slideshow": {
     "slide_type": "fragment"
    }
   },
   "source": [
    "* $\\phi$ ist die Verteilungsfunktion der Standardnormalverteilung\n",
    "* $q_\\alpha$ ist das Quantil der Standardnormalverteilung zum Wert $\\alpha$\n",
    "* das bedeutet $\\Phi(q_\\alpha) = \\alpha$"
   ]
  },
  {
   "cell_type": "markdown",
   "id": "bdf2e07c",
   "metadata": {
    "slideshow": {
     "slide_type": "slide"
    }
   },
   "source": [
    "## Ein- und zweiseitige Tests\n",
    "\n",
    "* Tests können ein- oder zweiseitig sein\n",
    "* Es sind $\\mu_1$ und $ \\mu_2 $ die unbekannten wahren Erwartungswerte der beiden Stichproben\n",
    "* Bei zweiseitigen Tests ist die Nullhypothese von der Form $H_0 =  \\{\\mu_1 = \\mu_2\\}$\n",
    "* Beim einseitigen unteren Test ist die Nullhypothese von der Form $H_0 = \\{\\mu_1 \\ge \\mu_2\\}$, d.h. die Alternativhypothese ist $\\mu_1 < \\mu_2$\n",
    "* Beim einseitigen oberen Test ist die Nullhypothese von der Form $H_0 = \\{\\mu_1 \\le \\mu_2\\}$, d.h. die Alternativhypothese ist $\\mu_1 > \\mu_2$"
   ]
  },
  {
   "cell_type": "markdown",
   "id": "a5d0cee3",
   "metadata": {
    "slideshow": {
     "slide_type": "slide"
    }
   },
   "source": [
    "### Entscheidungsregel\n",
    "\n",
    "* Das Signifikanzniveau sei $\\alpha$\n",
    "* Beim Z-Test müssen die Quantile der Standardnormalverteilung verwendet werden\n",
    "\n",
    "\\begin{align*}\n",
    "      &q_{1-\\alpha/2} &&\\text{beim zweiseitigen Test} \\\\\n",
    "      &q_{1-\\alpha} &&\\text{bei einem einseitigen Test}\n",
    "\\end{align*}\n",
    "\n",
    "* $z_j = x_j - y_j$ und Teststatistik\n",
    "$$      t = \\frac{\\overline z}\\sigma \\cdot \\sqrt{n}  $$"
   ]
  },
  {
   "cell_type": "markdown",
   "id": "1a1dce1b",
   "metadata": {
    "slideshow": {
     "slide_type": "fragment"
    }
   },
   "source": [
    "* Entscheidung:\n",
    "  * $H_0 = \\{\\mu_1=\\mu_2\\} $: Die Nullhypothese $H_0$ wird abgelehnt, wenn $\\left|t\\right| > q_{1-\\alpha/2}$\n",
    "  * $H_0 = \\{\\mu_1\\le\\mu_2\\}$: Die Nullhypothese $H_0$ wird abgelehnt, wenn $t > q_{1-\\alpha}$\n",
    "  * $H_0 = \\{\\mu_1\\ge\\mu_2\\}$: Die Nullhypothese $H_0$ wird abgelehnt, wenn $t < -q_{1-\\alpha}$"
   ]
  },
  {
   "cell_type": "markdown",
   "id": "f3cc1886",
   "metadata": {
    "slideshow": {
     "slide_type": "slide"
    }
   },
   "source": [
    "* Der Z-Test wird auch als Gauß-Test bezeichnet\n",
    "* Um ihn anzuwenden, muss die Varianz der Daten bekannt sein.  Das ist unrealistisch.\n",
    "* Für grobe Überschlagsrechnungen hat der Z-Test aber seine Berechtigung\n",
    "* in `scipy.stats` ist der Z-Test nicht implementiert"
   ]
  },
  {
   "cell_type": "markdown",
   "id": "c0ba5f23",
   "metadata": {
    "slideshow": {
     "slide_type": "slide"
    }
   },
   "source": [
    "# t-Tests für Mittelwerte\n",
    "\n",
    "Wiederholung aus dem Wintersemester"
   ]
  },
  {
   "cell_type": "markdown",
   "id": "db4af5f8",
   "metadata": {
    "slideshow": {
     "slide_type": "slide"
    }
   },
   "source": [
    "* Ein Medikament soll bei einer fortschreitenden Bewegungserkrankung die Verschlechterung aufhalten\n",
    "* 900 Patienten bekommen das Verum, weitere 900 ein Placebo\n",
    "* Zu den Zeitpunkten $t_0$ (Anfangszeitpunkt) und $t_1$ (Endzeitpunkt) wird die Beweglichkeit durch geschultes Personal auf einer Skala von 1 (schlecht) bis 100 (perfekt) eingeordnet.  "
   ]
  },
  {
   "cell_type": "code",
   "execution_count": null,
   "id": "1e0c52e7",
   "metadata": {
    "slideshow": {
     "slide_type": "slide"
    }
   },
   "outputs": [],
   "source": [
    "import pandas as pd\n",
    "from scipy import stats"
   ]
  },
  {
   "cell_type": "code",
   "execution_count": null,
   "id": "efc6d31d",
   "metadata": {
    "slideshow": {
     "slide_type": "slide"
    }
   },
   "outputs": [],
   "source": [
    "df = pd.read_csv('treatment.csv', index_col=0)\n",
    "df"
   ]
  },
  {
   "cell_type": "markdown",
   "id": "29b7fc62",
   "metadata": {
    "slideshow": {
     "slide_type": "slide"
    }
   },
   "source": [
    "* In der Spalte \"Difference\" steht die Differenz zwischen den beiden Zeitpunkten.  Idealerweise ist sie positiv, wenn das Medikament die Verschlechterung sogar umkehrt.\n",
    "* Jedenfalls soll der Test zeigen, dass die Differenz bei den Probanden mit Verum im Mittel größer als bei den anderen ist\n",
    "* Einseitiger, unverbundener Test"
   ]
  },
  {
   "cell_type": "code",
   "execution_count": null,
   "id": "db68b0ef",
   "metadata": {
    "slideshow": {
     "slide_type": "slide"
    }
   },
   "outputs": [],
   "source": [
    "dfv = df[df.Treatment=='Verum']\n",
    "dfv.describe()"
   ]
  },
  {
   "cell_type": "code",
   "execution_count": null,
   "id": "73aa2559",
   "metadata": {
    "slideshow": {
     "slide_type": "slide"
    }
   },
   "outputs": [],
   "source": [
    "dfp = df[df.Treatment=='Placebo']\n",
    "dfp.describe()"
   ]
  },
  {
   "cell_type": "markdown",
   "id": "a531fe82",
   "metadata": {
    "slideshow": {
     "slide_type": "fragment"
    }
   },
   "source": [
    "* Aus der Gruppe der Probanden mit Verum sind 13 Leute ausgeschieden\n",
    "* aus der anderen 18"
   ]
  },
  {
   "cell_type": "code",
   "execution_count": null,
   "id": "21393e9e",
   "metadata": {
    "slideshow": {
     "slide_type": "slide"
    }
   },
   "outputs": [],
   "source": [
    "stats.ttest_ind(dfv.Difference, dfp.Difference, alternative='greater')"
   ]
  },
  {
   "cell_type": "markdown",
   "id": "d194ea66",
   "metadata": {
    "slideshow": {
     "slide_type": "fragment"
    }
   },
   "source": [
    "Die Nullhypothese, dass das Medikament nicht besser wirkt als Placebo, kann zum Signifikanzniveau $\\alpha=0.011$ abgelehnt werden. "
   ]
  },
  {
   "cell_type": "markdown",
   "id": "5b369d40",
   "metadata": {
    "slideshow": {
     "slide_type": "slide"
    }
   },
   "source": [
    "# Effektstärke"
   ]
  },
  {
   "cell_type": "markdown",
   "id": "39ee4f27",
   "metadata": {
    "slideshow": {
     "slide_type": "slide"
    }
   },
   "source": [
    "Beim Vergleich zweier Mittelwerte kann \"Cohen's d\" zur Messung der Effektstärke verwendet werden.  \n",
    "\n",
    "$$\n",
    "    d = \\left| \\frac{\\overline x - \\overline y}s \\right|\n",
    "$$\n",
    "\n",
    "wobei $\\overline x$ und $\\overline y$ die beiden Mittelwerte, $s$ die Stichprobenstreuung und $|a|$ der Betrag von $a$ bezeichnet.\n",
    "\n",
    "* Bei verbundenen Stichproben verwendet man die Stichprobenstreuung der Differenz\n",
    "* Bei unverbundenen Stichproben verwendet man die Standardabweichung der gepoolten Stichproben (s. Lektion 12)"
   ]
  },
  {
   "cell_type": "code",
   "execution_count": null,
   "id": "dd463d39",
   "metadata": {
    "slideshow": {
     "slide_type": "slide"
    }
   },
   "outputs": [],
   "source": [
    "import numpy as np"
   ]
  },
  {
   "cell_type": "code",
   "execution_count": null,
   "id": "26723628",
   "metadata": {},
   "outputs": [],
   "source": [
    "n1 = dfv.Difference.count()\n",
    "n2 = dfp.Difference.count()\n",
    "xq = dfv.Difference.mean()\n",
    "yq = dfp.Difference.mean()\n",
    "sx = dfv.Difference.std()\n",
    "sy = dfp.Difference.std()"
   ]
  },
  {
   "cell_type": "code",
   "execution_count": null,
   "id": "f0db36e4",
   "metadata": {},
   "outputs": [],
   "source": [
    "zaehler = (n1-1)*sx**2 + (n2-1)*sy**2\n",
    "nenner = n1+n2-2\n",
    "sq = np.sqrt(zaehler/nenner)\n",
    "sq"
   ]
  },
  {
   "cell_type": "code",
   "execution_count": null,
   "id": "8944f251",
   "metadata": {},
   "outputs": [],
   "source": [
    "d = (xq - yq) / sq\n",
    "d"
   ]
  },
  {
   "cell_type": "markdown",
   "id": "782714c9",
   "metadata": {
    "slideshow": {
     "slide_type": "slide"
    }
   },
   "source": [
    "### Interpretation der Effektgröße\n",
    "\n",
    "| d-Wert | Interpretation   |\n",
    "|--------|------------------|\n",
    "| 0.2    | geringer Effekt  |\n",
    "| 0.5    | mittlerer Effekt |\n",
    "| 0.8    | starker Effekt   |"
   ]
  },
  {
   "cell_type": "markdown",
   "id": "05fa0e98",
   "metadata": {},
   "source": [
    "Wir haben also einen geringen Effekt beobachtet"
   ]
  },
  {
   "cell_type": "markdown",
   "id": "70571b04",
   "metadata": {
    "slideshow": {
     "slide_type": "slide"
    }
   },
   "source": [
    "# Power-Analyse"
   ]
  },
  {
   "cell_type": "markdown",
   "id": "23c22d9c",
   "metadata": {
    "slideshow": {
     "slide_type": "slide"
    }
   },
   "source": [
    "Bauer Pillenhuber wird verdächtigt, seine Bio-Hühnchen mit Antibiotika vollzudröhnen.  Wir wollen das durch Blutuntersuchungen nachweisen.  \n",
    "\n",
    "* Es handelt sich um den Vergleich mit einem Referenzwert, also einen verbundenen t-Test\n",
    "* Er ist einseitig"
   ]
  },
  {
   "cell_type": "markdown",
   "id": "39b93eab",
   "metadata": {
    "slideshow": {
     "slide_type": "fragment"
    }
   },
   "source": [
    "* Wie viele Tiere müssen untersucht werden?\n",
    "* Wir erwarten einen starken Effekt, sagen wir d=0.7\n",
    "* Wir verlangen ein Signifikanzniveau von $\\alpha=0.01$, um niemanden zu Unrecht zu verdächtigen"
   ]
  },
  {
   "cell_type": "code",
   "execution_count": null,
   "id": "ab25a29a",
   "metadata": {
    "slideshow": {
     "slide_type": "slide"
    }
   },
   "outputs": [],
   "source": [
    "import statsmodels.stats.power as smp   "
   ]
  },
  {
   "cell_type": "code",
   "execution_count": null,
   "id": "1a8aca63",
   "metadata": {
    "slideshow": {
     "slide_type": "fragment"
    }
   },
   "outputs": [],
   "source": [
    "import seaborn as sns\n",
    "sns.set_theme()        "
   ]
  },
  {
   "cell_type": "code",
   "execution_count": null,
   "id": "8b6521f2",
   "metadata": {
    "slideshow": {
     "slide_type": "slide"
    }
   },
   "outputs": [],
   "source": [
    "poweranalyse = smp.TTestPower()"
   ]
  },
  {
   "cell_type": "code",
   "execution_count": null,
   "id": "b4b5e094",
   "metadata": {},
   "outputs": [],
   "source": [
    "poweranalyse.power(effect_size=0.7, alpha=0.01, nobs=10)"
   ]
  },
  {
   "cell_type": "code",
   "execution_count": null,
   "id": "b1993104",
   "metadata": {
    "slideshow": {
     "slide_type": "slide"
    }
   },
   "outputs": [],
   "source": [
    "poweranalyse.plot_power(effect_size=[0.7], alpha=0.01, nobs=np.arange(2,100), \n",
    "                         alternative='larger');"
   ]
  },
  {
   "cell_type": "markdown",
   "id": "f3fbcd3d",
   "metadata": {
    "slideshow": {
     "slide_type": "slide"
    }
   },
   "source": [
    "Wir sollten 35 Hühner untersuchen"
   ]
  },
  {
   "cell_type": "code",
   "execution_count": null,
   "id": "05250f62",
   "metadata": {},
   "outputs": [],
   "source": [
    "poweranalyse.power(effect_size=0.7, alpha=0.01, nobs=35, alternative='larger')"
   ]
  },
  {
   "cell_type": "markdown",
   "id": "d351eec3",
   "metadata": {
    "slideshow": {
     "slide_type": "slide"
    }
   },
   "source": [
    "## Power-Analyse für unverbundene t-Tests"
   ]
  },
  {
   "cell_type": "markdown",
   "id": "bd2d860e",
   "metadata": {
    "slideshow": {
     "slide_type": "slide"
    }
   },
   "source": [
    "* Sie wollen wissen, ob auf sandigem Boden das Verhältnis von Kiefern zu Fichten ein anderes als auf lehmigem ist\n",
    "* Sie erwarten einen mittleren Effekt\n",
    "* Sie wählen den Standardwert $\\alpha=0.05$"
   ]
  },
  {
   "cell_type": "markdown",
   "id": "fd8bd867",
   "metadata": {
    "slideshow": {
     "slide_type": "fragment"
    }
   },
   "source": [
    "* Es handelt sich um einen unverbundenen Test\n",
    "* Sie wählen $n_1$ sandige und $n_2=n_1$ lehmige Waldparzellen aus\n",
    "* Wie groß müssen $n_1$ und $n_2$ sein?"
   ]
  },
  {
   "cell_type": "code",
   "execution_count": null,
   "id": "f1f8cb7c",
   "metadata": {
    "slideshow": {
     "slide_type": "slide"
    }
   },
   "outputs": [],
   "source": [
    "poweranalyse = smp.TTestIndPower()  # Ind = Independent"
   ]
  },
  {
   "cell_type": "code",
   "execution_count": null,
   "id": "dd19e72c",
   "metadata": {},
   "outputs": [],
   "source": [
    "poweranalyse.plot_power(effect_size=[0.5], alpha=0.05, nobs=np.arange(2,150));"
   ]
  },
  {
   "cell_type": "markdown",
   "id": "2cecbe89",
   "metadata": {
    "slideshow": {
     "slide_type": "slide"
    }
   },
   "source": [
    "Sie müssen ca 100 Parzellen von jeder Sorte ansehen, um eine Power von knapp 95% zu erreichen"
   ]
  },
  {
   "cell_type": "code",
   "execution_count": null,
   "id": "29088388",
   "metadata": {},
   "outputs": [],
   "source": [
    "poweranalyse.power(effect_size=0.5, alpha=0.05, nobs1=100, ratio=1)"
   ]
  },
  {
   "cell_type": "markdown",
   "id": "7af60e1f",
   "metadata": {
    "slideshow": {
     "slide_type": "fragment"
    }
   },
   "source": [
    "* `ratio` ist das Vehältnis $\\frac{n_2}{n_1}$\n",
    "* Man plant eingentlich immer mit `ratio=1`\n",
    "* Dann kann man diese Angabe bei `poweranalyse.power` weglassen"
   ]
  }
 ],
 "metadata": {
  "celltoolbar": "Slideshow",
  "kernelspec": {
   "display_name": "Python 3 (ipykernel)",
   "language": "python",
   "name": "python3"
  },
  "language_info": {
   "codemirror_mode": {
    "name": "ipython",
    "version": 3
   },
   "file_extension": ".py",
   "mimetype": "text/x-python",
   "name": "python",
   "nbconvert_exporter": "python",
   "pygments_lexer": "ipython3",
   "version": "3.11.5"
  }
 },
 "nbformat": 4,
 "nbformat_minor": 5
}
