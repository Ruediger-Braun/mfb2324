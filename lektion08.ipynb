{
 "cells": [
  {
   "cell_type": "markdown",
   "id": "473e8522",
   "metadata": {
    "slideshow": {
     "slide_type": "slide"
    }
   },
   "source": [
    "# Mathematik für Biologiestudierende\n",
    "\n",
    "Wintersemester 2023/24\n",
    "\n",
    "St. Nikolaus 2023\n",
    "\n",
    "&copy; 2023 Prof. Dr. Rüdiger W. Braun "
   ]
  },
  {
   "cell_type": "markdown",
   "id": "825d1880",
   "metadata": {
    "slideshow": {
     "slide_type": "slide"
    }
   },
   "source": [
    "# Schließende Statistik\n",
    "\n",
    "# Hypothesentests"
   ]
  },
  {
   "cell_type": "markdown",
   "id": "b9af5c31",
   "metadata": {
    "slideshow": {
     "slide_type": "slide"
    }
   },
   "source": [
    "## Beispiel\n",
    "\n",
    "* In ungestörten Boden bekannt:  75% L-Bakterien, 25% R-Bakterien\n",
    "* Nach Einwirkung eines Pestizids bei Studie gefunden:  14 L-Bakterien, 13 R-Bakterien"
   ]
  },
  {
   "cell_type": "markdown",
   "id": "46fcfabe",
   "metadata": {},
   "source": [
    "## Frage\n",
    "\n",
    "* Ist der Rückgang des Anteils der L-Bakterien signifikant?"
   ]
  },
  {
   "cell_type": "markdown",
   "id": "01fb662b",
   "metadata": {
    "slideshow": {
     "slide_type": "slide"
    }
   },
   "source": [
    "## Zwei Probleme\n",
    "\n",
    "die aber miteinander verbunden sind\n",
    "\n",
    "### Zufallseinflüsse unvermeidlich\n",
    "\n",
    "* Sichere Aussagen unmöglich\n",
    "* Vorgabe des Signifikanzniveaus begrenzt Fehlerwarscheinlichkeit"
   ]
  },
  {
   "cell_type": "markdown",
   "id": "c3ed9830",
   "metadata": {
    "slideshow": {
     "slide_type": "fragment"
    }
   },
   "source": [
    "### Binäre Antwort wird erwartet\n",
    "\n",
    "obwohl prinzipiell mehrere Szenarien möglich sind\n",
    "\n",
    "* klare Hinweise auf \"ja\"\n",
    "* klare Hinweise auf \"nein\"\n",
    "* unklares Ergebnis\n",
    "\n",
    "\"klar\" und \"unklar\" bemisst sich nach dem Signifikanzniveau"
   ]
  },
  {
   "cell_type": "markdown",
   "id": "2b571295",
   "metadata": {
    "slideshow": {
     "slide_type": "slide"
    }
   },
   "source": [
    "## Beispiel L-Bakterien\n",
    "\n",
    "Generell sind vier Ausgänge des Experiments möglich"
   ]
  },
  {
   "cell_type": "markdown",
   "id": "273f5ab6",
   "metadata": {
    "slideshow": {
     "slide_type": "slide"
    }
   },
   "source": [
    "* Das Pestizid schädigt L-Bakterien nicht mehr als R-Bakterien und das Experiment beantwortet die Frage mit nein\n",
    "\n",
    "  &#128994; Korrekte Antwort"
   ]
  },
  {
   "cell_type": "markdown",
   "id": "cfd21306",
   "metadata": {
    "slideshow": {
     "slide_type": "fragment"
    }
   },
   "source": [
    "* Das Pestizid schädigt L-Bakterien nicht mehr als R-Bakterien und das Experiment beantwortet die Frage mit ja\n",
    "\n",
    "  &#128308; Falsche Antwort"
   ]
  },
  {
   "cell_type": "markdown",
   "id": "fbdd850a",
   "metadata": {
    "slideshow": {
     "slide_type": "fragment"
    }
   },
   "source": [
    "* Das Pestizid schädigt L-Bakterien mehr als R-Bakterien und das Experiment beantwortet die Frage mit nein\n",
    "\n",
    "  &#128308; Falsche Antwort"
   ]
  },
  {
   "cell_type": "markdown",
   "id": "a7853389",
   "metadata": {
    "slideshow": {
     "slide_type": "fragment"
    }
   },
   "source": [
    "* Das Pestizid schädigt L-Bakterien mehr als R-Bakterien und das Experiment beantwortet die Frage mit ja\n",
    "\n",
    "  &#128994; Korrekte Antwort"
   ]
  },
  {
   "cell_type": "markdown",
   "id": "679af60c",
   "metadata": {
    "slideshow": {
     "slide_type": "slide"
    }
   },
   "source": [
    "Was soll im Fall unklarer Datenlage die Antwort sein?\n",
    "\n",
    "* Geschichte;  Forschungsteam hat Zusammenhang zwischen Pestizid und Chiralität entdeckt und will Ergebnis in angesehener Zeitschrift publizieren\n",
    "* Die Zeitschrift fordert stichhaltige Beweise\n",
    "* Wenn die Zeitschrift die Datenlage für unklar hält, wird sie die Publikation ablehnen"
   ]
  },
  {
   "cell_type": "markdown",
   "id": "7fc9f63f",
   "metadata": {
    "slideshow": {
     "slide_type": "slide"
    }
   },
   "source": [
    "# Nullhypothese und Alternativhypothese\n",
    "\n",
    "Durch die Auswahl der Stichprobe kommt Zufall ins Spiel. Falsche Antworten sind unvermeidbar.\n",
    "\n",
    "* Ziel der Statistik ist es, Schranken für die Wahrscheinlichkeit falscher Antworten zu geben\n",
    "* *Nullhypothese* $H_0$: Das ist diejenige Hypothese, deren fälschliche Ablehnung man nach Möglichkeit vermeiden will\n",
    "* *Alternativhypothese* $H_1$: Das ist die Alternative zur Nullhypothese"
   ]
  },
  {
   "cell_type": "markdown",
   "id": "c9d25d87",
   "metadata": {
    "slideshow": {
     "slide_type": "fragment"
    }
   },
   "source": [
    "bei unklarer Datenlage wird also die Nullhypothese beibehalten"
   ]
  },
  {
   "cell_type": "markdown",
   "id": "c9cb0b42",
   "metadata": {
    "slideshow": {
     "slide_type": "fragment"
    }
   },
   "source": [
    "* Wissenschaft ist konservativ.  Wer mit einer neuen Idee kommt, muss zeigen, dass sie besser ist als die alte\n",
    "* Daher ist die Nullhypothese in der Regel die Annahme, dass die bestehende Theorie so gut ist wie die Neuerungen bzw. dass der untersuchte Stoff ohne Einfluss ist\n",
    "* Neutralitätshypothese in der Genetik: Die Nullhypothese besagt, dass die untersuchte Variation der Gensequenz folgenlos ist"
   ]
  },
  {
   "cell_type": "markdown",
   "id": "c7f3739f",
   "metadata": {
    "slideshow": {
     "slide_type": "slide"
    }
   },
   "source": [
    "# Fehler erster und zweiter Art\n",
    "\n",
    "* *Der Fehler 1. Art* ist die fälschliche Ablehnung der Nullhypothese.\n",
    "* *Der Fehler 2. Art* ist die fälschliche Beibehaltung der Nullhypothese \n",
    "\n",
    "Die Priorität liegt auf der Vermeidung des Fehlers 1. Art.  Diese Asymmetrie ist ein entscheidendes Merkmal der Testtheorie."
   ]
  },
  {
   "cell_type": "markdown",
   "id": "1c432269",
   "metadata": {
    "slideshow": {
     "slide_type": "fragment"
    }
   },
   "source": [
    "|                     | $H_0$ wird beibehalten | $H_0$ wird abgelehnt  |\n",
    "|---------------------|:----------------------:|:---------------------:|\n",
    "| $H_0$ **trifft zu** | richtige Entscheidung  | Fehler 1. Art         |\n",
    "| $H_1$ **trifft zu** | Fehler 2. Art          | richtige Entscheidung |"
   ]
  },
  {
   "cell_type": "markdown",
   "id": "98b1dbe8",
   "metadata": {
    "slideshow": {
     "slide_type": "slide"
    }
   },
   "source": [
    "## Sprechweise\n",
    "\n",
    "* $H_0$ wird beibehalten oder abgelehnt\n",
    "* $H_1$ wird angenommen oder verworfen"
   ]
  },
  {
   "cell_type": "markdown",
   "id": "d8bcdc01",
   "metadata": {
    "slideshow": {
     "slide_type": "slide"
    }
   },
   "source": [
    "## Signifikanztests\n",
    "\n",
    "* Für den Fall, dass $H_0$ zutrifft, bezeichnet man die Wahrscheinlichkeit, dass $H_0$ trotzdem abgelehnt wird, als *Fehlerwahrscheinlichkeit erster Art*\n",
    "* Ein Test heißt *Signifikanztest* zum Niveau~$\\alpha$, wenn alle Fehlerwahrscheinlichkeiten erster Art $\\le \\alpha$ sind\n",
    "* Das übliche Niveau ist 0.05\n",
    "* Für den Fall, dass $H_0$ nicht zutrifft, bezeichnet man die Wahrscheinlichkeit, dass $H_0$ trotzdem beibehalten wird, als *Fehlerwahrscheinlichkeit zweiter Art*"
   ]
  },
  {
   "cell_type": "markdown",
   "id": "c6f61664",
   "metadata": {
    "slideshow": {
     "slide_type": "fragment"
    }
   },
   "source": [
    "* Signifikanzniveau $\\alpha = 0.05$ bedeutet:  Wenn die Daten die Annahme der Alternative nicht mit 95% \n",
    "Wahrscheinlichkeit nahelegen, dann bleiben wir bei der Nullhypothese\n",
    "* Das  bedeutet:  bei unklarer Datenlage behalten dir die Nullhypothese bei\n",
    "* Wenn die Nullhypothese abgelehnt wird, dann hat der Signifikanztest die Alternative mit der angegebenen Sicherheit \"gezeigt\"\n",
    "* Die Nullhypothese kann nie gezeigt werden"
   ]
  },
  {
   "cell_type": "markdown",
   "id": "036089c7",
   "metadata": {
    "slideshow": {
     "slide_type": "slide"
    }
   },
   "source": [
    "# Binomialtests\n",
    "\n",
    "### Beispiel: L-Bakterien\n",
    "\n",
    "* Wir konstruieren einen Test zum Signifikanzniveau $\\alpha = 0.05$\n",
    "* Stichprobenumfang ist 27\n",
    "* $p_0 = 0.75$ ist die Vergleichswahrscheinlichkeit\n",
    "* $p$ ist die unbekannte tatsächliche Wahrscheinlichkeit, dass ein zufällig herausgegriffenes Bakterium ein\n",
    "  L-Bakterium ist\n",
    "* Nullhypothese $H_0 = \\{ p \\ge p_0 \\}$, d.h. die Nullhypothese besagt, dass das Pestizid $L$-Bakterien nicht\n",
    "  mehr schädigt als die anderen\n",
    "  "
   ]
  },
  {
   "cell_type": "markdown",
   "id": "c90e0d11",
   "metadata": {
    "slideshow": {
     "slide_type": "fragment"
    }
   },
   "source": [
    "* Bei der Bestimmung des Fehlers 1. Art ist $H_0$ wahr\n",
    "* Mit Wahrscheinlichkeit 0.02162 beobachten wir in diesem Fall 15 oder weniger L-Bakterien\n",
    "* Wenn wir also sagen:  Bei 15 oder weniger Bakterien wird $H_0$ abgelehnt, dann machen wir den Fehler 1. Art mit\n",
    "  einer Wahrscheinlichkeit von unter 2.2%"
   ]
  },
  {
   "cell_type": "markdown",
   "id": "494bdf16",
   "metadata": {
    "slideshow": {
     "slide_type": "slide"
    }
   },
   "source": [
    "Wo kamen diese Zahlen her:"
   ]
  },
  {
   "cell_type": "code",
   "execution_count": null,
   "id": "c34ac4b6",
   "metadata": {},
   "outputs": [],
   "source": [
    "from scipy import stats\n",
    "P = stats.binom(27, 0.75)"
   ]
  },
  {
   "cell_type": "code",
   "execution_count": null,
   "id": "83ac556e",
   "metadata": {},
   "outputs": [],
   "source": [
    "P.cdf(15)   # cumulative distribution function"
   ]
  },
  {
   "cell_type": "markdown",
   "id": "9c29a9c7",
   "metadata": {
    "slideshow": {
     "slide_type": "fragment"
    }
   },
   "source": [
    "Zum Vergleich:"
   ]
  },
  {
   "cell_type": "code",
   "execution_count": null,
   "id": "dd0ab119",
   "metadata": {},
   "outputs": [],
   "source": [
    "P.cdf(16)"
   ]
  },
  {
   "cell_type": "markdown",
   "id": "87072e0a",
   "metadata": {},
   "source": [
    "Diese Fehlerwahrscheinlichkeit ist höher als das Signifikanzniveau $\\alpha=0.05$"
   ]
  },
  {
   "cell_type": "markdown",
   "id": "33ae13da",
   "metadata": {
    "slideshow": {
     "slide_type": "slide"
    }
   },
   "source": [
    "Wir hätte ich den Wert 15 finden können ausgehend von $\\alpha=0.05$"
   ]
  },
  {
   "cell_type": "code",
   "execution_count": null,
   "id": "aeb7a6b7",
   "metadata": {},
   "outputs": [],
   "source": [
    "P.ppf(0.05)  # percent point function"
   ]
  },
  {
   "cell_type": "markdown",
   "id": "64c5801d",
   "metadata": {},
   "source": [
    "Das ist das kleinste $k$, dessen Wert über 0.05 liegt"
   ]
  },
  {
   "cell_type": "markdown",
   "id": "77bacdba",
   "metadata": {
    "slideshow": {
     "slide_type": "slide"
    }
   },
   "source": [
    "## Entscheidungsregel:\n",
    "\n",
    "* $n=27$ und $p_0=0.75$ und $H_0=\\{p\\ge p_0\\}$ und $\\alpha=0.05$\n",
    "\n",
    "* Die Nullhypothese wird abgelehnt, wenn 15 oder weniger Erfolge beobachtet werden\n",
    "* Bei 16 oder mehr Erfolgen wird die Nullhypothese beibehalten"
   ]
  },
  {
   "cell_type": "markdown",
   "id": "fd21c8ad",
   "metadata": {
    "slideshow": {
     "slide_type": "slide"
    }
   },
   "source": [
    "# Fehlerwahrscheinlichkeit zweiter Art\n",
    "\n",
    "* Wie groß ist die Fehlerwahrscheinlichkeit zweiter Art?"
   ]
  },
  {
   "cell_type": "markdown",
   "id": "cbec4b5f",
   "metadata": {
    "slideshow": {
     "slide_type": "fragment"
    }
   },
   "source": [
    "* Das ist keine gute Frage\n",
    "* Wenn das Pestizid den Anteil von L-Bakterien von 75% auf 74.9% senkt, dann ist das sehr schwer nachzuweisen\n",
    "* Sinnvoll ist folgende Frage\n",
    "\n",
    "\n",
    ">  Angenommen, das Pestizid senkt den Anteil von L-Bakterien auf 50%, mit welcher Wahrscheinlichkeit wird unser Test diesen Rückgang  entdecken?"
   ]
  },
  {
   "cell_type": "markdown",
   "id": "74493b56",
   "metadata": {
    "slideshow": {
     "slide_type": "fragment"
    }
   },
   "source": [
    "* Wenn $q$ die Fehlerwahrscheinlichkeit zweiter Art ist, dann bezeichnet man $ 1 - q $ als *Power* des Tests\n",
    "* Die Power hängt also davon ab, welche Annahme man über den Abstand zwischen Nullhypothese und Alternative macht"
   ]
  },
  {
   "cell_type": "markdown",
   "id": "c397f937",
   "metadata": {
    "slideshow": {
     "slide_type": "slide"
    }
   },
   "source": [
    "Fehlerwahrscheinlichkeit zweiter Art für den Bakterientest\n",
    "\n",
    "* Bei 16 oder mehr L-Bakterien wird $ H_0 $ beibehalten\n",
    "* Wie wahrscheinlich ist dieses Ergebnis, wenn tatsächlich nur 50% aller Bakterien L-Bakterien sind?\n",
    "* Gesucht\n",
    "$$   \\sum_{k=16}^{27} B_{27,\\,0.5}(k)\n",
    "  = 1 - \\sum_{k=0}^{15} B_{27,\\,0.5}(k)\n",
    "  = 1 - 0.77897\n",
    "  = 0.22103  $$"
   ]
  },
  {
   "cell_type": "code",
   "execution_count": null,
   "id": "3b0b25e2",
   "metadata": {
    "slideshow": {
     "slide_type": "slide"
    }
   },
   "outputs": [],
   "source": [
    "Q = stats.binom(27, 0.5)\n",
    "1 - Q.cdf(15)"
   ]
  },
  {
   "cell_type": "markdown",
   "id": "d5bf04b2",
   "metadata": {
    "slideshow": {
     "slide_type": "fragment"
    }
   },
   "source": [
    "* Unter der Annahme beträgt die Fehlerwahrscheinlichkeit zweiter Art 22%\n",
    "* Die Power beträgt entsprechend 78% \n",
    "* Mit anderen Worten:  In 78\\% der Fälle, bei denen das Pestizid den Anteil der L-Bakterien von 75% auf unter 50% senkt, kann der Test diesen Fakt entdecken "
   ]
  },
  {
   "cell_type": "markdown",
   "id": "f5b6f24b",
   "metadata": {
    "slideshow": {
     "slide_type": "slide"
    }
   },
   "source": [
    "## Fehler erster und zweiter Art\n",
    "\n",
    "<img src=\"bilder/fehler2.svg\" alt=\"Fehler erster und zweiter Art\" width=\"75%\"/>\n",
    "\n",
    "Die orangefarbenen Balken zeigen Fehlentscheidungen"
   ]
  },
  {
   "cell_type": "markdown",
   "id": "582af351",
   "metadata": {
    "slideshow": {
     "slide_type": "slide"
    }
   },
   "source": [
    "## Ein- und zweiseitige Tests\n",
    "\n",
    "* Ein ja/nein-Experiment mit unbekannter Erfolgswahrscheinlichkeit $p$ wird $n$-mal wiederholt\n",
    "* Ziel:  Aussage über $p$ relativ zu einem Referenzwert $p_0$ \n",
    "* verschiedene Nullhypothesen sind denkbar\n",
    "  * $H_0 : p \\ge p_0$: einseitiger unterer Test\n",
    "  * $H_0 : p \\le p_0$ & einseitiger oberer Test\n",
    "  * $H_0 : p = p_0$ & zweiseitiger Test\n",
    "* Die Nullhypothese $H_0 \\colon p \\ne p_0$ macht keinen Sinn"
   ]
  },
  {
   "cell_type": "markdown",
   "id": "a3d40bcb",
   "metadata": {
    "slideshow": {
     "slide_type": "slide"
    }
   },
   "source": [
    "## Einseitiger unterer Binomialtest zum Niveau  $\\alpha$\n",
    "\n",
    "* Gegeben sind unabhängige $B(1, p)$-verteilte Zufallsvariable $X_1, \\dots, X_n$ mit unbekanntem $p$ sowie ein Signifikanzniveau $\\alpha$\n",
    "* Verglichen werden soll mit einem Referenzwert $p_0$\n",
    "* Getestet wird die Nullhypothese $H_0 = \\{p \\ge p_0\\}$ gegen die Alternative $H_1 = \\{p < p_0\\}$\n",
    "* `P` ist die Binomialverteilung $B_{n,p_0}$\n",
    "* Der Wert $c$ ist so zu wählen, dass `P.cdf(c-1)`$\\le\\alpha$ und `P.cdf(c)`$>\\alpha$\n",
    "* $c$ heißt *kritischer Wert*"
   ]
  },
  {
   "cell_type": "markdown",
   "id": "3a66914e",
   "metadata": {
    "slideshow": {
     "slide_type": "fragment"
    }
   },
   "source": [
    "### Entscheidungsregel:\n",
    "\n",
    "* Die Nullhypothese wird abgelehnt, falls die Anzahl der Erfolge echt kleiner als $c$ ist\n",
    "* Die Nullhypothese wird beibehalten, falls die Anzahl der Erfolge mindestens $c$ ist\n"
   ]
  },
  {
   "cell_type": "code",
   "execution_count": null,
   "id": "bc6b0ffc",
   "metadata": {
    "slideshow": {
     "slide_type": "slide"
    }
   },
   "outputs": [],
   "source": [
    "P = stats.binom(27, 0.75)\n",
    "alpha = 0.05\n",
    "c = P.ppf(alpha)\n",
    "c"
   ]
  },
  {
   "cell_type": "markdown",
   "id": "24f6ee2b",
   "metadata": {
    "slideshow": {
     "slide_type": "slide"
    }
   },
   "source": [
    "## Einseitiger oberer Binomialtest zum Niveau $\\alpha$\n",
    "\n",
    "* Gegeben sind unabhängige $B(1, p)$-verteilte Zufallsvariable $X_1, \\dots, X_n$ mit unbekanntem $p$ sowie ein\n",
    "Signifikanzniveau $\\alpha$\n",
    "* Verglichen werden soll mit einem Referenzwert $p_0$\n",
    "* Getestet wird die Nullhypothese $H_0 = \\{p \\le p_0\\}$ gegen die Alternative $H_1 = \\{p > p_0\\}$\n",
    "* `P` ist die Binomialverteilung $B_{n,p_0}$\n",
    "* Der kritische Wert $c$ ist so zu wählen, dass `P.cdf(c-1)`$<1-\\alpha$ und `P.cdf(c)`$\\ge1-\\alpha$"
   ]
  },
  {
   "cell_type": "markdown",
   "id": "e8dca16e",
   "metadata": {
    "slideshow": {
     "slide_type": "fragment"
    }
   },
   "source": [
    "### Entscheidungsregel:\n",
    "\n",
    "* Die Nullhypothese wird abgelehnt, falls die Anzahl der Erfolge echt größer als $c$ ist\n",
    "* Die Nullhypothese wird beibehalten, falls die Anzahl der Erfolge höchstens $c$ ist"
   ]
  },
  {
   "cell_type": "markdown",
   "id": "39abbc40",
   "metadata": {
    "slideshow": {
     "slide_type": "slide"
    }
   },
   "source": [
    "## Beispiel zum oberen Binomialtest\n",
    "\n",
    "* Zuchtlachsen wird Fischabfall und vegetarisches Futter zur Auswahl angboten\n",
    "* 11% aller Lachse bevorzugen das Gemüse\n",
    "* Der Geschmack der vegetarischen Kost wird durch Zusatz eines Aromastoffs verändet\n",
    "* Die Frage\n",
    "\n",
    "> Bevorzugen sie das aromatisierte Gemüse mit höherer Wahrscheinlichkeit als vorher?\n",
    "  \n",
    "  soll zum Signifikanzniveau $\\alpha = 0.05$ beantwortet werden\n",
    "  "
   ]
  },
  {
   "cell_type": "markdown",
   "id": "05189a4b",
   "metadata": {
    "slideshow": {
     "slide_type": "fragment"
    }
   },
   "source": [
    "* Einseitiger, oberer Binomialtest mit Nullhypothese $H_0 = \\{p \\le 0.11 \\}$\n",
    "* Stichprobenumfang $n = 38$"
   ]
  },
  {
   "cell_type": "code",
   "execution_count": null,
   "id": "ed0f507e",
   "metadata": {
    "slideshow": {
     "slide_type": "slide"
    }
   },
   "outputs": [],
   "source": [
    "P = stats.binom(38, 0.11)\n",
    "alpha = 0.05\n",
    "P.ppf(1-alpha)"
   ]
  },
  {
   "cell_type": "code",
   "execution_count": null,
   "id": "f38b797e",
   "metadata": {},
   "outputs": [],
   "source": [
    "P.cdf(8)"
   ]
  },
  {
   "cell_type": "code",
   "execution_count": null,
   "id": "39774ea6",
   "metadata": {
    "slideshow": {
     "slide_type": "fragment"
    }
   },
   "outputs": [],
   "source": [
    "P.cdf(7)"
   ]
  },
  {
   "cell_type": "markdown",
   "id": "7aa49f92",
   "metadata": {},
   "source": [
    "Also $c=8$"
   ]
  },
  {
   "cell_type": "markdown",
   "id": "7b3af94a",
   "metadata": {
    "slideshow": {
     "slide_type": "slide"
    }
   },
   "source": [
    "Wenn 9 oder mehr Fische das aromatisierte Futter bevorzugen, dann wird die Nullhypothese, dass das neue Futter nicht besser angenommen wird als das alte, abgelehnt"
   ]
  },
  {
   "cell_type": "markdown",
   "id": "16ef1e2b",
   "metadata": {},
   "source": [
    "Wenn die Nullhypothese trotzdem gilt, dann machen wir mit Wahrscheinlichkeit"
   ]
  },
  {
   "cell_type": "code",
   "execution_count": null,
   "id": "670602ab",
   "metadata": {},
   "outputs": [],
   "source": [
    "1 - P.cdf(8)"
   ]
  },
  {
   "cell_type": "markdown",
   "id": "1b32204a",
   "metadata": {},
   "source": [
    "den Fehler erster Art"
   ]
  },
  {
   "cell_type": "markdown",
   "id": "33d83532",
   "metadata": {
    "slideshow": {
     "slide_type": "slide"
    }
   },
   "source": [
    "# Beispiel Lachs: Power des Tests\n",
    "\n",
    "* Was ist die Power des Tests, wenn tatsächlich 15% der Lachse die aromatisierte vegetarische Kost bevorzugen?\n",
    "* $H_0$ wird abgelehnt bei mindestens 9 Erfolgen\n",
    "* Im Beispiel $ p = 0.15 $"
   ]
  },
  {
   "cell_type": "code",
   "execution_count": null,
   "id": "bf142fc7",
   "metadata": {
    "slideshow": {
     "slide_type": "fragment"
    }
   },
   "outputs": [],
   "source": [
    "Q = stats.binom(38, 0.15)"
   ]
  },
  {
   "cell_type": "markdown",
   "id": "18ce3eea",
   "metadata": {
    "slideshow": {
     "slide_type": "slide"
    }
   },
   "source": [
    "* Wenn 8 oder weniger Erfolge beobachtet werden, mache ich den Fehler zweiter Art\n",
    "* Also ist die Fehlerwahrscheinlichkeit zweiter Art gleich"
   ]
  },
  {
   "cell_type": "code",
   "execution_count": null,
   "id": "dc9a332b",
   "metadata": {},
   "outputs": [],
   "source": [
    "Q.cdf(8)"
   ]
  },
  {
   "cell_type": "markdown",
   "id": "5a6ac848",
   "metadata": {
    "slideshow": {
     "slide_type": "fragment"
    }
   },
   "source": [
    "und die Power gleich"
   ]
  },
  {
   "cell_type": "code",
   "execution_count": null,
   "id": "aa862596",
   "metadata": {},
   "outputs": [],
   "source": [
    "1 - Q.cdf(8)"
   ]
  },
  {
   "cell_type": "markdown",
   "id": "e260fb65",
   "metadata": {},
   "source": [
    "* Die Power beträgt nur 10.5%.  Das bedeutet zweierlei:\n",
    "  * Der Test ist schlecht konzipiert:  Eine Verbesserung wird mit großer Wahrscheinlichkeit gar nicht entdeckt\n",
    "  * Rückschlüsse auf die Nullhypothese sind nicht möglich"
   ]
  },
  {
   "cell_type": "markdown",
   "id": "b3ce7e24",
   "metadata": {
    "slideshow": {
     "slide_type": "slide"
    }
   },
   "source": [
    "## Fehler erster und zweiter Art Im Beispiel \"Lachs\"\n",
    "\n",
    "<img src=\"bilder/powerlachs.svg\" alt=\"Fehler erster und zweiter Art\" width=\"75%\"/>\n",
    "\n",
    "Orangefarbene Balken zeigen Fehlentscheidungen"
   ]
  },
  {
   "cell_type": "markdown",
   "id": "58bc1455",
   "metadata": {
    "slideshow": {
     "slide_type": "slide"
    }
   },
   "source": [
    "## Der *p*-Wert\n",
    "\n",
    "* Der $p$-Wert ist das kleinste Signifikanzniveau, zu dem die Daten den Test noch bestehen würden.\n",
    "* Der $p$-Wert beantwortet die Frage\n",
    ">      Wie knapp wurde das vorgeschriebene Signifikanzniveau eingehalten bzw. verfehlt?\n",
    "* Wenn $\\alpha$ das Signifikanzniveau ist\n",
    "  * $p \\le \\alpha$: Nullhypothese wird abgelehnt \n",
    "  * $p > \\alpha$_ Nullhypothese wird beibehalten"
   ]
  },
  {
   "cell_type": "markdown",
   "id": "847f8312",
   "metadata": {
    "slideshow": {
     "slide_type": "slide"
    }
   },
   "source": [
    "Software gibt immer den $p$-Wert aus"
   ]
  },
  {
   "cell_type": "code",
   "execution_count": null,
   "id": "aaabc1d3",
   "metadata": {
    "slideshow": {
     "slide_type": "fragment"
    }
   },
   "outputs": [],
   "source": [
    "res = stats.binomtest(9, 38, 0.11, alternative=\"greater\")\n",
    "res"
   ]
  },
  {
   "cell_type": "code",
   "execution_count": null,
   "id": "aca22896",
   "metadata": {},
   "outputs": [],
   "source": [
    "res.pvalue"
   ]
  },
  {
   "cell_type": "code",
   "execution_count": null,
   "id": "a39c30a2",
   "metadata": {
    "slideshow": {
     "slide_type": "fragment"
    }
   },
   "outputs": [],
   "source": [
    "res.statistic == 9/38"
   ]
  },
  {
   "cell_type": "markdown",
   "id": "f59b2a42",
   "metadata": {},
   "source": [
    "Der Begriff der Teststatistik spielt erst bei den später zu besprechenden Tests eine Rolle"
   ]
  },
  {
   "cell_type": "markdown",
   "id": "6ebb45a4",
   "metadata": {
    "slideshow": {
     "slide_type": "slide"
    }
   },
   "source": [
    "## Zusammenfassung\n",
    "\n",
    "* Stichprobenumfang und Referenzwert \n",
    "* oberer, unterer oder zweiseitiger Test\n",
    "* kritischer Wert\n",
    "* Entscheidungsregel\n",
    "* **dann das Experiment durchführen**\n",
    "* Entscheidungsregel anwenden, um Nullhyposthese abzulehnen oder beizubehalten"
   ]
  },
  {
   "cell_type": "markdown",
   "id": "da1493df",
   "metadata": {
    "slideshow": {
     "slide_type": "fragment"
    }
   },
   "source": [
    "oder mit `stats.binomtest`\n",
    "\n",
    "* Stichprobenumfang und Referenzwert \n",
    "* oberer, unterer oder zweiseitiger Test\n",
    "* *p*-Wert bestimmen\n",
    "* mit Signifikanzniveau vergleichen"
   ]
  }
 ],
 "metadata": {
  "celltoolbar": "Slideshow",
  "kernelspec": {
   "display_name": "Python 3 (ipykernel)",
   "language": "python",
   "name": "python3"
  },
  "language_info": {
   "codemirror_mode": {
    "name": "ipython",
    "version": 3
   },
   "file_extension": ".py",
   "mimetype": "text/x-python",
   "name": "python",
   "nbconvert_exporter": "python",
   "pygments_lexer": "ipython3",
   "version": "3.11.4"
  }
 },
 "nbformat": 4,
 "nbformat_minor": 5
}
