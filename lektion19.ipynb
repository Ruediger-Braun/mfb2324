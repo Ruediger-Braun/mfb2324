{
 "cells": [
  {
   "cell_type": "markdown",
   "id": "97e910de",
   "metadata": {
    "slideshow": {
     "slide_type": "slide"
    }
   },
   "source": [
    "## Mathematik für Biologiestudierende II\n",
    "\n",
    "Sommersemester 2024\n",
    "\n",
    "21.05.2024\n",
    "\n",
    "&copy; 2024 Prof. Dr. Rüdiger W. Braun "
   ]
  },
  {
   "cell_type": "code",
   "execution_count": null,
   "id": "71cb2719",
   "metadata": {
    "slideshow": {
     "slide_type": "slide"
    }
   },
   "outputs": [],
   "source": [
    "import numpy as np\n",
    "import pandas as pd\n",
    "from scipy import stats\n",
    "from statsmodels.graphics.mosaicplot import mosaic\n",
    "import seaborn as sns\n",
    "sns.set_theme()"
   ]
  },
  {
   "cell_type": "markdown",
   "id": "48b3f45b",
   "metadata": {
    "slideshow": {
     "slide_type": "slide"
    }
   },
   "source": [
    "# $\\chi^2$-Unabhängigkeitstest"
   ]
  },
  {
   "cell_type": "markdown",
   "id": "2a0fe3e0",
   "metadata": {
    "slideshow": {
     "slide_type": "-"
    }
   },
   "source": [
    "## Anwendbarkeit\n",
    "\n",
    "* Der $\\chi^2$-Unabhängigkeitstest beruht auf einer Approximation\n",
    "* Er ist nur zulässig, wenn alle erwarteten Werte mindestens den Wert 5 haben"
   ]
  },
  {
   "cell_type": "markdown",
   "id": "2875d6ac",
   "metadata": {
    "slideshow": {
     "slide_type": "slide"
    }
   },
   "source": [
    "## Erstellung der Kontingenztafel aus einer Tabelle "
   ]
  },
  {
   "cell_type": "code",
   "execution_count": null,
   "id": "01592214",
   "metadata": {},
   "outputs": [],
   "source": [
    "df = sns.load_dataset(\"titanic\")\n",
    "df.head()"
   ]
  },
  {
   "cell_type": "code",
   "execution_count": null,
   "id": "d681d8a8",
   "metadata": {},
   "outputs": [],
   "source": [
    "tafel = pd.crosstab(df.pclass, df.alive)\n",
    "tafel"
   ]
  },
  {
   "cell_type": "code",
   "execution_count": null,
   "id": "83d517ce",
   "metadata": {
    "slideshow": {
     "slide_type": "slide"
    }
   },
   "outputs": [],
   "source": [
    "mosaic(tafel.stack());"
   ]
  },
  {
   "cell_type": "code",
   "execution_count": null,
   "id": "50737720",
   "metadata": {},
   "outputs": [],
   "source": [
    "res = stats.chi2_contingency(tafel)\n",
    "res.pvalue"
   ]
  },
  {
   "cell_type": "markdown",
   "id": "d28426c1",
   "metadata": {
    "slideshow": {
     "slide_type": "slide"
    }
   },
   "source": [
    "## Python:  reservierte Worte\n",
    "\n",
    "* Einige Worte wie `import` und `def` können nicht als Variablennamen verwendet werden\n",
    "* Dazu gehört auch `class`\n",
    "* Das ist die Ursache des folgenden Fehlers"
   ]
  },
  {
   "cell_type": "code",
   "execution_count": null,
   "id": "2369e707",
   "metadata": {},
   "outputs": [],
   "source": [
    "# pd.crosstab(df.class, df.embark_town)   #  invalid syntax"
   ]
  },
  {
   "cell_type": "code",
   "execution_count": null,
   "id": "4c744f3c",
   "metadata": {},
   "outputs": [],
   "source": [
    "tafel = pd.crosstab(df['class'], df.embark_town)\n",
    "tafel"
   ]
  },
  {
   "cell_type": "code",
   "execution_count": null,
   "id": "8a49d1be",
   "metadata": {
    "slideshow": {
     "slide_type": "slide"
    }
   },
   "outputs": [],
   "source": [
    "mosaic(tafel.stack());"
   ]
  },
  {
   "cell_type": "markdown",
   "id": "b200f205",
   "metadata": {
    "slideshow": {
     "slide_type": "slide"
    }
   },
   "source": [
    "* Der $\\chi^2$-Test ist approximativ, d.h. er ist nur bei genügend großen Stichprobenumfängen gültig (wenn nämlich alle erwarteten Werte mindestens 5 sind)\n",
    "* Diese Kompromisse waren vor der Einführung leistungsfähiger Computer unausweichlich, werden heute aber kritischer betrachtet\n",
    "* Eine Alternative zum $\\chi^2$-Kontingenztest ist der exakte Test von Fischer"
   ]
  },
  {
   "cell_type": "code",
   "execution_count": null,
   "id": "cd01f5bb",
   "metadata": {},
   "outputs": [],
   "source": [
    "tafel = pd.DataFrame(index=['Tag', 'Dämmerung'])\n",
    "tafel['Mauerbienen'] = [131, 7]\n",
    "tafel['Holzbienen'] = [18, 4]\n",
    "tafel"
   ]
  },
  {
   "cell_type": "code",
   "execution_count": null,
   "id": "c0cd91a2",
   "metadata": {
    "slideshow": {
     "slide_type": "slide"
    }
   },
   "outputs": [],
   "source": [
    "mosaic(tafel.stack());"
   ]
  },
  {
   "cell_type": "code",
   "execution_count": null,
   "id": "2668353d",
   "metadata": {
    "slideshow": {
     "slide_type": "slide"
    }
   },
   "outputs": [],
   "source": [
    "stats.fisher_exact(tafel)"
   ]
  },
  {
   "cell_type": "markdown",
   "id": "e1b4c111",
   "metadata": {
    "slideshow": {
     "slide_type": "slide"
    }
   },
   "source": [
    "# Der $\\chi^2$-Anpassungstest\n",
    "\n",
    "auch $\\chi^2$-Verteilungsstest genannt"
   ]
  },
  {
   "cell_type": "markdown",
   "id": "8c669ec0",
   "metadata": {
    "slideshow": {
     "slide_type": "slide"
    }
   },
   "source": [
    "### Beispiel Geburten pro Wochentag\n",
    "\n",
    "In einem amerikanischen Krankenhaus wurden im Jahr 1999 die folgenden Anzahlen an Geburten beobachtet\n",
    "\n",
    "| Wochentag | Tage im Jahr | Anzahl Geburten |\n",
    "|:----------|--------------|-----------------|\n",
    "| Montag    | 52           | 41              |\n",
    "| Dienstag  | 52           | 63              |\n",
    "| Mittwoch  | 52           | 63              |\n",
    "| Donnerstag| 52           | 47              |\n",
    "| Freitag   | 53           | 56              |\n",
    "| Samstag   | 52           | 47              |\n",
    "| Sonntag   | 52           | 33              |"
   ]
  },
  {
   "cell_type": "markdown",
   "id": "27e307cd",
   "metadata": {},
   "source": [
    "* Sind diese Zahlen mit der Nullhypothese vereinbar, dass Geburten an allen Wochentagen gleich häufig auftreten?  \n",
    "* Diese Frage soll zum Signifikanzniveau $\\alpha = 0.05$ beantwortet werden."
   ]
  },
  {
   "cell_type": "markdown",
   "id": "1ce495fd",
   "metadata": {
    "slideshow": {
     "slide_type": "slide"
    }
   },
   "source": [
    "## Anpassungstest: Test auf Übereinstimmung der Daten mit einer Verteilung\n",
    "\n",
    "* Unabhängige Zufallsvariable $X_1, \\dots, X_n $, die alle mit Wahrscheinlichkeit $p_1$ den Wert~$w_1$, mit Wahrscheinlichkeit $p_2$ den Wert $w_2$, ... und mit Wahrscheinlichkeit $p_s$ den Wert $w_s$ annehmen\n",
    "* Vergleichswahrscheinlichkeiten $\\pi_1, \\pi_2, \\dots, \\pi_s$ mit $\\pi_1 + \\pi_2 + \\dots + \\pi_s = 1$\n",
    "* Nullhypothese und Alternative:\n",
    "  * $H_0$: $p_1 = \\pi_1, p_2 = \\pi_2, \\dots, p_s = \\pi_s$\n",
    "  * $H_1$: mindestens ein $p_j \\ne \\pi_j$"
   ]
  },
  {
   "cell_type": "markdown",
   "id": "2c1b6ebf",
   "metadata": {
    "slideshow": {
     "slide_type": "skip"
    }
   },
   "source": [
    "* $y_1$ Anzahl, wie oft $w_1$ aufgetreten ist\n",
    "* $y_2$ anzahl, wie oft $w_2$ aufgetreten ist\n",
    "* ...\n",
    "* erwarteter Wert für $y_1$ ist $n\\pi_1$\n",
    "* erwarteter Wert für $y_2$ ist $n\\pi_2$\n",
    "* ..."
   ]
  },
  {
   "cell_type": "markdown",
   "id": "0e08d9af",
   "metadata": {
    "slideshow": {
     "slide_type": "fragment"
    }
   },
   "source": [
    "* Berechne Teststatistik\n",
    "$$   t = \\sum_{j=1}^s \\frac{(y_j - n\\cdot\\pi_j)^2}{n\\cdot\\pi_j}  $$"
   ]
  },
  {
   "cell_type": "markdown",
   "id": "630ad32e",
   "metadata": {
    "slideshow": {
     "slide_type": "fragment"
    }
   },
   "source": [
    "* Die Anzahl der Freiheitsgrade ist $s-1$\n",
    "* Der p-Wert ist $1-\\chi^2_{s-1}(t)$ "
   ]
  },
  {
   "cell_type": "markdown",
   "id": "7e755fed",
   "metadata": {
    "slideshow": {
     "slide_type": "slide"
    }
   },
   "source": [
    "### Weiter im Beispiel"
   ]
  },
  {
   "cell_type": "code",
   "execution_count": null,
   "id": "6e020f66",
   "metadata": {},
   "outputs": [],
   "source": [
    "tafel = pd.DataFrame(index=['Mo', 'Di', 'Mi', 'Do', 'Fr', 'Sa', 'So'])\n",
    "tafel['Tage'] = [52, 52, 52, 52, 53, 52, 52]\n",
    "tafel['Geburten'] = [41, 63, 63, 47, 56, 47, 33]\n",
    "tafel"
   ]
  },
  {
   "cell_type": "code",
   "execution_count": null,
   "id": "77cb7929",
   "metadata": {},
   "outputs": [],
   "source": [
    "n = tafel.Geburten.sum()\n",
    "n"
   ]
  },
  {
   "cell_type": "code",
   "execution_count": null,
   "id": "0687a026",
   "metadata": {
    "slideshow": {
     "slide_type": "slide"
    }
   },
   "outputs": [],
   "source": [
    "tafel['erwartet'] = tafel.Tage*n/365\n",
    "tafel.round(2)"
   ]
  },
  {
   "cell_type": "code",
   "execution_count": null,
   "id": "083a9836",
   "metadata": {
    "slideshow": {
     "slide_type": "slide"
    }
   },
   "outputs": [],
   "source": [
    "tafel['Abweichung'] = (tafel.Geburten-tafel.erwartet)**2 / tafel.erwartet\n",
    "tafel.round(2)"
   ]
  },
  {
   "cell_type": "code",
   "execution_count": null,
   "id": "9388b168",
   "metadata": {},
   "outputs": [],
   "source": [
    "t = tafel.Abweichung.sum()\n",
    "t"
   ]
  },
  {
   "cell_type": "code",
   "execution_count": null,
   "id": "fcac826a",
   "metadata": {},
   "outputs": [],
   "source": [
    "P = stats.chi2(6)\n",
    "1 - P.cdf(t)"
   ]
  },
  {
   "cell_type": "markdown",
   "id": "25202cb7",
   "metadata": {
    "slideshow": {
     "slide_type": "slide"
    }
   },
   "source": [
    "Dasselbe komplett mit `stats`"
   ]
  },
  {
   "cell_type": "code",
   "execution_count": null,
   "id": "7816fa8a",
   "metadata": {},
   "outputs": [],
   "source": [
    "res = stats.chisquare(tafel.Geburten, tafel.erwartet)\n",
    "res"
   ]
  },
  {
   "cell_type": "markdown",
   "id": "9f930b76",
   "metadata": {
    "slideshow": {
     "slide_type": "slide"
    }
   },
   "source": [
    "# Ein exakter Permutationstest"
   ]
  },
  {
   "cell_type": "markdown",
   "id": "93b44f8a",
   "metadata": {
    "slideshow": {
     "slide_type": "slide"
    }
   },
   "source": [
    "### Mendelsche Erbregeln als Beispiel \n",
    "\n",
    "* Bei den Mendelschen Erbversuchen tritt das Merkmal *Blütenfarbe* in drei Ausprägungen auf, nämlich weiß, rosa und rot\n",
    "* Das Modell besagt, dass weiß und rot jeweils mit Wahrscheinlichkeit 25% und rot mit Wahrscheinlichkeit 50% auftreten\n",
    "* 4 Blüten werden beobachtet, alle sind rosa\n",
    "* Ist diese Beobachtung zum Signifikanzniveau $\\alpha = 0.05$ mit den Mendelschen Regeln vereinbar?\n",
    "* Im Prinzip ist das dieselbe Frage wie beim $\\chi^2$-Test auf Übereinstimmung mit einer gegebenen Verteilung; der Stichprobenumfang ist aber zu klein"
   ]
  },
  {
   "cell_type": "markdown",
   "id": "70e9828e",
   "metadata": {
    "slideshow": {
     "slide_type": "slide"
    }
   },
   "source": [
    "### Interpretation als Vergleich zweier Verteilungen\n",
    "\n",
    "* Nullhypothese:  Die Mendelschen Regeln gelten für die untersuchte Situation\n",
    "* Das entspricht der Verteilung\n",
    " \n",
    "| Zahlencode | Ausprägung | Wahrscheinlichkeit |\n",
    "|------------|------------|--------------------|\n",
    "|     1      | weiß       | 25%                |\n",
    "|     2      | rosa       | 50%                |\n",
    "|     3      | rot        | 25%                | "
   ]
  },
  {
   "cell_type": "markdown",
   "id": "ddba5a75",
   "metadata": {},
   "source": [
    "* Zu vergleichen mit der tatsächlichen Verteilung der Blütenfarben in dem Kollektiv \n",
    "* Der Stichprobenumfang ist 4\n",
    "* Das ist für praktische Zwecke zu wenig, lässt sich aber gut von Hand rechnen"
   ]
  },
  {
   "cell_type": "markdown",
   "id": "9534c337",
   "metadata": {
    "slideshow": {
     "slide_type": "slide"
    }
   },
   "source": [
    "* Ordne die möglichen Ergebnisse mit aufsteigender Wahrscheinlichkeit an\n",
    "* Entscheidungsstrategie am Beispiel $\\alpha = 0.05$\n",
    "\n",
    ">     Lehne die Nullhypothese ab, wenn die Beobachtung \n",
    ">     zu den 5% unwahrscheinlichsten Ereignissen gehört"
   ]
  },
  {
   "cell_type": "markdown",
   "id": "614c66b2",
   "metadata": {
    "slideshow": {
     "slide_type": "slide"
    }
   },
   "source": [
    "* Anzahl der Ausprägungen des Merkmals Blütenfarbe $s = 3$\n",
    "* $X_1$ ist der Zahlencode der Blütenfarbe der ersten Blüte, $X_2$ dasselbe für die zweite Blüte, ...\n",
    "* $Y_1$ bezeichnet die Anzahl der weißen, $Y_2$ die der rosafarbenen und $Y_3$ die der roten Blüten\n",
    "* Dann $Y_1 + Y_2 + Y_3 = 4$\n",
    "* Rechne sämtliche Einzelwahrscheinlichkeiten aus"
   ]
  },
  {
   "cell_type": "markdown",
   "id": "8187e21f",
   "metadata": {
    "slideshow": {
     "slide_type": "slide"
    }
   },
   "source": [
    "### Beispiel Mendel: Tabelle der Wahrscheinlichkeiten der  Einzelereignisse\n",
    "\n",
    "| $k_1$ | $k_2$ | $k_3$ | $P(X_1=k_1, X_2=k_2, X_3=k_3) $ | kumulierte Summe |\n",
    "|-------|-------|-------|---------------------------------|------------------|\n",
    "|  $ 0 $ | $ 0 $ | $ 4 $ | $ 0.0039 $ | $ 0.0039 $ |\n",
    "|  $ 4 $ | $ 0 $ | $ 0 $ | $ 0.0039 $ | $ 0.0078 $ |\n",
    "|  $ 1 $ | $ 0 $ | $ 3 $ | $ 0.0156 $ | $ 0.0234 $ |\n",
    "|  $ 3 $ | $ 0 $ | $ 1 $ | $ 0.0156 $ | $ 0.0391 $ |\n",
    "|  $ 2 $ | $ 0 $ | $ 2 $ | $ 0.0234 $ | $ 0.0625 $ |\n",
    "|  $ 0 $ | $ 1 $ | $ 3 $ | $ 0.0312 $ | $ 0.0938 $ |\n",
    "|  $ 3 $ | $ 1 $ | $ 0 $ | $ 0.0312 $ | $ 0.1250 $ |\n",
    "|  $ 0 $ | $ 4 $ | $ 0 $ | $ 0.0625 $ | $ 0.1875 $ |\n",
    "|  $ 0 $ | $ 2 $ | $ 2 $ | $ 0.0938 $ | $ 0.2812 $ |\n",
    "|  $ 1 $ | $ 1 $ | $ 2 $ | $ 0.0938 $ | $ 0.3750 $ |\n",
    "|  $ 2 $ | $ 1 $ | $ 1 $ | $ 0.0938 $ | $ 0.4688 $ |\n",
    "|  $ 2 $ | $ 2 $ | $ 0 $ | $ 0.0938 $ | $ 0.5625 $ |\n",
    "|  $ 0 $ | $ 3 $ | $ 1 $ | $ 0.1250 $ | $ 0.6875 $ |\n",
    "|  $ 1 $ | $ 3 $ | $ 0 $ | $ 0.1250 $ | $ 0.8125 $ |\n",
    "|  $ 1 $ | $ 2 $ | $ 1 $ | $ 0.1875 $ | $ 1.0000 $ |"
   ]
  },
  {
   "cell_type": "markdown",
   "id": "d09151c3",
   "metadata": {
    "slideshow": {
     "slide_type": "slide"
    }
   },
   "source": [
    "<img src=\"bilder/mendelbar.svg\" alt=\"Barplot der W'keiten im Mendelbeispiel\" width=\"75%\"/>\n",
    "\n",
    "Der linke Balken zeigt die kumulierten Werte aus der Tabelle, der rechte die 5%-Schwelle"
   ]
  },
  {
   "cell_type": "markdown",
   "id": "c31af9cc",
   "metadata": {
    "slideshow": {
     "slide_type": "fragment"
    }
   },
   "source": [
    "In `stats.permutation_test` sind Permutationstests implementiert, und zwar sowohl exakte (für kleine Stichprobenumfänge) als auch Tests mit Monte-Carlo-Methoden"
   ]
  }
 ],
 "metadata": {
  "celltoolbar": "Slideshow",
  "kernelspec": {
   "display_name": "Python 3 (ipykernel)",
   "language": "python",
   "name": "python3"
  },
  "language_info": {
   "codemirror_mode": {
    "name": "ipython",
    "version": 3
   },
   "file_extension": ".py",
   "mimetype": "text/x-python",
   "name": "python",
   "nbconvert_exporter": "python",
   "pygments_lexer": "ipython3",
   "version": "3.11.5"
  }
 },
 "nbformat": 4,
 "nbformat_minor": 5
}
