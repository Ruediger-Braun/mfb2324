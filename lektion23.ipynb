{
 "cells": [
  {
   "cell_type": "markdown",
   "id": "97e910de",
   "metadata": {
    "slideshow": {
     "slide_type": "slide"
    }
   },
   "source": [
    "## Mathematik für Biologiestudierende II\n",
    "\n",
    "Sommersemester 2024\n",
    "\n",
    "18.06.2024\n",
    "\n",
    "&copy; 2024 Prof. Dr. Rüdiger W. Braun "
   ]
  },
  {
   "cell_type": "markdown",
   "id": "c9177bf8",
   "metadata": {
    "slideshow": {
     "slide_type": "slide"
    }
   },
   "source": [
    "# Evaluation\n",
    "\n",
    "Vorrangige Themen waren\n",
    "\n",
    "* Vorlesungsaufzeichnungen\n",
    "* Permanenz der Online-Übungen\n",
    "* Klausurvorbereitung"
   ]
  },
  {
   "cell_type": "code",
   "execution_count": null,
   "id": "71cb2719",
   "metadata": {
    "slideshow": {
     "slide_type": "slide"
    }
   },
   "outputs": [],
   "source": [
    "import numpy as np\n",
    "import pandas as pd\n",
    "from scipy import stats\n",
    "import statsmodels.formula.api as smf\n",
    "import seaborn as sns\n",
    "sns.set_theme()"
   ]
  },
  {
   "cell_type": "markdown",
   "id": "6a646d3b",
   "metadata": {
    "slideshow": {
     "slide_type": "slide"
    }
   },
   "source": [
    "# Lineare Modelle"
   ]
  },
  {
   "cell_type": "markdown",
   "id": "b69c9dc2",
   "metadata": {},
   "source": [
    "#### Themen heute"
   ]
  },
  {
   "cell_type": "markdown",
   "id": "5826016c",
   "metadata": {
    "slideshow": {
     "slide_type": "fragment"
    }
   },
   "source": [
    "* Vorhersagen\n",
    "* Konfidenzintervalle für den Mittelwert und für die Einzelbeobachtung\n",
    "* mehr als eine erklärende Variable\n",
    "* irrelevante erklärende Variable erkennen"
   ]
  },
  {
   "cell_type": "markdown",
   "id": "27b30176",
   "metadata": {
    "slideshow": {
     "slide_type": "slide"
    }
   },
   "source": [
    "# Vorhersagen (prediction)"
   ]
  },
  {
   "cell_type": "code",
   "execution_count": null,
   "id": "665a0039",
   "metadata": {
    "slideshow": {
     "slide_type": "slide"
    }
   },
   "outputs": [],
   "source": [
    "df = pd.read_csv('galton.csv')\n",
    "df.head()"
   ]
  },
  {
   "cell_type": "markdown",
   "id": "5537dcbf",
   "metadata": {},
   "source": [
    "Aufbereitung eines Datensatzes von Galton.  Die Aufbereitung stammt aus den Begleitdaten zum Buch \"Linear Models with Python\" von Faraway"
   ]
  },
  {
   "cell_type": "code",
   "execution_count": null,
   "id": "8ba14572",
   "metadata": {
    "slideshow": {
     "slide_type": "slide"
    }
   },
   "outputs": [],
   "source": [
    "formel = 'childHeight ~ father'"
   ]
  },
  {
   "cell_type": "markdown",
   "id": "7300c2a6",
   "metadata": {},
   "source": [
    "* In dieser Formel ist `father` die *erklärende* und `Childheight` die *erkärte* Variable\n",
    "* Die erklärende Variable heißt auch *exogen*, die erklärte *endogen* "
   ]
  },
  {
   "cell_type": "code",
   "execution_count": null,
   "id": "1ff33215",
   "metadata": {
    "slideshow": {
     "slide_type": "slide"
    }
   },
   "outputs": [],
   "source": [
    "modell = smf.ols(formel, df)\n",
    "res = modell.fit()\n",
    "res.summary()"
   ]
  },
  {
   "cell_type": "code",
   "execution_count": null,
   "id": "96fa5b4b",
   "metadata": {
    "slideshow": {
     "slide_type": "slide"
    }
   },
   "outputs": [],
   "source": [
    "sns.regplot(df, x='father', y='childHeight');"
   ]
  },
  {
   "cell_type": "markdown",
   "id": "47aa55c5",
   "metadata": {
    "slideshow": {
     "slide_type": "slide"
    }
   },
   "source": [
    "* Aufgabe:  Wie groß ist im Mittel der Sohn, wenn der Vater 69.8 Zoll groß ist?"
   ]
  },
  {
   "cell_type": "markdown",
   "id": "605d3997",
   "metadata": {
    "slideshow": {
     "slide_type": "fragment"
    }
   },
   "source": [
    "Erste Lösung:\n",
    "\n",
    "* Wir lesen ab"
   ]
  },
  {
   "cell_type": "code",
   "execution_count": null,
   "id": "bd40d6de",
   "metadata": {},
   "outputs": [],
   "source": [
    "m = 0.4465\n",
    "b = 38.36"
   ]
  },
  {
   "cell_type": "code",
   "execution_count": null,
   "id": "8f2741a7",
   "metadata": {},
   "outputs": [],
   "source": [
    "x = 69.8\n",
    "y = m*x + b\n",
    "y"
   ]
  },
  {
   "cell_type": "markdown",
   "id": "f110f83a",
   "metadata": {
    "slideshow": {
     "slide_type": "slide"
    }
   },
   "source": [
    "Zweite Lösung:\n",
    "\n",
    "* Wir verwenden die Methode `get_prediction`\n",
    "* Dazu müssen die Daten der erklärenden Variablen in einen DataFrame geschrieben werden"
   ]
  },
  {
   "cell_type": "code",
   "execution_count": null,
   "id": "0ef55992",
   "metadata": {},
   "outputs": [],
   "source": [
    "anfrage = pd.DataFrame()\n",
    "anfrage['father'] = [0, 69.8]   \n",
    "#  rechte Seite ist auch dann ein array, wenn nur ein Wert berechnet werden soll\n",
    "anfrage"
   ]
  },
  {
   "cell_type": "code",
   "execution_count": null,
   "id": "95cf76e7",
   "metadata": {
    "slideshow": {
     "slide_type": "slide"
    }
   },
   "outputs": [],
   "source": [
    "res.get_prediction(anfrage).summary_frame()"
   ]
  },
  {
   "cell_type": "markdown",
   "id": "46135d21",
   "metadata": {},
   "source": [
    "* `mean`:  Wert, der für den Sohn im Mittel zu erwarten ist\n",
    "* `mean` bei 0 ist das Intercept\n",
    "* `mean_se`:  Standardabweichung für `mean`"
   ]
  },
  {
   "cell_type": "markdown",
   "id": "9b76bdad",
   "metadata": {
    "slideshow": {
     "slide_type": "fragment"
    }
   },
   "source": [
    "* die vier anderen Werte sind untere bzw. obere Grenzen für Konfidenzintervalle\n",
    "* `mean_ci` ist das Konfidenzintervall für den mittleren zu erwartenden Wert\n",
    "* `obs_ci` ist das Konfidentintervall für den individuelle beobachteten Wert (engl: \"observed\")"
   ]
  },
  {
   "cell_type": "markdown",
   "id": "e1d6d282",
   "metadata": {
    "slideshow": {
     "slide_type": "fragment"
    }
   },
   "source": [
    "* `mean_ci_lower` und `mean_ci_upper` begrenzen die blaue Kurve in dem `regplot`\n",
    "* `obs_ci_lower` und `obs_ci_upper` begrenzen einen Bereich, der 95% der Beobachtungen enthält"
   ]
  },
  {
   "cell_type": "markdown",
   "id": "3ff4dc8e",
   "metadata": {
    "slideshow": {
     "slide_type": "slide"
    }
   },
   "source": [
    "* wir malen den mal hin"
   ]
  },
  {
   "cell_type": "code",
   "execution_count": null,
   "id": "c0f33cc2",
   "metadata": {},
   "outputs": [],
   "source": [
    "anfrage = pd.DataFrame()\n",
    "anfrage['father'] = np.arange(625, 775) / 10\n",
    "vorhersage = res.get_prediction(anfrage).summary_frame()\n",
    "vorhersage"
   ]
  },
  {
   "cell_type": "code",
   "execution_count": null,
   "id": "dbc6205f",
   "metadata": {
    "slideshow": {
     "slide_type": "slide"
    }
   },
   "outputs": [],
   "source": [
    "ax = sns.scatterplot(df, x='father', y='childHeight')\n",
    "sns.lineplot(x=anfrage.father, y=vorhersage['mean'], ax=ax)\n",
    "sns.lineplot(x=anfrage.father, y=vorhersage.obs_ci_lower, ax = ax, color='orange')\n",
    "sns.lineplot(x=anfrage.father, y=vorhersage.obs_ci_upper, ax=ax, color='orange');"
   ]
  },
  {
   "cell_type": "markdown",
   "id": "2f676bea",
   "metadata": {},
   "source": [
    "Die orangen Linien sind die untere bzw. obere Vertrauensgrenze für die Einzelbeobachtungen"
   ]
  },
  {
   "cell_type": "markdown",
   "id": "e46e4380",
   "metadata": {
    "slideshow": {
     "slide_type": "slide"
    }
   },
   "source": [
    "Anderes Konfidenzniveau $1-\\alpha$"
   ]
  },
  {
   "cell_type": "code",
   "execution_count": null,
   "id": "6b880e74",
   "metadata": {},
   "outputs": [],
   "source": [
    "res.get_prediction(anfrage).summary_frame(alpha=0.02)"
   ]
  },
  {
   "cell_type": "markdown",
   "id": "01c40bda",
   "metadata": {
    "slideshow": {
     "slide_type": "slide"
    }
   },
   "source": [
    "## Beispiel:  Fische"
   ]
  },
  {
   "cell_type": "markdown",
   "id": "ba8ac983",
   "metadata": {
    "slideshow": {
     "slide_type": "fragment"
    }
   },
   "source": [
    "* Fische werden gezüchtet.  In den ersten 24 Monaten wurden die folgenden Daten erhoben\n",
    "* Diesen Daten werden benutzt, um das Wachstum der nächsten Generation zu prognostizieren"
   ]
  },
  {
   "cell_type": "code",
   "execution_count": null,
   "id": "a9d8a2bc",
   "metadata": {
    "slideshow": {
     "slide_type": "notes"
    }
   },
   "outputs": [],
   "source": [
    "rng = np.random.default_rng(123)\n",
    "N = 70"
   ]
  },
  {
   "cell_type": "code",
   "execution_count": null,
   "id": "1de858fd",
   "metadata": {
    "slideshow": {
     "slide_type": "notes"
    }
   },
   "outputs": [],
   "source": [
    "df = pd.DataFrame()\n",
    "df['Monat'] = rng.choice(np.arange(4, 25), size=N)\n",
    "df['Höhe'] = 4.5*df.Monat + stats.norm(0, 2.2).rvs(size=N, random_state=rng)\n",
    "df['Gewicht'] = 65*df.Monat + 4*df.Höhe + stats.norm(0, 50).rvs(size=N, random_state=rng)\n",
    "#df.to_csv('fische.csv', index=False)"
   ]
  },
  {
   "cell_type": "code",
   "execution_count": null,
   "id": "78f2bae8",
   "metadata": {
    "slideshow": {
     "slide_type": "slide"
    }
   },
   "outputs": [],
   "source": [
    "df = pd.read_csv('fische.csv')\n",
    "df.describe()"
   ]
  },
  {
   "cell_type": "markdown",
   "id": "bff436ad",
   "metadata": {},
   "source": [
    "* Gewicht in g\n",
    "* Höhe in mm"
   ]
  },
  {
   "cell_type": "markdown",
   "id": "c6e5456b",
   "metadata": {
    "slideshow": {
     "slide_type": "slide"
    }
   },
   "source": [
    "* Ein Züchter hat 1200 Fische in seinen Teichen, die alle gleichzeitig geschlüpft sind\n",
    "* Frage:  Konfidenzintervall für das Gesamtgewicht dieser Fische nach 18 Monaten zum Konfidenzniveau 95%?\n",
    "* Frage:  Wie muss das Netz gewählt werden, um nach 18 Monaten 97.5% der Fische zu fangen?"
   ]
  },
  {
   "cell_type": "code",
   "execution_count": null,
   "id": "28295aa4",
   "metadata": {},
   "outputs": [],
   "source": [
    "formel1 = 'Gewicht ~ Monat'\n",
    "modell1 = smf.ols(formel1, df)"
   ]
  },
  {
   "cell_type": "code",
   "execution_count": null,
   "id": "e03ac8e7",
   "metadata": {
    "slideshow": {
     "slide_type": "slide"
    }
   },
   "outputs": [],
   "source": [
    "res = modell1.fit()\n",
    "res.summary()"
   ]
  },
  {
   "cell_type": "code",
   "execution_count": null,
   "id": "b6059df7",
   "metadata": {
    "slideshow": {
     "slide_type": "slide"
    }
   },
   "outputs": [],
   "source": [
    "anfrage = pd.DataFrame()\n",
    "anfrage['Monat'] = [18]\n",
    "res.get_prediction(anfrage).summary_frame()"
   ]
  },
  {
   "cell_type": "markdown",
   "id": "4ed6a52c",
   "metadata": {},
   "source": [
    "* untere Vertrauensgrenze für das Gesamtgewicht von 1200 Fischen in kg:"
   ]
  },
  {
   "cell_type": "code",
   "execution_count": null,
   "id": "c4688fec",
   "metadata": {},
   "outputs": [],
   "source": [
    "1200 * 1493 / 1000"
   ]
  },
  {
   "cell_type": "markdown",
   "id": "859a35a4",
   "metadata": {},
   "source": [
    "* obere Vertrauensgrenze für das Gesamtgewicht von 1200 Fischen in kg:"
   ]
  },
  {
   "cell_type": "code",
   "execution_count": null,
   "id": "cb9ec5d4",
   "metadata": {},
   "outputs": [],
   "source": [
    "1200 *  1523 / 1000"
   ]
  },
  {
   "cell_type": "markdown",
   "id": "cef0bd58",
   "metadata": {
    "slideshow": {
     "slide_type": "fragment"
    }
   },
   "source": [
    "Mit 97.5% Sicherheit werden mindestens 1791 kg Fisch geerntet"
   ]
  },
  {
   "cell_type": "code",
   "execution_count": null,
   "id": "d3746279",
   "metadata": {
    "slideshow": {
     "slide_type": "slide"
    }
   },
   "outputs": [],
   "source": [
    "formel2 = 'Höhe ~ Monat'\n",
    "modell2 = smf.ols(formel2, df)\n",
    "res = modell2.fit()\n",
    "res.summary()"
   ]
  },
  {
   "cell_type": "code",
   "execution_count": null,
   "id": "7e37f4d1",
   "metadata": {
    "slideshow": {
     "slide_type": "slide"
    }
   },
   "outputs": [],
   "source": [
    "res.get_prediction(anfrage).summary_frame()"
   ]
  },
  {
   "cell_type": "markdown",
   "id": "80ad9540",
   "metadata": {},
   "source": [
    "Um 97.5% der Fische zu fangen, muss das Netz so beschaffen sein, dass ein Fisch der Höhe 76.9mm nicht hindurch schlüpft"
   ]
  },
  {
   "cell_type": "markdown",
   "id": "2389cd81",
   "metadata": {
    "slideshow": {
     "slide_type": "slide"
    }
   },
   "source": [
    "# Mehrere erklärende Variablen"
   ]
  },
  {
   "cell_type": "markdown",
   "id": "2940b7aa",
   "metadata": {
    "slideshow": {
     "slide_type": "fragment"
    }
   },
   "source": [
    "### Lineares Modell mit einer erklärten und mehreren erklärenden Variablen"
   ]
  },
  {
   "cell_type": "markdown",
   "id": "528e5af5",
   "metadata": {},
   "source": [
    "$$\n",
    "   y = m_1 \\cdot x_1 + m_2 \\cdot x_2 + \\dots + m_n \\cdot x_n + b\n",
    "$$"
   ]
  },
  {
   "cell_type": "markdown",
   "id": "37d36224",
   "metadata": {
    "slideshow": {
     "slide_type": "-"
    }
   },
   "source": [
    "$y$ ist die erklärte und die $x_i$ sind die erklärenden Variablen"
   ]
  },
  {
   "cell_type": "markdown",
   "id": "bfdbab7f",
   "metadata": {
    "slideshow": {
     "slide_type": "fragment"
    }
   },
   "source": [
    "Beispiel:  Körpergröße der Söhne hängt von der Körpergröße von Vater und Mutter ab"
   ]
  },
  {
   "cell_type": "code",
   "execution_count": null,
   "id": "e893389e",
   "metadata": {},
   "outputs": [],
   "source": [
    "df = pd.read_csv('galton.csv')"
   ]
  },
  {
   "cell_type": "code",
   "execution_count": null,
   "id": "e236aa43",
   "metadata": {
    "slideshow": {
     "slide_type": "slide"
    }
   },
   "outputs": [],
   "source": [
    "formel = 'childHeight ~ father + mother'"
   ]
  },
  {
   "cell_type": "markdown",
   "id": "2847603d",
   "metadata": {},
   "source": [
    "Diese Formel hat 3 Unbekannte:\n",
    "\n",
    "* den Koeffizienten von `father`\n",
    "* den Koeffizienten von `mother`\n",
    "* den Ordinatenabschnitt"
   ]
  },
  {
   "cell_type": "code",
   "execution_count": null,
   "id": "127740fa",
   "metadata": {
    "slideshow": {
     "slide_type": "-"
    }
   },
   "outputs": [],
   "source": [
    "modell = smf.ols(formel, df)"
   ]
  },
  {
   "cell_type": "code",
   "execution_count": null,
   "id": "f66629ec",
   "metadata": {},
   "outputs": [],
   "source": [
    "res = modell.fit()"
   ]
  },
  {
   "cell_type": "code",
   "execution_count": null,
   "id": "33e3897f",
   "metadata": {
    "scrolled": true,
    "slideshow": {
     "slide_type": "slide"
    }
   },
   "outputs": [],
   "source": [
    "res.summary()"
   ]
  },
  {
   "cell_type": "markdown",
   "id": "8a144b91",
   "metadata": {},
   "source": [
    "* Regressiongleichung:  childHeight = 0.4176 * father + 0.3288 * mother + 19.3128\n",
    "* alle drei Koeffizienten haben statistisch signifikanten Einfluss"
   ]
  },
  {
   "cell_type": "markdown",
   "id": "8a50b3c6",
   "metadata": {
    "slideshow": {
     "slide_type": "slide"
    }
   },
   "source": [
    "Zum Vergleich"
   ]
  },
  {
   "cell_type": "code",
   "execution_count": null,
   "id": "b495d296",
   "metadata": {},
   "outputs": [],
   "source": [
    "formel2 = 'childHeight ~ father'\n",
    "modell2 = smf.ols(formel2, df)\n",
    "res = modell2.fit()"
   ]
  },
  {
   "cell_type": "code",
   "execution_count": null,
   "id": "116bf5b5",
   "metadata": {
    "scrolled": true,
    "slideshow": {
     "slide_type": "slide"
    }
   },
   "outputs": [],
   "source": [
    "res.summary()"
   ]
  },
  {
   "cell_type": "markdown",
   "id": "14a7f288",
   "metadata": {},
   "source": [
    "* Regressionsgleichung  childHeight = 0.4465 * father + 38.3626\n",
    "* beide Koeffizienten haben statistisch signifikanten Einfluss"
   ]
  },
  {
   "cell_type": "markdown",
   "id": "09e6ba7a",
   "metadata": {
    "slideshow": {
     "slide_type": "slide"
    }
   },
   "source": [
    "* Das erste Modell ist genauer, denn dort ist der Wert von `R-squared` höher"
   ]
  },
  {
   "cell_type": "markdown",
   "id": "0fc87383",
   "metadata": {
    "slideshow": {
     "slide_type": "slide"
    }
   },
   "source": [
    "Füge einen irrelevanten Term in den Datensatz ein"
   ]
  },
  {
   "cell_type": "code",
   "execution_count": null,
   "id": "68b651d7",
   "metadata": {},
   "outputs": [],
   "source": [
    "rng = np.random.default_rng()\n",
    "df['Kontonummer'] = rng.integers(1000, 99999, size=481)\n",
    "df.head()"
   ]
  },
  {
   "cell_type": "code",
   "execution_count": null,
   "id": "9d15a795",
   "metadata": {
    "slideshow": {
     "slide_type": "slide"
    }
   },
   "outputs": [],
   "source": [
    "formel3 = 'childHeight ~ father + mother + Kontonummer'\n",
    "modell3 = smf.ols(formel3, df)\n",
    "res = modell3.fit()"
   ]
  },
  {
   "cell_type": "code",
   "execution_count": null,
   "id": "af6734c4",
   "metadata": {
    "slideshow": {
     "slide_type": "slide"
    }
   },
   "outputs": [],
   "source": [
    "res.summary()"
   ]
  },
  {
   "cell_type": "markdown",
   "id": "7bb9b3a1",
   "metadata": {
    "slideshow": {
     "slide_type": "slide"
    }
   },
   "source": [
    "* Die Koeffizienten sind etwas verändert gegenüber dem ersten Modell \n",
    "* Der Unterschied ist nicht signifikant\n",
    "* Wert von `R-squared` unverändert gegenüber dem ersten Modell"
   ]
  },
  {
   "cell_type": "markdown",
   "id": "bc361608",
   "metadata": {},
   "source": [
    "* Von den hier vorgestellten Modellen ist das erste das beste"
   ]
  }
 ],
 "metadata": {
  "celltoolbar": "Slideshow",
  "kernelspec": {
   "display_name": "Python 3 (ipykernel)",
   "language": "python",
   "name": "python3"
  },
  "language_info": {
   "codemirror_mode": {
    "name": "ipython",
    "version": 3
   },
   "file_extension": ".py",
   "mimetype": "text/x-python",
   "name": "python",
   "nbconvert_exporter": "python",
   "pygments_lexer": "ipython3",
   "version": "3.11.4"
  }
 },
 "nbformat": 4,
 "nbformat_minor": 5
}
