{
 "cells": [
  {
   "cell_type": "markdown",
   "id": "97e910de",
   "metadata": {
    "slideshow": {
     "slide_type": "slide"
    }
   },
   "source": [
    "## Mathematik für Biologiestudierende II\n",
    "\n",
    "Sommersemester 2024\n",
    "\n",
    "28.05.2024\n",
    "\n",
    "&copy; 2024 Prof. Dr. Rüdiger W. Braun "
   ]
  },
  {
   "cell_type": "code",
   "execution_count": null,
   "id": "71cb2719",
   "metadata": {
    "slideshow": {
     "slide_type": "slide"
    }
   },
   "outputs": [],
   "source": [
    "import numpy as np\n",
    "import pandas as pd\n",
    "from scipy import stats\n",
    "import seaborn as sns\n",
    "sns.set_theme()"
   ]
  },
  {
   "cell_type": "markdown",
   "id": "0ebfc433",
   "metadata": {
    "slideshow": {
     "slide_type": "slide"
    }
   },
   "source": [
    "# Konfidenzintervalle"
   ]
  },
  {
   "cell_type": "markdown",
   "id": "5fda4032",
   "metadata": {
    "slideshow": {
     "slide_type": "slide"
    }
   },
   "source": [
    "# Konfidenzintervall für den Erwartungswert\n",
    "\n",
    "* $X_1, \\dots, X_n$ seien normalverteilt mit unbekanntem Erwartungswert und unbekannter Streuung\n",
    "* Für den Erwartungswert soll ein Konfidenzintervall zum Konfidenzniveau $1-\\alpha$ geschätzt werden\n",
    "* Benötigt werden das $1 - \\frac\\alpha2$-Quantil $t_{n-1, 1-\\alpha/2}$ der $t$-Verteilung mit $n-1$-Freiheitsgraden,\n",
    "* das arithmetische Mittel $\\overline x$ der Daten,\n",
    "* und die Stichprobenstreuung $s$ der Daten\n",
    "* Das Konfidenzintervall ist\n",
    "$$   \\left[ \\overline x - \\frac{s \\cdot t_{n-1, 1-\\alpha/2}}{\\sqrt n},\\,\n",
    "        \\overline x + \\frac{s \\cdot t_{n-1, 1-\\alpha/2}}{\\sqrt n} \\right]  $$"
   ]
  },
  {
   "cell_type": "markdown",
   "id": "3a9bc713",
   "metadata": {
    "slideshow": {
     "slide_type": "fragment"
    }
   },
   "source": [
    "### Bedeutung des Konfidenzintervalls\n",
    "\n",
    "* Das Konfidenzintervalls zum Konfidenzniveau $1-\\alpha$ ist ein Intervall, in welchem der wahre Erwartungswert $\\mu$ mit Wahrscheinlichkeit $1-\\alpha$ liegt\n",
    "* Die beiden Grenzen des Konfidenzintervalls bezeichnet man als obere und untere *Vertrauensgrenze*\n",
    "* Das Konfidenzintervall ist die zufallsbehaftete Größe, nicht der Erwartungswert\n",
    "  \\end{itemize}"
   ]
  },
  {
   "cell_type": "markdown",
   "id": "8a705390",
   "metadata": {
    "slideshow": {
     "slide_type": "slide"
    }
   },
   "source": [
    "### Beispiel: Roggenpflanzen\n",
    "\n",
    "* Gesunde Roggenpflanzen einer bestimmten Art sind im Mittel $102.5cm$ lang.  Die Länge sei normalverteilt\n",
    "* Durch Umwelteinflüsse änderte sich möglicherweise die mittlere Halmlänge.  Das soll zum Konfidenzniveau 95% überprüft werden\n",
    "* Die folgenden Längen werden gemessen"
   ]
  },
  {
   "cell_type": "code",
   "execution_count": null,
   "id": "9ccee918",
   "metadata": {
    "slideshow": {
     "slide_type": "slide"
    }
   },
   "outputs": [],
   "source": [
    "df = pd.DataFrame()\n",
    "df['Länge'] = [96.62, 94.91, 85.05, 101.61, 109.55, 93.05, 97.86, 96.66, 95.08, 98.87]\n",
    "df"
   ]
  },
  {
   "cell_type": "code",
   "execution_count": null,
   "id": "c07361d4",
   "metadata": {
    "slideshow": {
     "slide_type": "slide"
    }
   },
   "outputs": [],
   "source": [
    "df.describe()"
   ]
  },
  {
   "cell_type": "markdown",
   "id": "fe8dfb1b",
   "metadata": {
    "slideshow": {
     "slide_type": "slide"
    }
   },
   "source": [
    "* $1 - \\alpha = 0.95$, also $\\alpha = 0.05$ und $1 - \\frac\\alpha2 = 0.975$\n",
    "* Es wird das Quantil $t_9,0.975$ benötigt"
   ]
  },
  {
   "cell_type": "code",
   "execution_count": null,
   "id": "6b6736e1",
   "metadata": {},
   "outputs": [],
   "source": [
    "P = stats.t(9)\n",
    "P.ppf(0.975)"
   ]
  },
  {
   "cell_type": "code",
   "execution_count": null,
   "id": "1a8cec3f",
   "metadata": {},
   "outputs": [],
   "source": [
    "ugrenze = 96.926 - 6.233*P.ppf(0.975) / np.sqrt(10)\n",
    "ugrenze"
   ]
  },
  {
   "cell_type": "code",
   "execution_count": null,
   "id": "a7637d40",
   "metadata": {},
   "outputs": [],
   "source": [
    "ogrenze = 96.926 + 6.233*P.ppf(0.975) / np.sqrt(10)\n",
    "ogrenze"
   ]
  },
  {
   "cell_type": "markdown",
   "id": "6f2a4f71",
   "metadata": {
    "slideshow": {
     "slide_type": "slide"
    }
   },
   "source": [
    "* Der Erwartungswert für gesunde Pflanzen beträgt 102.5$cm$.  Da er nicht in dem Konfidenzintervall zum Konfidenzniveaub 95% liegt, kann man zum Signifikanzniveau 95% sagen, dass die Roggenpflanzen geschädigt sind\n",
    "* Kennt man also das Konfidenzintervall zum Konfidenzniveau $1-\\alpha$, so kann man den *zweiseitigen* t-Test zum Signifikanzniveau $\\alpha$ durchführen"
   ]
  },
  {
   "cell_type": "markdown",
   "id": "0e35d44d",
   "metadata": {
    "slideshow": {
     "slide_type": "slide"
    }
   },
   "source": [
    "* dasselbe mit `statsmodels`"
   ]
  },
  {
   "cell_type": "code",
   "execution_count": null,
   "id": "a54d442d",
   "metadata": {},
   "outputs": [],
   "source": [
    "import statsmodels.stats.api as sms\n",
    "\n",
    "sms.DescrStatsW(df.Länge).tconfint_mean()"
   ]
  },
  {
   "cell_type": "markdown",
   "id": "bc5b8bca",
   "metadata": {
    "slideshow": {
     "slide_type": "slide"
    }
   },
   "source": [
    "### Plot des Konfidenzintervalls\n",
    "\n",
    "<img src=\"bilder/roggen2.svg\" alt=\"Konfidenzintervall\" width=\"75%\"/>\n",
    "\n",
    "Der gelbe Bereich ist das Konfidenzintervall zum Konfidenzniveau 95%"
   ]
  },
  {
   "cell_type": "markdown",
   "id": "64de8a8f",
   "metadata": {
    "slideshow": {
     "slide_type": "slide"
    }
   },
   "source": [
    "# Korrelation "
   ]
  },
  {
   "cell_type": "markdown",
   "id": "a6039644",
   "metadata": {
    "slideshow": {
     "slide_type": "slide"
    }
   },
   "source": [
    "Die Datei enthält Alter und Blutdruck von 30 Probanden"
   ]
  },
  {
   "cell_type": "code",
   "execution_count": null,
   "id": "4447e89a",
   "metadata": {
    "scrolled": true
   },
   "outputs": [],
   "source": [
    "df = pd.read_csv('blutdruckdaten.csv')\n",
    "df"
   ]
  },
  {
   "cell_type": "code",
   "execution_count": null,
   "id": "ed3ce5a1",
   "metadata": {
    "slideshow": {
     "slide_type": "slide"
    }
   },
   "outputs": [],
   "source": [
    "sns.regplot(df, x='Alter', y='Blutdruck', fit_reg=False);"
   ]
  },
  {
   "cell_type": "markdown",
   "id": "94af25a9",
   "metadata": {
    "slideshow": {
     "slide_type": "slide"
    }
   },
   "source": [
    "Wir wollen die \"beste\" Gerade durch diese Punkte"
   ]
  },
  {
   "cell_type": "code",
   "execution_count": null,
   "id": "4c0384ea",
   "metadata": {},
   "outputs": [],
   "source": [
    "sns.regplot(df, x='Alter', y='Blutdruck');"
   ]
  },
  {
   "cell_type": "markdown",
   "id": "ba1c79bb",
   "metadata": {},
   "source": [
    "Die Bedeutung des hellblauen Bereichs verstehen wir nach der Erläuterung der Geraden"
   ]
  },
  {
   "cell_type": "markdown",
   "id": "81bcf79b",
   "metadata": {
    "slideshow": {
     "slide_type": "slide"
    }
   },
   "source": [
    "# Empirische Kovarianz\n",
    "\n",
    "* Empirische Kovarianz: Wie empirische Varianz, aber für Datenpaare\n",
    "* Wir haben $n$ Datenpaare $(x_1, y_1), (x_2, y_2), \\dots, (x_n,y_n)$\n",
    "* das arithmetische Mittel der $x_j$ ist $\\overline x$, das der $y_j$ ist $\\overline y$\n",
    "* die *empirische Kovarianz* von $x$ und $y$ ist\n",
    "$$ \\text{covar}_{\\text{emp}}(x,y) \n",
    "      = \\frac1{n-1} \\bigl( (x_1-\\overline x)(y_1-\\overline y) + (x_2-\\overline\n",
    "        x)(y_2-\\overline y) + \\dots + (x_n-\\overline x)(y_n-\\overline y)\\bigr) $$"
   ]
  },
  {
   "cell_type": "markdown",
   "id": "d7a64e1f",
   "metadata": {
    "slideshow": {
     "slide_type": "fragment"
    }
   },
   "source": [
    "* Formel ohne Pünktchen\n",
    "$$   \\text{covar}_{\\text{emp}}(x,y) = \\frac1{n-1} \\sum_{j=1}^n (x_j - \\overline x)(y_j - \\overline y) $$\n",
    "* Die Kovarianz misst, wie $x$ und $y$ zusammenhängen"
   ]
  },
  {
   "cell_type": "code",
   "execution_count": null,
   "id": "5562ac3f",
   "metadata": {
    "slideshow": {
     "slide_type": "slide"
    }
   },
   "outputs": [],
   "source": [
    "df.cov()"
   ]
  },
  {
   "cell_type": "markdown",
   "id": "fae5b3d1",
   "metadata": {},
   "source": [
    "* Die Tabelle zeigt für jedes Faktorpaar die zugehörige Kovarianz\n",
    "* Sie ist symmetrisch\n",
    "* Auf der Diagonalen stehen die empirischen Varianzen"
   ]
  },
  {
   "cell_type": "markdown",
   "id": "2ad22f7c",
   "metadata": {
    "slideshow": {
     "slide_type": "slide"
    }
   },
   "source": [
    "# Lineare Regression\n",
    "\n",
    "* \"Lineare Regression\":  Bestimmung einer Regressionsgeraden \n",
    "* \"linear\": auf einer Gerade liegend\n",
    "* \"Gerade\": Funktionsvorschrift\n",
    "$$      y = m \\cdot x + b  $$\n",
    "* Hierbei ist \n",
    "  * $m$ die Steigung der Geraden\n",
    "  * $b$ der Ordinatenabschnitt der Geraden"
   ]
  },
  {
   "cell_type": "markdown",
   "id": "df3086a5",
   "metadata": {
    "slideshow": {
     "slide_type": "fragment"
    }
   },
   "source": [
    "* Die Regressionsgerade ist die Gerade mit der bestmöglichen Annäherung an die Datenpunkte \n",
    "* \"bestmöglich\" bedeutet\n",
    "$$ \\sum_{j=1}^n (m \\cdot x_j + b - y_j)^2 \\overset{!}{=} \\min $$"
   ]
  },
  {
   "cell_type": "markdown",
   "id": "29c575dd",
   "metadata": {
    "slideshow": {
     "slide_type": "slide"
    }
   },
   "source": [
    "## Formel für die lineare Regression\n",
    "\n",
    "* Gegeben: Datenpaare $(x_1, y_1), (x_2, y_2), \\dots, (x_n, y_n)$\n",
    "* Gesucht: Regressionsgerade $y = m \\cdot x + b$\n",
    "* Rechenvorschrift:  \n",
    "    \\begin{align*}\n",
    "      m &= \\frac{\\text{covar}_\\text{emp}(x,y)}{s_x^2} \\\\\n",
    "      b &= \\overline y - m \\overline x\n",
    "    \\end{align*}\n",
    "* Dabei:\n",
    "  * $\\overline x$ und $\\overline y$: arithmetisches Mittel von $x$ und $y$\n",
    "  * $s_x^2$ empirische Varianz von $x$ \n",
    "  * $\\text{covar}_\\text{emp}(x,y)$ empirische Kovarianz von $x$ und $y$"
   ]
  },
  {
   "cell_type": "markdown",
   "id": "08e2ce53",
   "metadata": {
    "slideshow": {
     "slide_type": "slide"
    }
   },
   "source": [
    "### Beispiel Blutdruck"
   ]
  },
  {
   "cell_type": "code",
   "execution_count": null,
   "id": "6eba611e",
   "metadata": {},
   "outputs": [],
   "source": [
    "cov = 348.57\n",
    "var_x = 231.13\n",
    "m = cov / var_x\n",
    "m"
   ]
  },
  {
   "cell_type": "code",
   "execution_count": null,
   "id": "8de83420",
   "metadata": {
    "slideshow": {
     "slide_type": "slide"
    }
   },
   "outputs": [],
   "source": [
    "df.describe()"
   ]
  },
  {
   "cell_type": "code",
   "execution_count": null,
   "id": "0cee14d8",
   "metadata": {},
   "outputs": [],
   "source": [
    "xq = 44.8"
   ]
  },
  {
   "cell_type": "code",
   "execution_count": null,
   "id": "49205bbd",
   "metadata": {},
   "outputs": [],
   "source": [
    "yq = 147.93"
   ]
  },
  {
   "cell_type": "code",
   "execution_count": null,
   "id": "d80e4335",
   "metadata": {},
   "outputs": [],
   "source": [
    "b = yq - m*xq\n",
    "b"
   ]
  },
  {
   "cell_type": "markdown",
   "id": "24472b14",
   "metadata": {
    "slideshow": {
     "slide_type": "slide"
    }
   },
   "source": [
    "# Blutdruckdaten: Interpretation\n",
    "\n",
    "* Pro Jahr steigt der Blutdruck um 1.5\\,$mm$\\,Hg \n",
    "* $b$ hat hier keine eigenständige Bedeutung, denn nahe $x=0$ wurden keine Daten erhoben\n",
    "* Bei einem 50jährigen erwartet man einen Blutdruck von\n",
    "  $$ 1.51 \\cdot 50 + 80.4 = 155.9 $$\n",
    "* Das ist absolut ungesund!"
   ]
  },
  {
   "cell_type": "code",
   "execution_count": null,
   "id": "2ee2b00d",
   "metadata": {
    "slideshow": {
     "slide_type": "slide"
    }
   },
   "outputs": [],
   "source": [
    "sns.regplot(df, x='Alter', y='Blutdruck');"
   ]
  },
  {
   "cell_type": "markdown",
   "id": "f7e80192",
   "metadata": {
    "slideshow": {
     "slide_type": "slide"
    }
   },
   "source": [
    "## Bedeutung des hellblauen Bereichs\n",
    "\n",
    "* `seaborn`berechnet ein Konfidenzintervall für $m$ und eins für $b$\n",
    "* und daraus ein Konfidenzintervall für die erwarteten Werte für jedes Alter\n",
    "* an den Rändern wird die Schätzung ungenauer, daher geht der Konfidenzbereich zu den Rändern hin etwas auseinander"
   ]
  },
  {
   "cell_type": "markdown",
   "id": "52f2dd8a",
   "metadata": {
    "slideshow": {
     "slide_type": "fragment"
    }
   },
   "source": [
    "* dasselbe für ein kleineres $\\alpha$\n",
    "* Achtung:  der Parameter `ci` wird in % angegeben"
   ]
  },
  {
   "cell_type": "code",
   "execution_count": null,
   "id": "a6109142",
   "metadata": {
    "slideshow": {
     "slide_type": "slide"
    }
   },
   "outputs": [],
   "source": [
    "sns.regplot(df, x='Alter', y='Blutdruck', ci=99.9);"
   ]
  },
  {
   "cell_type": "markdown",
   "id": "6c9a5c56",
   "metadata": {
    "slideshow": {
     "slide_type": "fragment"
    }
   },
   "source": [
    "* `seaborn` bestimmt das Konfidenzintervall mit einer nichtparametrischen Methode"
   ]
  },
  {
   "cell_type": "markdown",
   "id": "66f24d37",
   "metadata": {},
   "source": [
    "### Beispiel für zwei unkorrelierte Größen\n",
    "\n",
    "* formal ist es auch möglich, Regressionsplot für zwei unkorrelierte Größen auszurechnen"
   ]
  },
  {
   "cell_type": "markdown",
   "id": "4b17c0cd",
   "metadata": {
    "slideshow": {
     "slide_type": "slide"
    }
   },
   "source": [
    "* man glaubt, einen Zusammenhang zu sehen\n",
    "* das ist ein Irrtum\n",
    "* die Größe habe ich als normalverteilte Zufallsdaten an den Datensatz angefügt"
   ]
  },
  {
   "cell_type": "code",
   "execution_count": null,
   "id": "bb748629",
   "metadata": {},
   "outputs": [],
   "source": [
    "df['Zufall'] = stats.norm().rvs(30)"
   ]
  },
  {
   "cell_type": "code",
   "execution_count": null,
   "id": "72ebcfb8",
   "metadata": {
    "slideshow": {
     "slide_type": "slide"
    }
   },
   "outputs": [],
   "source": [
    "sns.regplot(df, x='Zufall', y='Blutdruck');"
   ]
  }
 ],
 "metadata": {
  "celltoolbar": "Slideshow",
  "kernelspec": {
   "display_name": "Python 3 (ipykernel)",
   "language": "python",
   "name": "python3"
  },
  "language_info": {
   "codemirror_mode": {
    "name": "ipython",
    "version": 3
   },
   "file_extension": ".py",
   "mimetype": "text/x-python",
   "name": "python",
   "nbconvert_exporter": "python",
   "pygments_lexer": "ipython3",
   "version": "3.11.5"
  }
 },
 "nbformat": 4,
 "nbformat_minor": 5
}
