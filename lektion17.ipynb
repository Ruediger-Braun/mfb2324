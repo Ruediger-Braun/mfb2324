{
 "cells": [
  {
   "cell_type": "markdown",
   "id": "97e910de",
   "metadata": {
    "slideshow": {
     "slide_type": "slide"
    }
   },
   "source": [
    "# Mathematik für Biologiestudierende II\n",
    "\n",
    "Sommersemester 2024\n",
    "\n",
    "07.04.2024\n",
    "\n",
    "&copy; 2024 Prof. Dr. Rüdiger W. Braun "
   ]
  },
  {
   "cell_type": "code",
   "execution_count": null,
   "id": "a56ebe0f",
   "metadata": {
    "slideshow": {
     "slide_type": "slide"
    }
   },
   "outputs": [],
   "source": [
    "import numpy as np\n",
    "import pandas as pd\n",
    "from scipy import stats\n",
    "import seaborn as sns\n",
    "sns.set_theme()"
   ]
  },
  {
   "cell_type": "markdown",
   "id": "0c6b65c5",
   "metadata": {
    "slideshow": {
     "slide_type": "slide"
    }
   },
   "source": [
    "# Heteroskedastizität"
   ]
  },
  {
   "cell_type": "markdown",
   "id": "244420b7",
   "metadata": {
    "slideshow": {
     "slide_type": "slide"
    }
   },
   "source": [
    "* Die ANOVA vergleicht die Varianzen innerhalb der einzelnen Gruppen mit der Varianz im gesamten Datensatz, um die Unterschiede zwischen den Gruppen zu untersuchen\n",
    "* À priori geht das erstmal nur, wenn die Varianzen innerhalb der Gruppen gleich sind"
   ]
  },
  {
   "cell_type": "markdown",
   "id": "e66a45c4",
   "metadata": {},
   "source": [
    "* Ein Datensatz ist *heteroskedastisch*, wenn die verschiedenen Gruppen unterschiedlich Varianz haben"
   ]
  },
  {
   "cell_type": "markdown",
   "id": "0c90d93b",
   "metadata": {
    "slideshow": {
     "slide_type": "slide"
    }
   },
   "source": [
    "# Der Levene-Test"
   ]
  },
  {
   "cell_type": "markdown",
   "id": "69c16c7c",
   "metadata": {
    "slideshow": {
     "slide_type": "fragment"
    }
   },
   "source": [
    "Der Levene-Test testet auf Gleichheit der Varianzen"
   ]
  },
  {
   "cell_type": "markdown",
   "id": "dcaffbb4",
   "metadata": {},
   "source": [
    "Beispiel:  Meerschweinchenzähne\n",
    "\n",
    "* Drei Gruppen von Meerschweinchen, je nach täglicher Gabe an Vitamin C\n",
    "  * kleine Dosis\n",
    "  * mittlerer Dosis\n",
    "  * große Dosis\n",
    "* Nach 42 Tagen wird die Zahnlänge bestimmt\n",
    "\n",
    "Quelle: The Statistics of Bioassay"
   ]
  },
  {
   "cell_type": "code",
   "execution_count": null,
   "id": "5e8a2bd6",
   "metadata": {
    "slideshow": {
     "slide_type": "slide"
    }
   },
   "outputs": [],
   "source": [
    "small_dose = np.array([\n",
    "    4.2, 11.5, 7.3, 5.8, 6.4, 10, 11.2, 11.2, 5.2, 7,\n",
    "    15.2, 21.5, 17.6, 9.7, 14.5, 10, 8.2, 9.4, 16.5, 9.7\n",
    "])\n",
    "\n",
    "medium_dose = np.array([\n",
    "    16.5, 16.5, 15.2, 17.3, 22.5, 17.3, 13.6, 14.5, 18.8, 15.5,\n",
    "    19.7, 23.3, 23.6, 26.4, 20, 25.2, 25.8, 21.2, 14.5, 27.3\n",
    "])\n",
    "\n",
    "large_dose = np.array([\n",
    "    23.6, 18.5, 33.9, 25.5, 26.4, 32.5, 26.7, 21.5, 23.3, 29.5,\n",
    "    25.5, 26.4, 22.4, 24.5, 24.8, 30.9, 26.4, 27.3, 29.4, 23\n",
    "])"
   ]
  },
  {
   "cell_type": "markdown",
   "id": "dcc68e06",
   "metadata": {
    "slideshow": {
     "slide_type": "slide"
    }
   },
   "source": [
    "Test auf Heteroskedastizität"
   ]
  },
  {
   "cell_type": "code",
   "execution_count": null,
   "id": "aad042aa",
   "metadata": {},
   "outputs": [],
   "source": [
    "stats.levene(small_dose, medium_dose, large_dose)"
   ]
  },
  {
   "cell_type": "markdown",
   "id": "84133dd9",
   "metadata": {
    "slideshow": {
     "slide_type": "fragment"
    }
   },
   "source": [
    "* Der p-Wert ist 0.53.  Hetereskedastizizät kann nicht nachgewiesen werden."
   ]
  },
  {
   "cell_type": "markdown",
   "id": "41bdd5f4",
   "metadata": {
    "slideshow": {
     "slide_type": "slide"
    }
   },
   "source": [
    "* Wir fahren mit der ANOVA fort"
   ]
  },
  {
   "cell_type": "code",
   "execution_count": null,
   "id": "248d0362",
   "metadata": {
    "slideshow": {
     "slide_type": "-"
    }
   },
   "outputs": [],
   "source": [
    "stats.f_oneway(small_dose, medium_dose, large_dose)"
   ]
  },
  {
   "cell_type": "markdown",
   "id": "67ec725d",
   "metadata": {},
   "source": [
    "* Gabe von Vitamin C hat Einfluss auf das Zahnwachstum\n",
    "* Als nächstes würde man eine post-hoc Analyse machen"
   ]
  },
  {
   "cell_type": "markdown",
   "id": "178febac",
   "metadata": {
    "slideshow": {
     "slide_type": "slide"
    }
   },
   "source": [
    "### Beispiel: Barsche"
   ]
  },
  {
   "cell_type": "code",
   "execution_count": null,
   "id": "051c9dd7",
   "metadata": {},
   "outputs": [],
   "source": [
    "df = pd.read_csv('barsche.csv')\n",
    "df.head()"
   ]
  },
  {
   "cell_type": "code",
   "execution_count": null,
   "id": "9ae44e1e",
   "metadata": {
    "slideshow": {
     "slide_type": "slide"
    }
   },
   "outputs": [],
   "source": [
    "sns.boxplot(data=df, x=\"Art\", y=\"Länge\");"
   ]
  },
  {
   "cell_type": "markdown",
   "id": "981351a8",
   "metadata": {},
   "source": [
    "Sieht heteroskedastisch aus"
   ]
  },
  {
   "cell_type": "code",
   "execution_count": null,
   "id": "bff1871a",
   "metadata": {
    "slideshow": {
     "slide_type": "slide"
    }
   },
   "outputs": [],
   "source": [
    "ds = df[df.Art=='gestreift'].Länge\n",
    "dl = df[df.Art=='gefleckt'].Länge\n",
    "db = df[df.Art=='blau'].Länge\n",
    "dr = df[df.Art=='braun'].Länge"
   ]
  },
  {
   "cell_type": "code",
   "execution_count": null,
   "id": "2e641b15",
   "metadata": {},
   "outputs": [],
   "source": [
    "stats.levene(ds, dl, dr, db)"
   ]
  },
  {
   "cell_type": "markdown",
   "id": "bdee2b90",
   "metadata": {
    "slideshow": {
     "slide_type": "slide"
    }
   },
   "source": [
    "# Probleme beim Test auf Heteroskedastizität"
   ]
  },
  {
   "cell_type": "markdown",
   "id": "e48765b9",
   "metadata": {
    "slideshow": {
     "slide_type": "fragment"
    }
   },
   "source": [
    "* Die Nullhypothese beim Levene-Test ist \n",
    "\n",
    "> $H_0$:  Die Daten sind homoskedastisch\n",
    "\n",
    "* Ein Hypothesentest \"beweist\" nie die Nullhypothese\n",
    "  * bei starken Indizien dagegen lehnt er sie ab\n",
    "  * bei starken Indizien dafür behält er sie bei\n",
    "  * bei unklaren Indizien behält er sie auch bei "
   ]
  },
  {
   "cell_type": "markdown",
   "id": "a6d6c5bd",
   "metadata": {
    "slideshow": {
     "slide_type": "fragment"
    }
   },
   "source": [
    "* um zu erkennen, ob der Levene-Test Heteroskedastizität überhaupt erkennen kann, wäre eine Poweranalyse für den Levene-Test nötig, das ist aber unrealistisch"
   ]
  },
  {
   "cell_type": "markdown",
   "id": "414ea701",
   "metadata": {},
   "source": [
    "* auch das andere Extrem ist möglich:  Der Stichprobenumfang ist so groß, dass kleine Unterschiede schon signifikant werden"
   ]
  },
  {
   "cell_type": "markdown",
   "id": "7aa1eeba",
   "metadata": {
    "slideshow": {
     "slide_type": "slide"
    }
   },
   "source": [
    "Alternativen zum Levene-Test\n",
    "\n",
    "* Bartlett-Test `stats.bartlett` (wenn völlig klar ist, dass die Daten normalverteilt sind)\n",
    "* Brown-Forsyth-Test `stats.levene` mit `center=trimmed` (ähnlich`zum Levene-Test)\n",
    "* Fligner-Test `stats.fligner` (nicht-parametrisch)"
   ]
  },
  {
   "cell_type": "markdown",
   "id": "faa72f3b",
   "metadata": {
    "slideshow": {
     "slide_type": "slide"
    }
   },
   "source": [
    "# Alexander-Govern-Test"
   ]
  },
  {
   "cell_type": "markdown",
   "id": "778967e1",
   "metadata": {},
   "source": [
    "Wenn die Daten heteroskedastisch, aber normalverteilt sind, dann rechnet man einen Alexander-Govern-Test"
   ]
  },
  {
   "cell_type": "code",
   "execution_count": null,
   "id": "d5b7a4d5",
   "metadata": {
    "slideshow": {
     "slide_type": "slide"
    }
   },
   "outputs": [],
   "source": [
    "stats.alexandergovern(ds, dl, dr, db)"
   ]
  },
  {
   "cell_type": "markdown",
   "id": "2d344c9d",
   "metadata": {
    "slideshow": {
     "slide_type": "fragment"
    }
   },
   "source": [
    "Im homoskedastischen Fall ist der p-Wert des Alexander-Govern-Tests meist schlechter als der von `f_oneway`"
   ]
  },
  {
   "cell_type": "code",
   "execution_count": null,
   "id": "a3003039",
   "metadata": {
    "slideshow": {
     "slide_type": "-"
    }
   },
   "outputs": [],
   "source": [
    "stats.alexandergovern(small_dose, medium_dose, large_dose)"
   ]
  },
  {
   "cell_type": "code",
   "execution_count": null,
   "id": "955ebd51",
   "metadata": {},
   "outputs": [],
   "source": [
    "stats.f_oneway(small_dose, medium_dose, large_dose)  "
   ]
  },
  {
   "cell_type": "markdown",
   "id": "2245fed0",
   "metadata": {
    "slideshow": {
     "slide_type": "slide"
    }
   },
   "source": [
    "# Post-hoc Analyse"
   ]
  },
  {
   "cell_type": "markdown",
   "id": "3ca05852",
   "metadata": {
    "slideshow": {
     "slide_type": "fragment"
    }
   },
   "source": [
    "* Der t-Test kann nur gerechnet werden, wenn die Varianzen der zu vergleichenden Datensätze übereinstimmen\n",
    "* Im heteroskedastischen Fall ist das nicht der Fall\n",
    "* Man rechnet dann einen Welch-Test\n",
    "* In scipy ist der Welch-Test wie folgt implementiert"
   ]
  },
  {
   "cell_type": "code",
   "execution_count": null,
   "id": "83ba801d",
   "metadata": {},
   "outputs": [],
   "source": [
    "stats.ttest_ind(db, dr, equal_var=False)"
   ]
  },
  {
   "cell_type": "markdown",
   "id": "b4694720",
   "metadata": {
    "slideshow": {
     "slide_type": "fragment"
    }
   },
   "source": [
    "* Problem:  Arbeitet nicht mit `MultiComparison` zusammen"
   ]
  },
  {
   "cell_type": "code",
   "execution_count": null,
   "id": "7b9329d2",
   "metadata": {
    "slideshow": {
     "slide_type": "slide"
    }
   },
   "outputs": [],
   "source": [
    "# ganz kleines Programm\n",
    "\n",
    "def welch(x, y):\n",
    "    return stats.ttest_ind(x, y, equal_var=False)"
   ]
  },
  {
   "cell_type": "code",
   "execution_count": null,
   "id": "1112f95b",
   "metadata": {
    "slideshow": {
     "slide_type": "slide"
    }
   },
   "outputs": [],
   "source": [
    "from statsmodels.sandbox.stats.multicomp import MultiComparison"
   ]
  },
  {
   "cell_type": "code",
   "execution_count": null,
   "id": "d457f373",
   "metadata": {},
   "outputs": [],
   "source": [
    "muc = MultiComparison(df.Länge, df.Art)"
   ]
  },
  {
   "cell_type": "code",
   "execution_count": null,
   "id": "e2cab8dd",
   "metadata": {
    "slideshow": {
     "slide_type": "slide"
    }
   },
   "outputs": [],
   "source": [
    "muc.allpairtest(welch, method='holm')[0]"
   ]
  },
  {
   "cell_type": "markdown",
   "id": "18aa8f0b",
   "metadata": {
    "slideshow": {
     "slide_type": "slide"
    }
   },
   "source": [
    "# Normalverteilungsannahmen"
   ]
  },
  {
   "cell_type": "markdown",
   "id": "668223ea",
   "metadata": {},
   "source": [
    "* Sowohl `f_oneway` als auch `alexandergovern` liefern nur für normalverteilte Daten richtige Ergebnisse\n",
    "* Normalverteilungsannahmen prüfen wir mit dem Q-Q-Plot"
   ]
  },
  {
   "cell_type": "code",
   "execution_count": null,
   "id": "8220cfad",
   "metadata": {
    "slideshow": {
     "slide_type": "slide"
    }
   },
   "outputs": [],
   "source": [
    "import statsmodels.api as sm\n",
    "pp = sm.ProbPlot(db)\n",
    "pp.qqplot();"
   ]
  },
  {
   "cell_type": "markdown",
   "id": "1d52c062",
   "metadata": {},
   "source": [
    "ausreichende Übereinstimmung"
   ]
  },
  {
   "cell_type": "code",
   "execution_count": null,
   "id": "d5078632",
   "metadata": {
    "slideshow": {
     "slide_type": "slide"
    }
   },
   "outputs": [],
   "source": [
    "df = pd.read_csv('libellen.csv')\n",
    "df.head()"
   ]
  },
  {
   "cell_type": "code",
   "execution_count": null,
   "id": "a3d69c4b",
   "metadata": {
    "slideshow": {
     "slide_type": "slide"
    }
   },
   "outputs": [],
   "source": [
    "df.Art.value_counts()"
   ]
  },
  {
   "cell_type": "code",
   "execution_count": null,
   "id": "a3f39ade",
   "metadata": {},
   "outputs": [],
   "source": [
    "dg = df[df.Art=='graue'].Länge\n",
    "du = df[df.Art=='grüne'].Länge\n",
    "da = df[df.Art=='ägyptische'].Länge\n",
    "dB = df[df.Art=='Bilker'].Länge"
   ]
  },
  {
   "cell_type": "code",
   "execution_count": null,
   "id": "403ac9ca",
   "metadata": {
    "slideshow": {
     "slide_type": "slide"
    }
   },
   "outputs": [],
   "source": [
    "pp = sm.ProbPlot(dB)\n",
    "pp.qqplot();"
   ]
  },
  {
   "cell_type": "markdown",
   "id": "d3da8bbb",
   "metadata": {},
   "source": [
    "nicht normalverteilt"
   ]
  },
  {
   "cell_type": "markdown",
   "id": "a65a854a",
   "metadata": {
    "slideshow": {
     "slide_type": "slide"
    }
   },
   "source": [
    "# Kruskal-Wallis-Test"
   ]
  },
  {
   "cell_type": "markdown",
   "id": "e7806f1f",
   "metadata": {
    "slideshow": {
     "slide_type": "fragment"
    }
   },
   "source": [
    "im Fall nicht normalverteilter Daten rechnet man den Kruskal-Wallis-Test"
   ]
  },
  {
   "cell_type": "code",
   "execution_count": null,
   "id": "bc38672c",
   "metadata": {},
   "outputs": [],
   "source": [
    "stats.kruskal(dg, du, da, dB)"
   ]
  },
  {
   "cell_type": "markdown",
   "id": "6be6f9fe",
   "metadata": {
    "slideshow": {
     "slide_type": "slide"
    }
   },
   "source": [
    "## Post-hoc Analyse"
   ]
  },
  {
   "cell_type": "markdown",
   "id": "09961756",
   "metadata": {},
   "source": [
    "Das nicht-parametrische Analogon zum unverbundenen t-Test ist der Mann-Whitney-Test"
   ]
  },
  {
   "cell_type": "code",
   "execution_count": null,
   "id": "699e0212",
   "metadata": {
    "slideshow": {
     "slide_type": "slide"
    }
   },
   "outputs": [],
   "source": [
    "muc = MultiComparison(df.Länge, df.Art)"
   ]
  },
  {
   "cell_type": "code",
   "execution_count": null,
   "id": "6692c081",
   "metadata": {},
   "outputs": [],
   "source": [
    "muc.allpairtest(stats.mannwhitneyu, method='holm')[0]"
   ]
  },
  {
   "cell_type": "code",
   "execution_count": null,
   "id": "3c04174e",
   "metadata": {
    "slideshow": {
     "slide_type": "slide"
    }
   },
   "outputs": [],
   "source": [
    "sns.boxplot(data=df, x='Art', y='Länge');"
   ]
  }
 ],
 "metadata": {
  "celltoolbar": "Slideshow",
  "kernelspec": {
   "display_name": "Python 3 (ipykernel)",
   "language": "python",
   "name": "python3"
  },
  "language_info": {
   "codemirror_mode": {
    "name": "ipython",
    "version": 3
   },
   "file_extension": ".py",
   "mimetype": "text/x-python",
   "name": "python",
   "nbconvert_exporter": "python",
   "pygments_lexer": "ipython3",
   "version": "3.11.5"
  }
 },
 "nbformat": 4,
 "nbformat_minor": 5
}
