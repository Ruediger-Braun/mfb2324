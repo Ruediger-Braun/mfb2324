{
 "cells": [
  {
   "cell_type": "markdown",
   "id": "97e910de",
   "metadata": {
    "slideshow": {
     "slide_type": "slide"
    }
   },
   "source": [
    "# Mathematik für Biologiestudierende II\n",
    "\n",
    "Sommersemester 2024\n",
    "\n",
    "07.04.2024\n",
    "\n",
    "&copy; 2024 Prof. Dr. Rüdiger W. Braun "
   ]
  },
  {
   "cell_type": "code",
   "execution_count": 1,
   "id": "a56ebe0f",
   "metadata": {
    "slideshow": {
     "slide_type": "slide"
    }
   },
   "outputs": [],
   "source": [
    "import numpy as np\n",
    "import pandas as pd\n",
    "from scipy import stats\n",
    "import seaborn as sns\n",
    "sns.set_theme()"
   ]
  },
  {
   "cell_type": "markdown",
   "id": "0c6b65c5",
   "metadata": {},
   "source": [
    "# Heteroskedastizität"
   ]
  },
  {
   "cell_type": "markdown",
   "id": "244420b7",
   "metadata": {},
   "source": [
    "* Die ANOVA vergleicht die Varianzen innerhalb der einzelnen Gruppen mit der Varianz im gesamten Datensatz, um die Unterschiede zwischen den Gruppen zu untersuchen\n",
    "* À priori geht das erstmal nur, wenn die Varianzen innerhalb der Gruppen gleich sind"
   ]
  },
  {
   "cell_type": "markdown",
   "id": "e66a45c4",
   "metadata": {},
   "source": [
    "* Ein Datensatz ist *heteroskedastisch*, wenn die verschiedenen Gruppen unterschiedlich Varianz haben"
   ]
  },
  {
   "cell_type": "markdown",
   "id": "0c90d93b",
   "metadata": {},
   "source": [
    "# Der Levene-Test"
   ]
  },
  {
   "cell_type": "markdown",
   "id": "69c16c7c",
   "metadata": {},
   "source": [
    "Der Levene-Test testet auf Gleichheit der Varianzen"
   ]
  },
  {
   "cell_type": "markdown",
   "id": "dcaffbb4",
   "metadata": {},
   "source": [
    "Beispiel:  Meerschweinchenzähne\n",
    "\n",
    "* Drei Gruppen von Meerschweinchen, je nach täglicher Gabe an Vitamin C\n",
    "  * kleine Dosis\n",
    "  * mittlerer Dosis\n",
    "  * große Dosis\n",
    "* Nach 42 Tagen wird die Zahnlänge bestimmt\n",
    "\n",
    "Quelle: The Statistics of Bioassay"
   ]
  },
  {
   "cell_type": "code",
   "execution_count": 2,
   "id": "5e8a2bd6",
   "metadata": {},
   "outputs": [],
   "source": [
    "small_dose = np.array([\n",
    "    4.2, 11.5, 7.3, 5.8, 6.4, 10, 11.2, 11.2, 5.2, 7,\n",
    "    15.2, 21.5, 17.6, 9.7, 14.5, 10, 8.2, 9.4, 16.5, 9.7\n",
    "])\n",
    "\n",
    "medium_dose = np.array([\n",
    "    16.5, 16.5, 15.2, 17.3, 22.5, 17.3, 13.6, 14.5, 18.8, 15.5,\n",
    "    19.7, 23.3, 23.6, 26.4, 20, 25.2, 25.8, 21.2, 14.5, 27.3\n",
    "])\n",
    "\n",
    "large_dose = np.array([\n",
    "    23.6, 18.5, 33.9, 25.5, 26.4, 32.5, 26.7, 21.5, 23.3, 29.5,\n",
    "    25.5, 26.4, 22.4, 24.5, 24.8, 30.9, 26.4, 27.3, 29.4, 23\n",
    "])"
   ]
  },
  {
   "cell_type": "markdown",
   "id": "dcc68e06",
   "metadata": {},
   "source": [
    "Test auf Heteroskedastizität"
   ]
  },
  {
   "cell_type": "code",
   "execution_count": 3,
   "id": "aad042aa",
   "metadata": {},
   "outputs": [
    {
     "data": {
      "text/plain": [
       "LeveneResult(statistic=0.6457341109631506, pvalue=0.5280694573759905)"
      ]
     },
     "execution_count": 3,
     "metadata": {},
     "output_type": "execute_result"
    }
   ],
   "source": [
    "stats.levene(small_dose, medium_dose, large_dose)"
   ]
  },
  {
   "cell_type": "markdown",
   "id": "84133dd9",
   "metadata": {},
   "source": [
    "* Der p-Wert ist 0.53.  Hetereskedastizizät kann nicht nachgewiesen werden."
   ]
  },
  {
   "cell_type": "markdown",
   "id": "41bdd5f4",
   "metadata": {},
   "source": [
    "* Wir fahren mit der ANOVA fort"
   ]
  },
  {
   "cell_type": "code",
   "execution_count": 5,
   "id": "248d0362",
   "metadata": {},
   "outputs": [
    {
     "data": {
      "text/plain": [
       "F_onewayResult(statistic=67.41573785674247, pvalue=9.532727011699946e-16)"
      ]
     },
     "execution_count": 5,
     "metadata": {},
     "output_type": "execute_result"
    }
   ],
   "source": [
    "stats.f_oneway(small_dose, medium_dose, large_dose)"
   ]
  },
  {
   "cell_type": "markdown",
   "id": "67ec725d",
   "metadata": {},
   "source": [
    "* Gabe von Vitamin C hat Einfluss auf das Zahnwachstum\n",
    "* Als nächstes würde man eine post-hoc Analyse machen"
   ]
  },
  {
   "cell_type": "markdown",
   "id": "27c80023",
   "metadata": {},
   "source": [
    "Anderer Datensatz:"
   ]
  },
  {
   "cell_type": "code",
   "execution_count": 15,
   "id": "bd7ff1fd",
   "metadata": {},
   "outputs": [
    {
     "data": {
      "text/plain": [
       "LeveneResult(statistic=7.584952754501659, pvalue=0.002431505967249681)"
      ]
     },
     "execution_count": 15,
     "metadata": {},
     "output_type": "execute_result"
    }
   ],
   "source": [
    "a = np.array([8.88, 9.12, 9.04, 8.98, 9.00, 9.08, 9.01, 8.85, 9.06, 8.99])\n",
    "b = np.array([8.88, 8.95, 9.29, 9.44, 9.15, 9.58, 8.36, 9.18, 8.67, 9.05])\n",
    "c = np.array([8.95, 9.12, 8.95, 8.85, 9.03, 8.84, 9.07, 8.98, 8.86, 8.98])\n",
    "stats.levene(a, b, c)"
   ]
  },
  {
   "cell_type": "raw",
   "id": "ab0ef0e7",
   "metadata": {},
   "source": [
    "Hier liegt sicher Heteroskedastizizäz vor"
   ]
  },
  {
   "cell_type": "markdown",
   "id": "bdee2b90",
   "metadata": {},
   "source": [
    "# Probleme beim Test auf Heteroskedastizität"
   ]
  },
  {
   "cell_type": "markdown",
   "id": "e48765b9",
   "metadata": {},
   "source": [
    "* Die Nullhypothese beim Levene-Test ist \n",
    "\n",
    "> $H_0$:  Die Daten sind homoskedastisch\n",
    "\n",
    "* Ein Hypothesentest \"beweist\" nie die Nullhypothese\n",
    "  * bei starken Indizien dagegen lehnt er sie ab\n",
    "  * bei starken Indizien dafür behält er sie bei\n",
    "  * bei unklaren Indizien behält er sie auch bei "
   ]
  },
  {
   "cell_type": "markdown",
   "id": "a6d6c5bd",
   "metadata": {},
   "source": [
    "* um zu erkennen, ob der Levene-Test Heteroskedastizität überhaupt erkennen kann, wäre eine Poweranalyse für den Levene-Test nötig, das ist aber unrealistisch"
   ]
  },
  {
   "cell_type": "markdown",
   "id": "b2545526",
   "metadata": {},
   "source": [
    "Alternative:\n",
    "\n",
    "👁️ Eyeballing (engl. für \"scharfes Hingucken\")"
   ]
  },
  {
   "cell_type": "code",
   "execution_count": 12,
   "id": "63a32af4",
   "metadata": {},
   "outputs": [
    {
     "data": {
      "text/plain": [
       "4.385826603959623"
      ]
     },
     "execution_count": 12,
     "metadata": {},
     "output_type": "execute_result"
    }
   ],
   "source": [
    "small_dose.std()"
   ]
  },
  {
   "cell_type": "code",
   "execution_count": 13,
   "id": "da80f5c8",
   "metadata": {},
   "outputs": [
    {
     "data": {
      "text/plain": [
       "4.303635091408193"
      ]
     },
     "execution_count": 13,
     "metadata": {},
     "output_type": "execute_result"
    }
   ],
   "source": [
    "medium_dose.std()"
   ]
  },
  {
   "cell_type": "code",
   "execution_count": 14,
   "id": "c091d848",
   "metadata": {},
   "outputs": [
    {
     "data": {
      "text/plain": [
       "3.6785866851278626"
      ]
     },
     "execution_count": 14,
     "metadata": {},
     "output_type": "execute_result"
    }
   ],
   "source": [
    "large_dose.std()"
   ]
  },
  {
   "cell_type": "markdown",
   "id": "8484a9bd",
   "metadata": {},
   "source": [
    "dagegen"
   ]
  },
  {
   "cell_type": "code",
   "execution_count": 16,
   "id": "e0d7c900",
   "metadata": {},
   "outputs": [
    {
     "data": {
      "text/plain": [
       "0.07968061244744527"
      ]
     },
     "execution_count": 16,
     "metadata": {},
     "output_type": "execute_result"
    }
   ],
   "source": [
    "a.std()"
   ]
  },
  {
   "cell_type": "code",
   "execution_count": 17,
   "id": "f634569e",
   "metadata": {},
   "outputs": [
    {
     "data": {
      "text/plain": [
       "0.3430233228222244"
      ]
     },
     "execution_count": 17,
     "metadata": {},
     "output_type": "execute_result"
    }
   ],
   "source": [
    "b.std()"
   ]
  },
  {
   "cell_type": "code",
   "execution_count": 18,
   "id": "e5fcd6dd",
   "metadata": {},
   "outputs": [
    {
     "data": {
      "text/plain": [
       "0.08944830909525346"
      ]
     },
     "execution_count": 18,
     "metadata": {},
     "output_type": "execute_result"
    }
   ],
   "source": [
    "c.std()"
   ]
  },
  {
   "cell_type": "markdown",
   "id": "bf0c3389",
   "metadata": {},
   "source": [
    "Passende Bilder:"
   ]
  },
  {
   "cell_type": "code",
   "execution_count": 37,
   "id": "5e89ca0e",
   "metadata": {},
   "outputs": [],
   "source": [
    "df1 = pd.DataFrame()\n",
    "df1['standard'] = [small_dose.std(), medium_dose.std(), large_dose.std()]"
   ]
  },
  {
   "cell_type": "code",
   "execution_count": 38,
   "id": "a1f8a1c2",
   "metadata": {},
   "outputs": [
    {
     "data": {
      "text/plain": [
       "<Axes: ylabel='standard'>"
      ]
     },
     "execution_count": 38,
     "metadata": {},
     "output_type": "execute_result"
    },
    {
     "data": {
      "image/png": "[encoded data removed]",
      "text/plain": [
       "<Figure size 640x480 with 1 Axes>"
      ]
     },
     "metadata": {},
     "output_type": "display_data"
    }
   ],
   "source": [
    "sns.scatterplot(x = np.arange(3), y = df1.standard)"
   ]
  },
  {
   "cell_type": "markdown",
   "id": "726ceb94",
   "metadata": {},
   "source": [
    "## Einschub:  Lügen mit Statistik"
   ]
  },
  {
   "cell_type": "code",
   "execution_count": 51,
   "id": "49ac362a",
   "metadata": {},
   "outputs": [
    {
     "data": {
      "image/png": "[encoded data removed]",
      "text/plain": [
       "<Figure size 640x480 with 1 Axes>"
      ]
     },
     "metadata": {},
     "output_type": "display_data"
    }
   ],
   "source": [
    "ax = sns.scatterplot(x=['klein', 'mittel', 'groß'], y=df1.standard)\n",
    "ax.set_ylim(0,5);"
   ]
  },
  {
   "cell_type": "code",
   "execution_count": 52,
   "id": "25209474",
   "metadata": {},
   "outputs": [
    {
     "data": {
      "image/png": "[encoded data removed]",
      "text/plain": [
       "<Figure size 640x480 with 1 Axes>"
      ]
     },
     "metadata": {},
     "output_type": "display_data"
    }
   ],
   "source": [
    "df2 = pd.DataFrame()\n",
    "df2['standard'] = [a.std(), b.std(), c.std()]\n",
    "ax = sns.scatterplot(x=['a', 'b', 'c'], y = df2.standard)\n",
    "ax.set_ylim((0, 0.4));"
   ]
  },
  {
   "cell_type": "markdown",
   "id": "7aa1eeba",
   "metadata": {},
   "source": [
    "Alternativen zum Levene-Test\n",
    "\n",
    "* Bartlett-Test `stats.bartlett` (wenn völlig klar ist, dass die Daten normalverteilt sind)\n",
    "* Brown-Forsyth-Test `stats.levene` mit `center=trimmed` (ähnlich`zum Levene-Test)\n",
    "* Fligner-Test `stats.fligner` (nicht-parametrisch)"
   ]
  },
  {
   "cell_type": "markdown",
   "id": "11b3981d",
   "metadata": {},
   "source": [
    "# Alexander-Govern-Test"
   ]
  },
  {
   "cell_type": "markdown",
   "id": "97a0d47d",
   "metadata": {},
   "source": [
    "Wenn die Daten heteroskedastisch, aber normalverteilt sind, dann rechnet man einen Alexander-Govern-Test"
   ]
  },
  {
   "cell_type": "code",
   "execution_count": 54,
   "id": "baf55f73",
   "metadata": {},
   "outputs": [
    {
     "data": {
      "text/plain": [
       "AlexanderGovernResult(statistic=1.179163509321826, pvalue=0.5545591780284402)"
      ]
     },
     "execution_count": 54,
     "metadata": {},
     "output_type": "execute_result"
    }
   ],
   "source": [
    "stats.alexandergovern(a, b, c)"
   ]
  },
  {
   "cell_type": "code",
   "execution_count": 55,
   "id": "24b67485",
   "metadata": {},
   "outputs": [
    {
     "data": {
      "text/plain": [
       "AlexanderGovernResult(statistic=56.82538049315831, pvalue=4.57641509985116e-13)"
      ]
     },
     "execution_count": 55,
     "metadata": {},
     "output_type": "execute_result"
    }
   ],
   "source": [
    "stats.alexandergovern(small_dose, medium_dose, large_dose)"
   ]
  },
  {
   "cell_type": "markdown",
   "id": "507e71e7",
   "metadata": {},
   "source": [
    "# Post-hoc Analyse"
   ]
  },
  {
   "cell_type": "markdown",
   "id": "cdbef7a2",
   "metadata": {},
   "source": [
    "* Der t-Test kann nur gerechnet werden, wenn die Varianzen der zu vergleichenden Datensätze übereinstimmen\n",
    "* Im heteroskedastischen Fall stimmt das nicht\n",
    "* Man rechnet dann einen Welch-Test\n",
    "* In scipy ist der Welch-Test wie folgt implementiert"
   ]
  },
  {
   "cell_type": "code",
   "execution_count": 56,
   "id": "83ba801d",
   "metadata": {},
   "outputs": [
    {
     "data": {
      "text/plain": [
       "TtestResult(statistic=-0.4600231174261142, pvalue=0.6553699947302372, df=9.968429307411702)"
      ]
     },
     "execution_count": 56,
     "metadata": {},
     "output_type": "execute_result"
    }
   ],
   "source": [
    "stats.ttest_ind(a, b, equal_var=False)"
   ]
  },
  {
   "cell_type": "markdown",
   "id": "6a4d1da5",
   "metadata": {},
   "source": [
    "* Problem:  Arbeitet nicht mit `MultiComparison` zusammen"
   ]
  },
  {
   "cell_type": "code",
   "execution_count": 58,
   "id": "7b9329d2",
   "metadata": {},
   "outputs": [],
   "source": [
    "# unser erstes Programm\n",
    "\n",
    "def welch(x, y):\n",
    "    return stats.ttest_ind(x, y, equal_var=False)"
   ]
  },
  {
   "cell_type": "code",
   "execution_count": 59,
   "id": "1112f95b",
   "metadata": {},
   "outputs": [],
   "source": [
    "from statsmodels.sandbox.stats.multicomp import MultiComparison"
   ]
  },
  {
   "cell_type": "code",
   "execution_count": null,
   "id": "d457f373",
   "metadata": {},
   "outputs": [],
   "source": [
    "muc = MultiComparison()"
   ]
  },
  {
   "cell_type": "code",
   "execution_count": null,
   "id": "e2cab8dd",
   "metadata": {},
   "outputs": [],
   "source": []
  }
 ],
 "metadata": {
  "celltoolbar": "Slideshow",
  "kernelspec": {
   "display_name": "Python 3 (ipykernel)",
   "language": "python",
   "name": "python3"
  },
  "language_info": {
   "codemirror_mode": {
    "name": "ipython",
    "version": 3
   },
   "file_extension": ".py",
   "mimetype": "text/x-python",
   "name": "python",
   "nbconvert_exporter": "python",
   "pygments_lexer": "ipython3",
   "version": "3.11.5"
  }
 },
 "nbformat": 4,
 "nbformat_minor": 5
}
