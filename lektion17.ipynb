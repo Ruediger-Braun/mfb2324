{
 "cells": [
  {
   "cell_type": "markdown",
   "id": "97e910de",
   "metadata": {
    "slideshow": {
     "slide_type": "slide"
    }
   },
   "source": [
    "# Mathematik für Biologiestudierende II\n",
    "\n",
    "Sommersemester 2024\n",
    "\n",
    "07.04.2024\n",
    "\n",
    "&copy; 2024 Prof. Dr. Rüdiger W. Braun "
   ]
  },
  {
   "cell_type": "code",
   "execution_count": null,
   "id": "a56ebe0f",
   "metadata": {
    "slideshow": {
     "slide_type": "slide"
    }
   },
   "outputs": [],
   "source": [
    "import numpy as np\n",
    "import pandas as pd\n",
    "from scipy import stats\n",
    "import seaborn as sns\n",
    "sns.set_theme()"
   ]
  },
  {
   "cell_type": "markdown",
   "id": "0c6b65c5",
   "metadata": {
    "slideshow": {
     "slide_type": "slide"
    }
   },
   "source": [
    "# Heteroskedastizität"
   ]
  },
  {
   "cell_type": "markdown",
   "id": "244420b7",
   "metadata": {
    "slideshow": {
     "slide_type": "slide"
    }
   },
   "source": [
    "* Die ANOVA vergleicht die Varianzen innerhalb der einzelnen Gruppen mit der Varianz im gesamten Datensatz, um die Unterschiede zwischen den Gruppen zu untersuchen\n",
    "* À priori geht das erstmal nur, wenn die Varianzen innerhalb der Gruppen gleich sind"
   ]
  },
  {
   "cell_type": "markdown",
   "id": "e66a45c4",
   "metadata": {},
   "source": [
    "* Ein Datensatz ist *heteroskedastisch*, wenn die verschiedenen Gruppen unterschiedlich Varianz haben"
   ]
  },
  {
   "cell_type": "markdown",
   "id": "0c90d93b",
   "metadata": {
    "slideshow": {
     "slide_type": "slide"
    }
   },
   "source": [
    "# Der Levene-Test"
   ]
  },
  {
   "cell_type": "markdown",
   "id": "69c16c7c",
   "metadata": {
    "slideshow": {
     "slide_type": "fragment"
    }
   },
   "source": [
    "Der Levene-Test testet auf Gleichheit der Varianzen"
   ]
  },
  {
   "cell_type": "markdown",
   "id": "dcaffbb4",
   "metadata": {},
   "source": [
    "Beispiel:  Meerschweinchenzähne\n",
    "\n",
    "* Drei Gruppen von Meerschweinchen, je nach täglicher Gabe an Vitamin C\n",
    "  * kleine Dosis\n",
    "  * mittlerer Dosis\n",
    "  * große Dosis\n",
    "* Nach 42 Tagen wird die Zahnlänge bestimmt\n",
    "\n",
    "Quelle: The Statistics of Bioassay"
   ]
  },
  {
   "cell_type": "code",
   "execution_count": null,
   "id": "5e8a2bd6",
   "metadata": {
    "slideshow": {
     "slide_type": "slide"
    }
   },
   "outputs": [],
   "source": [
    "small_dose = np.array([\n",
    "    4.2, 11.5, 7.3, 5.8, 6.4, 10, 11.2, 11.2, 5.2, 7,\n",
    "    15.2, 21.5, 17.6, 9.7, 14.5, 10, 8.2, 9.4, 16.5, 9.7\n",
    "])\n",
    "\n",
    "medium_dose = np.array([\n",
    "    16.5, 16.5, 15.2, 17.3, 22.5, 17.3, 13.6, 14.5, 18.8, 15.5,\n",
    "    19.7, 23.3, 23.6, 26.4, 20, 25.2, 25.8, 21.2, 14.5, 27.3\n",
    "])\n",
    "\n",
    "large_dose = np.array([\n",
    "    23.6, 18.5, 33.9, 25.5, 26.4, 32.5, 26.7, 21.5, 23.3, 29.5,\n",
    "    25.5, 26.4, 22.4, 24.5, 24.8, 30.9, 26.4, 27.3, 29.4, 23\n",
    "])"
   ]
  },
  {
   "cell_type": "markdown",
   "id": "dcc68e06",
   "metadata": {
    "slideshow": {
     "slide_type": "slide"
    }
   },
   "source": [
    "Test auf Heteroskedastizität"
   ]
  },
  {
   "cell_type": "code",
   "execution_count": null,
   "id": "aad042aa",
   "metadata": {},
   "outputs": [],
   "source": [
    "stats.levene(small_dose, medium_dose, large_dose)"
   ]
  },
  {
   "cell_type": "markdown",
   "id": "84133dd9",
   "metadata": {
    "slideshow": {
     "slide_type": "fragment"
    }
   },
   "source": [
    "* Der p-Wert ist 0.53.  Hetereskedastizizät kann nicht nachgewiesen werden."
   ]
  },
  {
   "cell_type": "markdown",
   "id": "41bdd5f4",
   "metadata": {},
   "source": [
    "* Wir fahren mit der ANOVA fort"
   ]
  },
  {
   "cell_type": "code",
   "execution_count": null,
   "id": "248d0362",
   "metadata": {
    "slideshow": {
     "slide_type": "slide"
    }
   },
   "outputs": [],
   "source": [
    "stats.f_oneway(small_dose, medium_dose, large_dose)"
   ]
  },
  {
   "cell_type": "markdown",
   "id": "67ec725d",
   "metadata": {},
   "source": [
    "* Gabe von Vitamin C hat Einfluss auf das Zahnwachstum\n",
    "* Als nächstes würde man eine post-hoc Analyse machen"
   ]
  },
  {
   "cell_type": "markdown",
   "id": "27c80023",
   "metadata": {
    "slideshow": {
     "slide_type": "slide"
    }
   },
   "source": [
    "Dasselbe für den Taxi-Datensatz"
   ]
  },
  {
   "cell_type": "code",
   "execution_count": null,
   "id": "bd7ff1fd",
   "metadata": {},
   "outputs": [],
   "source": [
    "df = sns.load_dataset('taxis')\n",
    "dm = df[df.dropoff_borough=='Manhattan'].tip\n",
    "dx = df[df.dropoff_borough=='Bronx'].tip\n",
    "dq = df[df.dropoff_borough=='Queens'].tip\n",
    "db = df[df.dropoff_borough=='Brooklyn'].tip"
   ]
  },
  {
   "cell_type": "code",
   "execution_count": null,
   "id": "bfb792fa",
   "metadata": {
    "slideshow": {
     "slide_type": "slide"
    }
   },
   "outputs": [],
   "source": [
    "stats.levene(dm, dx, dq, db)"
   ]
  },
  {
   "cell_type": "raw",
   "id": "ab0ef0e7",
   "metadata": {},
   "source": [
    "Was bedeutet das wirklich?"
   ]
  },
  {
   "cell_type": "markdown",
   "id": "bdee2b90",
   "metadata": {
    "slideshow": {
     "slide_type": "slide"
    }
   },
   "source": [
    "# Probleme beim Test auf Heteroskedastizität"
   ]
  },
  {
   "cell_type": "markdown",
   "id": "e48765b9",
   "metadata": {
    "slideshow": {
     "slide_type": "fragment"
    }
   },
   "source": [
    "* Die Nullhypothese beim Levene-Test ist \n",
    "\n",
    "> $H_0$:  Die Daten sind homoskedastisch\n",
    "\n",
    "* Ein Hypothesentest \"beweist\" nie die Nullhypothese\n",
    "  * bei starken Indizien dagegen lehnt er sie ab\n",
    "  * bei starken Indizien dafür behält er sie bei\n",
    "  * bei unklaren Indizien behält er sie auch bei "
   ]
  },
  {
   "cell_type": "markdown",
   "id": "a6d6c5bd",
   "metadata": {
    "slideshow": {
     "slide_type": "fragment"
    }
   },
   "source": [
    "* um zu erkennen, ob der Levene-Test Heteroskedastizität überhaupt erkennen kann, wäre eine Poweranalyse für den Levene-Test nötig, das ist aber unrealistisch"
   ]
  },
  {
   "cell_type": "markdown",
   "id": "414ea701",
   "metadata": {},
   "source": [
    "* auch das andere Extrem ist möglich:  Der Stichprobenumfang ist so groß, dass kleine Unterschiede schon signifikant werden"
   ]
  },
  {
   "cell_type": "markdown",
   "id": "b2545526",
   "metadata": {
    "slideshow": {
     "slide_type": "slide"
    }
   },
   "source": [
    "Alternative:\n",
    "\n",
    "👁️ Eyeballing (engl. für \"scharfes Hingucken\")"
   ]
  },
  {
   "cell_type": "code",
   "execution_count": null,
   "id": "63a32af4",
   "metadata": {
    "slideshow": {
     "slide_type": "slide"
    }
   },
   "outputs": [],
   "source": [
    "small_dose.std()"
   ]
  },
  {
   "cell_type": "code",
   "execution_count": null,
   "id": "da80f5c8",
   "metadata": {},
   "outputs": [],
   "source": [
    "medium_dose.std()"
   ]
  },
  {
   "cell_type": "code",
   "execution_count": null,
   "id": "c091d848",
   "metadata": {},
   "outputs": [],
   "source": [
    "large_dose.std()"
   ]
  },
  {
   "cell_type": "markdown",
   "id": "198ba470",
   "metadata": {
    "slideshow": {
     "slide_type": "slide"
    }
   },
   "source": [
    "Für die Taxis:"
   ]
  },
  {
   "cell_type": "code",
   "execution_count": null,
   "id": "f30574f9",
   "metadata": {},
   "outputs": [],
   "source": [
    "dm.std()"
   ]
  },
  {
   "cell_type": "code",
   "execution_count": null,
   "id": "4ab6713e",
   "metadata": {},
   "outputs": [],
   "source": [
    "dq.std()"
   ]
  },
  {
   "cell_type": "code",
   "execution_count": null,
   "id": "2d47e268",
   "metadata": {},
   "outputs": [],
   "source": [
    "dx.std()"
   ]
  },
  {
   "cell_type": "code",
   "execution_count": null,
   "id": "f638ca36",
   "metadata": {},
   "outputs": [],
   "source": [
    "db.std()"
   ]
  },
  {
   "cell_type": "markdown",
   "id": "1849471b",
   "metadata": {
    "slideshow": {
     "slide_type": "slide"
    }
   },
   "source": [
    "Passende Bilder:"
   ]
  },
  {
   "cell_type": "code",
   "execution_count": null,
   "id": "5cbd7d73",
   "metadata": {},
   "outputs": [],
   "source": [
    "df1 = pd.DataFrame()\n",
    "df1['standard'] = [small_dose.std(), medium_dose.std(), large_dose.std()]"
   ]
  },
  {
   "cell_type": "code",
   "execution_count": null,
   "id": "728519e8",
   "metadata": {
    "slideshow": {
     "slide_type": "slide"
    }
   },
   "outputs": [],
   "source": [
    "sns.scatterplot(x = np.arange(3), y = df1.standard);"
   ]
  },
  {
   "cell_type": "markdown",
   "id": "72ccc91b",
   "metadata": {
    "slideshow": {
     "slide_type": "slide"
    }
   },
   "source": [
    "## Einschub:  Lügen mit Statistik"
   ]
  },
  {
   "cell_type": "code",
   "execution_count": null,
   "id": "aecba36c",
   "metadata": {
    "slideshow": {
     "slide_type": "slide"
    }
   },
   "outputs": [],
   "source": [
    "ax = sns.scatterplot(x=['klein', 'mittel', 'groß'], y=df1.standard)\n",
    "ax.set_ylim(0,5);"
   ]
  },
  {
   "cell_type": "code",
   "execution_count": null,
   "id": "095093f8",
   "metadata": {
    "slideshow": {
     "slide_type": "slide"
    }
   },
   "outputs": [],
   "source": [
    "df2 = pd.DataFrame()\n",
    "df2['standard'] = [dm.std(), db.std(), dx.std(), dq.std()]\n",
    "ax = sns.scatterplot(x=['Manhattan', 'Brooklyn', 'Bronx', 'Queens'], y = df2.standard)\n",
    "ax.set_ylim((0, 4));"
   ]
  },
  {
   "cell_type": "markdown",
   "id": "4efa9fc5",
   "metadata": {
    "slideshow": {
     "slide_type": "fragment"
    }
   },
   "source": [
    "Grenzwertig"
   ]
  },
  {
   "cell_type": "markdown",
   "id": "7aa1eeba",
   "metadata": {
    "slideshow": {
     "slide_type": "slide"
    }
   },
   "source": [
    "Alternativen zum Levene-Test\n",
    "\n",
    "* Bartlett-Test `stats.bartlett` (wenn völlig klar ist, dass die Daten normalverteilt sind)\n",
    "* Brown-Forsyth-Test `stats.levene` mit `center=trimmed` (ähnlich`zum Levene-Test)\n",
    "* Fligner-Test `stats.fligner` (nicht-parametrisch)"
   ]
  },
  {
   "cell_type": "markdown",
   "id": "faa72f3b",
   "metadata": {
    "slideshow": {
     "slide_type": "slide"
    }
   },
   "source": [
    "# Alexander-Govern-Test"
   ]
  },
  {
   "cell_type": "markdown",
   "id": "778967e1",
   "metadata": {},
   "source": [
    "Wenn die Daten heteroskedastisch, aber normalverteilt sind, dann rechnet man einen Alexander-Govern-Test"
   ]
  },
  {
   "cell_type": "code",
   "execution_count": null,
   "id": "a3003039",
   "metadata": {
    "slideshow": {
     "slide_type": "slide"
    }
   },
   "outputs": [],
   "source": [
    "stats.alexandergovern(small_dose, medium_dose, large_dose)"
   ]
  },
  {
   "cell_type": "code",
   "execution_count": null,
   "id": "d5b7a4d5",
   "metadata": {
    "slideshow": {
     "slide_type": "fragment"
    }
   },
   "outputs": [],
   "source": [
    "stats.alexandergovern(dm, dq, dx, db)"
   ]
  },
  {
   "cell_type": "markdown",
   "id": "2245fed0",
   "metadata": {
    "slideshow": {
     "slide_type": "slide"
    }
   },
   "source": [
    "# Post-hoc Analyse"
   ]
  },
  {
   "cell_type": "markdown",
   "id": "3ca05852",
   "metadata": {
    "slideshow": {
     "slide_type": "fragment"
    }
   },
   "source": [
    "* Der t-Test kann nur gerechnet werden, wenn die Varianzen der zu vergleichenden Datensätze übereinstimmen\n",
    "* Im heteroskedastischen Fall stimmt das nicht\n",
    "* Man rechnet dann einen Welch-Test\n",
    "* In scipy ist der Welch-Test wie folgt implementiert"
   ]
  },
  {
   "cell_type": "code",
   "execution_count": null,
   "id": "83ba801d",
   "metadata": {},
   "outputs": [],
   "source": [
    "stats.ttest_ind(a, b, equal_var=False)"
   ]
  },
  {
   "cell_type": "markdown",
   "id": "b4694720",
   "metadata": {
    "slideshow": {
     "slide_type": "fragment"
    }
   },
   "source": [
    "* Problem:  Arbeitet nicht mit `MultiComparison` zusammen"
   ]
  },
  {
   "cell_type": "code",
   "execution_count": null,
   "id": "7b9329d2",
   "metadata": {
    "slideshow": {
     "slide_type": "slide"
    }
   },
   "outputs": [],
   "source": [
    "# unser erstes Programm\n",
    "\n",
    "def welch(x, y):\n",
    "    return stats.ttest_ind(x, y, equal_var=False)"
   ]
  },
  {
   "cell_type": "code",
   "execution_count": null,
   "id": "1112f95b",
   "metadata": {
    "slideshow": {
     "slide_type": "slide"
    }
   },
   "outputs": [],
   "source": [
    "from statsmodels.sandbox.stats.multicomp import MultiComparison"
   ]
  },
  {
   "cell_type": "code",
   "execution_count": null,
   "id": "57401c91",
   "metadata": {},
   "outputs": [],
   "source": [
    "df_dropped = df.dropna()"
   ]
  },
  {
   "cell_type": "code",
   "execution_count": null,
   "id": "d457f373",
   "metadata": {},
   "outputs": [],
   "source": [
    "muc = MultiComparison(df_dropped.tip, df_dropped.dropoff_borough)"
   ]
  },
  {
   "cell_type": "code",
   "execution_count": null,
   "id": "e2cab8dd",
   "metadata": {
    "slideshow": {
     "slide_type": "slide"
    }
   },
   "outputs": [],
   "source": [
    "muc.allpairtest(welch, method='holm')[0]"
   ]
  },
  {
   "cell_type": "markdown",
   "id": "fc70740a",
   "metadata": {},
   "source": [
    "Normalverteilt sind die Trinkgelder leider auch nicht:\n",
    "\n",
    "Auch der Alexander-Govern-Test ist nicht gerechtfertigt"
   ]
  },
  {
   "cell_type": "code",
   "execution_count": null,
   "id": "d9b12eac",
   "metadata": {},
   "outputs": [],
   "source": []
  }
 ],
 "metadata": {
  "celltoolbar": "Slideshow",
  "kernelspec": {
   "display_name": "Python 3 (ipykernel)",
   "language": "python",
   "name": "python3"
  },
  "language_info": {
   "codemirror_mode": {
    "name": "ipython",
    "version": 3
   },
   "file_extension": ".py",
   "mimetype": "text/x-python",
   "name": "python",
   "nbconvert_exporter": "python",
   "pygments_lexer": "ipython3",
   "version": "3.11.5"
  }
 },
 "nbformat": 4,
 "nbformat_minor": 5
}
