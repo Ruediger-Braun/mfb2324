{
 "cells": [
  {
   "cell_type": "markdown",
   "id": "97e910de",
   "metadata": {
    "slideshow": {
     "slide_type": "slide"
    }
   },
   "source": [
    "# Mathematik für Biologiestudierende II\n",
    "\n",
    "Sommersemester 2024\n",
    "\n",
    "23.04.2024\n",
    "\n",
    "&copy; 2024 Prof. Dr. Rüdiger W. Braun "
   ]
  },
  {
   "cell_type": "code",
   "execution_count": 1,
   "id": "a56ebe0f",
   "metadata": {
    "slideshow": {
     "slide_type": "slide"
    }
   },
   "outputs": [],
   "source": [
    "import numpy as np\n",
    "import pandas as pd\n",
    "from scipy import stats\n",
    "import seaborn as sns\n",
    "sns.set_theme()"
   ]
  },
  {
   "cell_type": "markdown",
   "id": "20d7966d",
   "metadata": {
    "slideshow": {
     "slide_type": "slide"
    }
   },
   "source": [
    "# Data Snooping"
   ]
  },
  {
   "cell_type": "markdown",
   "id": "7b0eff27",
   "metadata": {
    "slideshow": {
     "slide_type": "fragment"
    }
   },
   "source": [
    "* \"Snooping\" = \"Schnüffeln\"\n",
    "* Data Snooping bedeutet, dass man den Test für dieselben Daten rechnet, die man auch für die Formulierung der Hypothese benutzt hat "
   ]
  },
  {
   "cell_type": "markdown",
   "id": "31c54d7a",
   "metadata": {
    "slideshow": {
     "slide_type": "slide"
    }
   },
   "source": [
    "* Jemand stellt fest, dass in einer Stadt von 50 Neugeborenen 35 weiblich sind.\n",
    "* Wir machen den entsprechenden Binomialtest"
   ]
  },
  {
   "cell_type": "code",
   "execution_count": 2,
   "id": "949c1b41",
   "metadata": {},
   "outputs": [
    {
     "data": {
      "text/plain": [
       "BinomTestResult(k=35, n=50, alternative='two-sided', statistic=0.7, pvalue=0.006600447966810918)"
      ]
     },
     "execution_count": 2,
     "metadata": {},
     "output_type": "execute_result"
    }
   ],
   "source": [
    "stats.binomtest(35, 50)"
   ]
  },
  {
   "cell_type": "markdown",
   "id": "6156abef",
   "metadata": {
    "slideshow": {
     "slide_type": "fragment"
    }
   },
   "source": [
    "* Die Nullhypothese, dass die Wahrscheinlichkeiten von Jungs- und Mädchengeburten gleich sind, kann abgelehnt werden.  Der $p$-Wert beträgt $0.0066$"
   ]
  },
  {
   "cell_type": "markdown",
   "id": "1d7c8a38",
   "metadata": {},
   "source": [
    "* Was bedeutet das?"
   ]
  },
  {
   "cell_type": "markdown",
   "id": "0991f9ae",
   "metadata": {
    "slideshow": {
     "slide_type": "slide"
    }
   },
   "source": [
    "### Szenario 1\n",
    "\n",
    "* *Theorie:* Bekanntlich werden die Babies von den Weißstörchen gebracht.  Eine neue Theorie besagt, dass Schwarzstörche das zwar auch tun, aber nicht im korrekten Geschlechterverhältnis.\n",
    "* *Vorgehen:* Die Forscher wählen daher einen Ort mit einer großen Population an Schwarzstörchen aus und untersuchen dort das Verhältnis von Mädchen- zu Jungsgeburten.\n",
    "* *Bewertung:* Wenn dort das Zahlenverhältnis 35:15 beträgt, ist die Theorie zum Signifikanzniveau $p = 0.0066$ bestätigt."
   ]
  },
  {
   "cell_type": "markdown",
   "id": "4539cd44",
   "metadata": {
    "slideshow": {
     "slide_type": "slide"
    }
   },
   "source": [
    "## Szenario 2\n",
    "\n",
    "* *Theorie:* Keine.  Man will bloss mal gucken.\n",
    "* *Vorgehen:* In 100 Gemeinden mit mehr als 50 Geburten wird das Verhältnis zwischen Mädchen- und Jungsgeburten untersucht. Tatsächlich findet sich eine Gemeinde mit dem Zahlenverhältnis 35:15\n",
    "* *Bewertung:* Das ist **Data Snooping**, weil die Hypothese aus denselben Daten generiert worden ist, mit denen anschließend der Test gerechnet wird."
   ]
  },
  {
   "cell_type": "markdown",
   "id": "dec74e6f",
   "metadata": {
    "slideshow": {
     "slide_type": "slide"
    }
   },
   "source": [
    "# ANOVA"
   ]
  },
  {
   "cell_type": "markdown",
   "id": "2e41c165",
   "metadata": {
    "slideshow": {
     "slide_type": "slide"
    }
   },
   "source": [
    "* ANOVA: Analysis of Variance\n",
    "* Ziel: Vergleich bei Vorliegen von mehr als zwei Gruppen\n"
   ]
  },
  {
   "cell_type": "markdown",
   "id": "c930b98f",
   "metadata": {
    "slideshow": {
     "slide_type": "fragment"
    }
   },
   "source": [
    "Welche Daten hat man?\n",
    "\n",
    "* Eine Zielvariable.  Das ist die kontinuierliche Größe, die gemessen wird.\n",
    "* Ein oder zwei Faktoren.  Das sind kategorielle (also qualitative oder diskrete quantitative) Größen, von denen man nachweisen will, dass sie die Zielvariable beeinflussen"
   ]
  },
  {
   "cell_type": "markdown",
   "id": "00092f18",
   "metadata": {
    "slideshow": {
     "slide_type": "slide"
    }
   },
   "source": [
    "### Beispiel Schadstoffkonzentration"
   ]
  },
  {
   "cell_type": "markdown",
   "id": "45c8bb1e",
   "metadata": {},
   "source": [
    "* An fünf verschiedenen Messstellen wurde die Konzentration eines Schadstoffs gemessen\n",
    "* Hat die Messstelle einen Einfluss auf die Konzentration?"
   ]
  },
  {
   "cell_type": "markdown",
   "id": "9f7b4159",
   "metadata": {
    "slideshow": {
     "slide_type": "fragment"
    }
   },
   "source": [
    "* Die Messstelle ist der Faktor\n",
    "* Die Konzentration ist die Zielvariable"
   ]
  },
  {
   "cell_type": "markdown",
   "id": "a320f61f",
   "metadata": {
    "slideshow": {
     "slide_type": "fragment"
    }
   },
   "source": [
    "* Wir haben also nur einen Faktor: *Einfaktorielle ANOVA*"
   ]
  },
  {
   "cell_type": "code",
   "execution_count": 14,
   "id": "52875c7a",
   "metadata": {
    "slideshow": {
     "slide_type": "slide"
    }
   },
   "outputs": [
    {
     "data": {
      "text/html": [
       "<div>\n",
       "<style scoped>\n",
       "    .dataframe tbody tr th:only-of-type {\n",
       "        vertical-align: middle;\n",
       "    }\n",
       "\n",
       "    .dataframe tbody tr th {\n",
       "        vertical-align: top;\n",
       "    }\n",
       "\n",
       "    .dataframe thead th {\n",
       "        text-align: right;\n",
       "    }\n",
       "</style>\n",
       "<table border=\"1\" class=\"dataframe\">\n",
       "  <thead>\n",
       "    <tr style=\"text-align: right;\">\n",
       "      <th></th>\n",
       "      <th>Messstelle</th>\n",
       "      <th>Konzentration</th>\n",
       "    </tr>\n",
       "  </thead>\n",
       "  <tbody>\n",
       "    <tr>\n",
       "      <th>0</th>\n",
       "      <td>5</td>\n",
       "      <td>0.000867</td>\n",
       "    </tr>\n",
       "    <tr>\n",
       "      <th>1</th>\n",
       "      <td>3</td>\n",
       "      <td>0.000490</td>\n",
       "    </tr>\n",
       "    <tr>\n",
       "      <th>2</th>\n",
       "      <td>1</td>\n",
       "      <td>0.000589</td>\n",
       "    </tr>\n",
       "    <tr>\n",
       "      <th>3</th>\n",
       "      <td>1</td>\n",
       "      <td>0.000950</td>\n",
       "    </tr>\n",
       "    <tr>\n",
       "      <th>4</th>\n",
       "      <td>4</td>\n",
       "      <td>0.001152</td>\n",
       "    </tr>\n",
       "    <tr>\n",
       "      <th>...</th>\n",
       "      <td>...</td>\n",
       "      <td>...</td>\n",
       "    </tr>\n",
       "    <tr>\n",
       "      <th>75</th>\n",
       "      <td>5</td>\n",
       "      <td>0.000918</td>\n",
       "    </tr>\n",
       "    <tr>\n",
       "      <th>76</th>\n",
       "      <td>3</td>\n",
       "      <td>0.000528</td>\n",
       "    </tr>\n",
       "    <tr>\n",
       "      <th>77</th>\n",
       "      <td>3</td>\n",
       "      <td>0.000961</td>\n",
       "    </tr>\n",
       "    <tr>\n",
       "      <th>78</th>\n",
       "      <td>4</td>\n",
       "      <td>0.001272</td>\n",
       "    </tr>\n",
       "    <tr>\n",
       "      <th>79</th>\n",
       "      <td>3</td>\n",
       "      <td>0.001012</td>\n",
       "    </tr>\n",
       "  </tbody>\n",
       "</table>\n",
       "<p>80 rows × 2 columns</p>\n",
       "</div>"
      ],
      "text/plain": [
       "    Messstelle  Konzentration\n",
       "0            5       0.000867\n",
       "1            3       0.000490\n",
       "2            1       0.000589\n",
       "3            1       0.000950\n",
       "4            4       0.001152\n",
       "..         ...            ...\n",
       "75           5       0.000918\n",
       "76           3       0.000528\n",
       "77           3       0.000961\n",
       "78           4       0.001272\n",
       "79           3       0.001012\n",
       "\n",
       "[80 rows x 2 columns]"
      ]
     },
     "execution_count": 14,
     "metadata": {},
     "output_type": "execute_result"
    }
   ],
   "source": [
    "u_schad = \"https://www.math.uni-duesseldorf.de/~braun/bio2324/data/schadstoffe.csv\"\n",
    "df = pd.read_csv(u_schad, index_col=0)\n",
    "df"
   ]
  },
  {
   "cell_type": "code",
   "execution_count": 4,
   "id": "018fc411",
   "metadata": {
    "slideshow": {
     "slide_type": "slide"
    }
   },
   "outputs": [
    {
     "data": {
      "text/plain": [
       "Messstelle\n",
       "4    19\n",
       "1    17\n",
       "3    16\n",
       "5    14\n",
       "2    14\n",
       "Name: count, dtype: int64"
      ]
     },
     "execution_count": 4,
     "metadata": {},
     "output_type": "execute_result"
    }
   ],
   "source": [
    "df.Messstelle.value_counts()"
   ]
  },
  {
   "cell_type": "markdown",
   "id": "9fd37d17",
   "metadata": {
    "slideshow": {
     "slide_type": "fragment"
    }
   },
   "source": [
    "* Der Faktor nimmt 5 Werte an:  Wir haben 5 Gruppen\n",
    "* wir müssen sie mit `pandas` trennen"
   ]
  },
  {
   "cell_type": "code",
   "execution_count": 5,
   "id": "393de61b",
   "metadata": {
    "slideshow": {
     "slide_type": "slide"
    }
   },
   "outputs": [
    {
     "data": {
      "text/plain": [
       "2     0.000589\n",
       "3     0.000950\n",
       "13    0.001301\n",
       "14    0.001605\n",
       "18    0.000927\n",
       "22    0.001250\n",
       "28    0.000965\n",
       "33    0.000669\n",
       "41    0.000712\n",
       "42    0.001019\n",
       "45    0.000780\n",
       "54    0.001306\n",
       "61    0.001006\n",
       "64    0.001057\n",
       "65    0.000381\n",
       "70    0.000919\n",
       "74    0.001323\n",
       "Name: Konzentration, dtype: float64"
      ]
     },
     "execution_count": 5,
     "metadata": {},
     "output_type": "execute_result"
    }
   ],
   "source": [
    "g1 = df[df.Messstelle==1].Konzentration\n",
    "g1"
   ]
  },
  {
   "cell_type": "code",
   "execution_count": 6,
   "id": "1723e067",
   "metadata": {
    "slideshow": {
     "slide_type": "slide"
    }
   },
   "outputs": [],
   "source": [
    "g2 = df[df.Messstelle==2].Konzentration\n",
    "g3 = df[df.Messstelle==3].Konzentration\n",
    "g4 = df[df.Messstelle==4].Konzentration\n",
    "g5 = df[df.Messstelle==5].Konzentration"
   ]
  },
  {
   "cell_type": "code",
   "execution_count": 8,
   "id": "776fa910",
   "metadata": {
    "slideshow": {
     "slide_type": "slide"
    }
   },
   "outputs": [
    {
     "data": {
      "text/plain": [
       "F_onewayResult(statistic=0.8666121588849811, pvalue=0.48807057520065544)"
      ]
     },
     "execution_count": 8,
     "metadata": {},
     "output_type": "execute_result"
    }
   ],
   "source": [
    "res = stats.f_oneway(g1, g2, g3, g4, g5)\n",
    "res"
   ]
  },
  {
   "cell_type": "markdown",
   "id": "de58dc42",
   "metadata": {
    "slideshow": {
     "slide_type": "fragment"
    }
   },
   "source": [
    "* Der p-Wert ist 0.5\n",
    "* Die Messstelle hat keinen Einfluss auf die Konzentration"
   ]
  },
  {
   "cell_type": "markdown",
   "id": "9969c8a3",
   "metadata": {
    "slideshow": {
     "slide_type": "slide"
    }
   },
   "source": [
    "Welche Verteilung benutzt dieser Test?\n",
    "\n",
    "* Die F-Verteilung dient zum Vergleich zweier Varianzen\n",
    "* Sie hat zwei Parameter:\n",
    "  * bei der einfaktoriellen ANOVA ist der erste Parameter gleich $g-1$, wenn $g$ die Anzahl der Gruppen ist\n",
    "  * und der zweite ist $n-g$, wenn $n$ der Stichprobenumfang ist"
   ]
  },
  {
   "cell_type": "markdown",
   "id": "76609d7a",
   "metadata": {
    "slideshow": {
     "slide_type": "fragment"
    }
   },
   "source": [
    "* Im Beispiel: $g=5$, $n=80$"
   ]
  },
  {
   "cell_type": "code",
   "execution_count": 23,
   "id": "4175da82",
   "metadata": {},
   "outputs": [
    {
     "data": {
      "text/plain": [
       "0.48807057520065544"
      ]
     },
     "execution_count": 23,
     "metadata": {},
     "output_type": "execute_result"
    }
   ],
   "source": [
    "P = stats.f(4, 75)\n",
    "1 - P.cdf(res.statistic)"
   ]
  },
  {
   "cell_type": "markdown",
   "id": "05a71260",
   "metadata": {
    "slideshow": {
     "slide_type": "fragment"
    }
   },
   "source": [
    "Zum Vergleich"
   ]
  },
  {
   "cell_type": "code",
   "execution_count": 21,
   "id": "189ef19f",
   "metadata": {},
   "outputs": [
    {
     "data": {
      "text/plain": [
       "0.48807057520065544"
      ]
     },
     "execution_count": 21,
     "metadata": {},
     "output_type": "execute_result"
    }
   ],
   "source": [
    "res.pvalue"
   ]
  },
  {
   "cell_type": "markdown",
   "id": "394c1df9",
   "metadata": {
    "slideshow": {
     "slide_type": "slide"
    }
   },
   "source": [
    "### Haben unterschiedliche Pinguinarten unterschiedliche Schnabellängen?"
   ]
  },
  {
   "cell_type": "code",
   "execution_count": null,
   "id": "2341aed1",
   "metadata": {
    "slideshow": {
     "slide_type": "fragment"
    }
   },
   "outputs": [],
   "source": [
    "df = sns.load_dataset(\"penguins\") \n",
    "df.head()"
   ]
  },
  {
   "cell_type": "code",
   "execution_count": null,
   "id": "0d4683b2",
   "metadata": {},
   "outputs": [],
   "source": [
    "df.species.value_counts()"
   ]
  },
  {
   "cell_type": "code",
   "execution_count": null,
   "id": "147242a3",
   "metadata": {
    "slideshow": {
     "slide_type": "slide"
    }
   },
   "outputs": [],
   "source": [
    "gA = df[df.species=='Adelie'].bill_length_mm\n",
    "gA"
   ]
  },
  {
   "cell_type": "code",
   "execution_count": null,
   "id": "9672313b",
   "metadata": {
    "slideshow": {
     "slide_type": "slide"
    }
   },
   "outputs": [],
   "source": [
    "gG = df[df.species=='Gentoo'].bill_length_mm\n",
    "gC = df[df.species=='Chinstrap'].bill_length_mm"
   ]
  },
  {
   "cell_type": "code",
   "execution_count": null,
   "id": "11909c6b",
   "metadata": {
    "slideshow": {
     "slide_type": "fragment"
    }
   },
   "outputs": [],
   "source": [
    "stats.f_oneway(gA, gG, gC)"
   ]
  },
  {
   "cell_type": "markdown",
   "id": "91d733a5",
   "metadata": {
    "slideshow": {
     "slide_type": "slide"
    }
   },
   "source": [
    "* Was ist das Problem?\n",
    "* Es gibt Einträge ohne Werte"
   ]
  },
  {
   "cell_type": "code",
   "execution_count": null,
   "id": "96e7c8eb",
   "metadata": {
    "slideshow": {
     "slide_type": "fragment"
    }
   },
   "outputs": [],
   "source": [
    "res = stats.f_oneway(gA.dropna(), gG.dropna(), gC.dropna())"
   ]
  },
  {
   "cell_type": "markdown",
   "id": "9df983a5",
   "metadata": {},
   "source": [
    "Also haben unterschiedliche Pinguinarten unterschiedliche Schnabellängen"
   ]
  },
  {
   "cell_type": "markdown",
   "id": "9d59ae4b",
   "metadata": {
    "slideshow": {
     "slide_type": "slide"
    }
   },
   "source": [
    "## Was hat das mit den Varianzen bzw. Stichprobenstreuungen zu tun?"
   ]
  },
  {
   "cell_type": "code",
   "execution_count": null,
   "id": "0db334f1",
   "metadata": {
    "slideshow": {
     "slide_type": "fragment"
    }
   },
   "outputs": [],
   "source": [
    "df = pd.read_csv(u_schad)\n",
    "df.describe()"
   ]
  },
  {
   "cell_type": "code",
   "execution_count": null,
   "id": "ce00ebd7",
   "metadata": {},
   "outputs": [],
   "source": [
    "g1.std()"
   ]
  },
  {
   "cell_type": "code",
   "execution_count": null,
   "id": "ce4198e1",
   "metadata": {
    "slideshow": {
     "slide_type": "slide"
    }
   },
   "outputs": [],
   "source": [
    "g2.std()"
   ]
  },
  {
   "cell_type": "code",
   "execution_count": null,
   "id": "1d6c92cf",
   "metadata": {},
   "outputs": [],
   "source": [
    "g3.std()"
   ]
  },
  {
   "cell_type": "code",
   "execution_count": null,
   "id": "e5979f0f",
   "metadata": {},
   "outputs": [],
   "source": [
    "g4.std()"
   ]
  },
  {
   "cell_type": "code",
   "execution_count": null,
   "id": "02e79388",
   "metadata": {},
   "outputs": [],
   "source": [
    "g5.std()"
   ]
  },
  {
   "cell_type": "markdown",
   "id": "775400f4",
   "metadata": {},
   "source": [
    "Die Stichprobenstreuung des gesamten Datensatzes ist ungefähr dieselbe wie die jeder einzelnen Gruppe"
   ]
  },
  {
   "cell_type": "code",
   "execution_count": null,
   "id": "52455991",
   "metadata": {
    "slideshow": {
     "slide_type": "slide"
    }
   },
   "outputs": [],
   "source": [
    "sns.scatterplot(df, y='Konzentration', x='Messstelle', hue='Messstelle', legend=False);"
   ]
  },
  {
   "cell_type": "markdown",
   "id": "721dbddc",
   "metadata": {
    "slideshow": {
     "slide_type": "slide"
    }
   },
   "source": [
    "Jetzt dasselbe mit den Pinguinen"
   ]
  },
  {
   "cell_type": "code",
   "execution_count": null,
   "id": "8f59540f",
   "metadata": {},
   "outputs": [],
   "source": [
    "df = sns.load_dataset(\"penguins\")\n",
    "df.describe()"
   ]
  },
  {
   "cell_type": "code",
   "execution_count": null,
   "id": "fce31f4a",
   "metadata": {},
   "outputs": [],
   "source": [
    "gA.std()"
   ]
  },
  {
   "cell_type": "code",
   "execution_count": null,
   "id": "58e30e3c",
   "metadata": {
    "slideshow": {
     "slide_type": "slide"
    }
   },
   "outputs": [],
   "source": [
    "gC.std()"
   ]
  },
  {
   "cell_type": "code",
   "execution_count": null,
   "id": "e45dee9e",
   "metadata": {},
   "outputs": [],
   "source": [
    "gG.std()"
   ]
  },
  {
   "cell_type": "markdown",
   "id": "449bea60",
   "metadata": {},
   "source": [
    "* Die Stichprobenstreuung im gesamten Datensatz ist größer als in den einzelnen Gruppen.  \n",
    "* Der Unterschied kommt daher, dass sich die Gruppenmittelwerte stärker unterscheiden, als sich das durch Variation innerhalb der Gruppen erklären lässt"
   ]
  },
  {
   "cell_type": "code",
   "execution_count": null,
   "id": "71a7d973",
   "metadata": {
    "slideshow": {
     "slide_type": "slide"
    }
   },
   "outputs": [],
   "source": [
    "sns.scatterplot(df, y='bill_length_mm', x='species', hue='species', legend=False);"
   ]
  },
  {
   "cell_type": "markdown",
   "id": "66d27c21",
   "metadata": {
    "slideshow": {
     "slide_type": "-"
    }
   },
   "source": [
    "In den tatsächlich benutzen Formel kommt anstelle der Stichprobenstreuung die Varianz vor, daher der Name \"Analysis of Varianz\""
   ]
  }
 ],
 "metadata": {
  "celltoolbar": "Slideshow",
  "kernelspec": {
   "display_name": "Python 3 (ipykernel)",
   "language": "python",
   "name": "python3"
  },
  "language_info": {
   "codemirror_mode": {
    "name": "ipython",
    "version": 3
   },
   "file_extension": ".py",
   "mimetype": "text/x-python",
   "name": "python",
   "nbconvert_exporter": "python",
   "pygments_lexer": "ipython3",
   "version": "3.11.5"
  }
 },
 "nbformat": 4,
 "nbformat_minor": 5
}
