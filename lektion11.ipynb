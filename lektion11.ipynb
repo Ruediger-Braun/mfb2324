{
 "cells": [
  {
   "cell_type": "markdown",
   "id": "97e910de",
   "metadata": {
    "slideshow": {
     "slide_type": "slide"
    }
   },
   "source": [
    "# Mathematik für Biologiestudierende\n",
    "\n",
    "Wintersemester 2023/24\n",
    "\n",
    "17.01.2024\n",
    "\n",
    "&copy; 2024 Prof. Dr. Rüdiger W. Braun "
   ]
  },
  {
   "cell_type": "markdown",
   "id": "2cdddacb",
   "metadata": {
    "slideshow": {
     "slide_type": "slide"
    }
   },
   "source": [
    "# Standard-Normalverteilung\n",
    "\n",
    "* Die Dichte der Standardnormalverteilung ist die *Gaußsche Glockenkurve*\n",
    "$$  \\varphi(x) = \\frac1{\\sqrt{2\\pi}} \\exp\\!\\left( -\\frac{x^2}2 \\right)  $$\n",
    "* Die Verteilungsfunktion ist\n",
    "$$   \\Phi(u) = \\frac1{\\sqrt{2\\pi}} \\int_{-\\infty}^u \\exp\\!\\left( -\\frac{x^2}2 \\right) dx $$\n",
    "* Eine explizitere Formel gibt es nicht"
   ]
  },
  {
   "cell_type": "code",
   "execution_count": 34,
   "id": "e149fa61",
   "metadata": {
    "slideshow": {
     "slide_type": "slide"
    }
   },
   "outputs": [
    {
     "data": {
      "text/plain": [
       "0.03593031911292579"
      ]
     },
     "execution_count": 34,
     "metadata": {},
     "output_type": "execute_result"
    }
   ],
   "source": [
    "from scipy import stats\n",
    "Phi = stats.norm()   # Normalverteilung\n",
    "Phi.cdf(-1.8)"
   ]
  },
  {
   "cell_type": "markdown",
   "id": "5c45a249",
   "metadata": {},
   "source": [
    "## Normalverteilung\n",
    "\n",
    "* Die Standard-Normalverteilung ist nicht flexibel genug\n",
    "* Wir benötigen Varianten\n",
    "* diese unterscheiden sich in Erwartungswert und Varianz"
   ]
  },
  {
   "cell_type": "markdown",
   "id": "db1154ea",
   "metadata": {},
   "source": [
    "# Erwartungswert einer kontinuierlichen Zufallsvariablen"
   ]
  },
  {
   "cell_type": "markdown",
   "id": "67d0fe8b",
   "metadata": {},
   "source": [
    "* Der Erwartungswert einer diskreten Zufallsvariablen $X$ ist definiert als\n",
    "$$  E(X) = \\sum_k k \\cdot P(X=k)    $$ \n",
    "  wobei $k$ alle möglichen Werte von $X$ durchläuft"
   ]
  },
  {
   "cell_type": "markdown",
   "id": "8b6f2ba0",
   "metadata": {},
   "source": [
    "* Der Erwartungswert einer kontinuierlichen Zufallsvariablen $X$ mit Dichte $f$ ist definiert als\n",
    "$$  E(X) = \\int x \\cdot f(x)\\; dx  $$\n",
    "wobei sich der Integrationsbereich über alle möglichen Werte von $X$ erstreckt"
   ]
  },
  {
   "cell_type": "markdown",
   "id": "06d0cee3",
   "metadata": {},
   "source": [
    "# Varianz einer kontinuierlichen Zufallsvariablen"
   ]
  },
  {
   "cell_type": "markdown",
   "id": "87e68fa2",
   "metadata": {},
   "source": [
    "* Die Varianz einer diskreten Zufallsvariablen X ist definiert als\n",
    "$$ \\text{Var}(X) = \\sum_{k} (k-\\mu)^2 P(X=k)  $$\n",
    "wobei $\\mu = E(X) $ und $k$ alle möglichen Werte von $X$ durchläuft"
   ]
  },
  {
   "cell_type": "markdown",
   "id": "137db542",
   "metadata": {},
   "source": [
    "* Die Varianz einer kontinuierlichen Zufallsvariablen $X$ mit Dichte $f$ ist definiert als\n",
    "$$  \\text{Var}(X) = \\int (x-\\mu)^2 \\cdot f(x)\\; dx  $$\n",
    "  wobei $\\mu=E(X)$  und der Integrationsbereich sich über alle möglichen Werte von $X$ erstreckt"
   ]
  },
  {
   "cell_type": "markdown",
   "id": "faff61d3",
   "metadata": {},
   "source": [
    "## Streuung\n",
    "\n",
    "Die Standardabweichung oder Streuung eine Zufallsvariablen ist die Quadratwurzel aus der Varianz\n",
    "\n",
    "$$ \\sigma(X) = \\sqrt{\\text{Var}(X)} $$"
   ]
  },
  {
   "cell_type": "markdown",
   "id": "c2be15b9",
   "metadata": {},
   "source": [
    "# Erwartungswert und Streuung der Standard-Normalverteilung\n",
    "\n",
    "Die Zufallsvariable $X$ sei standard-normalverteilt\n",
    "* $E(X) = 0$\n",
    "* $\\text{Var}(X) = 1$"
   ]
  },
  {
   "cell_type": "code",
   "execution_count": 35,
   "id": "9958afa3",
   "metadata": {},
   "outputs": [
    {
     "data": {
      "text/plain": [
       "0.0"
      ]
     },
     "execution_count": 35,
     "metadata": {},
     "output_type": "execute_result"
    }
   ],
   "source": [
    "P = stats.norm()\n",
    "P.mean()"
   ]
  },
  {
   "cell_type": "code",
   "execution_count": 36,
   "id": "c88290a3",
   "metadata": {},
   "outputs": [
    {
     "data": {
      "text/plain": [
       "1.0"
      ]
     },
     "execution_count": 36,
     "metadata": {},
     "output_type": "execute_result"
    }
   ],
   "source": [
    "P.var()"
   ]
  },
  {
   "cell_type": "markdown",
   "id": "5c516014",
   "metadata": {},
   "source": [
    "Streuung (engl.: standard deviation)"
   ]
  },
  {
   "cell_type": "code",
   "execution_count": 37,
   "id": "55eae6f7",
   "metadata": {},
   "outputs": [
    {
     "data": {
      "text/plain": [
       "1.0"
      ]
     },
     "execution_count": 37,
     "metadata": {},
     "output_type": "execute_result"
    }
   ],
   "source": [
    "P.std()"
   ]
  },
  {
   "cell_type": "markdown",
   "id": "261c5951",
   "metadata": {},
   "source": [
    "Es gelten dieselben Rechenregeln wie im diskreten Fall"
   ]
  },
  {
   "cell_type": "markdown",
   "id": "746699f6",
   "metadata": {},
   "source": [
    "## Rechenregeln für den Erwartungswert ##\n",
    "\n",
    "* Für jede Zahl $c$ und jede Zufallsvariable $X$ ist $E(c \\cdot X) = c \\cdot E(X)$\n",
    "* Für Zufallsvariablen $X_1, \\dots, X_n$ ist $E(X_1 + \\dots + X_n) = E(X_1) + \\dots + E(X_n)$\n",
    "* $X$ und $Y$ **unabhängige** Zufallsvariable.  Dann\n",
    "$$   E(X \\cdot Y) = E(X) \\cdot E(Y)  $$"
   ]
  },
  {
   "cell_type": "markdown",
   "id": "00baad26",
   "metadata": {},
   "source": [
    "## Rechenregeln für die Varianz\n",
    "\n",
    "* Für jede Zahl $a$ und jede Zufallsvariable $X$ gilt $\\text{Var}(a + X) = \\text{Var}(X)$\n",
    "* Für jede Zahl $c$ und jede Zufallsvariable $X$ gilt $\\text{Var}(c \\cdot X) = c^2 \\cdot \\text{Var}(X)$\n",
    "* $X$ und $Y$ **unabhängige** Zufallsvariable.  Dann\n",
    "$$     \\text{Var}(X + Y) = \\text{Var}(X) + \\text{Var}(Y)  $$"
   ]
  },
  {
   "cell_type": "markdown",
   "id": "e8d27eae",
   "metadata": {},
   "source": [
    "# Normalverteilungen\n",
    "\n",
    "* Die Zufallsvariable $X$ heißt *normalverteilt* zum Erwartungswert $\\mu$ und der Varianz $\\sigma^2$, wenn \n",
    "$$       Y = \\frac{X-\\mu}\\sigma  $$\n",
    "  standard-normalverteilt ist.  Man sagt dann, $X$ sei $N(\\mu, \\sigma^2)$-verteilt"
   ]
  },
  {
   "cell_type": "markdown",
   "id": "181ffd36",
   "metadata": {},
   "source": [
    "* Normalverteilungen werden beispielsweise zur Modellierung von Messfehlern benutzt\n",
    "* Normalverteilungen können\n",
    "  \\end{itemize}"
   ]
  },
  {
   "cell_type": "markdown",
   "id": "4b8c3266",
   "metadata": {},
   "source": [
    "## Umrechnung auf Standardnormalverteilung\n",
    "\n",
    "Die Zufallsvariable $X$ sei $N(\\mu, \\sigma^2)$-verteilt.  Dann ist $\\displaystyle \\frac{X-\\mu}\\sigma$ standard-normalverteilt und für $a < b$ gelten\n",
    "  \\begin{align*}\n",
    "    P(a < X \\le b) &= \\Phi\\!\\left(\\frac{b-\\mu}\\sigma\\right) -\n",
    "    \\Phi\\!\\left(\\frac{a-\\mu}\\sigma\\right)  \\\\\n",
    "    P(a < X) &= 1 - \\Phi\\!\\left(\\frac{a-\\mu}\\sigma\\right)  \\\\\n",
    "    P(X \\le b) &= \\Phi\\!\\left(\\frac{b-\\mu}\\sigma\\right) \n",
    "  \\end{align*}"
   ]
  },
  {
   "cell_type": "code",
   "execution_count": 38,
   "id": "82e21117",
   "metadata": {},
   "outputs": [],
   "source": [
    "mu = 10\n",
    "sigma = 3\n",
    "P = stats.norm(mu, sigma)"
   ]
  },
  {
   "cell_type": "code",
   "execution_count": 39,
   "id": "3f9f15bf",
   "metadata": {},
   "outputs": [
    {
     "data": {
      "text/plain": [
       "10.0"
      ]
     },
     "execution_count": 39,
     "metadata": {},
     "output_type": "execute_result"
    }
   ],
   "source": [
    "P.mean()"
   ]
  },
  {
   "cell_type": "code",
   "execution_count": 40,
   "id": "eb0be1e9",
   "metadata": {},
   "outputs": [
    {
     "data": {
      "text/plain": [
       "3.0"
      ]
     },
     "execution_count": 40,
     "metadata": {},
     "output_type": "execute_result"
    }
   ],
   "source": [
    "P.std()"
   ]
  },
  {
   "cell_type": "markdown",
   "id": "36885027",
   "metadata": {},
   "source": [
    "Achtung:  $N(\\mu,\\sigma^2)$  wird aufgerufen als <code>stats.norm(mu, sigma)</code>"
   ]
  },
  {
   "cell_type": "markdown",
   "id": "6a0ca367",
   "metadata": {},
   "source": [
    "## Beispiel: natürliche Variabilitäten\n",
    "\n",
    "* Roggenpflanzen erreichen unter Laborbedingungen eine mittlere Höhe von 0.98m.  Dabei streut die Höhe um 19cm.  Welcher Prozentsatz aller Pflanzen erreicht mindestens 1.10m Höhe?\n",
    "* $X$ = Höhe der Pflanze\n",
    "* Wir rechnen in Metern.  Dann $E(X) = 0.98$ und $\\sigma = 0.19$\n",
    "* Wir suchen\n",
    "  $$    P\\!\\left( 1.1 < X \\right) = 1 - P(X \\le 1.1)  $$"
   ]
  },
  {
   "cell_type": "code",
   "execution_count": 41,
   "id": "3ae8cd64",
   "metadata": {},
   "outputs": [
    {
     "data": {
      "text/plain": [
       "0.7361689766046082"
      ]
     },
     "execution_count": 41,
     "metadata": {},
     "output_type": "execute_result"
    }
   ],
   "source": [
    "P = stats.norm(0.98, 0.19)\n",
    "P.cdf(1.1)"
   ]
  },
  {
   "cell_type": "code",
   "execution_count": 42,
   "id": "1ce981b0",
   "metadata": {},
   "outputs": [
    {
     "data": {
      "text/plain": [
       "0.2638310233953918"
      ]
     },
     "execution_count": 42,
     "metadata": {},
     "output_type": "execute_result"
    }
   ],
   "source": [
    "1 - P.cdf(1.1)"
   ]
  },
  {
   "cell_type": "markdown",
   "id": "1edb8a34",
   "metadata": {},
   "source": [
    "26% aller Pflanzen sind höher als 1.1m"
   ]
  },
  {
   "cell_type": "markdown",
   "id": "96f1c0c5",
   "metadata": {},
   "source": [
    "### Kritische Betrachtung des Modells\n",
    "\n",
    "* Das Modell erlaubt auch den unsinnigen Fall, dass Roggenpflanzen eine negative Höhe aufweisen\n",
    "* Mit welcher Wahrscheinlichkeit geschieht das?"
   ]
  },
  {
   "cell_type": "code",
   "execution_count": 43,
   "id": "c8153b48",
   "metadata": {},
   "outputs": [
    {
     "data": {
      "text/plain": [
       "1.2487097323935358e-07"
      ]
     },
     "execution_count": 43,
     "metadata": {},
     "output_type": "execute_result"
    }
   ],
   "source": [
    "P.cdf(0)"
   ]
  },
  {
   "cell_type": "code",
   "execution_count": 44,
   "id": "a0b92b3f",
   "metadata": {},
   "outputs": [
    {
     "data": {
      "text/plain": [
       "8008266.245216114"
      ]
     },
     "execution_count": 44,
     "metadata": {},
     "output_type": "execute_result"
    }
   ],
   "source": [
    "1 / P.cdf(0)"
   ]
  },
  {
   "cell_type": "markdown",
   "id": "2a2ede4e",
   "metadata": {},
   "source": [
    "Das Modell sagt für jeweils eine unter 8 Millionen Pflanzen eine negative Höhe voraus."
   ]
  },
  {
   "cell_type": "code",
   "execution_count": 45,
   "id": "0b5ae74d",
   "metadata": {},
   "outputs": [],
   "source": [
    "import pandas as pd\n",
    "import numpy as np\n",
    "import seaborn as sns\n",
    "sns.set_theme()"
   ]
  },
  {
   "cell_type": "code",
   "execution_count": 46,
   "id": "ae2be522",
   "metadata": {},
   "outputs": [],
   "source": [
    "df = pd.DataFrame()\n",
    "x = np.linspace(-0.1, 2, 300)\n",
    "df['x'] = x\n",
    "df['y'] = P.pdf(x)  # probability density function"
   ]
  },
  {
   "cell_type": "markdown",
   "id": "320052c2",
   "metadata": {},
   "source": [
    "### Verteilungsdichte der Halmlängen"
   ]
  },
  {
   "cell_type": "code",
   "execution_count": 47,
   "id": "5cdc15c6",
   "metadata": {},
   "outputs": [
    {
     "data": {
      "text/plain": [
       "<Axes: xlabel='x', ylabel='y'>"
      ]
     },
     "execution_count": 47,
     "metadata": {},
     "output_type": "execute_result"
    },
    {
     "data": {
      "image/png": "[encoded data removed]",
      "text/plain": [
       "<Figure size 640x480 with 1 Axes>"
      ]
     },
     "metadata": {},
     "output_type": "display_data"
    }
   ],
   "source": [
    "sns.lineplot(data=df, x='x', y='y')"
   ]
  },
  {
   "cell_type": "markdown",
   "id": "c635f38a",
   "metadata": {},
   "source": [
    "## Beispiel: IQ-Tests\n",
    "\n",
    "* IQ-Tests sind so skaliert, dass die Werte in der Population normalverteilt mit Erwartungswert $\\mu = 100$ und Streuung $\\sigma = 15 $sind\n",
    "* Welcher Anteil der Bevölkerung hat einen IQ unter 60?\n",
    "* $X$ messe den IQ\n",
    "* $X$ ist $N(100,225)$-verteilt.\n",
    "* Also"
   ]
  },
  {
   "cell_type": "code",
   "execution_count": 48,
   "id": "aaf272ef",
   "metadata": {},
   "outputs": [
    {
     "data": {
      "text/plain": [
       "0.0038303805675897365"
      ]
     },
     "execution_count": 48,
     "metadata": {},
     "output_type": "execute_result"
    }
   ],
   "source": [
    "P = stats.norm(100, 15)\n",
    "P.cdf(60)"
   ]
  },
  {
   "cell_type": "markdown",
   "id": "f298f54f",
   "metadata": {},
   "source": [
    "# Quantile\n",
    "\n",
    "* $\\Phi$ die Verteilungsfunktion der Standardnormalverteilung \n",
    "* Die Zahl $q_\\alpha$ mit $\\Phi(q_\\alpha) = \\alpha$ heißt $\\alpha$-*Quantil* der Standardnormalverteilung.  Die\n",
    "  wichtigsten Quantile der Standardnormalverteilung sind \n",
    "  \n",
    "|$ \\Phi(u) $ | 70%    | 80%    | 90%    | 95%   | 97.5% | 99%   | 99.5% |\n",
    "|------------|--------|--------|--------|-------|-------|-------|-------|\n",
    "| $ u $      |  0.524 |  0.842 |  1.282 | 1.645 | 1.960 | 2.326 | 2.576 |"
   ]
  },
  {
   "cell_type": "markdown",
   "id": "5372c323",
   "metadata": {},
   "source": [
    "* Umrechnungsformel\n",
    "$$     q_\\alpha = - q_{1-\\alpha}  $$\n",
    "* Beispiel\n",
    "$$    q_{0.05} = - q_{0.95} = -1.645  $$\n",
    "* Das Quantil ist die Umkehrfunktion der Verteilungsfunktion, in Formeln\n",
    "$$      \\Phi(q_\\alpha) = \\alpha  $$"
   ]
  },
  {
   "cell_type": "code",
   "execution_count": 49,
   "id": "25f03a6e",
   "metadata": {},
   "outputs": [
    {
     "data": {
      "text/plain": [
       "-1.6448536269514729"
      ]
     },
     "execution_count": 49,
     "metadata": {},
     "output_type": "execute_result"
    }
   ],
   "source": [
    "Phi = stats.norm()\n",
    "Phi.ppf(0.05)"
   ]
  },
  {
   "cell_type": "markdown",
   "id": "e3be156f",
   "metadata": {},
   "source": [
    "### Beispiel\n",
    "\n",
    "* Welche Höhe wird nur von 5% der Roggenpflanzen unterschritten?"
   ]
  },
  {
   "cell_type": "code",
   "execution_count": 50,
   "id": "152e1867",
   "metadata": {},
   "outputs": [
    {
     "data": {
      "text/plain": [
       "0.6674778108792201"
      ]
     },
     "execution_count": 50,
     "metadata": {},
     "output_type": "execute_result"
    }
   ],
   "source": [
    "P = stats.norm(0.98, 0.19)\n",
    "P.ppf(0.05)"
   ]
  },
  {
   "cell_type": "markdown",
   "id": "01a4a84b",
   "metadata": {},
   "source": [
    "### Beispiel:  Die schlauste Person der Welt\n",
    "\n",
    "* Welchen IQ hat die schlauste Person der Welt?\n",
    "* Es gibt ca 8 Milliarden Menschen\n",
    "* Die schlauste Person ist also die, deren IQ nur von einem Anteil von $\\frac1{8\\,000\\,000\\,000}$ der Weltbevölkerung übertroffen wird"
   ]
  },
  {
   "cell_type": "code",
   "execution_count": 51,
   "id": "969e3052",
   "metadata": {},
   "outputs": [
    {
     "data": {
      "text/plain": [
       "0.999999999875"
      ]
     },
     "execution_count": 51,
     "metadata": {},
     "output_type": "execute_result"
    }
   ],
   "source": [
    "N = 8_000_000_000\n",
    "1 - 1/N"
   ]
  },
  {
   "cell_type": "code",
   "execution_count": 52,
   "id": "b9fd245e",
   "metadata": {},
   "outputs": [
    {
     "data": {
      "text/plain": [
       "104.90475300947824"
      ]
     },
     "execution_count": 52,
     "metadata": {},
     "output_type": "execute_result"
    }
   ],
   "source": [
    "P = stats.norm(10, 15)\n",
    "P.ppf(1-1/N)"
   ]
  },
  {
   "cell_type": "markdown",
   "id": "a39ac663",
   "metadata": {},
   "source": [
    "Die schlauste Person der Welt hat einen IQ von 195"
   ]
  },
  {
   "cell_type": "code",
   "execution_count": null,
   "id": "3abda63c",
   "metadata": {},
   "outputs": [],
   "source": []
  },
  {
   "cell_type": "code",
   "execution_count": null,
   "id": "8e97de8b",
   "metadata": {},
   "outputs": [],
   "source": []
  },
  {
   "cell_type": "markdown",
   "id": "b93920ce",
   "metadata": {},
   "source": [
    "* Normalverteilung\n",
    "  * bsp Roggen\n",
    "  * bsp IQ\n",
    "* Erwartungswert und Varianz\n",
    "* standardisierte ZV\n",
    "* zentraler GWS\n",
    "* Quantile\n",
    "* QQ-Plot"
   ]
  }
 ],
 "metadata": {
  "celltoolbar": "Slideshow",
  "kernelspec": {
   "display_name": "Python 3 (ipykernel)",
   "language": "python",
   "name": "python3"
  },
  "language_info": {
   "codemirror_mode": {
    "name": "ipython",
    "version": 3
   },
   "file_extension": ".py",
   "mimetype": "text/x-python",
   "name": "python",
   "nbconvert_exporter": "python",
   "pygments_lexer": "ipython3",
   "version": "3.11.5"
  }
 },
 "nbformat": 4,
 "nbformat_minor": 5
}
