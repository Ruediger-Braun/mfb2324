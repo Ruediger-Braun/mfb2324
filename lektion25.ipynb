{
 "cells": [
  {
   "cell_type": "markdown",
   "id": "97e910de",
   "metadata": {
    "slideshow": {
     "slide_type": "slide"
    }
   },
   "source": [
    "## Mathematik für Biologiestudierende II\n",
    "\n",
    "Sommersemester 2024\n",
    "\n",
    "02.07.2024\n",
    "\n",
    "&copy; 2024 Prof. Dr. Rüdiger W. Braun "
   ]
  },
  {
   "cell_type": "code",
   "execution_count": null,
   "id": "71cb2719",
   "metadata": {
    "slideshow": {
     "slide_type": "slide"
    }
   },
   "outputs": [],
   "source": [
    "import numpy as np\n",
    "import pandas as pd\n",
    "from scipy import stats\n",
    "import statsmodels.formula.api as smf\n",
    "import seaborn as sns\n",
    "sns.set_theme()\n",
    "import warnings\n",
    "warnings.filterwarnings('ignore', message='The figure layout has changed')"
   ]
  },
  {
   "cell_type": "markdown",
   "id": "b7086ffe",
   "metadata": {
    "slideshow": {
     "slide_type": "slide"
    }
   },
   "source": [
    "# Klausur\n",
    "\n",
    "Sie können sich jetzt zur Klausur am 06.08.2024 anmelden."
   ]
  },
  {
   "cell_type": "markdown",
   "id": "125aa2b2",
   "metadata": {
    "slideshow": {
     "slide_type": "fragment"
    }
   },
   "source": [
    "Es gibt zwei verschiedene Aufgabensaätze\n",
    "\n",
    "* Klausur mit den Themen vor dem WS 2023/24\n",
    "* Klausur mit den Themen ab dem WS 2024/24"
   ]
  },
  {
   "cell_type": "markdown",
   "id": "83322b6b",
   "metadata": {
    "slideshow": {
     "slide_type": "fragment"
    }
   },
   "source": [
    "* neue Klausuraufgaben bekommt\n",
    "  * wer im WS 2023/24 oder im SS 2024 Übungspunkte gesammelt hat\n",
    "  * wer keine Übungspunkte hat und sich im Oktober 2023 oder später erstmals im LSF zur Vorlesung angemeldet hat\n",
    "* alte Klausuraufgaben bekommt\n",
    "  * wer vor dem WS 2023/24 Übungspunkte gesammelt hat\n",
    "  * wer keine Übungspunkte hat und sich vor Oktober 2023 im LSF zur Vorlesung angemeldet hat\n",
    "* wer sowohl vor als auch nach Oktober 2023 Übungspunkte bekommen hat und sich anmeldet, wird von mir angeschrieben"
   ]
  },
  {
   "cell_type": "markdown",
   "id": "d3c89b8a",
   "metadata": {
    "slideshow": {
     "slide_type": "fragment"
    }
   },
   "source": [
    "* Mit der Aufteilung auf die Hörsäle teile ich mit, welche Aufgaben jemand bekommen wird\n",
    "* Dann kann man widersprechen, aber bitte zügig"
   ]
  },
  {
   "cell_type": "markdown",
   "id": "b69c9dc2",
   "metadata": {
    "slideshow": {
     "slide_type": "slide"
    }
   },
   "source": [
    "#### Themen heute\n",
    "\n",
    "* Lineare Modelle mit kategoriellen Daten\n",
    "* ANOVA als lineares Modell\n",
    "* Regression im exponentiellen Modell\n",
    "* Halblogarithmische Darstellung\n",
    "* Halbwerts- und Verdoppelungszeit"
   ]
  },
  {
   "cell_type": "markdown",
   "id": "168a50eb",
   "metadata": {
    "slideshow": {
     "slide_type": "slide"
    }
   },
   "source": [
    "# Lineare Modelle mit kategoriellen Daten"
   ]
  },
  {
   "cell_type": "markdown",
   "id": "0a5bd068",
   "metadata": {
    "slideshow": {
     "slide_type": "fragment"
    }
   },
   "source": [
    "Wir kommen zu dem Rattenbeispiel aus Lektion 21 zurück:\n",
    "\n",
    "* kontaminiertes Gelände: fange 10 Ratten\n",
    "* unbelastetes Vergleichsgelände:  fange 10 Ratten\n",
    "* für jede Ratte wird ihr Alter in Monaten und der Bleigehalt im Gewebe bestimmt"
   ]
  },
  {
   "cell_type": "code",
   "execution_count": null,
   "id": "d130187a",
   "metadata": {
    "slideshow": {
     "slide_type": "slide"
    }
   },
   "outputs": [],
   "source": [
    "df = pd.read_csv('ratten.csv')"
   ]
  },
  {
   "cell_type": "code",
   "execution_count": null,
   "id": "d506d0da",
   "metadata": {},
   "outputs": [],
   "source": [
    "sns.lmplot(df, x='Alter', y='Belastung', hue='Gelände');"
   ]
  },
  {
   "cell_type": "markdown",
   "id": "90826ecd",
   "metadata": {
    "slideshow": {
     "slide_type": "slide"
    }
   },
   "source": [
    "* Der t-Test zeigte keinen Unterschied zwischen den Ratten auf kontaminierten und nicht kontaminiertem Gelände.\n",
    "* Die Ratten auf dem kontaminierten Gelände sind aber im Schnitt jünger.  \n",
    "* Wir wollen gleichaltrige Ratten vergleichen"
   ]
  },
  {
   "cell_type": "code",
   "execution_count": null,
   "id": "b9e16f52",
   "metadata": {},
   "outputs": [],
   "source": [
    "formel = 'Belastung ~ Alter + Gelände'\n",
    "modell = smf.ols(formel, df)\n",
    "res = modell.fit()"
   ]
  },
  {
   "cell_type": "code",
   "execution_count": null,
   "id": "a42718b4",
   "metadata": {
    "slideshow": {
     "slide_type": "slide"
    }
   },
   "outputs": [],
   "source": [
    "res.summary()"
   ]
  },
  {
   "cell_type": "markdown",
   "id": "5e591a8a",
   "metadata": {
    "slideshow": {
     "slide_type": "slide"
    }
   },
   "source": [
    "* `Gelände[T.unkontaminiert]` ist signifikant\n",
    "* Allerdings ist das der Unterschied bei Alter = 0\n",
    "* Das ist Unsinn"
   ]
  },
  {
   "cell_type": "markdown",
   "id": "3898e75e",
   "metadata": {
    "slideshow": {
     "slide_type": "fragment"
    }
   },
   "source": [
    "* Wir vergleichen im Alter von 8 und 9 Monaten"
   ]
  },
  {
   "cell_type": "code",
   "execution_count": null,
   "id": "c9be9236",
   "metadata": {
    "slideshow": {
     "slide_type": "slide"
    }
   },
   "outputs": [],
   "source": [
    "anfrage = pd.DataFrame()\n",
    "anfrage['Alter'] = [8,8,9,9]\n",
    "anfrage['Gelände'] = ['kontaminiert', 'unkontaminiert', 'kontaminiert', 'unkontaminiert']\n",
    "anfrage"
   ]
  },
  {
   "cell_type": "code",
   "execution_count": null,
   "id": "872b6ce6",
   "metadata": {},
   "outputs": [],
   "source": [
    "res.get_prediction(anfrage).summary_frame()"
   ]
  },
  {
   "cell_type": "markdown",
   "id": "b5d304e2",
   "metadata": {
    "slideshow": {
     "slide_type": "fragment"
    }
   },
   "source": [
    "* Relevant sind hier die Konfidenzintervalle für die Mittelwerte\n",
    "* Für beide Werte von `Alter` ist die untere Vertrauensgrenze für die Belastung im Gewebe der Ratten vom kontaminierten Gelände höher als die obere Vertrauensgrenze für die Ratten vom unkontaminierten Gelände\n",
    "* Zum Signifikanzniveau $\\alpha = 0.95$ ist der Unterschied in der Bleibelastung signifikant"
   ]
  },
  {
   "cell_type": "markdown",
   "id": "bd0a4b19",
   "metadata": {
    "slideshow": {
     "slide_type": "slide"
    }
   },
   "source": [
    "## Bestimmung des p-Werts"
   ]
  },
  {
   "cell_type": "markdown",
   "id": "713b3479",
   "metadata": {},
   "source": [
    "* Der p-Wert wird nur für den Unterschies beim Alter 0 ausgegeben.\n",
    "* Trick:  Verlegung des Nullpunkts."
   ]
  },
  {
   "cell_type": "markdown",
   "id": "49cfd395",
   "metadata": {
    "slideshow": {
     "slide_type": "fragment"
    }
   },
   "source": [
    "* Im Beispiel verlegen wird den Nullpunkt auf 8 Monate.\n",
    "* Wir führen in der Tabelle also eine Spalte mit der Altersdifferenz zu 8 Monaten ein"
   ]
  },
  {
   "cell_type": "code",
   "execution_count": null,
   "id": "706c99ca",
   "metadata": {},
   "outputs": [],
   "source": [
    "df['Altersdifferenz'] = df.Alter - 8\n",
    "df.head()"
   ]
  },
  {
   "cell_type": "code",
   "execution_count": null,
   "id": "24701767",
   "metadata": {
    "slideshow": {
     "slide_type": "slide"
    }
   },
   "outputs": [],
   "source": [
    "formel2 = 'Belastung ~ Altersdifferenz + Gelände'\n",
    "modell2 = smf.ols(formel2, df)\n",
    "res2 = modell2.fit()"
   ]
  },
  {
   "cell_type": "code",
   "execution_count": null,
   "id": "fb4177de",
   "metadata": {
    "scrolled": false,
    "slideshow": {
     "slide_type": "slide"
    }
   },
   "outputs": [],
   "source": [
    "res2.summary()"
   ]
  },
  {
   "cell_type": "markdown",
   "id": "e858590a",
   "metadata": {},
   "source": [
    "* Der p-Wert ist 0.002"
   ]
  },
  {
   "cell_type": "markdown",
   "id": "ba291916",
   "metadata": {
    "slideshow": {
     "slide_type": "slide"
    }
   },
   "source": [
    "# ANOVA als lineares Modell"
   ]
  },
  {
   "cell_type": "markdown",
   "id": "d0468d30",
   "metadata": {
    "slideshow": {
     "slide_type": "slide"
    }
   },
   "source": [
    "### Beispiel Schadstoffkonzentration\n",
    "\n",
    "* An fünf verschiedenen Messstellen wurde die Konzentration eines Schadstoffs gemessen\n",
    "* Hat die Messstelle einen Einfluss auf die Konzentration?\n",
    "* Die Messstelle ist der Faktor\n",
    "* Die Konzentration ist die Zielvariable"
   ]
  },
  {
   "cell_type": "code",
   "execution_count": null,
   "id": "28ab7109",
   "metadata": {
    "slideshow": {
     "slide_type": "slide"
    }
   },
   "outputs": [],
   "source": [
    "u_schad = \"https://www.math.uni-duesseldorf.de/~braun/bio2324/data/schadstoffe.csv\"\n",
    "df = pd.read_csv(u_schad, index_col=0)\n",
    "df.head()"
   ]
  },
  {
   "cell_type": "code",
   "execution_count": null,
   "id": "73087cc6",
   "metadata": {},
   "outputs": [],
   "source": [
    "g1 = df[df.Messstelle==1].Konzentration\n",
    "g2 = df[df.Messstelle==2].Konzentration\n",
    "g3 = df[df.Messstelle==3].Konzentration\n",
    "g4 = df[df.Messstelle==4].Konzentration\n",
    "g5 = df[df.Messstelle==5].Konzentration"
   ]
  },
  {
   "cell_type": "code",
   "execution_count": null,
   "id": "92ae8c3f",
   "metadata": {
    "slideshow": {
     "slide_type": "slide"
    }
   },
   "outputs": [],
   "source": [
    "res = stats.f_oneway(g1, g2, g3, g4, g5)\n",
    "res"
   ]
  },
  {
   "cell_type": "markdown",
   "id": "371a6501",
   "metadata": {
    "slideshow": {
     "slide_type": "slide"
    }
   },
   "source": [
    "Wir können die ANOVA auch als lineares Modell rechnen, bei dem die einzige erklärende Variable kategoriell ist"
   ]
  },
  {
   "cell_type": "code",
   "execution_count": null,
   "id": "596beeca",
   "metadata": {},
   "outputs": [],
   "source": [
    "formel = 'Konzentration ~ Messstelle'\n",
    "modell = smf.ols(formel, df)\n",
    "res = modell.fit()"
   ]
  },
  {
   "cell_type": "code",
   "execution_count": null,
   "id": "ec4e3611",
   "metadata": {
    "scrolled": true,
    "slideshow": {
     "slide_type": "slide"
    }
   },
   "outputs": [],
   "source": [
    "res.summary()"
   ]
  },
  {
   "cell_type": "markdown",
   "id": "ee05158b",
   "metadata": {},
   "source": [
    "* Sehen Sie, wie das schief gegangen ist?"
   ]
  },
  {
   "cell_type": "markdown",
   "id": "f29c5f90",
   "metadata": {
    "slideshow": {
     "slide_type": "fragment"
    }
   },
   "source": [
    "* kein Treatment"
   ]
  },
  {
   "cell_type": "code",
   "execution_count": null,
   "id": "b02b0a75",
   "metadata": {
    "slideshow": {
     "slide_type": "slide"
    }
   },
   "outputs": [],
   "source": [
    "formel = 'Konzentration ~ C(Messstelle)'\n",
    "modell = smf.ols(formel, df)\n",
    "res = modell.fit()"
   ]
  },
  {
   "cell_type": "markdown",
   "id": "13c87b23",
   "metadata": {},
   "source": [
    "* durch `C(Messstelle)` wird festgelegt, dass es sich um einen kategoriellen Wert handelt\n",
    "* wenn die Messstellen nicht durch Nummern, sondern durch Text (z.B. \"unterer Bachlauf\") bezeichnet sind, ist das nicht nötig"
   ]
  },
  {
   "cell_type": "code",
   "execution_count": null,
   "id": "5c95ec1c",
   "metadata": {
    "slideshow": {
     "slide_type": "slide"
    }
   },
   "outputs": [],
   "source": [
    "res.summary()"
   ]
  },
  {
   "cell_type": "markdown",
   "id": "2787738e",
   "metadata": {
    "slideshow": {
     "slide_type": "slide"
    }
   },
   "source": [
    "* Der Eintrag `Prob (F-statistic)` zeigt den p-Wert der ANOVA\n",
    "* Der Eintrag `F-statistic` teigt die Teststatistik der ANOVA"
   ]
  },
  {
   "cell_type": "markdown",
   "id": "9716b8c9",
   "metadata": {
    "slideshow": {
     "slide_type": "fragment"
    }
   },
   "source": [
    "* Die Einträge `C(Messstelle)[T.2]` usw. zeigen **nicht** die post-Hoc Analyse\n",
    "* Die muss man weiterhin wie in Lektion 17 machen"
   ]
  },
  {
   "cell_type": "markdown",
   "id": "6b6fe4de",
   "metadata": {
    "slideshow": {
     "slide_type": "slide"
    }
   },
   "source": [
    "# Regression im exponentiellen Modell"
   ]
  },
  {
   "cell_type": "markdown",
   "id": "33eae93f",
   "metadata": {
    "slideshow": {
     "slide_type": "slide"
    }
   },
   "source": [
    "## Beispiel Covid-Erkrankungen"
   ]
  },
  {
   "cell_type": "code",
   "execution_count": null,
   "id": "a53a4838",
   "metadata": {},
   "outputs": [],
   "source": [
    "df = pd.read_csv('corona.csv')\n",
    "df.head()"
   ]
  },
  {
   "cell_type": "code",
   "execution_count": null,
   "id": "7b44f1f3",
   "metadata": {
    "slideshow": {
     "slide_type": "slide"
    }
   },
   "outputs": [],
   "source": [
    "ax = sns.scatterplot(data=df, x=\"Tag (im März)\", y=\"Anzahl\");"
   ]
  },
  {
   "cell_type": "markdown",
   "id": "23817a0e",
   "metadata": {},
   "source": [
    "* Das Wachstum war exponentiell\n",
    "* Es gab aber Schankungen durch unterschiedliche Verzögerungen der Berichte der Gesundheitsämter"
   ]
  },
  {
   "cell_type": "markdown",
   "id": "ee2d7ad3",
   "metadata": {
    "slideshow": {
     "slide_type": "slide"
    }
   },
   "source": [
    "# Halblogarithmische Darstellung\n",
    "\n",
    "Bei halblogarithmischer Darstellung\n",
    "\n",
    "* ist die $x$-Achse linear skaliert: Gleiche absolute Zuwächse pro Längeneinheit\n",
    "* ist die $y$-Achse logarithmisch skaliert: Gleiche relative Zuwächse pro Längeneinheit\n",
    "* Das bedeutet:  Der Logarithmus der Daten wird angezeigt, und die $y$-Achse wird entsprechend unterteilt\n",
    "* Exponentiell wachsende Daten liegen bei halblogarithmischer Darstellung annäherend auf einer wachsenden Geraden, exponentiell fallende auf einer fallenden Geraden"
   ]
  },
  {
   "cell_type": "code",
   "execution_count": null,
   "id": "470770fb",
   "metadata": {
    "scrolled": false,
    "slideshow": {
     "slide_type": "slide"
    }
   },
   "outputs": [],
   "source": [
    "ax.set_yscale('log')\n",
    "ax.figure"
   ]
  },
  {
   "cell_type": "markdown",
   "id": "3ee175a3",
   "metadata": {
    "slideshow": {
     "slide_type": "slide"
    }
   },
   "source": [
    "## Exponentielles Modell vs. Lineare Regression\n",
    "\n",
    "* Lineares Modell: in gleichen Zeitabständen gleiche absolute Zuwächse\n",
    "* Exponentielles Modell: in gleichen Zeitabständen gleiche relative Zuwächse\n",
    "* Biologische Wachstums- oder Abklingprozesse verlaufen meistens exponentiell\n",
    "* Aufgabe der Regression im exponentiellen Modell ist es, bei Wachstumsprozessen die Verdoppelungszeit und bei    Abklingprozessen die Halbwertszeit zu bestimmen"
   ]
  },
  {
   "cell_type": "markdown",
   "id": "db2116fa",
   "metadata": {
    "slideshow": {
     "slide_type": "fragment"
    }
   },
   "source": [
    "* Dies geschieht, indem man die Werte logarithmiert und dann deren lineare Regression berechnet"
   ]
  },
  {
   "cell_type": "markdown",
   "id": "1715b423",
   "metadata": {
    "slideshow": {
     "slide_type": "slide"
    }
   },
   "source": [
    "## Regression im exponentiellen Modell\n",
    "\n",
    "* $x$ die Zeit, $z$ Daten, die exponentiell wachsen (bzw. abklingen)\n",
    "* Modellgleichung für Wachstumsprozess: \n",
    "$$      z = c \\cdot e^{m\\cdot x}  $$\n",
    "* logarithmierte Modellgleichung\n",
    "$$      y = \\ln(z) = \\ln(c) + m \\cdot x  $$"
   ]
  },
  {
   "cell_type": "markdown",
   "id": "3201fa56",
   "metadata": {
    "slideshow": {
     "slide_type": "fragment"
    }
   },
   "source": [
    "* bestimme diese Gerade durch lineare Regression\n",
    "* wenn $m < 0$, dann Abklingprozess"
   ]
  },
  {
   "cell_type": "code",
   "execution_count": null,
   "id": "87ba6d39",
   "metadata": {
    "slideshow": {
     "slide_type": "slide"
    }
   },
   "outputs": [],
   "source": [
    "df['logAnzahl'] = np.log(df.Anzahl)\n",
    "df['Tag'] = df['Tag (im März)']"
   ]
  },
  {
   "cell_type": "code",
   "execution_count": null,
   "id": "4a184e21",
   "metadata": {},
   "outputs": [],
   "source": [
    "formel = 'logAnzahl ~ Tag'\n",
    "modell = smf.ols(formel, df)\n",
    "res = modell.fit()"
   ]
  },
  {
   "cell_type": "code",
   "execution_count": null,
   "id": "02dca15a",
   "metadata": {
    "slideshow": {
     "slide_type": "slide"
    }
   },
   "outputs": [],
   "source": [
    "res.summary()"
   ]
  },
  {
   "cell_type": "markdown",
   "id": "9f518636",
   "metadata": {},
   "source": [
    "* m = 0.226\n",
    "* b = 3.441"
   ]
  },
  {
   "cell_type": "markdown",
   "id": "a152496a",
   "metadata": {
    "slideshow": {
     "slide_type": "slide"
    }
   },
   "source": [
    "Die Regressionsgerade für die logarithmierten Daten ist\n",
    "$$  y = 0.226 \\cdot x + 3.441\n",
    "$$"
   ]
  },
  {
   "cell_type": "code",
   "execution_count": null,
   "id": "db0c5ad6",
   "metadata": {},
   "outputs": [],
   "source": [
    "tage = np.arange(3, 24)\n",
    "gerade = 0.226*tage + 3.441"
   ]
  },
  {
   "cell_type": "code",
   "execution_count": null,
   "id": "4c592619",
   "metadata": {
    "slideshow": {
     "slide_type": "slide"
    }
   },
   "outputs": [],
   "source": [
    "titel = \"Die logarithmierten Daten zusammen mit ihrer Regressionsgerade\"\n",
    "ax2 = sns.scatterplot(x=df.Tag, y=df.logAnzahl)\n",
    "sns.lineplot(x=tage, y=gerade)\n",
    "ax2.set_title(titel);"
   ]
  },
  {
   "cell_type": "code",
   "execution_count": null,
   "id": "973bd5b3",
   "metadata": {
    "slideshow": {
     "slide_type": "slide"
    }
   },
   "outputs": [],
   "source": [
    "titel = \"Die exponentierte Regressionskurve zusammen mit den Ausgangsdaten in halblogarithmischer Darstellung\"\n",
    "sns.lineplot(x=tage, y=np.exp(gerade), ax=ax)\n",
    "ax.set_title(titel)\n",
    "ax.figure"
   ]
  },
  {
   "cell_type": "code",
   "execution_count": null,
   "id": "8c1e42a7",
   "metadata": {
    "slideshow": {
     "slide_type": "slide"
    }
   },
   "outputs": [],
   "source": [
    "titel = \"Die exponentierte Regressionskurve zusammen mit den Ausgangsdaten in linearer Darstellung\"\n",
    "ax.set_title(titel)\n",
    "ax.set_yscale('linear')\n",
    "ax.figure"
   ]
  },
  {
   "cell_type": "markdown",
   "id": "ffb80bcc",
   "metadata": {
    "slideshow": {
     "slide_type": "slide"
    }
   },
   "source": [
    "# Halbwerts- bzw. Verdoppelungszeit\n",
    "\n",
    "* Modell eines Wachstumsprozesses\n",
    "$$      z = c \\cdot e^{m\\cdot x}  $$\n",
    "* Verdoppelungszeit $t$ bestimmt durch\n",
    "$$      e^{m\\cdot t} = 2   $$\n",
    "* Also\n",
    "$$      t = \\frac{\\ln 2}m  $$\n",
    "* Bei Abklingprozessen ist $m < 0$, dann ist\n",
    "$$     t = -\\frac{\\ln 2}m  $$\n",
    "    die Halbwertszeit"
   ]
  },
  {
   "cell_type": "markdown",
   "id": "dd2f8814",
   "metadata": {
    "slideshow": {
     "slide_type": "slide"
    }
   },
   "source": [
    "Im Beispiel Covid"
   ]
  },
  {
   "cell_type": "code",
   "execution_count": null,
   "id": "4f43d2e9",
   "metadata": {},
   "outputs": [],
   "source": [
    "m = 0.226"
   ]
  },
  {
   "cell_type": "code",
   "execution_count": null,
   "id": "609adaf1",
   "metadata": {},
   "outputs": [],
   "source": [
    "t = np.log(2) / m\n",
    "t"
   ]
  },
  {
   "cell_type": "markdown",
   "id": "a2a9afc2",
   "metadata": {
    "slideshow": {
     "slide_type": "fragment"
    }
   },
   "source": [
    "Die Verdoppelungszeit beträgt 3.07 Tage"
   ]
  }
 ],
 "metadata": {
  "celltoolbar": "Slideshow",
  "kernelspec": {
   "display_name": "Python 3 (ipykernel)",
   "language": "python",
   "name": "python3"
  },
  "language_info": {
   "codemirror_mode": {
    "name": "ipython",
    "version": 3
   },
   "file_extension": ".py",
   "mimetype": "text/x-python",
   "name": "python",
   "nbconvert_exporter": "python",
   "pygments_lexer": "ipython3",
   "version": "3.11.5"
  }
 },
 "nbformat": 4,
 "nbformat_minor": 5
}
