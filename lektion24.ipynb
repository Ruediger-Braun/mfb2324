{
 "cells": [
  {
   "cell_type": "markdown",
   "id": "97e910de",
   "metadata": {
    "slideshow": {
     "slide_type": "slide"
    }
   },
   "source": [
    "## Mathematik für Biologiestudierende II\n",
    "\n",
    "Sommersemester 2024\n",
    "\n",
    "25.06.2024\n",
    "\n",
    "&copy; 2024 Prof. Dr. Rüdiger W. Braun "
   ]
  },
  {
   "cell_type": "code",
   "execution_count": null,
   "id": "71cb2719",
   "metadata": {
    "slideshow": {
     "slide_type": "slide"
    }
   },
   "outputs": [],
   "source": [
    "import numpy as np\n",
    "import pandas as pd\n",
    "from scipy import stats\n",
    "import statsmodels.formula.api as smf\n",
    "import seaborn as sns\n",
    "sns.set_theme()\n",
    "import warnings\n",
    "warnings.filterwarnings('ignore', message='The figure layout has changed')"
   ]
  },
  {
   "cell_type": "markdown",
   "id": "6a646d3b",
   "metadata": {
    "slideshow": {
     "slide_type": "slide"
    }
   },
   "source": [
    "# Lineare Modelle"
   ]
  },
  {
   "cell_type": "markdown",
   "id": "b69c9dc2",
   "metadata": {
    "slideshow": {
     "slide_type": "fragment"
    }
   },
   "source": [
    "#### Themen heute"
   ]
  },
  {
   "cell_type": "markdown",
   "id": "5826016c",
   "metadata": {
    "slideshow": {
     "slide_type": "-"
    }
   },
   "source": [
    "* mehrere erklärende Variablen\n",
    "* Transformationen\n",
    "* Normalverteilungsannahmen\n",
    "* kategorielle erklärende Variablen"
   ]
  },
  {
   "cell_type": "markdown",
   "id": "168a50eb",
   "metadata": {
    "slideshow": {
     "slide_type": "slide"
    }
   },
   "source": [
    "# Lineare Modelle mit kategoriellen Daten"
   ]
  },
  {
   "cell_type": "markdown",
   "id": "0a5bd068",
   "metadata": {},
   "source": [
    "Wir kommen zu dem Rattenbeispiel aus Lektion 21 zurück:\n",
    "\n",
    "* kontaminiertes Gelände: fange 10 Ratten\n",
    "* unbelastetes Vergleichsgelände:  fange 10 Ratten\n",
    "* für jede Ratte wird ihr Alter in Monaten und der Bleigehalt im Gewebe bestimmt"
   ]
  },
  {
   "cell_type": "code",
   "execution_count": null,
   "id": "d130187a",
   "metadata": {},
   "outputs": [],
   "source": [
    "df = pd.read_csv('ratten.csv')"
   ]
  },
  {
   "cell_type": "code",
   "execution_count": null,
   "id": "d506d0da",
   "metadata": {},
   "outputs": [],
   "source": [
    "sns.lmplot(df, x='Alter', y='Belastung', hue='Gelände');"
   ]
  },
  {
   "cell_type": "markdown",
   "id": "90826ecd",
   "metadata": {},
   "source": [
    "* Der t-Test zeigte keinen Unterschied zwischen den Ratten auf kontaminierten und nicht kontaminiertem Gelände.\n",
    "* Die Ratten auf dem kontaminierten Gelände sind aber im Schnitt jünger.  \n",
    "* Wir wollen gleichaltrige Ratten vergleichen"
   ]
  },
  {
   "cell_type": "code",
   "execution_count": null,
   "id": "b9e16f52",
   "metadata": {},
   "outputs": [],
   "source": [
    "formel = 'Belastung ~ Alter + Gelände'\n",
    "modell = smf.ols(formel, df)\n",
    "res = modell.fit()"
   ]
  },
  {
   "cell_type": "code",
   "execution_count": null,
   "id": "a42718b4",
   "metadata": {},
   "outputs": [],
   "source": [
    "res.summary()"
   ]
  },
  {
   "cell_type": "markdown",
   "id": "5e591a8a",
   "metadata": {},
   "source": [
    "* `Gelände[T.unbelastet]` ist signifikant\n",
    "* Allerdings ist das der Unterschied bei Alter = 0\n",
    "* Das ist Unsinn"
   ]
  },
  {
   "cell_type": "markdown",
   "id": "3898e75e",
   "metadata": {},
   "source": [
    "* Wir vergleichen im Alter von 8 und 9 Monaten"
   ]
  },
  {
   "cell_type": "code",
   "execution_count": null,
   "id": "c9be9236",
   "metadata": {},
   "outputs": [],
   "source": [
    "anfrage = pd.DataFrame()\n",
    "anfrage['Alter'] = [8,8,9,9]\n",
    "anfrage['Gelände'] = ['belastet', 'unbelastet', 'belastet', 'unbelastet']\n",
    "anfrage"
   ]
  },
  {
   "cell_type": "code",
   "execution_count": null,
   "id": "872b6ce6",
   "metadata": {},
   "outputs": [],
   "source": [
    "res.get_prediction(anfrage).summary_frame()"
   ]
  },
  {
   "cell_type": "markdown",
   "id": "b5d304e2",
   "metadata": {},
   "source": [
    "* Relevant sind hier die Konfidenzintervalle für die Mittelwerte\n",
    "* Für beide Werte von `Alter` ist die untere Vertrauensgrenze für die Belastung im Gewebe der Ratten vom kontaminierten Gelände höher als die obere Vertrauensgrenze für die Ratten vom unkontaminierten Gelände\n",
    "* Zum Signifikanzniveau $\\alpha = 0.95$ ist der Unterschied in der Bleibelastung signifikant"
   ]
  },
  {
   "cell_type": "markdown",
   "id": "bd0a4b19",
   "metadata": {},
   "source": [
    "## Bestimmung des p-Werts"
   ]
  },
  {
   "cell_type": "markdown",
   "id": "713b3479",
   "metadata": {},
   "source": [
    "* Der p-Wert wird nur für den Unterschies in 0 ausgegeben.\n",
    "* Trick:  Verlegung des Nullpunkts."
   ]
  },
  {
   "cell_type": "markdown",
   "id": "49cfd395",
   "metadata": {},
   "source": [
    "* Im Beispiel verlegen wird den Nullpunkt auf 8 Monate.\n",
    "* Wir führen in der Tabelle also eine Spalte mit der Altersdifferenz zu 8 Monaten ein"
   ]
  },
  {
   "cell_type": "code",
   "execution_count": null,
   "id": "706c99ca",
   "metadata": {},
   "outputs": [],
   "source": [
    "df['Altersdifferenz'] = df.Alter - 8\n",
    "df"
   ]
  },
  {
   "cell_type": "code",
   "execution_count": null,
   "id": "24701767",
   "metadata": {},
   "outputs": [],
   "source": [
    "formel2 = 'Belastung ~ Altersdifferenz + Gelände'\n",
    "modell2 = smf.ols(formel2, df)\n",
    "res2 = modell2.fit()"
   ]
  },
  {
   "cell_type": "code",
   "execution_count": null,
   "id": "fb4177de",
   "metadata": {},
   "outputs": [],
   "source": [
    "res2.summary()"
   ]
  },
  {
   "cell_type": "markdown",
   "id": "e858590a",
   "metadata": {},
   "source": [
    "* Der p-Wert ist 0.002"
   ]
  },
  {
   "cell_type": "markdown",
   "id": "ba291916",
   "metadata": {},
   "source": [
    "# ANOVA als lineares Modell"
   ]
  },
  {
   "cell_type": "markdown",
   "id": "d0468d30",
   "metadata": {},
   "source": [
    "### Beispiel Schadstoffkonzentration"
   ]
  },
  {
   "cell_type": "markdown",
   "id": "c0e6fb80",
   "metadata": {},
   "source": [
    "* An fünf verschiedenen Messstellen wurde die Konzentration eines Schadstoffs gemessen\n",
    "* Hat die Messstelle einen Einfluss auf die Konzentration?\n",
    "* Die Messstelle ist der Faktor\n",
    "* Die Konzentration ist die Zielvariable"
   ]
  },
  {
   "cell_type": "code",
   "execution_count": null,
   "id": "28ab7109",
   "metadata": {},
   "outputs": [],
   "source": [
    "u_schad = \"https://www.math.uni-duesseldorf.de/~braun/bio2324/data/schadstoffe.csv\"\n",
    "df = pd.read_csv(u_schad, index_col=0)\n",
    "df"
   ]
  },
  {
   "cell_type": "code",
   "execution_count": null,
   "id": "73087cc6",
   "metadata": {},
   "outputs": [],
   "source": [
    "g1 = df[df.Messstelle==1].Konzentration\n",
    "g2 = df[df.Messstelle==2].Konzentration\n",
    "g3 = df[df.Messstelle==3].Konzentration\n",
    "g4 = df[df.Messstelle==4].Konzentration\n",
    "g5 = df[df.Messstelle==5].Konzentration"
   ]
  },
  {
   "cell_type": "code",
   "execution_count": null,
   "id": "92ae8c3f",
   "metadata": {},
   "outputs": [],
   "source": [
    "res = stats.f_oneway(g1, g2, g3, g4, g5)\n",
    "res"
   ]
  },
  {
   "cell_type": "markdown",
   "id": "371a6501",
   "metadata": {},
   "source": [
    "Das ist ein lineares Modell, bei dem die einzige erklärende Variable kategoriell ist"
   ]
  },
  {
   "cell_type": "code",
   "execution_count": null,
   "id": "596beeca",
   "metadata": {},
   "outputs": [],
   "source": [
    "formel = 'Konzentration ~ Messstelle'\n",
    "modell = smf.ols(formel, df)\n",
    "res = modell.fit()"
   ]
  },
  {
   "cell_type": "code",
   "execution_count": null,
   "id": "ec4e3611",
   "metadata": {},
   "outputs": [],
   "source": [
    "res.summary()"
   ]
  },
  {
   "cell_type": "markdown",
   "id": "ee05158b",
   "metadata": {},
   "source": [
    "* Sehen Sie, wie das schief gegangen ist?"
   ]
  },
  {
   "cell_type": "code",
   "execution_count": null,
   "id": "b02b0a75",
   "metadata": {},
   "outputs": [],
   "source": [
    "formel = 'Konzentration ~ C(Messstelle)'\n",
    "modell = smf.ols(formel, df)\n",
    "res = modell.fit()"
   ]
  },
  {
   "cell_type": "markdown",
   "id": "13c87b23",
   "metadata": {},
   "source": [
    "* durch `C(Messstelle)` wird festgelegt, dass es sich um einen kategoriellen Wert handelt\n",
    "* wenn die Messstellen nicht durch Nummern, sondern durch Text (z.B. \"unterer Bachlauf\") bezeichnet sind, ist das nicht nötig"
   ]
  },
  {
   "cell_type": "code",
   "execution_count": null,
   "id": "5c95ec1c",
   "metadata": {},
   "outputs": [],
   "source": [
    "res.summary()"
   ]
  },
  {
   "cell_type": "markdown",
   "id": "2787738e",
   "metadata": {},
   "source": [
    "* Der Eintrag `Prob (F-statistic)` zeigt den p-Wert der ANOVA\n",
    "* Der Eintrag `F-statistic` teigt die Teststatistik der ANOVA"
   ]
  },
  {
   "cell_type": "markdown",
   "id": "9716b8c9",
   "metadata": {},
   "source": [
    "* Die Einträge `C(Messstelle)[T.2]` usw. zeigen **nicht** die post-Hoc Analyse"
   ]
  },
  {
   "cell_type": "code",
   "execution_count": null,
   "id": "02dbaee0",
   "metadata": {},
   "outputs": [],
   "source": [
    "stats.ttest_ind(g1, g3)"
   ]
  },
  {
   "cell_type": "code",
   "execution_count": null,
   "id": "d7644bf7",
   "metadata": {},
   "outputs": [],
   "source": [
    "stats.ttest_ind?"
   ]
  },
  {
   "cell_type": "code",
   "execution_count": null,
   "id": "bf0c9da1",
   "metadata": {},
   "outputs": [],
   "source": [
    "g1.describe()"
   ]
  },
  {
   "cell_type": "code",
   "execution_count": null,
   "id": "83f89c76",
   "metadata": {},
   "outputs": [],
   "source": [
    "import statsmodels.api as sm"
   ]
  },
  {
   "cell_type": "code",
   "execution_count": null,
   "id": "001b5bcf",
   "metadata": {},
   "outputs": [],
   "source": [
    "sm.stats.anova_lm(res)"
   ]
  },
  {
   "cell_type": "markdown",
   "id": "6b6fe4de",
   "metadata": {},
   "source": [
    "# Regression im exponentiellen Modell"
   ]
  },
  {
   "cell_type": "markdown",
   "id": "33eae93f",
   "metadata": {},
   "source": [
    "## Beispiel Covid-Erkrankungen"
   ]
  },
  {
   "cell_type": "code",
   "execution_count": null,
   "id": "a53a4838",
   "metadata": {},
   "outputs": [],
   "source": [
    "df = pd.read_csv('corona.csv')\n",
    "df.head()"
   ]
  },
  {
   "cell_type": "code",
   "execution_count": null,
   "id": "7f766c51",
   "metadata": {},
   "outputs": [],
   "source": [
    "df.columns"
   ]
  },
  {
   "cell_type": "code",
   "execution_count": null,
   "id": "7b44f1f3",
   "metadata": {},
   "outputs": [],
   "source": [
    "ax = sns.scatterplot(data=df, x=\"Tag (im März)\", y=\"Anzahl\");"
   ]
  },
  {
   "cell_type": "markdown",
   "id": "23817a0e",
   "metadata": {},
   "source": [
    "* Wir hatten damals starke Schankungen durch unterschiedliche Verzögerungen der Berichte der Gesundheitsämter\n",
    "* Im  großen und ganzen war das Wachstum aber exponentiell\n",
    "* Wir skalieren die y-Achse logarithmisch"
   ]
  },
  {
   "cell_type": "code",
   "execution_count": null,
   "id": "470770fb",
   "metadata": {},
   "outputs": [],
   "source": [
    "ax.set_yscale('log')\n",
    "ax.get_figure()"
   ]
  },
  {
   "cell_type": "markdown",
   "id": "194dacc6",
   "metadata": {},
   "source": [
    "* Wir logarithmieren die Anzahlen\n",
    "* Wir machen lineare Regression für die logarithmierten Anzahlen\n",
    "* Wir exponentieren wieder"
   ]
  },
  {
   "cell_type": "code",
   "execution_count": null,
   "id": "87ba6d39",
   "metadata": {},
   "outputs": [],
   "source": [
    "df['logAnzahl'] = np.log(df.Anzahl)\n",
    "df['Tag'] = df['Tag (im März)']"
   ]
  },
  {
   "cell_type": "code",
   "execution_count": null,
   "id": "4a184e21",
   "metadata": {},
   "outputs": [],
   "source": [
    "formel = 'logAnzahl ~ Tag'\n",
    "modell = smf.ols(formel, df)\n",
    "res = modell.fit()"
   ]
  },
  {
   "cell_type": "code",
   "execution_count": null,
   "id": "02dca15a",
   "metadata": {},
   "outputs": [],
   "source": [
    "res.summary()"
   ]
  },
  {
   "cell_type": "code",
   "execution_count": null,
   "id": "29cbabd0",
   "metadata": {},
   "outputs": [],
   "source": [
    "tage = np.arange(3, 24)\n",
    "gerade = 0.226*tage + 3.441\n",
    "expKurve = np.exp(gerade)\n",
    "sns.lineplot(x=tage, y=expKurve)"
   ]
  },
  {
   "cell_type": "code",
   "execution_count": null,
   "id": "8ce1d7c6",
   "metadata": {},
   "outputs": [],
   "source": [
    "sns.lineplot(x=tage, y=expKurve, ax=ax)\n",
    "ax.get_figure()"
   ]
  },
  {
   "cell_type": "code",
   "execution_count": null,
   "id": "b6ed51e2",
   "metadata": {},
   "outputs": [],
   "source": [
    "ax.set_yscale('linear')\n",
    "ax.get_figure()"
   ]
  },
  {
   "cell_type": "code",
   "execution_count": null,
   "id": "34ac7e94",
   "metadata": {},
   "outputs": [],
   "source": []
  }
 ],
 "metadata": {
  "celltoolbar": "Slideshow",
  "kernelspec": {
   "display_name": "Python 3 (ipykernel)",
   "language": "python",
   "name": "python3"
  },
  "language_info": {
   "codemirror_mode": {
    "name": "ipython",
    "version": 3
   },
   "file_extension": ".py",
   "mimetype": "text/x-python",
   "name": "python",
   "nbconvert_exporter": "python",
   "pygments_lexer": "ipython3",
   "version": "3.11.5"
  }
 },
 "nbformat": 4,
 "nbformat_minor": 5
}
