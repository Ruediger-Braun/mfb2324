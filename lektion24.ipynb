{
 "cells": [
  {
   "cell_type": "markdown",
   "id": "97e910de",
   "metadata": {
    "slideshow": {
     "slide_type": "slide"
    }
   },
   "source": [
    "## Mathematik für Biologiestudierende II\n",
    "\n",
    "Sommersemester 2024\n",
    "\n",
    "25.06.2024\n",
    "\n",
    "&copy; 2024 Prof. Dr. Rüdiger W. Braun "
   ]
  },
  {
   "cell_type": "code",
   "execution_count": null,
   "id": "71cb2719",
   "metadata": {
    "slideshow": {
     "slide_type": "slide"
    }
   },
   "outputs": [],
   "source": [
    "import numpy as np\n",
    "import pandas as pd\n",
    "from scipy import stats\n",
    "import statsmodels.formula.api as smf\n",
    "import seaborn as sns\n",
    "sns.set_theme()"
   ]
  },
  {
   "cell_type": "markdown",
   "id": "6a646d3b",
   "metadata": {
    "slideshow": {
     "slide_type": "slide"
    }
   },
   "source": [
    "# Lineare Modelle"
   ]
  },
  {
   "cell_type": "markdown",
   "id": "b69c9dc2",
   "metadata": {},
   "source": [
    "#### Themen heute"
   ]
  },
  {
   "cell_type": "markdown",
   "id": "5826016c",
   "metadata": {
    "slideshow": {
     "slide_type": "fragment"
    }
   },
   "source": [
    "* mehrere erklärende Variable\n",
    "* Transformationen\n",
    "* Normalverteilungsannahmen\n",
    "* Varianten von `smf.ols`"
   ]
  },
  {
   "cell_type": "markdown",
   "id": "bc361608",
   "metadata": {},
   "source": [
    "# Mehrere Erklärende Variable"
   ]
  },
  {
   "cell_type": "code",
   "execution_count": null,
   "id": "37e54552",
   "metadata": {},
   "outputs": [],
   "source": [
    "df = pd.read_csv('larven.csv')\n",
    "df.head()"
   ]
  },
  {
   "cell_type": "markdown",
   "id": "f016d08a",
   "metadata": {},
   "source": [
    "* AnzLarven:  Anzahl der Larven eines Kleinstlebewesens pro Liter\n",
    "* A, B, C, D, E:  Konzentrationen eines potentiellen Schadstoffs in ppb (Teile pro Milliarde)"
   ]
  },
  {
   "cell_type": "markdown",
   "id": "2bac1bd2",
   "metadata": {},
   "source": [
    "* das Experiment ist *beobachtend*\n",
    "* keine Möglichkeit der unabhängigen Veränderung einzelner Parameter"
   ]
  },
  {
   "cell_type": "code",
   "execution_count": null,
   "id": "0e94e8cf",
   "metadata": {},
   "outputs": [],
   "source": [
    "df.describe().round(0)"
   ]
  },
  {
   "cell_type": "code",
   "execution_count": null,
   "id": "482216f2",
   "metadata": {},
   "outputs": [],
   "source": [
    "formel = 'AnzLarven ~ A + B + C + D + E'\n",
    "modell = smf.ols(formel, df)"
   ]
  },
  {
   "cell_type": "code",
   "execution_count": null,
   "id": "dbb0868b",
   "metadata": {},
   "outputs": [],
   "source": [
    "res = modell.fit()"
   ]
  },
  {
   "cell_type": "code",
   "execution_count": null,
   "id": "a0ff604b",
   "metadata": {},
   "outputs": [],
   "source": [
    "res.summary()"
   ]
  },
  {
   "cell_type": "markdown",
   "id": "14ed984c",
   "metadata": {},
   "source": [
    "* Der Einfluss von B und E ist nicht signifikant\n",
    "* Wir entfernen sie aus dem Modell"
   ]
  },
  {
   "cell_type": "code",
   "execution_count": null,
   "id": "67824ac1",
   "metadata": {},
   "outputs": [],
   "source": [
    "formel2 = 'AnzLarven ~ A + C + D'\n",
    "modell2 = smf.ols(formel2, df)\n",
    "res2 = modell2.fit()"
   ]
  },
  {
   "cell_type": "code",
   "execution_count": null,
   "id": "d4e2e2ed",
   "metadata": {},
   "outputs": [],
   "source": [
    "res2.summary()"
   ]
  },
  {
   "cell_type": "markdown",
   "id": "3c84f8cd",
   "metadata": {},
   "source": [
    "* die drei verbleibenden Stoffe haben signifikanten Einfluss auf die Larvenpopulation\n",
    "* C und D verringen die Anzahl: Schadstoffe\n",
    "* A erhöht sie:  Nährstoff"
   ]
  },
  {
   "cell_type": "markdown",
   "id": "9ecc9e0f",
   "metadata": {},
   "source": [
    "# Transformationen"
   ]
  },
  {
   "cell_type": "markdown",
   "id": "79276025",
   "metadata": {},
   "source": [
    "* Das Konfidenzintervall für den Koeffizienten des Stoffs D wir angegeben als [-0., -0.]\n",
    "* Lösung:  wir geben die Konzentration von D statt in ppb in ppm an\n",
    "* Das multipliziert den Koeffizienten mit 1000"
   ]
  },
  {
   "cell_type": "code",
   "execution_count": null,
   "id": "aaaccb2d",
   "metadata": {},
   "outputs": [],
   "source": [
    "df['D_in_ppm'] = df.D / 1000"
   ]
  },
  {
   "cell_type": "code",
   "execution_count": null,
   "id": "3e740d25",
   "metadata": {},
   "outputs": [],
   "source": [
    "formel3 = 'AnzLarven ~ A + C + D_in_ppm'\n",
    "modell3 = smf.ols(formel3, df)\n",
    "res3 = modell3.fit()"
   ]
  },
  {
   "cell_type": "code",
   "execution_count": null,
   "id": "1fd2314f",
   "metadata": {},
   "outputs": [],
   "source": [
    "res3.summary()"
   ]
  },
  {
   "cell_type": "markdown",
   "id": "0f417878",
   "metadata": {},
   "source": [
    "## Transformation\n",
    "\n",
    "* wir haben eine Spalte der Matric transformiert von ppb auf ppm\n",
    "* dadurch wurd die Statistik nicht verändert; das Ergebnis wurde nur anschaulicher"
   ]
  },
  {
   "cell_type": "markdown",
   "id": "bed18ae8",
   "metadata": {},
   "source": [
    "* einzelne Zeilen können nicht transformiert werden, alle Zeilen müssen in demselbe System gemessen werden"
   ]
  },
  {
   "cell_type": "markdown",
   "id": "a942f27e",
   "metadata": {},
   "source": [
    "## Beispiel: Galapagos-Inseln"
   ]
  },
  {
   "cell_type": "markdown",
   "id": "b3cac6b8",
   "metadata": {},
   "source": [
    "* Daten aus Faraway:  Linear Models with Python\n",
    "* ursprüngliche Datenquelle\n",
    "  * Johnson, M., and Raven, P.:  *Species Number and endemism: the Gálapagos Archipelago revisited.*  Science 179 (1973), 893-895"
   ]
  },
  {
   "cell_type": "code",
   "execution_count": null,
   "id": "f884c76a",
   "metadata": {},
   "outputs": [],
   "source": [
    "df = pd.read_csv('galapagos.csv')\n",
    "df.head()"
   ]
  },
  {
   "cell_type": "markdown",
   "id": "3fd9c06d",
   "metadata": {},
   "source": [
    "* Species:  Anzahl verschiedener Wirbeltierarten\n",
    "* Area:  Größe der Insel\n",
    "* Elevation:  Höchste Erhebung auf der Insel\n",
    "* Nearest:  Abstand zur nächsten Insel\n",
    "* Scruz:  Abstand zu Santa Cruz\n",
    "* Adjacent:  Größe der nächstgelegenen Insel"
   ]
  },
  {
   "cell_type": "code",
   "execution_count": null,
   "id": "d86087df",
   "metadata": {},
   "outputs": [],
   "source": [
    "df.describe()"
   ]
  },
  {
   "cell_type": "code",
   "execution_count": null,
   "id": "ced8eccb",
   "metadata": {},
   "outputs": [],
   "source": [
    "formel = 'Species ~ Area + Elevation + Nearest + Scruz + Adjacent'\n",
    "modell = smf.ols(formel, df)\n",
    "res = modell.fit()"
   ]
  },
  {
   "cell_type": "code",
   "execution_count": null,
   "id": "408f532e",
   "metadata": {},
   "outputs": [],
   "source": [
    "res.summary()"
   ]
  },
  {
   "cell_type": "markdown",
   "id": "d4eb1190",
   "metadata": {},
   "source": [
    "Nur zwei der erklärenden Variablen haben signifikanten Einfluss\n",
    "\n",
    "* Die Höhe der Insel\n",
    "* Die Fläche der benachbarten Insel, aber mit negativer Korrelation"
   ]
  },
  {
   "cell_type": "markdown",
   "id": "5e16e09d",
   "metadata": {},
   "source": [
    "# Normalverteilungsannahmen"
   ]
  },
  {
   "cell_type": "markdown",
   "id": "464fa796",
   "metadata": {},
   "source": [
    "* `smf.ols` hat Anwendungsvoraussetzungen\n",
    "* eine davon ist, dass alle Variablen normalverteilt sind"
   ]
  },
  {
   "cell_type": "markdown",
   "id": "2594ab36",
   "metadata": {},
   "source": [
    "* wir prüfen das mit qq-Plots wie in Lektion "
   ]
  },
  {
   "cell_type": "code",
   "execution_count": null,
   "id": "5b3bd60a",
   "metadata": {},
   "outputs": [],
   "source": [
    "import statsmodels.api as sm\n",
    "pp_s = sm.ProbPlot(df.Species)\n",
    "pp_s.qqplot();"
   ]
  },
  {
   "cell_type": "markdown",
   "id": "0104f143",
   "metadata": {},
   "source": [
    "Faraway schlägt vor, die Wurzel aus Species zu verwenden"
   ]
  },
  {
   "cell_type": "code",
   "execution_count": null,
   "id": "d45242f4",
   "metadata": {},
   "outputs": [],
   "source": [
    "pp_sw = sm.ProbPlot(np.sqrt(df.Species))\n",
    "pp_sw.qqplot();"
   ]
  },
  {
   "cell_type": "markdown",
   "id": "49d335f3",
   "metadata": {},
   "source": [
    "Auch der Logarithmus wäre eine einleuchtende Wahl"
   ]
  },
  {
   "cell_type": "code",
   "execution_count": null,
   "id": "4b271cfa",
   "metadata": {},
   "outputs": [],
   "source": [
    "pp_lw = sm.ProbPlot(np.log(df.Species))\n",
    "pp_lw.qqplot();"
   ]
  },
  {
   "cell_type": "markdown",
   "id": "5bcf3bca",
   "metadata": {},
   "source": [
    "Ich zeige alle QQ-Plots in einem Bild mit einem Verfahren, welches nicht zum Stoff gehört"
   ]
  },
  {
   "cell_type": "code",
   "execution_count": null,
   "id": "b4381b96",
   "metadata": {
    "scrolled": false
   },
   "outputs": [],
   "source": [
    "from matplotlib import pyplot as plt\n",
    "fig = plt.figure()\n",
    "for j in range(6):\n",
    "    spalte = df.columns[j+1]\n",
    "    ax = fig.add_subplot(231+j)\n",
    "    pp = sm.ProbPlot(df[spalte])\n",
    "    pp.qqplot(ax=ax, xlabel=spalte, ylabel='')\n",
    "fig.subplots_adjust(wspace=0.5, hspace=0.4)"
   ]
  },
  {
   "cell_type": "markdown",
   "id": "9c6ce6ba",
   "metadata": {},
   "source": [
    "Also verletzen alle Variablen die Normalverteilungsannahme mehr oder weniger deutlich\n"
   ]
  },
  {
   "cell_type": "code",
   "execution_count": null,
   "id": "2af60703",
   "metadata": {},
   "outputs": [],
   "source": [
    "log_formel = 'np.log(Species) ~ np.log(Area) + np.log(Elevation) + np.log(Nearest) + np.log(Scruz) + np.log(Adjacent)'\n",
    "log_modell = smf.ols(log_formel, df)"
   ]
  },
  {
   "cell_type": "markdown",
   "id": "b9ffc845",
   "metadata": {},
   "source": [
    "* Santa Cruz hat Abstand 0 zu Santa Cruz\n",
    "* Wir nehmen die Wurzel aus dieser Variablen"
   ]
  },
  {
   "cell_type": "code",
   "execution_count": null,
   "id": "4517c15f",
   "metadata": {},
   "outputs": [],
   "source": [
    "log_formel = 'np.log(Species) ~ np.log(Area) + np.log(Elevation) + np.log(Nearest) + np.sqrt(Scruz) + np.log(Adjacent)'\n",
    "log_modell = smf.ols(log_formel, df)"
   ]
  },
  {
   "cell_type": "code",
   "execution_count": null,
   "id": "91d9813c",
   "metadata": {},
   "outputs": [],
   "source": [
    "log_res = log_modell.fit()\n",
    "log_res.summary()"
   ]
  },
  {
   "cell_type": "markdown",
   "id": "e0728017",
   "metadata": {},
   "source": [
    "Nur noch die Fläche hat einen signifikanten Einfluss"
   ]
  },
  {
   "cell_type": "code",
   "execution_count": null,
   "id": "df31361d",
   "metadata": {},
   "outputs": [],
   "source": [
    "log_formel2 = 'np.log(Species) ~ np.log(Area)'\n",
    "log_modell2 = smf.ols(log_formel2, df)\n",
    "log_res2 = log_modell2.fit()"
   ]
  },
  {
   "cell_type": "code",
   "execution_count": null,
   "id": "8b6fc230",
   "metadata": {},
   "outputs": [],
   "source": [
    "log_res2.summary()"
   ]
  },
  {
   "cell_type": "code",
   "execution_count": null,
   "id": "fc4f22b1",
   "metadata": {},
   "outputs": [],
   "source": [
    "w_formel = 'np.sqrt(Species) ~ np.sqrt(Area) + np.sqrt(Elevation) + np.sqrt(Nearest) + np.sqrt(Scruz) + np.sqrt(Adjacent)'\n",
    "w_modell = smf.ols(w_formel, df)\n",
    "w_res = w_modell.fit()"
   ]
  },
  {
   "cell_type": "code",
   "execution_count": null,
   "id": "67b16867",
   "metadata": {},
   "outputs": [],
   "source": [
    "w_res.summary()"
   ]
  },
  {
   "cell_type": "code",
   "execution_count": null,
   "id": "8f9e2590",
   "metadata": {},
   "outputs": [],
   "source": [
    "log_formel = 'np.log(Species) ~ np.log(Area) + np.log(Elevation) + np.sqrt(Scruz) + np.log(Adjacent)'\n",
    "log_modell = smf.ols(log_formel, df)\n",
    "res = log_modell.fit()\n",
    "res.summary()"
   ]
  },
  {
   "cell_type": "code",
   "execution_count": null,
   "id": "22192785",
   "metadata": {},
   "outputs": [],
   "source": [
    "log_formel = 'np.log(Species) ~ np.log(Area) + np.log(Elevation) + np.sqrt(Scruz)'\n",
    "log_modell = smf.ols(log_formel, df)\n",
    "res = log_modell.fit()\n",
    "res.summary()"
   ]
  },
  {
   "cell_type": "code",
   "execution_count": null,
   "id": "b4f52bb6",
   "metadata": {},
   "outputs": [],
   "source": [
    "log_formel = 'np.log(Species) ~ np.log(Area) + np.sqrt(Scruz)'\n",
    "log_modell = smf.ols(log_formel, df)\n",
    "res = log_modell.fit()\n",
    "res.summary()"
   ]
  },
  {
   "cell_type": "code",
   "execution_count": null,
   "id": "99039584",
   "metadata": {},
   "outputs": [],
   "source": [
    "df = pd.read_csv('galton.csv')\n",
    "df.head()"
   ]
  },
  {
   "cell_type": "code",
   "execution_count": null,
   "id": "ffe3e4e9",
   "metadata": {},
   "outputs": [],
   "source": [
    "formel = 'childHeight ~ father + mother + gender'\n",
    "modell = smf.ols(formel, df)"
   ]
  },
  {
   "cell_type": "code",
   "execution_count": null,
   "id": "8a9f8987",
   "metadata": {},
   "outputs": [],
   "source": [
    "res = modell.fit()"
   ]
  },
  {
   "cell_type": "code",
   "execution_count": null,
   "id": "0c7d044b",
   "metadata": {},
   "outputs": [],
   "source": [
    "res.summary()"
   ]
  },
  {
   "cell_type": "code",
   "execution_count": null,
   "id": "6d61ec21",
   "metadata": {},
   "outputs": [],
   "source": []
  }
 ],
 "metadata": {
  "celltoolbar": "Slideshow",
  "kernelspec": {
   "display_name": "Python 3 (ipykernel)",
   "language": "python",
   "name": "python3"
  },
  "language_info": {
   "codemirror_mode": {
    "name": "ipython",
    "version": 3
   },
   "file_extension": ".py",
   "mimetype": "text/x-python",
   "name": "python",
   "nbconvert_exporter": "python",
   "pygments_lexer": "ipython3",
   "version": "3.11.5"
  }
 },
 "nbformat": 4,
 "nbformat_minor": 5
}
