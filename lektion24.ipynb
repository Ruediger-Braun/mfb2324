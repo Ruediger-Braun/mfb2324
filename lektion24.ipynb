{
 "cells": [
  {
   "cell_type": "markdown",
   "id": "97e910de",
   "metadata": {
    "slideshow": {
     "slide_type": "slide"
    }
   },
   "source": [
    "## Mathematik für Biologiestudierende II\n",
    "\n",
    "Sommersemester 2024\n",
    "\n",
    "25.06.2024\n",
    "\n",
    "&copy; 2024 Prof. Dr. Rüdiger W. Braun "
   ]
  },
  {
   "cell_type": "code",
   "execution_count": null,
   "id": "71cb2719",
   "metadata": {
    "slideshow": {
     "slide_type": "slide"
    }
   },
   "outputs": [],
   "source": [
    "import numpy as np\n",
    "import pandas as pd\n",
    "from scipy import stats\n",
    "import statsmodels.formula.api as smf\n",
    "import seaborn as sns\n",
    "sns.set_theme()\n",
    "import warnings\n",
    "warnings.filterwarnings('ignore', message='The figure layout has changed')"
   ]
  },
  {
   "cell_type": "markdown",
   "id": "6a646d3b",
   "metadata": {
    "slideshow": {
     "slide_type": "slide"
    }
   },
   "source": [
    "# Lineare Modelle"
   ]
  },
  {
   "cell_type": "markdown",
   "id": "b69c9dc2",
   "metadata": {
    "slideshow": {
     "slide_type": "fragment"
    }
   },
   "source": [
    "#### Themen heute"
   ]
  },
  {
   "cell_type": "markdown",
   "id": "5826016c",
   "metadata": {
    "slideshow": {
     "slide_type": "-"
    }
   },
   "source": [
    "* mehrere erklärende Variablen\n",
    "* Transformationen\n",
    "* Normalverteilungsannahmen\n",
    "* kategorielle erklärende Variablen"
   ]
  },
  {
   "cell_type": "markdown",
   "id": "bc361608",
   "metadata": {
    "slideshow": {
     "slide_type": "slide"
    }
   },
   "source": [
    "# Mehrere erklärende Variable"
   ]
  },
  {
   "cell_type": "code",
   "execution_count": null,
   "id": "37e54552",
   "metadata": {
    "slideshow": {
     "slide_type": "-"
    }
   },
   "outputs": [],
   "source": [
    "df = pd.read_csv('larven.csv')\n",
    "df.head()"
   ]
  },
  {
   "cell_type": "markdown",
   "id": "f016d08a",
   "metadata": {
    "slideshow": {
     "slide_type": "fragment"
    }
   },
   "source": [
    "* Anzahl_Larven:  Anzahl der Larven eines Kleinstlebewesens pro Liter\n",
    "* A, B, C, D, E:  Konzentrationen von fünf potentiellen Schadstoffen in ppb (Teile pro Milliarde)"
   ]
  },
  {
   "cell_type": "markdown",
   "id": "2bac1bd2",
   "metadata": {},
   "source": [
    "* das Experiment ist *beobachtend*\n",
    "* keine Möglichkeit der unabhängigen Veränderung einzelner Parameter"
   ]
  },
  {
   "cell_type": "code",
   "execution_count": null,
   "id": "0e94e8cf",
   "metadata": {
    "slideshow": {
     "slide_type": "slide"
    }
   },
   "outputs": [],
   "source": [
    "df.describe().round(0)"
   ]
  },
  {
   "cell_type": "code",
   "execution_count": null,
   "id": "482216f2",
   "metadata": {
    "slideshow": {
     "slide_type": "slide"
    }
   },
   "outputs": [],
   "source": [
    "formel = 'Anzahl_Larven ~ A + B + C + D + E'\n",
    "modell = smf.ols(formel, df)"
   ]
  },
  {
   "cell_type": "code",
   "execution_count": null,
   "id": "dbb0868b",
   "metadata": {},
   "outputs": [],
   "source": [
    "res = modell.fit()"
   ]
  },
  {
   "cell_type": "code",
   "execution_count": null,
   "id": "a0ff604b",
   "metadata": {
    "slideshow": {
     "slide_type": "slide"
    }
   },
   "outputs": [],
   "source": [
    "res.summary()"
   ]
  },
  {
   "cell_type": "markdown",
   "id": "14ed984c",
   "metadata": {
    "slideshow": {
     "slide_type": "slide"
    }
   },
   "source": [
    "* Der Einfluss von B und E ist nicht signifikant\n",
    "* Wir entfernen sie einzeln aus dem Modell\n",
    "* Am wenigsten signifikant ist der Einfluss von E"
   ]
  },
  {
   "cell_type": "code",
   "execution_count": null,
   "id": "f650dccb",
   "metadata": {},
   "outputs": [],
   "source": [
    "formel3 = 'Anzahl_Larven ~ A + B + C + D'\n",
    "modell3 = smf.ols(formel3, df)\n",
    "res3 = modell3.fit()"
   ]
  },
  {
   "cell_type": "code",
   "execution_count": null,
   "id": "5aff7fb8",
   "metadata": {
    "slideshow": {
     "slide_type": "slide"
    }
   },
   "outputs": [],
   "source": [
    "res3.summary()"
   ]
  },
  {
   "cell_type": "markdown",
   "id": "2a646668",
   "metadata": {
    "slideshow": {
     "slide_type": "slide"
    }
   },
   "source": [
    "* der Einfluss von B ist immer noch nicht signifikant"
   ]
  },
  {
   "cell_type": "code",
   "execution_count": null,
   "id": "67824ac1",
   "metadata": {},
   "outputs": [],
   "source": [
    "formel4 = 'Anzahl_Larven ~ A + C + D'\n",
    "modell4 = smf.ols(formel4, df)\n",
    "res4 = modell4.fit()"
   ]
  },
  {
   "cell_type": "code",
   "execution_count": null,
   "id": "d4e2e2ed",
   "metadata": {
    "slideshow": {
     "slide_type": "slide"
    }
   },
   "outputs": [],
   "source": [
    "res4.summary()"
   ]
  },
  {
   "cell_type": "markdown",
   "id": "3c84f8cd",
   "metadata": {
    "slideshow": {
     "slide_type": "slide"
    }
   },
   "source": [
    "* die drei verbleibenden Stoffe haben signifikanten Einfluss auf die Larvenpopulation\n",
    "* A und D verringen die Anzahl: Schadstoffe\n",
    "* C erhöht sie:  Nährstoff"
   ]
  },
  {
   "cell_type": "markdown",
   "id": "9ecc9e0f",
   "metadata": {
    "slideshow": {
     "slide_type": "slide"
    }
   },
   "source": [
    "# Transformationen"
   ]
  },
  {
   "cell_type": "markdown",
   "id": "79276025",
   "metadata": {
    "slideshow": {
     "slide_type": "fragment"
    }
   },
   "source": [
    "* Das Konfidenzintervall für den Koeffizienten des Stoffs D wird angegeben als [-0., -0.]\n",
    "* Lösung:  wir geben die Konzentration von D statt in ppb in ppm (parts per million) an\n",
    "* Das multipliziert den Koeffizienten mit 1000"
   ]
  },
  {
   "cell_type": "code",
   "execution_count": null,
   "id": "aaaccb2d",
   "metadata": {
    "slideshow": {
     "slide_type": "slide"
    }
   },
   "outputs": [],
   "source": [
    "df['D_in_ppm'] = df.D / 1000"
   ]
  },
  {
   "cell_type": "code",
   "execution_count": null,
   "id": "3e740d25",
   "metadata": {},
   "outputs": [],
   "source": [
    "formel5 = 'Anzahl_Larven ~ A + C + D_in_ppm'\n",
    "modell5 = smf.ols(formel5, df)\n",
    "res5 = modell5.fit()"
   ]
  },
  {
   "cell_type": "code",
   "execution_count": null,
   "id": "1fd2314f",
   "metadata": {
    "slideshow": {
     "slide_type": "slide"
    }
   },
   "outputs": [],
   "source": [
    "res5.summary()"
   ]
  },
  {
   "cell_type": "markdown",
   "id": "0f417878",
   "metadata": {
    "slideshow": {
     "slide_type": "slide"
    }
   },
   "source": [
    "## Transformation\n",
    "\n",
    "* wir haben eine Spalte der Tabelle transformiert von ppb auf ppm\n",
    "* dadurch wurde die Statistik nicht verändert; das Ergebnis wurde aber anschaulicher"
   ]
  },
  {
   "cell_type": "markdown",
   "id": "bed18ae8",
   "metadata": {
    "slideshow": {
     "slide_type": "fragment"
    }
   },
   "source": [
    "* einzelne Zeilen können nicht transformiert werden, alle Zeilen müssen in demselbe System gemessen werden"
   ]
  },
  {
   "cell_type": "markdown",
   "id": "cd4f9a03",
   "metadata": {
    "slideshow": {
     "slide_type": "fragment"
    }
   },
   "source": [
    "* Transformationen werden auch verwendet, wenn Daten die Anwendungsvoraussetzunge nicht erfüllen"
   ]
  },
  {
   "cell_type": "markdown",
   "id": "a942f27e",
   "metadata": {
    "slideshow": {
     "slide_type": "slide"
    }
   },
   "source": [
    "## Beispiel: Galapagos-Inseln"
   ]
  },
  {
   "cell_type": "markdown",
   "id": "b3cac6b8",
   "metadata": {
    "slideshow": {
     "slide_type": "fragment"
    }
   },
   "source": [
    "* Daten aus Faraway:  Linear Models with Python\n",
    "* ursprüngliche Datenquelle\n",
    "  * Johnson, M., and Raven, P.:  *Species Number and endemism: the Gálapagos Archipelago revisited.*  Science 179 (1973), 893-895"
   ]
  },
  {
   "cell_type": "code",
   "execution_count": null,
   "id": "f884c76a",
   "metadata": {
    "slideshow": {
     "slide_type": "slide"
    }
   },
   "outputs": [],
   "source": [
    "df = pd.read_csv('galapagos.csv')\n",
    "df.head()"
   ]
  },
  {
   "cell_type": "markdown",
   "id": "3fd9c06d",
   "metadata": {},
   "source": [
    "* Species:  Anzahl verschiedener Wirbeltierarten\n",
    "* Area:  Größe der Insel\n",
    "* Elevation:  Höchste Erhebung auf der Insel\n",
    "* Nearest:  Abstand zur nächsten Insel\n",
    "* Scruz:  Abstand zu Santa Cruz\n",
    "* Adjacent:  Größe der nächstgelegenen Insel"
   ]
  },
  {
   "cell_type": "code",
   "execution_count": null,
   "id": "d86087df",
   "metadata": {
    "slideshow": {
     "slide_type": "slide"
    }
   },
   "outputs": [],
   "source": [
    "df.describe()"
   ]
  },
  {
   "cell_type": "code",
   "execution_count": null,
   "id": "ced8eccb",
   "metadata": {
    "slideshow": {
     "slide_type": "-"
    }
   },
   "outputs": [],
   "source": [
    "formel = 'Species ~ Area + Elevation + Nearest + Scruz + Adjacent'\n",
    "modell = smf.ols(formel, df)\n",
    "res = modell.fit()"
   ]
  },
  {
   "cell_type": "code",
   "execution_count": null,
   "id": "408f532e",
   "metadata": {
    "scrolled": false,
    "slideshow": {
     "slide_type": "slide"
    }
   },
   "outputs": [],
   "source": [
    "res.summary()"
   ]
  },
  {
   "cell_type": "markdown",
   "id": "d4eb1190",
   "metadata": {
    "slideshow": {
     "slide_type": "slide"
    }
   },
   "source": [
    "Nur zwei der erklärenden Variablen haben signifikanten Einfluss\n",
    "\n",
    "* Die Höhe der Insel\n",
    "* Die Fläche der Nachbarinsel mit negativer Korrelation ❓❓❓"
   ]
  },
  {
   "cell_type": "markdown",
   "id": "5e16e09d",
   "metadata": {
    "slideshow": {
     "slide_type": "slide"
    }
   },
   "source": [
    "# Normalverteilungsannahmen"
   ]
  },
  {
   "cell_type": "markdown",
   "id": "464fa796",
   "metadata": {
    "slideshow": {
     "slide_type": "fragment"
    }
   },
   "source": [
    "* `smf.ols` hat Anwendungsvoraussetzungen\n",
    "* eine davon ist, dass alle Variablen normalverteilt sind"
   ]
  },
  {
   "cell_type": "markdown",
   "id": "2594ab36",
   "metadata": {},
   "source": [
    "* wir prüfen das mit qq-Plots wie in Lektion 14"
   ]
  },
  {
   "cell_type": "code",
   "execution_count": null,
   "id": "5b3bd60a",
   "metadata": {
    "slideshow": {
     "slide_type": "slide"
    }
   },
   "outputs": [],
   "source": [
    "import statsmodels.api as sm\n",
    "pp_s = sm.ProbPlot(df.Species)\n",
    "pp_s.qqplot();"
   ]
  },
  {
   "cell_type": "markdown",
   "id": "19b5bdac",
   "metadata": {},
   "source": [
    "* eine Transformation ist notwendig"
   ]
  },
  {
   "cell_type": "markdown",
   "id": "49d335f3",
   "metadata": {},
   "source": [
    "* Der Logarithmus ist eine mögliche Wahl\n",
    "* So machen das auch Johnson und Raven"
   ]
  },
  {
   "cell_type": "code",
   "execution_count": null,
   "id": "4b271cfa",
   "metadata": {
    "slideshow": {
     "slide_type": "slide"
    }
   },
   "outputs": [],
   "source": [
    "pp_lw = sm.ProbPlot(np.log(df.Species))\n",
    "pp_lw.qqplot();"
   ]
  },
  {
   "cell_type": "markdown",
   "id": "5bcf3bca",
   "metadata": {
    "slideshow": {
     "slide_type": "slide"
    }
   },
   "source": [
    "Ich zeige alle QQ-Plots in einem Bild mit einem Verfahren, welches nicht zum Stoff gehört"
   ]
  },
  {
   "cell_type": "code",
   "execution_count": null,
   "id": "5c4b7f12",
   "metadata": {},
   "outputs": [],
   "source": [
    "from matplotlib import pyplot as plt\n",
    "fig = plt.figure()\n",
    "for j in range(6):\n",
    "    spalte = df.columns[j+1]\n",
    "    ax = fig.add_subplot(231+j)\n",
    "    pp = sm.ProbPlot(df[spalte])\n",
    "    pp.qqplot(ax=ax, xlabel=spalte, ylabel='')\n",
    "fig.subplots_adjust(wspace=0.5, hspace=0.4);"
   ]
  },
  {
   "cell_type": "markdown",
   "id": "047e87f4",
   "metadata": {
    "slideshow": {
     "slide_type": "slide"
    }
   },
   "source": [
    "* Also verletzen alle Variablen die Normalverteilungsannahme mehr oder weniger deutlich\n",
    "* Wir transformieren sie daher ebenfalls\n",
    "* Problem:  Scruz hat Abstand 0 von sich selbst\n",
    "* $\\log$ ist nur für positive Zahlen erklärt"
   ]
  },
  {
   "cell_type": "markdown",
   "id": "9c6ce6ba",
   "metadata": {
    "slideshow": {
     "slide_type": "fragment"
    }
   },
   "source": [
    "* Wir entfernen diese Spalte aus dem Modell"
   ]
  },
  {
   "cell_type": "code",
   "execution_count": null,
   "id": "185c0e34",
   "metadata": {
    "slideshow": {
     "slide_type": "slide"
    }
   },
   "outputs": [],
   "source": [
    "fig = plt.figure()\n",
    "for j in range(6):\n",
    "    if j != 4:\n",
    "        spalte = df.columns[j+1]\n",
    "        ax = fig.add_subplot(231+j)\n",
    "        pp = sm.ProbPlot(np.log(df[spalte]))\n",
    "        pp.qqplot(ax=ax, xlabel=spalte, ylabel='')\n",
    "fig.subplots_adjust(wspace=0.5, hspace=0.4);"
   ]
  },
  {
   "cell_type": "code",
   "execution_count": null,
   "id": "2af60703",
   "metadata": {
    "slideshow": {
     "slide_type": "slide"
    }
   },
   "outputs": [],
   "source": [
    "transformierte_formel = '''np.log(Species) ~ np.log(Area) + np.log(Elevation) \n",
    "                                         + np.log(Nearest) + np.log(Adjacent)'''\n",
    "modell2 = smf.ols(transformierte_formel, df)"
   ]
  },
  {
   "cell_type": "markdown",
   "id": "c6891902",
   "metadata": {},
   "source": [
    "`'''` Zeichenkette (engl \"strings\") über mehrere Zeilen"
   ]
  },
  {
   "cell_type": "code",
   "execution_count": null,
   "id": "91d9813c",
   "metadata": {
    "scrolled": false,
    "slideshow": {
     "slide_type": "slide"
    }
   },
   "outputs": [],
   "source": [
    "res2 = modell2.fit()\n",
    "res2.summary()"
   ]
  },
  {
   "cell_type": "markdown",
   "id": "e0728017",
   "metadata": {
    "slideshow": {
     "slide_type": "slide"
    }
   },
   "source": [
    "Nur noch die Fläche hat einen signifikanten Einfluss"
   ]
  },
  {
   "cell_type": "markdown",
   "id": "168a50eb",
   "metadata": {
    "slideshow": {
     "slide_type": "slide"
    }
   },
   "source": [
    "# Kategorielle Daten"
   ]
  },
  {
   "cell_type": "code",
   "execution_count": null,
   "id": "aa3ae670",
   "metadata": {},
   "outputs": [],
   "source": [
    "df = pd.read_csv('kinder.csv')\n",
    "df.head()"
   ]
  },
  {
   "cell_type": "code",
   "execution_count": null,
   "id": "74ebe598",
   "metadata": {
    "slideshow": {
     "slide_type": "slide"
    }
   },
   "outputs": [],
   "source": [
    "sns.lmplot(df, x='father', y='childHeight', hue='gender');"
   ]
  },
  {
   "cell_type": "code",
   "execution_count": null,
   "id": "a56bcc78",
   "metadata": {
    "slideshow": {
     "slide_type": "slide"
    }
   },
   "outputs": [],
   "source": [
    "formel = 'childHeight ~ father + mother + gender'\n",
    "modell = smf.ols(formel, df)"
   ]
  },
  {
   "cell_type": "code",
   "execution_count": null,
   "id": "b0f007d5",
   "metadata": {},
   "outputs": [],
   "source": [
    "res = modell.fit()"
   ]
  },
  {
   "cell_type": "code",
   "execution_count": null,
   "id": "379739f5",
   "metadata": {
    "scrolled": true,
    "slideshow": {
     "slide_type": "slide"
    }
   },
   "outputs": [],
   "source": [
    "res.summary()"
   ]
  },
  {
   "cell_type": "markdown",
   "id": "bc1cdc1a",
   "metadata": {},
   "source": [
    "Hier wird eine Fallunterscheidung kodiert\n",
    "\n",
    "$$\n",
    "    \\text{childHeight} = 16.5212 + 0.3928 \\cdot \\text{father} + 0.13176 \\cdot \\text{mother} + \n",
    "    \\begin{cases}\n",
    "        0.0 & \\text{wenn Mädchen,} \\\\\n",
    "        5.215 & \\text{wenn Junge.}\n",
    "    \\end{cases}\n",
    "$$"
   ]
  },
  {
   "cell_type": "markdown",
   "id": "304e3758",
   "metadata": {
    "slideshow": {
     "slide_type": "slide"
    }
   },
   "source": [
    "Die Terminologie kommt offenbar aus der Pharmazie:\n",
    "\n",
    "* `female` ist hier der Standard (engl. \"default\")\n",
    "* alles, was vom Standard abweicht, ist eine Behandlung (engl. \"treatment\")\n",
    "* was default und was treatment ist, entscheidet das Programm"
   ]
  }
 ],
 "metadata": {
  "celltoolbar": "Slideshow",
  "kernelspec": {
   "display_name": "Python 3 (ipykernel)",
   "language": "python",
   "name": "python3"
  },
  "language_info": {
   "codemirror_mode": {
    "name": "ipython",
    "version": 3
   },
   "file_extension": ".py",
   "mimetype": "text/x-python",
   "name": "python",
   "nbconvert_exporter": "python",
   "pygments_lexer": "ipython3",
   "version": "3.11.4"
  }
 },
 "nbformat": 4,
 "nbformat_minor": 5
}
