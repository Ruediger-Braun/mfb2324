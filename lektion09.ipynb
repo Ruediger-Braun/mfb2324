{
 "cells": [
  {
   "cell_type": "markdown",
   "id": "97e910de",
   "metadata": {
    "slideshow": {
     "slide_type": "slide"
    }
   },
   "source": [
    "# Mathematik für Biologiestudierende\n",
    "\n",
    "Wintersemester 2023/24\n",
    "\n",
    "13.12.2023\n",
    "\n",
    "&copy; 2023 Prof. Dr. Rüdiger W. Braun "
   ]
  },
  {
   "cell_type": "markdown",
   "id": "e82fe9b6",
   "metadata": {
    "slideshow": {
     "slide_type": "slide"
    }
   },
   "source": [
    "## Vorlesungsevaluation\n",
    "\n",
    "* Bitte füllen Sie den Evaluationsbogen aus \n",
    "* Bitte stecken Sie den ausgefüllten Bogen in den Briefumschlag, der durch die Reihen geht\n",
    "\n",
    "| Nr | Tag | Zeit  | Leitung|  | Nr | Tag | Zeit  | Leitung         |\n",
    "|:--:|:---:|------:|:------:|--|:--:|:---:|------:|:---------------:|\n",
    "| 1  | Mo  | 14:30 | Adams  |  | 6  | Mi  | 16:30 | Dubovci         |\n",
    "| 2  | Di  |  8:30 | Dubovci|  | 7  | Do  | 12:30 | Mones           |\n",
    "| 3  | Di  |  9:30 | Dubovci|  | 8  | Do  | 12:30 | Dreher (online) |\n",
    "| 4  | Di  | 14:30 | Pukhova|  | 9  | Do  | 16:30 | Dreher (online) |\n",
    "| 5  | Mi  |  9:30 | Adams  |  |10  | Do  | 14:30 | Mones           |"
   ]
  },
  {
   "cell_type": "markdown",
   "id": "d10dd87d",
   "metadata": {
    "slideshow": {
     "slide_type": "slide"
    }
   },
   "source": [
    "# Fehler erster und zweiter Art\n",
    "\n",
    "* *Der Fehler 1. Art* ist die fälschliche Ablehnung der Nullhypothese.\n",
    "* *Der Fehler 2. Art* ist die fälschliche Beibehaltung der Nullhypothese \n",
    "\n",
    "Die Priorität liegt auf der Vermeidung des Fehlers 1. Art.  Diese Asymmetrie ist ein entscheidendes Merkmal der Testtheorie.\n",
    "\n",
    "|                     | $H_0$ wird beibehalten | $H_0$ wird abgelehnt  |\n",
    "|---------------------|:----------------------:|:---------------------:|\n",
    "| $H_0$ **trifft zu** | richtige Entscheidung  | Fehler 1. Art         |\n",
    "| $H_1$ **trifft zu** | Fehler 2. Art          | richtige Entscheidung |"
   ]
  },
  {
   "cell_type": "markdown",
   "id": "d2f27ff8",
   "metadata": {
    "slideshow": {
     "slide_type": "fragment"
    }
   },
   "source": [
    "* Fehlerwahrscheinlichkeit 1. Art soll kleiner sein als das Signifikanzniveau $\\alpha$\n",
    "* Die Komplementärwhrscheinlichkeit der Fehlerwahrscheinlichkiet 2. Art ist die Power"
   ]
  },
  {
   "cell_type": "markdown",
   "id": "e5d07f4a",
   "metadata": {
    "slideshow": {
     "slide_type": "slide"
    }
   },
   "source": [
    "## Ein- und zweiseitige Tests\n",
    "\n",
    "* Ein ja/nein-Experiment mit unbekannter Erfolgswahrscheinlichkeit $p$ wird $n$-mal wiederholt\n",
    "* Ziel:  Aussage über $p$ relativ zu einem Referenzwert $p_0$ \n",
    "* verschiedene Nullhypothesen sind denkbar\n",
    "  * $H_0 : p\\ge p_0$: einseitiger unterer Test\n",
    "  * $H_0 : p \\le p_0$: einseitiger oberer Test\n",
    "  * $H_0 : p = p_0$: zweiseitiger Test"
   ]
  },
  {
   "cell_type": "markdown",
   "id": "3a716757",
   "metadata": {
    "slideshow": {
     "slide_type": "-"
    }
   },
   "source": [
    "Einseitige Tests hatten wir in Lektion 8 besprochen"
   ]
  },
  {
   "cell_type": "markdown",
   "id": "2ed46c52",
   "metadata": {
    "slideshow": {
     "slide_type": "slide"
    }
   },
   "source": [
    "## Beispiel: Mutationen\n",
    "\n",
    "* In einer Population weist normalerweise jedes 250te Individuum eine gewisse Mutation auf.  \n",
    "* Bei einer Untersuchung von 2000 Individuen werden nun aber sogar 12 Träger der Mutation gefunden. "
   ]
  },
  {
   "cell_type": "markdown",
   "id": "b30b0b33",
   "metadata": {
    "slideshow": {
     "slide_type": "fragment"
    }
   },
   "source": [
    "Zwei Interpretationen sind denkbar\n",
    "\n",
    "* Eine Steigerung der Mutationshäufigkeit um 50% wurde entdeckt\n",
    "* Unter 2000 Individuen wurden gerade mal vier Ausreißer entdeckt"
   ]
  },
  {
   "cell_type": "markdown",
   "id": "c8a210dc",
   "metadata": {
    "slideshow": {
     "slide_type": "fragment"
    }
   },
   "source": [
    "#### Statistics to the rescue!\n",
    "\n",
    "* Bevor wir diese Entdeckung an die Presse geben, wollen wir sicher sein, dass die Mutationsrate tatsächlich gestiegen ist\n",
    "* Sicherheit ist relativ.  Mit einem Irrtumsrisiko von 5% können wir leben"
   ]
  },
  {
   "cell_type": "markdown",
   "id": "f97253c9",
   "metadata": {
    "slideshow": {
     "slide_type": "slide"
    }
   },
   "source": [
    "## Binomialtest für das Beispiel\n",
    "\n",
    "* Wir machen einen Binomialtest.  Die Referenzwahrscheinlichkeit ist $p_0 = 0.004$\n",
    "* Die Nullhypothese ist $H_0 = \\{ p \\le p_0 \\}$\n",
    "    * Es handelt sich um einen einseitigen, oberen Binomialtest\n",
    "    * Das Signifikanzniveau beträgt $\\alpha = 0.05$"
   ]
  },
  {
   "cell_type": "markdown",
   "id": "64038c09",
   "metadata": {
    "slideshow": {
     "slide_type": "fragment"
    }
   },
   "source": [
    "* Der kritische Wert $c$ ist so zu wählen, dass `P.cdf(c-1)`$<1-\\alpha$ und `P.cdf(c)`$\\ge1-\\alpha$"
   ]
  },
  {
   "cell_type": "markdown",
   "id": "958bfd85",
   "metadata": {},
   "source": [
    "* Entscheidungsregel:\n",
    "     * Die Nullhypothese wird abgelehnt, falls die Anzahl der Erfolge echt größer als $c$ ist\n",
    "     * Die Nullhypothese wird beibehalten, falls die Anzahl der Erfolge höchstens $c$ ist"
   ]
  },
  {
   "cell_type": "code",
   "execution_count": null,
   "id": "84a57472",
   "metadata": {
    "slideshow": {
     "slide_type": "slide"
    }
   },
   "outputs": [],
   "source": [
    "from scipy import stats\n",
    "P = stats.binom(2000, 0.004)\n",
    "alpha = 0.05"
   ]
  },
  {
   "cell_type": "code",
   "execution_count": null,
   "id": "4b130f6b",
   "metadata": {},
   "outputs": [],
   "source": [
    "P.ppf(1-alpha)"
   ]
  },
  {
   "cell_type": "markdown",
   "id": "493298b8",
   "metadata": {
    "slideshow": {
     "slide_type": "fragment"
    }
   },
   "source": [
    "### Mutation: Entscheidung\n",
    "\n",
    "* Die Rechnung ergibt $c = 13$\n",
    "* Bei bis zu 13 Erfolgen (einschließlich) wird die Nullhypothese beibehalten\n",
    "* Wir haben nur 12 Mutationen beobachtet:  Nullhypothese wir beibehalten\n",
    "* Keine signifikante Erhöhung beobachtet"
   ]
  },
  {
   "cell_type": "markdown",
   "id": "93464da7",
   "metadata": {
    "slideshow": {
     "slide_type": "slide"
    }
   },
   "source": [
    "## Der *p*-Wert\n",
    "\n",
    "* Der $p$-Wert ist das kleinste Signifikanzniveau, zu dem die Daten den Test noch bestehen würden.\n",
    "* Der $p$-Wert beantwortet die Frage\n",
    ">  Wie knapp wurde das vorgeschriebene Signifikanzniveau eingehalten bzw. verfehlt?\n",
    "* Wenn $\\alpha$ das Signifikanzniveau ist\n",
    "  * $p \\le \\alpha$: Nullhypothese wird abgelehnt \n",
    "  * $p > \\alpha$: Nullhypothese wird beibehalten"
   ]
  },
  {
   "cell_type": "code",
   "execution_count": null,
   "id": "7f8e4e5f",
   "metadata": {
    "slideshow": {
     "slide_type": "fragment"
    }
   },
   "outputs": [],
   "source": [
    "res = stats.binomtest(12, 2000, 0.004, alternative=\"greater\")\n",
    "res.pvalue"
   ]
  },
  {
   "cell_type": "markdown",
   "id": "5bb80472",
   "metadata": {
    "slideshow": {
     "slide_type": "slide"
    }
   },
   "source": [
    "## Power des Tests\n",
    "\n",
    "* Was ist die Power des Tests, wenn eine Erhöhung der Mutationsrate um 50%, also von $p_0=0.004$ auf $p=0.006$ entdeckt werden soll?\n",
    "* $H_0$ wird abgelehnt bei mindestens 14 Erfolgen"
   ]
  },
  {
   "cell_type": "code",
   "execution_count": null,
   "id": "618cc701",
   "metadata": {
    "slideshow": {
     "slide_type": "-"
    }
   },
   "outputs": [],
   "source": [
    "Q = stats.binom(2000, 0.006)"
   ]
  },
  {
   "cell_type": "markdown",
   "id": "d6956872",
   "metadata": {
    "slideshow": {
     "slide_type": "slide"
    }
   },
   "source": [
    "* Wenn 13 oder weniger Erfolge beobachtet werden, mache ich den Fehler zweiter Art\n",
    "* Also ist die Fehlerwahrscheinlichkeit zweiter Art gleich"
   ]
  },
  {
   "cell_type": "code",
   "execution_count": null,
   "id": "1edad9b2",
   "metadata": {},
   "outputs": [],
   "source": [
    "Q.cdf(13)"
   ]
  },
  {
   "cell_type": "markdown",
   "id": "0383d6ad",
   "metadata": {
    "slideshow": {
     "slide_type": "-"
    }
   },
   "source": [
    "und die Power ist gleich"
   ]
  },
  {
   "cell_type": "code",
   "execution_count": null,
   "id": "db2407f1",
   "metadata": {},
   "outputs": [],
   "source": [
    "1 - Q.cdf(13)"
   ]
  },
  {
   "cell_type": "markdown",
   "id": "96a01338",
   "metadata": {
    "slideshow": {
     "slide_type": "slide"
    }
   },
   "source": [
    "## Zweiseitiger Binomialtest zum Niveau  $\\alpha$\n",
    "\n",
    "* Gegeben sind unabhängige $B(1, p)$-verteilte Zufallsvariable $X_1, \\dots, X_n$ mit unbekanntem $p$ sowie ein Signifikanzniveau $\\alpha$\n",
    "* Verglichen werden soll mit einem Referenzwert $p_0$\n",
    "* Getestet wird die Nullhypothese $H_0 = \\{p \\ge p_0\\}$ gegen die Alternative $H_1 = \\{p < p_0\\}$\n",
    "* `P` ist die Binomialverteilung $B_{n,p_0}$\n",
    "* Der *untere kritische Wert* $c_1$ ist so zu wählen, dass `P.cdf(c1 - 1)`$\\le\\frac\\alpha2$ und `P.cdf(c1)`$>\\frac\\alpha2$\n",
    "* Der *obere kritische Wert* $c_2$ ist so zu wählen, dass `P.cdf(c2 - 1)`$<1-\\frac\\alpha2$ und `P.cdf(c2)`$\\ge1-\\frac\\alpha2$"
   ]
  },
  {
   "cell_type": "markdown",
   "id": "cdee61fe",
   "metadata": {
    "slideshow": {
     "slide_type": "fragment"
    }
   },
   "source": [
    "Der zweiseitige Binomialtest besteht also aus einem unteren und einem oberen einseitigen Binomialtest, die aber beide zum halben Signifikanzniveau durchgeführt werden"
   ]
  },
  {
   "cell_type": "markdown",
   "id": "d5dcec0d",
   "metadata": {
    "slideshow": {
     "slide_type": "slide"
    }
   },
   "source": [
    "## Zweiseitiger Binomialtest, Beispiel\n",
    "\n",
    "* Bei 250 Würfen eines Würfels fiel 55~mal eine Sechs.  Kann man zu 95% sicher sein, dass der Würfel gezinkt ist?\n",
    "* Sei $p$ die unbekannte Wahrscheinlichkeit des Würfels für eine Sechs\n",
    "* Zweiseitiger Binomialtest mit\n",
    "  * Nullhypothese: $H_0 = \\left\\{ p = \\frac16 \\right\\}$\n",
    "  * Alternative: $H_1 = \\left\\{ p \\ne \\frac16 \\right\\}$\n",
    "  * Signifikanzniveau ist $\\alpha = 0.05$"
   ]
  },
  {
   "cell_type": "code",
   "execution_count": null,
   "id": "b174a6a9",
   "metadata": {
    "slideshow": {
     "slide_type": "slide"
    }
   },
   "outputs": [],
   "source": [
    "P = stats.binom(250, 1/6)\n",
    "alpha = 0.05"
   ]
  },
  {
   "cell_type": "code",
   "execution_count": null,
   "id": "e0f9a70d",
   "metadata": {},
   "outputs": [],
   "source": [
    "c1 = P.ppf(alpha/2)\n",
    "c1"
   ]
  },
  {
   "cell_type": "code",
   "execution_count": null,
   "id": "010c382c",
   "metadata": {
    "slideshow": {
     "slide_type": "fragment"
    }
   },
   "outputs": [],
   "source": [
    "c2 = P.ppf(1-alpha/2)\n",
    "c2"
   ]
  },
  {
   "cell_type": "markdown",
   "id": "10ba838d",
   "metadata": {
    "slideshow": {
     "slide_type": "slide"
    }
   },
   "source": [
    "Punktrechnung vor Strichrechnung\n",
    "\n",
    "Achtung:  keine Seite der HHU: https://www.spiegel.de/spiegel/print/index-2023.html"
   ]
  },
  {
   "cell_type": "markdown",
   "id": "af8001a2",
   "metadata": {
    "slideshow": {
     "slide_type": "slide"
    }
   },
   "source": [
    "### Beispiel, Fortsetzung\n",
    "\n",
    "* $c_1 = 30$ und $c_2 = 54$\n",
    "* Die Nullhypothese kann zum Niveau $\\alpha = 0.05$ abgelehnt werden, wenn höchstens 29 oder mindestens 55 Sechsen fallen\n",
    "* Bei 55 Sechsen kann die Nullhypothese also abgelehnt werden\n",
    "* Wir können mit 95% Sicherheit sagen, dass der Würfel gezinkt ist"
   ]
  },
  {
   "cell_type": "markdown",
   "id": "9870230e",
   "metadata": {
    "slideshow": {
     "slide_type": "slide"
    }
   },
   "source": [
    "<img src=\"bilder/b250.svg\" alt=\"Fehler zweiter Art für das Würfelbeispiel\" width=\"55%\"/>\n",
    "\n",
    "Gelbe Balken zeigen Fehlentscheidungen"
   ]
  },
  {
   "cell_type": "markdown",
   "id": "32bc5de3",
   "metadata": {},
   "source": [
    "## *p*-Wert des zweiseitigen Tests"
   ]
  },
  {
   "cell_type": "code",
   "execution_count": null,
   "id": "1dccbe4b",
   "metadata": {},
   "outputs": [],
   "source": [
    "res = stats.binomtest(55, 250, 1/6)  # \"zweiseitig\" ist die Standardeinstellung\n",
    "res.pvalue"
   ]
  },
  {
   "cell_type": "markdown",
   "id": "d96e7175",
   "metadata": {
    "slideshow": {
     "slide_type": "slide"
    }
   },
   "source": [
    "## Power des zweiseitigen Tests\n",
    "\n",
    "* Wir wollen erkennen können, wenn der Würfel so stark gezinkt ist,  dass die Wahrscheinlichkeit für eine Sechs 20% beträgt.  Was ist dann die Power des Tests?"
   ]
  },
  {
   "cell_type": "markdown",
   "id": "b7aecaff",
   "metadata": {
    "slideshow": {
     "slide_type": "slide"
    }
   },
   "source": [
    "* Die Wahrscheinlichkeit der richtigen Entscheidung ist\n",
    "$$  \\sum_{k=0}^{29} B_{250,\\,0.2}(k) + \\sum_{k=55}^{250} B_{250,\\,0.2}(k) $$"
   ]
  },
  {
   "cell_type": "code",
   "execution_count": null,
   "id": "269c0998",
   "metadata": {},
   "outputs": [],
   "source": [
    "Q = stats.binom(250, 0.2)"
   ]
  },
  {
   "cell_type": "code",
   "execution_count": null,
   "id": "a2dddd76",
   "metadata": {},
   "outputs": [],
   "source": [
    "erste_summe = Q.cdf(29)\n",
    "erste_summe"
   ]
  },
  {
   "cell_type": "code",
   "execution_count": null,
   "id": "58ac465f",
   "metadata": {},
   "outputs": [],
   "source": [
    "zweite_summe = 1 - Q.cdf(54)\n",
    "zweite_summe"
   ]
  },
  {
   "cell_type": "code",
   "execution_count": null,
   "id": "07884d1f",
   "metadata": {},
   "outputs": [],
   "source": [
    "power = erste_summe + zweite_summe\n",
    "power"
   ]
  },
  {
   "cell_type": "markdown",
   "id": "aa160d63",
   "metadata": {
    "slideshow": {
     "slide_type": "slide"
    }
   },
   "source": [
    "# Versuchsplanung"
   ]
  },
  {
   "cell_type": "markdown",
   "id": "ed31e609",
   "metadata": {
    "slideshow": {
     "slide_type": "fragment"
    }
   },
   "source": [
    "* Im Beispiel \"Mutation\" hatten wir für n=2000 eine Power von 32% erzielt.  \n",
    "* Welche Power hätten wir für n=10000?"
   ]
  },
  {
   "cell_type": "code",
   "execution_count": null,
   "id": "73599203",
   "metadata": {
    "slideshow": {
     "slide_type": "slide"
    }
   },
   "outputs": [],
   "source": [
    "n = 10000\n",
    "alpha = 0.05\n",
    "p0 = 0.004\n",
    "P = stats.binom(n, p0)\n",
    "c = P.ppf(1-alpha)\n",
    "c"
   ]
  },
  {
   "cell_type": "code",
   "execution_count": null,
   "id": "d43c67b5",
   "metadata": {
    "slideshow": {
     "slide_type": "fragment"
    }
   },
   "outputs": [],
   "source": [
    "p = 0.006\n",
    "Q = stats.binom(n, p)\n",
    "1 - Q.cdf(c)"
   ]
  },
  {
   "cell_type": "code",
   "execution_count": null,
   "id": "bed5b2b8",
   "metadata": {
    "slideshow": {
     "slide_type": "slide"
    }
   },
   "outputs": [],
   "source": [
    "n = 20000\n",
    "P = stats.binom(n, p0)\n",
    "c = P.ppf(1-alpha)\n",
    "c"
   ]
  },
  {
   "cell_type": "code",
   "execution_count": null,
   "id": "798206fa",
   "metadata": {},
   "outputs": [],
   "source": [
    "Q = stats.binom(n, p)\n",
    "1 - Q.cdf(c)"
   ]
  },
  {
   "cell_type": "code",
   "execution_count": null,
   "id": "f446ce92",
   "metadata": {
    "slideshow": {
     "slide_type": "fragment"
    }
   },
   "outputs": [],
   "source": [
    "n = 12000\n",
    "P = stats.binom(n, p0)\n",
    "c = P.ppf(1-alpha)\n",
    "c"
   ]
  },
  {
   "cell_type": "code",
   "execution_count": null,
   "id": "8c97bfd4",
   "metadata": {},
   "outputs": [],
   "source": [
    "Q = stats.binom(n, p)\n",
    "1 - Q.cdf(c)"
   ]
  },
  {
   "cell_type": "markdown",
   "id": "774d9994",
   "metadata": {
    "slideshow": {
     "slide_type": "slide"
    }
   },
   "source": [
    "* Genaue Wert sind hier nicht nötig, weil der Wert p=0.006 auch nur geschätzt ist\n",
    "* Deswegen genügt es, mit copy und paste ein halbes Dutzend Szenarien zu rechnen"
   ]
  },
  {
   "cell_type": "markdown",
   "id": "84ec6a94",
   "metadata": {
    "slideshow": {
     "slide_type": "fragment"
    }
   },
   "source": [
    "Geht natürlich auch automatisch (Kür)"
   ]
  },
  {
   "cell_type": "code",
   "execution_count": null,
   "id": "4784d7b4",
   "metadata": {
    "slideshow": {
     "slide_type": "slide"
    }
   },
   "outputs": [],
   "source": [
    "import numpy as np\n",
    "import pandas as pd\n",
    "import seaborn as sns"
   ]
  },
  {
   "cell_type": "code",
   "execution_count": null,
   "id": "e9b6d920",
   "metadata": {
    "slideshow": {
     "slide_type": "slide"
    }
   },
   "outputs": [],
   "source": [
    "df = pd.DataFrame()\n",
    "df['n'] = 100*np.arange(10, 200)\n",
    "df['c'] = stats.binom(df.n, p0).ppf(1-alpha)\n",
    "df['power'] = 1 - stats.binom(df.n, p).cdf(df.c)\n",
    "df"
   ]
  },
  {
   "cell_type": "code",
   "execution_count": null,
   "id": "b694f128",
   "metadata": {
    "slideshow": {
     "slide_type": "slide"
    }
   },
   "outputs": [],
   "source": [
    "sns.scatterplot(data=df, x='n', y='power');"
   ]
  },
  {
   "cell_type": "markdown",
   "id": "0b16c5a2",
   "metadata": {},
   "source": [
    "Hier ist das Problem, dass der Unterschied zwischen 0.004 und 0.006 zu gering ist"
   ]
  },
  {
   "cell_type": "code",
   "execution_count": null,
   "id": "372e9fda",
   "metadata": {
    "slideshow": {
     "slide_type": "slide"
    }
   },
   "outputs": [],
   "source": [
    "p = 0.01\n",
    "df = pd.DataFrame()\n",
    "df['n'] = 10*np.arange(10, 200)\n",
    "df['c'] = stats.binom(df.n, p0).ppf(1-alpha)\n",
    "df['power'] = 1 - stats.binom(df.n, p).cdf(df.c)\n",
    "sns.scatterplot(data=df, x='n', y='power');"
   ]
  },
  {
   "cell_type": "markdown",
   "id": "60f487d2",
   "metadata": {
    "slideshow": {
     "slide_type": "slide"
    }
   },
   "source": [
    "# Differentialrechnung \n",
    "\n",
    "Differentialrechnung kommt in der Biologie vor\n",
    "\n",
    "* Bestimmung von Maxima und Minima:  mehrdimensionale Kurvendiskussion\n",
    "  * in der Statistik\n",
    "    * Maximum-Likelihood Schätzer \n",
    "    * z.B. in der Statistik linearer Modelle (Thema im zweiten Semester, passiert aber \"unter der Haube\")\n",
    "* Bei der Modellierung von Prozessen:  Dynamische Systeme\n",
    "* Integrale:  die Verteilungsfunktionen von kontinuierlichen Zufallsvariablen sind Integrale"
   ]
  },
  {
   "cell_type": "markdown",
   "id": "03489860",
   "metadata": {
    "slideshow": {
     "slide_type": "slide"
    }
   },
   "source": [
    "### Ableitung als Tangentensteigung\n",
    "\n",
    "<img src=\"bilder/skizze_abl.svg\" alt=\"Funktion und Tangente\" width=\"45%\"/>"
   ]
  },
  {
   "cell_type": "markdown",
   "id": "c63f0aa8",
   "metadata": {
    "slideshow": {
     "slide_type": "-"
    }
   },
   "source": [
    "Die *Ableitung* einer Funktion $f$ an einer Stelle $x$ gibt die Steigung der Tangente in $x$ an"
   ]
  },
  {
   "cell_type": "markdown",
   "id": "2ca2b54f",
   "metadata": {
    "slideshow": {
     "slide_type": "slide"
    }
   },
   "source": [
    "Die Tangentensteigung wird durch Sekantensteigungen approximiert\n",
    "\n",
    "<img src=\"bilder/skizze_sek1.svg\" alt=\"Funktion und Tangente\" width=\"45%\"/>"
   ]
  },
  {
   "cell_type": "markdown",
   "id": "981c0b9a",
   "metadata": {
    "slideshow": {
     "slide_type": "slide"
    }
   },
   "source": [
    "## Ableitungen wichtiger Funktionen\n",
    "\\begin{align*}\n",
    "    f(x) &= C & f'(x) &= 0 & \\text{Konstante} \\\\[2ex]\n",
    "    f(x) &= x^n & f'(x) &= n \\cdot x^{n-1} \\\\[2ex]\n",
    "    f(x) &= \\frac1x & f'(x) &= -\\frac1{x^2} \\\\[2ex]\n",
    "    f(x) &= \\exp(x) & f'(x) &= \\exp(x) \\\\[2ex]\n",
    "    f(x) &= \\ln(x) & f'(x) &= \\frac1x \n",
    "\\end{align*}"
   ]
  },
  {
   "cell_type": "markdown",
   "id": "fb115359",
   "metadata": {
    "slideshow": {
     "slide_type": "slide"
    }
   },
   "source": [
    "# Ableitungsregeln\n",
    "\n",
    "| $$ h(x) $$         |   $$ h'(x) $$                         |              |\n",
    "|:------------------:|:-------------------------------------:|:-------------|\n",
    "| $Cf(x)$            |   $C f'(x)$                           |              |\n",
    "| $f(x) + g(x)$      |  $f'(x) + g'(x)$                      |              |\n",
    "| $f(x) \\cdot g(x)$  | $f'(x) \\cdot g(x) + f(x) \\cdot g'(x)$ | Produktregel |\n",
    "| $f(g(x))$          | $f'(g(x)) \\cdot g'(x)$                | Kettenregel  |\n",
    "\n",
    "Hierbei ist $C$ eine Konstante"
   ]
  },
  {
   "cell_type": "markdown",
   "id": "a076a104",
   "metadata": {
    "slideshow": {
     "slide_type": "slide"
    }
   },
   "source": [
    "### Beispiel\n",
    "\n",
    "$f(x) = x^2 \\cdot \\exp(-x)$\n",
    "\n",
    "\\begin{align*}\n",
    "  f'(x) &= \\left(x^2\\right)' \\cdot \\exp(-x) + x^2 \\cdot \\left( \\exp(-x) \\right)' & & \\text{Produktregel} \\\\\n",
    "  &= 2x \\cdot \\exp(-x) + x^2 \\cdot(-1) \\cdot \\exp(-x) & & \\text{Kettenregel} \\\\\n",
    "  &= \\left( 2x - x^2 \\right) \\cdot \\exp(-x) & & \\text{Distributivgesetz}\n",
    "\\end{align*}"
   ]
  },
  {
   "cell_type": "markdown",
   "id": "9954e7d1",
   "metadata": {
    "slideshow": {
     "slide_type": "slide"
    }
   },
   "source": [
    "## Qualitatives Verhalten\n",
    "\n",
    "* wenn $f'(x)>0$, dann wächst die Funktion\n",
    "* wenn $f'(x)<0$, dann fällt sie"
   ]
  },
  {
   "cell_type": "markdown",
   "id": "e11d2f61",
   "metadata": {
    "slideshow": {
     "slide_type": "slide"
    }
   },
   "source": [
    "## Beispiel:  Inflation\n",
    "\n",
    "* die Inflationsrate ist die Ableitung des Preises"
   ]
  },
  {
   "cell_type": "markdown",
   "id": "f32332c9",
   "metadata": {
    "slideshow": {
     "slide_type": "fragment"
    }
   },
   "source": [
    "* seit unvordenklichen Zeiten ist die Infaltionsrate positiv:  Preise steigen\n",
    "* im 2022 stieg auch die Inflationsrate:  Preise steigen noch schlimmer\n",
    "* in den letzten Monaten ist die Inflationsrate gefallen (2% Inflation statt 8%):  Preise steigen"
   ]
  },
  {
   "cell_type": "markdown",
   "id": "49ac847a",
   "metadata": {
    "slideshow": {
     "slide_type": "slide"
    }
   },
   "source": [
    "# Frohe Feiertage und Alles Gute für 2024!\n",
    "\n",
    "<img src=\"bilder/keks.jpg\" alt=\"Funktion und Tangente\" width=\"45%\"/>"
   ]
  }
 ],
 "metadata": {
  "celltoolbar": "Slideshow",
  "kernelspec": {
   "display_name": "Python 3 (ipykernel)",
   "language": "python",
   "name": "python3"
  },
  "language_info": {
   "codemirror_mode": {
    "name": "ipython",
    "version": 3
   },
   "file_extension": ".py",
   "mimetype": "text/x-python",
   "name": "python",
   "nbconvert_exporter": "python",
   "pygments_lexer": "ipython3",
   "version": "3.11.5"
  }
 },
 "nbformat": 4,
 "nbformat_minor": 5
}
