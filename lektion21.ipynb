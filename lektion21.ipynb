{
 "cells": [
  {
   "cell_type": "markdown",
   "id": "97e910de",
   "metadata": {
    "slideshow": {
     "slide_type": "slide"
    }
   },
   "source": [
    "## Mathematik für Biologiestudierende II\n",
    "\n",
    "Sommersemester 2024\n",
    "\n",
    "04.06.2024\n",
    "\n",
    "&copy; 2024 Prof. Dr. Rüdiger W. Braun "
   ]
  },
  {
   "cell_type": "markdown",
   "id": "5564cffe",
   "metadata": {
    "slideshow": {
     "slide_type": "slide"
    }
   },
   "source": [
    "## Vorlesungsevaluation\n",
    "\n",
    "* Bitte füllen Sie den Evaluationsbogen aus\n",
    "* Der Bogen hat **drei** Seiten, die als zwei getrennte Blätter durchgereicht werden\n",
    "* Bitte stecken Sie den ausgefüllten Bogen in den Briefumschlag, der durch die Reihen geht\n",
    "\n",
    "\n",
    "| Nr | Tag | Zeit  | Leitung|  | Nr | Tag | Zeit  | Leitung         |\n",
    "|:--:|:---:|------:|:------:|--|:--:|:---:|------:|:---------------:|\n",
    "| 1  | Di  | 14:30 | Adams  |  | 6  | Do  | 12:30 | Dreher (online) |\n",
    "| 2  | Do  | 10:30 | Dubovci|  | 7  | Do  | 17:30 | Dreher (online) |\n",
    "| 3  | Do  | 11:30 | Dubovci|  | 8  | Fr  | 11:30 | Mones           |\n",
    "| 4  | Di  | 13:30 | Adams  |  | 9  | Fr  | 12:30 | Mones           |\n",
    "| 5  | Mi  | 12:30 | Pukhova|  |    |     |       |                 |"
   ]
  },
  {
   "cell_type": "code",
   "execution_count": null,
   "id": "71cb2719",
   "metadata": {
    "slideshow": {
     "slide_type": "slide"
    }
   },
   "outputs": [],
   "source": [
    "import numpy as np\n",
    "import pandas as pd\n",
    "from scipy import stats\n",
    "import seaborn as sns\n",
    "sns.set_theme()"
   ]
  },
  {
   "cell_type": "markdown",
   "id": "aa98c965",
   "metadata": {
    "slideshow": {
     "slide_type": "slide"
    }
   },
   "source": [
    "# Korrelation"
   ]
  },
  {
   "cell_type": "markdown",
   "id": "e2c4cfa2",
   "metadata": {
    "slideshow": {
     "slide_type": "fragment"
    }
   },
   "source": [
    "* Eine Korrelation zwischen zwei Datensätzen ist eine gemeinsame oder gegenläufige Tendenz.\n",
    "* Beispielsweise steigt der Blutdruck tendenziell mit dem Alter.\n",
    "* Gemessen wird die Korrelation durch den empirischen Korrelationskoeffizienten.\n",
    "* Der empirischen Korrelationskoeffizient beantwortet die Frage\n",
    " \n",
    ">      Gibt es eine Korrelation?"
   ]
  },
  {
   "cell_type": "markdown",
   "id": "633168de",
   "metadata": {
    "slideshow": {
     "slide_type": "fragment"
    }
   },
   "source": [
    "* Die Antwort ist \"ja\", wenn der empirische Korrelationskoeffizient nahe bei $1$ oder bei $-1$ liegt."
   ]
  },
  {
   "cell_type": "markdown",
   "id": "81639f6c",
   "metadata": {
    "slideshow": {
     "slide_type": "slide"
    }
   },
   "source": [
    "# Empirischer Korrelationskoeffizient\n",
    "\n",
    "* Kennzahl zur Überprüfung gemeinsamer Tendenz\n",
    "* $s_x$ sei die Stichprobenstreuung der $x_j$ und $s_y$ die Stichprobenstreuung der $y_j$ \n",
    "* dann ist der *empirische Korrelationskoeffizient* gleich\n",
    "$$      r = \\frac{\\text{covar}_{\\text{emp}}(x,y)}{s_x \\cdot s_y} $$"
   ]
  },
  {
   "cell_type": "markdown",
   "id": "44345ff6",
   "metadata": {
    "slideshow": {
     "slide_type": "fragment"
    }
   },
   "source": [
    "* Der Korrelationskoeffizient ist dimensionslos"
   ]
  },
  {
   "cell_type": "markdown",
   "id": "ff794ae0",
   "metadata": {
    "slideshow": {
     "slide_type": "slide"
    }
   },
   "source": [
    "### Beispiel: Blutdruckdaten \n",
    "    \n",
    "Wir hatten in der letzten Woche die Kovarianz für die Blutdruckdaten bestimmt  "
   ]
  },
  {
   "cell_type": "code",
   "execution_count": null,
   "id": "c6cb4abe",
   "metadata": {},
   "outputs": [],
   "source": [
    "df = pd.read_csv('blutdruckdaten.csv')\n",
    "df.cov()"
   ]
  },
  {
   "cell_type": "code",
   "execution_count": null,
   "id": "1a26d95f",
   "metadata": {
    "slideshow": {
     "slide_type": "slide"
    }
   },
   "outputs": [],
   "source": [
    "df.describe()"
   ]
  },
  {
   "cell_type": "code",
   "execution_count": null,
   "id": "299f729c",
   "metadata": {},
   "outputs": [],
   "source": [
    "cor = 348.57 / (15.203*27.391)\n",
    "cor"
   ]
  },
  {
   "cell_type": "markdown",
   "id": "542d4d7e",
   "metadata": {
    "slideshow": {
     "slide_type": "slide"
    }
   },
   "source": [
    "## Berechnung mit `pandas`"
   ]
  },
  {
   "cell_type": "code",
   "execution_count": null,
   "id": "326231a9",
   "metadata": {},
   "outputs": [],
   "source": [
    "df.corr()"
   ]
  },
  {
   "cell_type": "markdown",
   "id": "c1bf3127",
   "metadata": {
    "slideshow": {
     "slide_type": "slide"
    }
   },
   "source": [
    "## Interpretation\n",
    "\n",
    "Der Korrelationskoeffizient zeigt an, ob zwei Datensätze eine gemeinsame Tendenz aufweisen\n",
    "\n",
    "* wenn er nahe bei $1$ liegt, dann wachsen $x$ und $y$ gemeinsam (gemeinsame Tendenz)\n",
    "* wenn er nahe bei $-1$ liegt, dann fällt $y$, wenn $x$ wächst (gegenläufige Tendenz)\n",
    "* wenn er nahe bei $0$ liegt, dann gibt es kein gemeinsames Verhalten"
   ]
  },
  {
   "cell_type": "markdown",
   "id": "c65aa612",
   "metadata": {
    "slideshow": {
     "slide_type": "fragment"
    }
   },
   "source": [
    "* auch ein negativer Korrelationskoeffizient hat eine Bedeutung\n",
    "* Beispiel:  Je weniger Pestizide ich im Garten ausbringe, desto mehr Bienen habe ich"
   ]
  },
  {
   "cell_type": "markdown",
   "id": "7ebb0d60",
   "metadata": {
    "slideshow": {
     "slide_type": "slide"
    }
   },
   "source": [
    "## Beispiele"
   ]
  },
  {
   "cell_type": "markdown",
   "id": "229369dc",
   "metadata": {
    "slideshow": {
     "slide_type": "slide"
    }
   },
   "source": [
    "### Sehr gute Korrelation"
   ]
  },
  {
   "cell_type": "code",
   "execution_count": null,
   "id": "c8c03fc5",
   "metadata": {
    "scrolled": true
   },
   "outputs": [],
   "source": [
    "df1 = pd.DataFrame()\n",
    "P = stats.norm()\n",
    "df1['x'] = np.arange(30)\n",
    "df1['y'] = -2*df1['x'] + P.rvs(size=30)\n",
    "df1"
   ]
  },
  {
   "cell_type": "code",
   "execution_count": null,
   "id": "3408544e",
   "metadata": {
    "slideshow": {
     "slide_type": "slide"
    }
   },
   "outputs": [],
   "source": [
    "sns.regplot(df1, x='x', y='y');"
   ]
  },
  {
   "cell_type": "code",
   "execution_count": null,
   "id": "f64d4b70",
   "metadata": {
    "slideshow": {
     "slide_type": "slide"
    }
   },
   "outputs": [],
   "source": [
    "df1.corr()"
   ]
  },
  {
   "cell_type": "markdown",
   "id": "fcaccdcd",
   "metadata": {
    "slideshow": {
     "slide_type": "slide"
    }
   },
   "source": [
    "## schlechte Korrelation"
   ]
  },
  {
   "cell_type": "code",
   "execution_count": null,
   "id": "13450039",
   "metadata": {
    "scrolled": true
   },
   "outputs": [],
   "source": [
    "df2 = pd.DataFrame()\n",
    "df2['x'] = np.arange(30)\n",
    "df2['y'] = P.rvs(size=30)\n",
    "df2"
   ]
  },
  {
   "cell_type": "code",
   "execution_count": null,
   "id": "0dd202e3",
   "metadata": {
    "slideshow": {
     "slide_type": "slide"
    }
   },
   "outputs": [],
   "source": [
    "sns.regplot(df2, x='x', y='y');"
   ]
  },
  {
   "cell_type": "code",
   "execution_count": null,
   "id": "d202a8da",
   "metadata": {
    "slideshow": {
     "slide_type": "slide"
    }
   },
   "outputs": [],
   "source": [
    "df2.corr()"
   ]
  },
  {
   "cell_type": "markdown",
   "id": "fa28479c",
   "metadata": {},
   "source": [
    "* Man kann immer eine lineare Regression berechnen.  Bei schlechter Korrelation ist sie allerdings bedeutungslos."
   ]
  },
  {
   "cell_type": "markdown",
   "id": "4cf7bfe6",
   "metadata": {
    "slideshow": {
     "slide_type": "slide"
    }
   },
   "source": [
    "# Regression zum Mittelwert\n",
    "\n",
    "* Der Begriff *Regression* kommt von Francis Galton, einem Neffen von Charles Darwin\n",
    "* Er hatte den auf der nächsten Folie gezeigten Datensatz analysiert\n",
    "* Auf der $x$-Achse stehen die Größen der Väter in Zoll\n",
    "* Auf der $y$-Achse stehen die Größen der Söhne in Zoll"
   ]
  },
  {
   "cell_type": "markdown",
   "id": "b5e8d51b",
   "metadata": {
    "slideshow": {
     "slide_type": "slide"
    }
   },
   "source": [
    "<img src=\"bilder/galton.svg\" alt=\"Daten von F. Galton\" height=\"85%\"/>"
   ]
  },
  {
   "cell_type": "markdown",
   "id": "95e7fa01",
   "metadata": {
    "slideshow": {
     "slide_type": "slide"
    }
   },
   "source": [
    "## Regression zum Mittelwert:  Interpretation\n",
    "\n",
    "* Die Söhne ungewöhnlich großer oder kleiner Väter sind im Mittel selbst zwar auch größer bzw. kleiner als der Mittelwert, aber diese Differenz ist kleiner als bei den Vätern\n",
    "* Galton bezeichnet dies (ziemlich unfreundlich) als \"Regression to mediocrity\"\n",
    "* Das gilt aber nur für die Individuen, nicht für die Population als Ganzes\n",
    "* auch in der nächsten Generation gibt es wieder ungewöhnlich große Individuen, aber in anderen Familien"
   ]
  },
  {
   "cell_type": "markdown",
   "id": "cefeddb3",
   "metadata": {
    "slideshow": {
     "slide_type": "slide"
    }
   },
   "source": [
    "# Korrelation $\\ne$ Kausalität\n",
    "\n",
    "* Wenn der Korrelationskoeffizient von $x$ und $y$ nahe $0$ liegt, dann gibt es keinen kausalen Zusammenhang     zwischen ihnen (seltene nichtlineare Pänomene mal ausgenommen)\n",
    "* Man kann aber im umgekehrten Fall von einem Korrelationskoeffizienten nahe bei $1$ nicht auf einen kausalen     Zusammenhang schließen"
   ]
  },
  {
   "cell_type": "markdown",
   "id": "e5c836a1",
   "metadata": {
    "slideshow": {
     "slide_type": "fragment"
    }
   },
   "source": [
    "* Zum Beispiel nimmt seit Jahrzehnten in Deutschland sowohl die Zahl der Geburten als auch die Zahl der Störche ab\n",
    "* Der kausale Zusammenhang ist aber umstritten"
   ]
  },
  {
   "cell_type": "markdown",
   "id": "3b6c5d06",
   "metadata": {
    "slideshow": {
     "slide_type": "fragment"
    }
   },
   "source": [
    "* Beispiel aus der Schlafforschung:  Mittagsschlafdauern über 90 Minuten sind ungesund "
   ]
  },
  {
   "cell_type": "markdown",
   "id": "973bb619",
   "metadata": {
    "slideshow": {
     "slide_type": "fragment"
    }
   },
   "source": [
    "* Bei Menschen korreliert die Rechtschreibfähigkeit mit der Schuhgröße"
   ]
  },
  {
   "cell_type": "markdown",
   "id": "714cfe3e",
   "metadata": {
    "slideshow": {
     "slide_type": "fragment"
    }
   },
   "source": [
    "* zumindest bei Menschen unter zehn Jahren"
   ]
  },
  {
   "cell_type": "markdown",
   "id": "c6ba7bb8",
   "metadata": {
    "slideshow": {
     "slide_type": "slide"
    }
   },
   "source": [
    "<img src=\"https://imgs.xkcd.com/comics/correlation.png\" alt=\"xkcd Cartoon 552\" width=\"85%\"/>\n",
    "\n",
    "Quelle: http://xkcd.com/552"
   ]
  },
  {
   "cell_type": "markdown",
   "id": "5e9a4107",
   "metadata": {
    "slideshow": {
     "slide_type": "slide"
    }
   },
   "source": [
    "## Beispiel: Bleibelastung im Gewebe von Ratten\n",
    "\n",
    "* kontaminiertes Gelände: fange 10 Ratten\n",
    "* unbelastetes Vergleichsgelände:  fange 10 Ratten\n",
    "* für jede Ratte wird ihr Alter in Monaten und der Bleigehalt im Gewebe bestimmt"
   ]
  },
  {
   "cell_type": "code",
   "execution_count": null,
   "id": "35b4f43a",
   "metadata": {
    "scrolled": true,
    "slideshow": {
     "slide_type": "slide"
    }
   },
   "outputs": [],
   "source": [
    "df = pd.read_csv('ratten.csv')\n",
    "df"
   ]
  },
  {
   "cell_type": "code",
   "execution_count": null,
   "id": "51ec45e0",
   "metadata": {
    "slideshow": {
     "slide_type": "slide"
    }
   },
   "outputs": [],
   "source": [
    "df_b = df[df.Gelände=='belastet']\n",
    "df_u = df[df.Gelände=='unbelastet']"
   ]
  },
  {
   "cell_type": "code",
   "execution_count": null,
   "id": "d3c318d7",
   "metadata": {},
   "outputs": [],
   "source": [
    "df_b.describe()"
   ]
  },
  {
   "cell_type": "code",
   "execution_count": null,
   "id": "0f116be8",
   "metadata": {},
   "outputs": [],
   "source": [
    "df_u.describe()"
   ]
  },
  {
   "cell_type": "markdown",
   "id": "b8d9c5e0",
   "metadata": {
    "slideshow": {
     "slide_type": "slide"
    }
   },
   "source": [
    "* Es gibt einen Unterschied in der Bleibelastung; aber auch eine große Stichprobenstreuung."
   ]
  },
  {
   "cell_type": "code",
   "execution_count": null,
   "id": "a3dd1a47",
   "metadata": {},
   "outputs": [],
   "source": [
    "stats.ttest_ind(df_u.Belastung, df_b.Belastung, alternative='less')"
   ]
  },
  {
   "cell_type": "markdown",
   "id": "bce4646d",
   "metadata": {
    "slideshow": {
     "slide_type": "fragment"
    }
   },
   "source": [
    "* Der Unterschied ist nicht signifikant.\n",
    "* Es fällt aber auf, dass die Ratten von dem belasteten Gebiet im Mittel jünger als die anderen sind.\n",
    "* Wir wollen das Alter herausrechnen"
   ]
  },
  {
   "cell_type": "markdown",
   "id": "1a11f42b",
   "metadata": {
    "slideshow": {
     "slide_type": "slide"
    }
   },
   "source": [
    "* Steigt die Bleibelastung mit dem Alter"
   ]
  },
  {
   "cell_type": "code",
   "execution_count": null,
   "id": "774c97a7",
   "metadata": {
    "slideshow": {
     "slide_type": "-"
    }
   },
   "outputs": [],
   "source": [
    "df_b.corr(numeric_only=True)"
   ]
  },
  {
   "cell_type": "code",
   "execution_count": null,
   "id": "3883f4ce",
   "metadata": {},
   "outputs": [],
   "source": [
    "df_u.corr(numeric_only=True)"
   ]
  },
  {
   "cell_type": "markdown",
   "id": "962aecea",
   "metadata": {
    "slideshow": {
     "slide_type": "slide"
    }
   },
   "source": [
    "Wir plotten beide Regressionen in ein Bild, ähnlich wie bei `distplot`"
   ]
  },
  {
   "cell_type": "code",
   "execution_count": null,
   "id": "6346f69c",
   "metadata": {},
   "outputs": [],
   "source": [
    "sns.lmplot(df, x='Alter', y='Belastung', hue='Gelände');"
   ]
  }
 ],
 "metadata": {
  "celltoolbar": "Slideshow",
  "kernelspec": {
   "display_name": "Python 3 (ipykernel)",
   "language": "python",
   "name": "python3"
  },
  "language_info": {
   "codemirror_mode": {
    "name": "ipython",
    "version": 3
   },
   "file_extension": ".py",
   "mimetype": "text/x-python",
   "name": "python",
   "nbconvert_exporter": "python",
   "pygments_lexer": "ipython3",
   "version": "3.11.4"
  }
 },
 "nbformat": 4,
 "nbformat_minor": 5
}
