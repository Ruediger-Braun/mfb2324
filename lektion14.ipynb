{
 "cells": [
  {
   "cell_type": "markdown",
   "id": "97e910de",
   "metadata": {
    "slideshow": {
     "slide_type": "slide"
    }
   },
   "source": [
    "# Mathematik für Biologiestudierende II\n",
    "\n",
    "Sommersemester 2024\n",
    "\n",
    "16.04.2024\n",
    "\n",
    "&copy; 2024 Prof. Dr. Rüdiger W. Braun "
   ]
  },
  {
   "cell_type": "code",
   "execution_count": null,
   "id": "a56ebe0f",
   "metadata": {
    "slideshow": {
     "slide_type": "slide"
    }
   },
   "outputs": [],
   "source": [
    "import numpy as np\n",
    "import pandas as pd\n",
    "import seaborn as sns\n",
    "sns.set_theme()"
   ]
  },
  {
   "cell_type": "markdown",
   "id": "04fc0a3b",
   "metadata": {
    "slideshow": {
     "slide_type": "slide"
    }
   },
   "source": [
    "# Normalverteilungsannahmen"
   ]
  },
  {
   "cell_type": "markdown",
   "id": "3128e867",
   "metadata": {
    "slideshow": {
     "slide_type": "slide"
    }
   },
   "source": [
    "## konservative Tests\n",
    "\n",
    "* Der $t$-Test verwendet eine Verteilungsannahme:  Daten müssen normalverteilt sein\n",
    "* Tests, die auch bei Verletzung der Verteilungsannahmen noch gute Ergebnisse liefern, heißen *konservativ*\n",
    "* Der $t$-Test ist konservativ"
   ]
  },
  {
   "cell_type": "markdown",
   "id": "0a582761",
   "metadata": {
    "slideshow": {
     "slide_type": "fragment"
    }
   },
   "source": [
    "## Q-Q-Plot\n",
    "\n",
    "* Mit dem Quantil-Quantil-Plot kann man auf graphischem Wege beurteilen, ob Messwerte Realisierungen einer normalverteilten Zufallsvariablen sind\n",
    "* Man trägt dazu auf der $x$-Achse die Quantile der Standardnormalverteilung und auf der $y$-Achse die Quantile der\n",
    "    Beobachtungsdaten auf\n",
    "* Wenn diese Punkte annähernd auf einer Geraden liegen, sind die Daten näherungsweise normalverteilt, ansonsten nicht"
   ]
  },
  {
   "cell_type": "markdown",
   "id": "2197885c",
   "metadata": {
    "slideshow": {
     "slide_type": "fragment"
    }
   },
   "source": [
    "* es gibt auch Testverfahren, um auf Normalverteilungsannahmen zu testen\n",
    "* nicht ganz klar, wie sinnvoll das ist"
   ]
  },
  {
   "cell_type": "markdown",
   "id": "ea5f4801",
   "metadata": {
    "slideshow": {
     "slide_type": "slide"
    }
   },
   "source": [
    "Beispieldaten aus Lektion 12"
   ]
  },
  {
   "cell_type": "code",
   "execution_count": null,
   "id": "fc3267c1",
   "metadata": {},
   "outputs": [],
   "source": [
    "u = \"https://www.math.uni-duesseldorf.de/~braun/bio2324/data/schadstoffe.csv\"\n",
    "df = pd.read_csv(u, index_col=0)\n",
    "df"
   ]
  },
  {
   "cell_type": "code",
   "execution_count": null,
   "id": "de7584a6",
   "metadata": {
    "slideshow": {
     "slide_type": "slide"
    }
   },
   "outputs": [],
   "source": [
    "import statsmodels.api as sm"
   ]
  },
  {
   "cell_type": "code",
   "execution_count": null,
   "id": "613b7163",
   "metadata": {
    "slideshow": {
     "slide_type": "fragment"
    }
   },
   "outputs": [],
   "source": [
    "pp = sm.ProbPlot(df.Konzentration)\n",
    "pp.qqplot();"
   ]
  },
  {
   "cell_type": "markdown",
   "id": "e3873686",
   "metadata": {
    "slideshow": {
     "slide_type": "fragment"
    }
   },
   "source": [
    "Wunderbar normalverteilt"
   ]
  },
  {
   "cell_type": "markdown",
   "id": "b33ee65a",
   "metadata": {
    "slideshow": {
     "slide_type": "slide"
    }
   },
   "source": [
    "Die Daten aus dem synthetischen Medikamentenexperiment aus Lektion 13"
   ]
  },
  {
   "cell_type": "code",
   "execution_count": null,
   "id": "c4545a9d",
   "metadata": {},
   "outputs": [],
   "source": [
    "df = pd.read_csv('treatment.csv', index_col=0)"
   ]
  },
  {
   "cell_type": "code",
   "execution_count": null,
   "id": "d611aa07",
   "metadata": {
    "slideshow": {
     "slide_type": "slide"
    }
   },
   "outputs": [],
   "source": [
    "pp = sm.ProbPlot(df.t0)\n",
    "pp.qqplot();"
   ]
  },
  {
   "cell_type": "markdown",
   "id": "0685ce07",
   "metadata": {
    "slideshow": {
     "slide_type": "fragment"
    }
   },
   "source": [
    "Die Daten sind nicht normalverteilt, weil ich oben bei 100 abgeschnitten hatte"
   ]
  },
  {
   "cell_type": "markdown",
   "id": "058aa7b3",
   "metadata": {
    "slideshow": {
     "slide_type": "slide"
    }
   },
   "source": [
    "### Beispiel Galapagos Inseln"
   ]
  },
  {
   "cell_type": "markdown",
   "id": "b361bdc9",
   "metadata": {},
   "source": [
    "Ein Datensatz zum Buch \"Linear Models with Python\" von Faraway"
   ]
  },
  {
   "cell_type": "code",
   "execution_count": null,
   "id": "3563a945",
   "metadata": {
    "scrolled": true,
    "slideshow": {
     "slide_type": "slide"
    }
   },
   "outputs": [],
   "source": [
    "df = pd.read_csv(\"galapagos.csv\", index_col=0)\n",
    "df"
   ]
  },
  {
   "cell_type": "code",
   "execution_count": null,
   "id": "10ba45b3",
   "metadata": {
    "slideshow": {
     "slide_type": "slide"
    }
   },
   "outputs": [],
   "source": [
    "pp = sm.ProbPlot(df.Area)\n",
    "pp.qqplot();"
   ]
  },
  {
   "cell_type": "markdown",
   "id": "4ca32092",
   "metadata": {
    "slideshow": {
     "slide_type": "slide"
    }
   },
   "source": [
    "# Nicht-parametrische Tests"
   ]
  },
  {
   "cell_type": "markdown",
   "id": "09033f8a",
   "metadata": {
    "slideshow": {
     "slide_type": "slide"
    }
   },
   "source": [
    "Beispiel für Situationen, in denen man nicht-parametrische Tests macht:\n",
    "\n",
    "* Wenn die Verteilungsannahmen nicht erfüllt sind\n",
    "* Wenn die Stichprobenumfänge zu klein sind\n",
    "* Wenn die Zufallsvariable diskret ist"
   ]
  },
  {
   "cell_type": "markdown",
   "id": "37e541db",
   "metadata": {
    "slideshow": {
     "slide_type": "slide"
    }
   },
   "source": [
    "### Vergleich zweier Erwartungswerte bzw. zweier Mediane\n",
    "\n",
    "|Vergeich                 | parametrisch                        |   nicht-parametrisch |\n",
    "|-------------------------|-------------------------------------|----------------------|\n",
    "|mit Referenzwert         | t-Test für verbundene Stichproben   | Wilcoxon-Test        |\n",
    "|vorher-nachher           | t-Test für verbundene Stichproben   | Wilcoxon-Test        |\n",
    "|verschiedene Populationen| t-Test für unverbundene Stichproben | Mann-Whitney-U-Test  |\n"
   ]
  },
  {
   "cell_type": "markdown",
   "id": "34094c89",
   "metadata": {
    "slideshow": {
     "slide_type": "slide"
    }
   },
   "source": [
    "## Wilcoxon-Signed-Rank-Test"
   ]
  },
  {
   "cell_type": "markdown",
   "id": "62fb952e",
   "metadata": {},
   "source": [
    "Den Wilcoxon Test verwendet man zum Vergleich der Mediane verbundener Datensätze, wenn die Normalverteilungsannahme nicht gesichert ist.\n",
    "\n",
    "Er ist ein Rangtest:  Das bedeutet, dass nur eine Rolle spielt, ob Werte größer sind als andere, aber nicht, um wie viel."
   ]
  },
  {
   "cell_type": "code",
   "execution_count": null,
   "id": "030042ac",
   "metadata": {
    "slideshow": {
     "slide_type": "slide"
    }
   },
   "outputs": [],
   "source": [
    "from scipy import stats"
   ]
  },
  {
   "cell_type": "code",
   "execution_count": null,
   "id": "859a5a18",
   "metadata": {
    "slideshow": {
     "slide_type": "-"
    }
   },
   "outputs": [],
   "source": [
    "df = pd.read_csv(u, index_col=0)\n",
    "df['Referenz'] = 0.08 / 100"
   ]
  },
  {
   "cell_type": "markdown",
   "id": "9bc623b7",
   "metadata": {
    "slideshow": {
     "slide_type": "slide"
    }
   },
   "source": [
    "* Wir vergleichen die Konzentration mit dem Referenzwert 0.08\n",
    "* Die Nummer der Messstelle benötigen wir erst in einer späteren Auswertung"
   ]
  },
  {
   "cell_type": "code",
   "execution_count": null,
   "id": "0b92b35e",
   "metadata": {},
   "outputs": [],
   "source": [
    "res = stats.wilcoxon(df.Konzentration, df.Referenz, alternative=\"greater\")\n",
    "res"
   ]
  },
  {
   "cell_type": "markdown",
   "id": "676af2b2",
   "metadata": {
    "slideshow": {
     "slide_type": "fragment"
    }
   },
   "source": [
    "Zum Vergleich:"
   ]
  },
  {
   "cell_type": "code",
   "execution_count": null,
   "id": "fc63f4f5",
   "metadata": {},
   "outputs": [],
   "source": [
    "stats.ttest_rel(df.Konzentration, df.Referenz, alternative=\"greater\")"
   ]
  },
  {
   "cell_type": "markdown",
   "id": "94eebd77",
   "metadata": {
    "slideshow": {
     "slide_type": "fragment"
    }
   },
   "source": [
    "* Der p-Wert ist ein kleines bisschen schlechter\n",
    "* Dieser Unterschied ist unerheblich\n",
    "* Im allgemeinen ist nicht klar, ob die unberechtigte Nutzung eines parametrischen Tests den p-Wert verbessert oder verschlechtert"
   ]
  },
  {
   "cell_type": "markdown",
   "id": "5ec48ace",
   "metadata": {
    "slideshow": {
     "slide_type": "slide"
    }
   },
   "source": [
    "Wir bestimmen jetzt auch noch die Effektstärke gemäß *Cohen's&nbsp;r*"
   ]
  },
  {
   "cell_type": "markdown",
   "id": "d89759be",
   "metadata": {
    "slideshow": {
     "slide_type": "fragment"
    }
   },
   "source": [
    "Dazu ist es erforderlich, den Test noch einmal mit `method=\"approx\"` zu rechnen, um die z-Statistik zu bekommen"
   ]
  },
  {
   "cell_type": "code",
   "execution_count": null,
   "id": "54140995",
   "metadata": {
    "slideshow": {
     "slide_type": "slide"
    }
   },
   "outputs": [],
   "source": [
    "res = stats.wilcoxon(df.Konzentration, df.Referenz, alternative=\"greater\", method=\"approx\")\n",
    "res"
   ]
  },
  {
   "cell_type": "code",
   "execution_count": null,
   "id": "5c7c4064",
   "metadata": {},
   "outputs": [],
   "source": [
    "res.zstatistic"
   ]
  },
  {
   "cell_type": "code",
   "execution_count": null,
   "id": "00d266e0",
   "metadata": {},
   "outputs": [],
   "source": [
    "n = df.Konzentration.count()\n",
    "n"
   ]
  },
  {
   "cell_type": "code",
   "execution_count": null,
   "id": "fb2d14bc",
   "metadata": {},
   "outputs": [],
   "source": [
    "r = abs(res.zstatistic / np.sqrt(n))\n",
    "r"
   ]
  },
  {
   "cell_type": "markdown",
   "id": "54a5117b",
   "metadata": {
    "slideshow": {
     "slide_type": "slide"
    }
   },
   "source": [
    "### Interpretation der Effektstärke\n",
    "\n",
    "| r-Wert | Interpretation   |\n",
    "|--------|------------------|\n",
    "| 0.1    | geringer Effekt  |\n",
    "| 0.3    | mittlerer Effekt |\n",
    "| 0.5    | starker Effekt   |"
   ]
  },
  {
   "cell_type": "markdown",
   "id": "3b2766be",
   "metadata": {
    "slideshow": {
     "slide_type": "fragment"
    }
   },
   "source": [
    "Wir haben also einen mittleren Effekt beobachtet"
   ]
  },
  {
   "cell_type": "markdown",
   "id": "5168e76d",
   "metadata": {
    "slideshow": {
     "slide_type": "slide"
    }
   },
   "source": [
    "# Mann-Whitney-U-Test"
   ]
  },
  {
   "cell_type": "markdown",
   "id": "eda74bd5",
   "metadata": {},
   "source": [
    "Den Mann-Whitney Test verwendet man zum Vergleich der Mediane unverbundener Datensätze, wenn die Normalverteilungsannahme nicht gesichert ist"
   ]
  },
  {
   "cell_type": "code",
   "execution_count": null,
   "id": "422c52cc",
   "metadata": {
    "slideshow": {
     "slide_type": "fragment"
    }
   },
   "outputs": [],
   "source": [
    "df = pd.read_csv('treatment.csv', index_col=0)\n",
    "dfv = df[df.Treatment=='Verum']\n",
    "dfp = df[df.Treatment=='Placebo']"
   ]
  },
  {
   "cell_type": "code",
   "execution_count": null,
   "id": "eb42121b",
   "metadata": {
    "slideshow": {
     "slide_type": "slide"
    }
   },
   "outputs": [],
   "source": [
    "res = stats.mannwhitneyu(dfv.Difference, dfp.Difference, alternative='greater')\n",
    "res"
   ]
  },
  {
   "cell_type": "markdown",
   "id": "15d7f897",
   "metadata": {},
   "source": [
    "zum Vergleich"
   ]
  },
  {
   "cell_type": "code",
   "execution_count": null,
   "id": "9e99597a",
   "metadata": {},
   "outputs": [],
   "source": [
    "stats.ttest_ind(dfv.Difference, dfp.Difference, alternative='greater')"
   ]
  },
  {
   "cell_type": "code",
   "execution_count": null,
   "id": "86566c00",
   "metadata": {
    "slideshow": {
     "slide_type": "slide"
    }
   },
   "outputs": [],
   "source": [
    "pp = sm.ProbPlot(dfv.Difference)\n",
    "pp.qqplot();"
   ]
  },
  {
   "cell_type": "markdown",
   "id": "9cf39971",
   "metadata": {
    "slideshow": {
     "slide_type": "slide"
    }
   },
   "source": [
    "Auch hier müssen wir für die Effektstärke die Statistik noch einmal rechnen, und zwar mit vertauschten Datensätzen"
   ]
  },
  {
   "cell_type": "code",
   "execution_count": null,
   "id": "b9675a83",
   "metadata": {},
   "outputs": [],
   "source": [
    "res2 = stats.mannwhitneyu(dfp.Difference, dfv.Difference, alternative='less')\n",
    "res2"
   ]
  },
  {
   "cell_type": "markdown",
   "id": "ae41eb01",
   "metadata": {},
   "source": [
    "Der $p$-Wert ist derselbe, aber die Statistik ist eine andere"
   ]
  },
  {
   "cell_type": "markdown",
   "id": "d52f6d9e",
   "metadata": {
    "slideshow": {
     "slide_type": "slide"
    }
   },
   "source": [
    "Die Formel für die Effektstärke nach Cohen's&nbsp;r ist\n",
    "$$  r = 1 - \\frac{2U}{n_1 \\cdot n_2}\n",
    "$$\n",
    "\n",
    "wobei $U$ die kleinere der beiden Statistiken ist und $n_1$ und $n_2$ die Stichprobenumfänge in den beiden Populationen sind"
   ]
  },
  {
   "cell_type": "code",
   "execution_count": null,
   "id": "cbe1b7f3",
   "metadata": {
    "slideshow": {
     "slide_type": "fragment"
    }
   },
   "outputs": [],
   "source": [
    "U = res2.statistic\n",
    "n1 = dfp.Difference.count()\n",
    "n2 = dfv.Difference.count()"
   ]
  },
  {
   "cell_type": "code",
   "execution_count": null,
   "id": "92b7854c",
   "metadata": {
    "slideshow": {
     "slide_type": "fragment"
    }
   },
   "outputs": [],
   "source": [
    "r = 1 - 2*U/(n1*n2)\n",
    "r"
   ]
  },
  {
   "cell_type": "markdown",
   "id": "2986ff8d",
   "metadata": {},
   "source": [
    "Ein sehr geringer Effekt"
   ]
  }
 ],
 "metadata": {
  "celltoolbar": "Slideshow",
  "kernelspec": {
   "display_name": "Python 3 (ipykernel)",
   "language": "python",
   "name": "python3"
  },
  "language_info": {
   "codemirror_mode": {
    "name": "ipython",
    "version": 3
   },
   "file_extension": ".py",
   "mimetype": "text/x-python",
   "name": "python",
   "nbconvert_exporter": "python",
   "pygments_lexer": "ipython3",
   "version": "3.11.5"
  }
 },
 "nbformat": 4,
 "nbformat_minor": 5
}
