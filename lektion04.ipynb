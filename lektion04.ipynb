{
 "cells": [
  {
   "cell_type": "markdown",
   "id": "e01baa24",
   "metadata": {
    "slideshow": {
     "slide_type": "slide"
    }
   },
   "source": [
    "# Mathematik für Biologiestudierende\n",
    "\n",
    "Wintersemester 2023/24\n",
    "\n",
    "8. November 2023\n",
    "\n",
    "&copy; 2023 Prof. Dr. Rüdiger W. Braun "
   ]
  },
  {
   "cell_type": "markdown",
   "id": "6a362210",
   "metadata": {
    "slideshow": {
     "slide_type": "slide"
    }
   },
   "source": [
    "# Python\n",
    "\n",
    "* `python`, `seaborn`, `jupyter`:  Was ist das?"
   ]
  },
  {
   "cell_type": "markdown",
   "id": "62755a2d",
   "metadata": {
    "slideshow": {
     "slide_type": "fragment"
    }
   },
   "source": [
    "* `python` ist eine Programmiersprache\n",
    "* Wir wollen aber gar nicht programmieren\n",
    "* Wir wollen fertige Bibliotheken anwenden"
   ]
  },
  {
   "cell_type": "markdown",
   "id": "19f4cf70",
   "metadata": {
    "slideshow": {
     "slide_type": "fragment"
    }
   },
   "source": [
    "* Für uns sind das `pandas`, `numpy`, `seaborn` und noch einige andere\n",
    "* Das sind für alle Teilnehmenden dieses Kurses dieselben Bibliotheken"
   ]
  },
  {
   "cell_type": "markdown",
   "id": "319b5623",
   "metadata": {
    "slideshow": {
     "slide_type": "fragment"
    }
   },
   "source": [
    "* In der Frage der Oberfläche gibt es verschiedene Möglichkeiten, je nach persönlichem Geschmack\n",
    "* Hier benutze ich `jupyter notebook` auf meinem Rechner \n",
    "* Eine andere Möglichkeit ist https://colab.research.google.com\n",
    "* Dort läuft ebenfalls `jupyter`"
   ]
  },
  {
   "cell_type": "markdown",
   "id": "b3fd9af5",
   "metadata": {
    "slideshow": {
     "slide_type": "slide"
    }
   },
   "source": [
    "## Installation auf eigenem Rechner\n",
    "\n",
    "* weil wir mehr als nur `python` brauchen, gibt es auf https://www.math.uni-duesseldorf.de/~internet/bio2324/software.html eine Installationsanweisung\n",
    "* in der offenene Fragestunde am letzten Freitag habe ich das vorgemacht"
   ]
  },
  {
   "cell_type": "markdown",
   "id": "bfdd90c7",
   "metadata": {
    "slideshow": {
     "slide_type": "slide"
    }
   },
   "source": [
    "# Warum nicht Excel?"
   ]
  },
  {
   "cell_type": "markdown",
   "id": "29a28483",
   "metadata": {
    "slideshow": {
     "slide_type": "fragment"
    }
   },
   "source": [
    "* Hilft uns nur auf der ersten Hälfte unseres Weges"
   ]
  },
  {
   "cell_type": "markdown",
   "id": "e52b3c11",
   "metadata": {
    "slideshow": {
     "slide_type": "fragment"
    }
   },
   "source": [
    "* Ist schon bei mittelkomplizierten Fragestellungen nicht wirklich einfacher"
   ]
  },
  {
   "cell_type": "markdown",
   "id": "d7166bfe",
   "metadata": {
    "slideshow": {
     "slide_type": "fragment"
    }
   },
   "source": [
    "* Spreadsheets sind sehr, sehr schwer zu verifizieren"
   ]
  },
  {
   "cell_type": "markdown",
   "id": "199d0647",
   "metadata": {
    "slideshow": {
     "slide_type": "fragment"
    }
   },
   "source": [
    "Wofür Excel gut ist:\n",
    "\n",
    "* Einmalrechnungen, die nicht reproduziert weden müssen\n",
    "* gutes Eingabeformat"
   ]
  },
  {
   "cell_type": "markdown",
   "id": "92db7a33",
   "metadata": {
    "slideshow": {
     "slide_type": "slide"
    }
   },
   "source": [
    "# Praktische Vorführung Excel"
   ]
  },
  {
   "cell_type": "markdown",
   "id": "90a4f3a8",
   "metadata": {
    "slideshow": {
     "slide_type": "slide"
    }
   },
   "source": [
    "# Deskriptive Statistik\n",
    "\n",
    "Die Bibiothek zur Bearbeitung von Tabellen heißt `pandas`"
   ]
  },
  {
   "cell_type": "code",
   "execution_count": null,
   "id": "4f9bd75e",
   "metadata": {},
   "outputs": [],
   "source": [
    "import pandas as pd"
   ]
  },
  {
   "cell_type": "markdown",
   "id": "526dcfd5",
   "metadata": {
    "slideshow": {
     "slide_type": "slide"
    }
   },
   "source": [
    "## Einlesen von Daten\n",
    "\n",
    "`sns.load_dataset()`  für die Beispieldatensätze, die bei seaborn mitgeliefert werde\n",
    "\n",
    "für echte Datensätze\n",
    "\n",
    "* `pd.read_csv()`  Daten im csv-Format\n",
    "* `pd.read_excel()`  Daten in einem der Excel-Formate"
   ]
  },
  {
   "cell_type": "code",
   "execution_count": null,
   "id": "013309bc",
   "metadata": {},
   "outputs": [],
   "source": [
    "df = pd.read_csv(\"iris/iris_extended.csv\")"
   ]
  },
  {
   "cell_type": "code",
   "execution_count": null,
   "id": "e1293ec5",
   "metadata": {},
   "outputs": [],
   "source": [
    "df"
   ]
  },
  {
   "cell_type": "code",
   "execution_count": null,
   "id": "d55871c4",
   "metadata": {},
   "outputs": [],
   "source": [
    "bluetenblattlange = df.petal_length"
   ]
  },
  {
   "cell_type": "code",
   "execution_count": null,
   "id": "266aa3a2",
   "metadata": {},
   "outputs": [],
   "source": [
    "bluetenblattlange"
   ]
  },
  {
   "cell_type": "markdown",
   "id": "fbf44b8a",
   "metadata": {
    "slideshow": {
     "slide_type": "slide"
    }
   },
   "source": [
    "# Lageparameter"
   ]
  },
  {
   "cell_type": "markdown",
   "id": "6708d88d",
   "metadata": {
    "slideshow": {
     "slide_type": "slide"
    }
   },
   "source": [
    "### Arithmetisches Mittel\n",
    "\n",
    "Das arithmetische Mittel (engl. \"mean\") ist der Durchschnitt der Messwert"
   ]
  },
  {
   "cell_type": "markdown",
   "id": "1b00298c",
   "metadata": {},
   "source": [
    "Formel:  Beim Stichprobenumfang $n$ seien $ x_1, x_2, x_3, \\dots,  x_n $ die Messwerte, dann ist das arithmetische Mittel gleich\n",
    "\n",
    "$$\n",
    "    \\overline x = \\frac1n \\left( x_1 + x_2 + x_3 + \\dots + x_n \\right)\n",
    "$$\n",
    "\n",
    "  Man schreibt auch\n",
    "  \\begin{equation*}\n",
    "    \\overline x = \\frac1n \\sum_{j=1}^n x_j\n",
    "  \\end{equation*}\n"
   ]
  },
  {
   "cell_type": "markdown",
   "id": "ad30c09f",
   "metadata": {
    "slideshow": {
     "slide_type": "fragment"
    }
   },
   "source": [
    "$\\displaystyle \\sum$   ist das Summenzeichen. \n",
    "\n",
    "* Unter dem Zeichen stehen zwei Informationen:  Der Name der Zählvariablen (hier $j$) und der Startwert der Zählung (hier $1$).  \n",
    "* Über dem Zeichen steht der Endpunkt der Zählung (hier die Variable $n$)\n",
    "* Rechts neben dem Zeichen steht, was aufzuzählen ist (hier $x_j$)"
   ]
  },
  {
   "cell_type": "markdown",
   "id": "8c639d6e",
   "metadata": {
    "slideshow": {
     "slide_type": "slide"
    }
   },
   "source": [
    "### Beispiel\n",
    "\n",
    "Bei fünf Mäusen sind die Gewichte 21.3g, 19.8g, 20.4g, 19.0g und 22.7g gemessen worden.  Was ist der Mittelwert?"
   ]
  },
  {
   "cell_type": "markdown",
   "id": "d0926f5f",
   "metadata": {
    "slideshow": {
     "slide_type": "fragment"
    }
   },
   "source": [
    "* Die Summe beträgt 103.2g.\n",
    "* 103.2/5 = 20.64\n",
    "* Das arithmetische Mittel der Mausgewichte beträgt 20.64g\n",
    "\n",
    "Das ist mit dem Taschenrechner kein Problem"
   ]
  },
  {
   "cell_type": "markdown",
   "id": "8803cf90",
   "metadata": {},
   "source": [
    "Trotzdem mal mit `pandas`"
   ]
  },
  {
   "cell_type": "code",
   "execution_count": null,
   "id": "4b85bcec",
   "metadata": {},
   "outputs": [],
   "source": [
    "maeuse = pd.DataFrame()  #  leerer DataFrame"
   ]
  },
  {
   "cell_type": "code",
   "execution_count": null,
   "id": "afdfc59f",
   "metadata": {},
   "outputs": [],
   "source": [
    "maeuse['Gewicht'] = [21.3, 19.8, 20.4, 19.0, 22.7]"
   ]
  },
  {
   "cell_type": "code",
   "execution_count": null,
   "id": "d86d580a",
   "metadata": {},
   "outputs": [],
   "source": [
    "maeuse"
   ]
  },
  {
   "cell_type": "code",
   "execution_count": null,
   "id": "d01cf82d",
   "metadata": {},
   "outputs": [],
   "source": [
    "maeuse.mean()"
   ]
  },
  {
   "cell_type": "code",
   "execution_count": null,
   "id": "f6767f60",
   "metadata": {},
   "outputs": [],
   "source": [
    "bluetenblattlange.mean()"
   ]
  },
  {
   "cell_type": "markdown",
   "id": "b38e6211",
   "metadata": {},
   "source": [
    "## Median\n",
    "\n",
    "Der Median ist ein Wert mit der Eigenschaft, dass in der Menge der nach Größe geordneten Messwerte gleich viele Daten unterhalb und oberhalb des Medians liegen.\n",
    "\n",
    "Beispiel:  7 Messwerte\n",
    "\n",
    "10 | 5 | 4 | 9 | 10 | 1 | 5\n",
    "\n",
    "\n",
    "Nach Größe anordnen\n",
    "\n",
    "1 | 4 | 5 | 5 | 9 | 10 | 10\n",
    "\n",
    "Der Median ist $x_{\\text{med}} = 5$"
   ]
  },
  {
   "cell_type": "markdown",
   "id": "3d0e03eb",
   "metadata": {},
   "source": [
    "## Median für geraden Stichprobenumfang\n",
    "  \n",
    "Falls die Anzahl der Daten gerade ist, stehen in der Menge der nach Größe geordneten Messwerte zwei Zahlen in der Mitte.  \n",
    "\n",
    "Der Median~$x_{\\text{med}}$ ist dann deren arithmetisches Mittel.\n",
    "\n",
    "10 | 5 | 4 | 9 | 10 | 1 | 5 | 8\n",
    "\n",
    "  Nach Größe anordnen\n",
    "\n",
    "1 | 4 | 5 | 5 | 8 | 9 | 10 | 10\n",
    "\n",
    "Der Median ist $x_{\\text{med}} = 6.5$ \n"
   ]
  },
  {
   "cell_type": "code",
   "execution_count": null,
   "id": "e83ce9a8",
   "metadata": {},
   "outputs": [],
   "source": [
    "maeuse.median()"
   ]
  },
  {
   "cell_type": "markdown",
   "id": "7fa5f2d3",
   "metadata": {},
   "source": [
    "Bei normalverteilten Daten liegen arithmetisches Mittel und Median nahe beieinander"
   ]
  },
  {
   "cell_type": "markdown",
   "id": "2ca736db",
   "metadata": {},
   "source": [
    "Robustheit\n",
    "\n",
    "* Ein *Ausreißer* ist ein Messwert, der weit von fast allen anderen Messwerten entfernt ist.  Ausreißer können z.B. von\n",
    "    Messfehlern herrühren.\n",
    "* Eine statistische Größe ist *robust*, wenn sie unempfindlich gegen Ausreißer ist.\n",
    "* Das arithmetische Mittel ist nicht robust.  Ausreißer gehen genauso ein wie alle anderen.\n",
    "* Der Median ist robust"
   ]
  },
  {
   "cell_type": "markdown",
   "id": "c6e9bfc0",
   "metadata": {},
   "source": [
    "### Beispiel zur Robustheit"
   ]
  },
  {
   "cell_type": "code",
   "execution_count": null,
   "id": "6647ae66",
   "metadata": {},
   "outputs": [],
   "source": [
    "maeuse2 = pd.DataFrame()\n",
    "maeuse2['Gewicht'] = [21.3, 19.8, 20.4, 19.0, 22.7, 287]"
   ]
  },
  {
   "cell_type": "code",
   "execution_count": null,
   "id": "8ac59af2",
   "metadata": {},
   "outputs": [],
   "source": [
    "maeuse.mean()"
   ]
  },
  {
   "cell_type": "code",
   "execution_count": null,
   "id": "e57d891e",
   "metadata": {},
   "outputs": [],
   "source": [
    "maeuse2.mean()"
   ]
  },
  {
   "cell_type": "code",
   "execution_count": null,
   "id": "eedc042f",
   "metadata": {},
   "outputs": [],
   "source": [
    "maeuse.median()"
   ]
  },
  {
   "cell_type": "code",
   "execution_count": null,
   "id": "2bbf403b",
   "metadata": {},
   "outputs": [],
   "source": [
    "maeuse2.median()"
   ]
  },
  {
   "cell_type": "markdown",
   "id": "0d252dae",
   "metadata": {},
   "source": [
    "# Streuungsparameter\n",
    "\n",
    "## Empirische Varianz und Stichprobenstreuung\n",
    "\n",
    "* Beim Stichprobenumfang $n$ seien $x_1, x_2, x_3, \\dots, x_n$ die Messwerte, dann ist das *empirische Varianz* gleich\n",
    "    \\begin{equation*}\n",
    "      s^2 = \\frac{(x_1-\\overline x)^2 + (x_2-\\overline x)^2 +\n",
    "        (x_3-\\overline x)^2 + \\dots + (x_n-\\overline x)^2}{n-1}\n",
    "    \\end{equation*}\n",
    "    Dabei ist $\\overline x$ das arithmetische Mittel\n",
    "* Die empirische Varianz wird mit $s^2$ bezeichnet.  Die Zahl $s$ heißt *empirische Standardabweichung* oder\n",
    "    *Stichprobenstreuung*\n",
    "* Die Stichprobenstreuung ist also die Quadratwurzel der empirischen Varianz"
   ]
  },
  {
   "cell_type": "markdown",
   "id": "6c1534f4",
   "metadata": {},
   "source": [
    "## Konkrete Rechnung\n",
    "\n",
    "Bei fünf Proben wurden die folgenden Massen in [g] gewogen: \n",
    "\n",
    "| Nummer | 1      | 2      | 3     | 4      | 5   |\n",
    "|--------|--------|--------|-------|--------|-----|\n",
    "| Masse  | 1.1    | 1.3    | 1.6   | 1.3    | 2.0 |\n",
    "\n",
    "$$\\displaystyle \\sum_{j=1}^5 x_j = 7.3g$$\n",
    "$$\\overline x = \\frac{7.3g}5 = 1.46g$$\n",
    "$$\\sum_{j=1}^5 (x_j-\\overline x)^2 = 0.4920g^2$$\n",
    "$$s^2 = \\frac{0.4920g^2}4 = 0.1230g^2 \\quad\\text{und}\\quad\n",
    "s = \\sqrt{0.1230g^2} = 0.3507g$$"
   ]
  },
  {
   "cell_type": "code",
   "execution_count": null,
   "id": "f0384195",
   "metadata": {},
   "outputs": [],
   "source": [
    "maeuse.var()"
   ]
  },
  {
   "cell_type": "code",
   "execution_count": null,
   "id": "d1db3283",
   "metadata": {},
   "outputs": [],
   "source": [
    "maeuse.std()"
   ]
  },
  {
   "cell_type": "markdown",
   "id": "b35bf189",
   "metadata": {},
   "source": [
    "## Stichprobenstreuung vs. Varianz\n",
    "\n",
    "* Der Vorteil der Stichprobenstreuung gegenüber der Varianz ist, dass die Stichprobenstreuung richtig skaliert\n",
    "* Das bedeutet folgendes: Wenn ich alle Daten mit 1000 multipliziere, dann\n",
    "  * multipliziert sich das arithmetische Mittel mit 1000\n",
    "  * multipliziert sich die Varianz mit 1000000\n",
    "  * multipliziert sich die Stichprobenstreuung mit 1000\n",
    "* Das bedeutet auch, dass die Stichprobenstreuung in derselben Einheit angegegeben wird wie die Daten"
   ]
  },
  {
   "cell_type": "markdown",
   "id": "776f3f37",
   "metadata": {},
   "source": [
    "## Formeln für die Varianz\n",
    "\n",
    "* Die Definition ohne Pünktchen\n",
    "    \\begin{equation*}\n",
    "      s^2 = \\frac1{n-1} \\sum_{j=1}^n \\left(x_j - \\overline x \\right)^2\n",
    "    \\end{equation*}\n",
    "* Eine etwas einfachere Formel, deren Richtigkeit leicht nachgerechnet werden kann\n",
    "    \\begin{equation*}\n",
    "      s^2 = \\frac1{n-1} \\biggr( \\Bigr( \\sum_{j=1}^n x_j^2 \\Bigr) - n\n",
    "      {\\overline x}^2 \\biggr)\n",
    "    \\end{equation*}"
   ]
  },
  {
   "cell_type": "markdown",
   "id": "a492b15a",
   "metadata": {},
   "source": [
    "## Warum $n - 1$ im Nenner?\n",
    "\n",
    "* Das Stichwort ist ``erwartungstreuer Schätzer'' \n",
    "* Das bedeutet ungefähr, dass man, wenn man für viele Datensätze die Varianz mit dieser Methode feststellt, im Mittel näher an der ``wahren'' Varianz ist, als wenn man den Nenner $n$ benutzt\n",
    "* Alle großen Software-Pakete machen das so \n"
   ]
  },
  {
   "cell_type": "markdown",
   "id": "15be05dc",
   "metadata": {},
   "source": [
    "Software-Pakete:\n",
    "\n",
    "* `python` mit `pandas` und `scipy.stats`\n",
    "* `R`\n",
    "* `SPSS`"
   ]
  },
  {
   "cell_type": "code",
   "execution_count": null,
   "id": "2c429130",
   "metadata": {},
   "outputs": [],
   "source": [
    "maeuse.describe()"
   ]
  },
  {
   "cell_type": "markdown",
   "id": "7f450122",
   "metadata": {},
   "source": [
    "* `count`: Anzahl\n",
    "* `mean`: arithmetisches Mittel\n",
    "* `std`: Stichprobenstreuung\n",
    "* `min`: kleinster Wert\n",
    "* `50%`: Median\n",
    "* `25%`, `75%`: Quartile\n",
    "* `max`: größter Wert"
   ]
  },
  {
   "cell_type": "code",
   "execution_count": null,
   "id": "07345ff9",
   "metadata": {},
   "outputs": [],
   "source": []
  },
  {
   "cell_type": "code",
   "execution_count": null,
   "id": "161a75bd",
   "metadata": {},
   "outputs": [],
   "source": []
  },
  {
   "cell_type": "code",
   "execution_count": null,
   "id": "e4a1d885",
   "metadata": {},
   "outputs": [],
   "source": []
  },
  {
   "cell_type": "code",
   "execution_count": null,
   "id": "8d4b68f6",
   "metadata": {},
   "outputs": [],
   "source": []
  },
  {
   "cell_type": "code",
   "execution_count": null,
   "id": "e0fb8db3",
   "metadata": {},
   "outputs": [],
   "source": []
  },
  {
   "cell_type": "markdown",
   "id": "8a590a34",
   "metadata": {},
   "source": [
    "url = \"https://stats.idre.ucla.edu/stat/data/fish.csv\""
   ]
  },
  {
   "cell_type": "code",
   "execution_count": null,
   "id": "0a9915b2",
   "metadata": {},
   "outputs": [],
   "source": [
    "import pandas as pd"
   ]
  },
  {
   "cell_type": "code",
   "execution_count": null,
   "id": "d604d054",
   "metadata": {},
   "outputs": [],
   "source": [
    "df"
   ]
  },
  {
   "cell_type": "code",
   "execution_count": null,
   "id": "69f5b2ae",
   "metadata": {},
   "outputs": [],
   "source": [
    "df.elevation.mean()"
   ]
  },
  {
   "cell_type": "code",
   "execution_count": null,
   "id": "7148c52c",
   "metadata": {},
   "outputs": [],
   "source": [
    "df.columns"
   ]
  },
  {
   "cell_type": "code",
   "execution_count": null,
   "id": "0f28792f",
   "metadata": {},
   "outputs": [],
   "source": []
  },
  {
   "cell_type": "markdown",
   "id": "7354dc9b",
   "metadata": {},
   "source": [
    "https://www.kaggle.com/datasets/samybaladram/iris-dataset-extended/\n",
    "\n",
    "&copy; Samy Baladram, CC-BY-4.0"
   ]
  },
  {
   "cell_type": "code",
   "execution_count": null,
   "id": "7f2a65b8",
   "metadata": {},
   "outputs": [],
   "source": []
  }
 ],
 "metadata": {
  "celltoolbar": "Slideshow",
  "kernelspec": {
   "display_name": "Python 3 (ipykernel)",
   "language": "python",
   "name": "python3"
  },
  "language_info": {
   "codemirror_mode": {
    "name": "ipython",
    "version": 3
   },
   "file_extension": ".py",
   "mimetype": "text/x-python",
   "name": "python",
   "nbconvert_exporter": "python",
   "pygments_lexer": "ipython3",
   "version": "3.11.5"
  }
 },
 "nbformat": 4,
 "nbformat_minor": 5
}
