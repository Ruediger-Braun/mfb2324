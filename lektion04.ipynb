{
 "cells": [
  {
   "cell_type": "markdown",
   "id": "e01baa24",
   "metadata": {
    "slideshow": {
     "slide_type": "slide"
    }
   },
   "source": [
    "# Mathematik für Biologiestudierende\n",
    "\n",
    "Wintersemester 2023/24\n",
    "\n",
    "8. November 2023\n",
    "\n",
    "&copy; 2023 Prof. Dr. Rüdiger W. Braun "
   ]
  },
  {
   "cell_type": "markdown",
   "id": "6a362210",
   "metadata": {
    "slideshow": {
     "slide_type": "slide"
    }
   },
   "source": [
    "# Python\n",
    "\n",
    "* `python`, `seaborn`, `jupyter`:  Was ist das?"
   ]
  },
  {
   "cell_type": "markdown",
   "id": "62755a2d",
   "metadata": {
    "slideshow": {
     "slide_type": "fragment"
    }
   },
   "source": [
    "* `python` ist eine Programmiersprache\n",
    "* Wir wollen aber gar nicht programmieren\n",
    "* Wir wollen fertige Bibliotheken anwenden"
   ]
  },
  {
   "cell_type": "markdown",
   "id": "19f4cf70",
   "metadata": {
    "slideshow": {
     "slide_type": "fragment"
    }
   },
   "source": [
    "* Für uns sind das `pandas`, `numpy`, `seaborn` und noch einige andere\n",
    "* Das sind für alle Teilnehmenden dieses Kurses dieselben Bibliotheken"
   ]
  },
  {
   "cell_type": "markdown",
   "id": "319b5623",
   "metadata": {
    "slideshow": {
     "slide_type": "fragment"
    }
   },
   "source": [
    "* In der Frage der Oberfläche gibt es verschiedene Möglichkeiten, je nach persönlichem Geschmack\n",
    "* Hier benutze ich `jupyter notebook` auf meinem Rechner \n",
    "* Eine andere Möglichkeit ist https://colab.research.google.com\n",
    "* Dort läuft ebenfalls `jupyter`"
   ]
  },
  {
   "cell_type": "markdown",
   "id": "b3fd9af5",
   "metadata": {
    "slideshow": {
     "slide_type": "slide"
    }
   },
   "source": [
    "## Installation auf eigenem Rechner\n",
    "\n",
    "* weil wir mehr als nur `python` brauchen, gibt es auf https://www.math.uni-duesseldorf.de/~internet/bio2324/software.html eine Installationsanweisung\n",
    "* in der offenene Fragestunde am letzten Freitag habe ich das vorgemacht"
   ]
  },
  {
   "cell_type": "markdown",
   "id": "bfdd90c7",
   "metadata": {
    "slideshow": {
     "slide_type": "slide"
    }
   },
   "source": [
    "# Warum nicht Excel?"
   ]
  },
  {
   "cell_type": "markdown",
   "id": "29a28483",
   "metadata": {
    "slideshow": {
     "slide_type": "fragment"
    }
   },
   "source": [
    "* Hilft uns nur auf der ersten Hälfte unseres Weges"
   ]
  },
  {
   "cell_type": "markdown",
   "id": "e52b3c11",
   "metadata": {
    "slideshow": {
     "slide_type": "fragment"
    }
   },
   "source": [
    "* Ist schon bei mittelkomplizierten Fragestellungen nicht wirklich einfacher"
   ]
  },
  {
   "cell_type": "markdown",
   "id": "d7166bfe",
   "metadata": {
    "slideshow": {
     "slide_type": "fragment"
    }
   },
   "source": [
    "* Spreadsheets sind sehr, sehr schwer zu verifizieren"
   ]
  },
  {
   "cell_type": "markdown",
   "id": "199d0647",
   "metadata": {
    "slideshow": {
     "slide_type": "fragment"
    }
   },
   "source": [
    "Wofür Excel gut ist:\n",
    "\n",
    "* Einmalrechnungen, die nicht reproduziert weden müssen\n",
    "* gutes Eingabeformat"
   ]
  },
  {
   "cell_type": "code",
   "execution_count": 1,
   "id": "f6729696",
   "metadata": {},
   "outputs": [],
   "source": [
    "url = \"https://stats.idre.ucla.edu/stat/data/fish.csv\""
   ]
  },
  {
   "cell_type": "code",
   "execution_count": null,
   "id": "0a9915b2",
   "metadata": {},
   "outputs": [],
   "source": []
  }
 ],
 "metadata": {
  "celltoolbar": "Slideshow",
  "kernelspec": {
   "display_name": "Python 3 (ipykernel)",
   "language": "python",
   "name": "python3"
  },
  "language_info": {
   "codemirror_mode": {
    "name": "ipython",
    "version": 3
   },
   "file_extension": ".py",
   "mimetype": "text/x-python",
   "name": "python",
   "nbconvert_exporter": "python",
   "pygments_lexer": "ipython3",
   "version": "3.11.5"
  }
 },
 "nbformat": 4,
 "nbformat_minor": 5
}
