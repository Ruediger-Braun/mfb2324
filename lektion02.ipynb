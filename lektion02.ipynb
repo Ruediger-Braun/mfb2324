{
 "cells": [
  {
   "cell_type": "markdown",
   "id": "e01baa24",
   "metadata": {
    "slideshow": {
     "slide_type": "slide"
    }
   },
   "source": [
    "# Mathematik für Biologiestudierende\n",
    "\n",
    "Wintersemester 2023/24\n",
    "\n",
    "18. Oktober 2023\n",
    "\n",
    "&copy; 2023 Prof. Dr. Rüdiger W. Braun "
   ]
  },
  {
   "cell_type": "markdown",
   "id": "cf35e63a",
   "metadata": {
    "slideshow": {
     "slide_type": "slide"
    }
   },
   "source": [
    "## Exponentialfunktion und Logarithmus\n",
    "\n",
    " $$\n",
    "      \\exp(\\ln(y)) = y \\quad\\text{und}\\quad\n",
    "      \\ln(\\exp(x)) = x\n",
    " $$"
   ]
  },
  {
   "cell_type": "markdown",
   "id": "483c0e32",
   "metadata": {
    "slideshow": {
     "slide_type": "fragment"
    }
   },
   "source": [
    "$$\n",
    "       a^x = \\exp(x \\cdot \\ln(a))\n",
    "$$"
   ]
  },
  {
   "cell_type": "markdown",
   "id": "2ec07e64",
   "metadata": {
    "slideshow": {
     "slide_type": "slide"
    }
   },
   "source": [
    "## Wachstums- und Abklingprozesse\n",
    "\n",
    "* Bei einem exponentiellen Wachstumsprozess sind die *prozentualen* Zuwächse pro (Zeit-)Einheit konstant.\n",
    "* Bei einem exponentiellen Abklingprozess sind die *prozentualen* Verluste pro (Zeit-)Einheit konstant.\n",
    "* Beispiel: Eine Bakterienkonzentration nehme pro Stunde um 15% ab.  Man startet mit 10000 Bakterien pro $mm^2$:\n",
    "\n",
    "|Zeit [h]                 |     0|    1|     2|    3|    4|    5|    6|    7|\n",
    "|------------------------:|-----:|----:|-----:|----:|----:|----:|----:|----:|\n",
    "|Konzentration [$mm^{-2}$]| 10000| 8500|  7225| 6141| 5220| 4437| 3771| 3206|\n"
   ]
  },
  {
   "cell_type": "markdown",
   "id": "49a86e57",
   "metadata": {
    "slideshow": {
     "slide_type": "fragment"
    }
   },
   "source": [
    "* Abklingprozesse besitzen eine *Halbwertszeit*.  Das ist derjenige Zeitraum, in dem sich die verbleibende Menge jeweils halbiert\n",
    "* Wachstumsprozesse besitzen eine *Verdoppelungszeit*.  Das ist derjenige Zeitraum, in dem sich die Menge jeweils verdoppelt\n",
    "* Zur Bestimmung der Halbwerts- und Verdoppelungszeiten benötigt man den Logarithmus"
   ]
  },
  {
   "cell_type": "markdown",
   "id": "4029667f",
   "metadata": {
    "slideshow": {
     "slide_type": "slide"
    }
   },
   "source": [
    "## Beispiel zur Halbwertszeit\n",
    "\n",
    "* Die Bakterienkonzentration $k(x)$ schrumpft in einer Stunde um 15%.\n",
    "* Abklingprozess\n",
    "    $$\n",
    "      k(x) = e^{-A \\cdot x}\n",
    "    $$\n",
    "* $ k(0) = 1 $ (Normierung auf die Ausgangskonzentration)\n",
    "* Bestimme zuerst $A$\n",
    "   $$\n",
    "      k(1) = 0.85 = e^{-A\\cdot1}\n",
    "   $$\n",
    "* Logarithmiere (beachte $ \\ln(e^y) = y $)\n",
    "   $$\n",
    "      \\ln(0.85) = -A\n",
    "   $$\n",
    "* Also $ A = -\\ln(0.85) = 0.1625 $\n",
    "* Die Konzentration folgt also der Formel $ k(x) = e^{-0.1625\\cdot x} $\n"
   ]
  },
  {
   "cell_type": "markdown",
   "id": "251f1331",
   "metadata": {
    "slideshow": {
     "slide_type": "slide"
    }
   },
   "source": [
    "* Konzentration $ k(x) = e^{-0.1625\\cdot x} $\n",
    "* Die Halbwertszeit ist derjenige Wert $ x_{\\text{hw}} $ mit $ k(x_{hw}) = 0.5 $\n",
    "* Löse die Gleichung\n",
    "    $$\n",
    "      e^{-0.1625\\cdot x_{\\text{hw}}} = 0.5\n",
    "    $$\n",
    "* Das geschieht wieder durch Logarithmieren \n",
    "  $$\n",
    "      -0.1625 \\cdot x_{\\text{hw}} = \\ln(0.5) = -0.6931\n",
    "  $$\n",
    "* Also\n",
    "  $$\n",
    "      x_{\\text{hw}} = \\frac{-0.6931}{-0.1625} = 4.266\n",
    "  $$\n",
    "* Alle $ 4.266 $ Stunden halbiert sich die Konzentration.\n"
   ]
  },
  {
   "cell_type": "markdown",
   "id": "ab310ab4",
   "metadata": {
    "slideshow": {
     "slide_type": "slide"
    }
   },
   "source": [
    "## Verdopplungszeit\n",
    "\n",
    "* Beispiel:  Eine Seerose verfünffacht ihre Fläche in einer Woche.  Was ist ihre Verdopplungszeit?\n",
    "* Wachstumsprozess ($x$ in Tagen)\n",
    "    $$\n",
    "      k(x) = e^{A \\cdot x}\n",
    "    $$\n",
    "* Bestimme zuerst $A$\n",
    "    $$\n",
    "      k(7) = 5 = e^{A\\cdot7}\n",
    "    $$\n",
    "* Logarithmiere\n",
    "    $$\n",
    "      \\ln(5) =  A \\cdot 7\n",
    "    $$\n",
    "* Also $ A = \\frac{\\ln(5)}7 = 0.2299 $\n",
    "* Die Fläche folgt also der Formel\n",
    "  $$ k(x) = e^{0.2299\\cdot x} $$\n"
   ]
  },
  {
   "cell_type": "markdown",
   "id": "3287c09a",
   "metadata": {
    "slideshow": {
     "slide_type": "slide"
    }
   },
   "source": [
    "* Fläche $ k(x) = e^{0.2299\\cdot x} $\n",
    "* Die Verdopplungszeit ist derjenige Wert $ x_{\\text{d}} $ mit $ k(x_{d}) = 2 $\n",
    "* Löse die Gleichung\n",
    "    $$\n",
    "      e^{0.2299\\cdot x_{\\text{d}}} = 2\n",
    "    $$\n",
    "* Das geschieht wieder durch Logarithmieren\n",
    "    $$\n",
    "      0.2299 \\cdot x_{\\text{d}} = \\ln(2) = 0.6931\n",
    "    $$\n",
    "* Also\n",
    "    $$\n",
    "      x_{\\text{d}} = \\frac{0.6931}{0.2299} = 3.015\n",
    "    $$\n",
    "* Alle $ 3 $ Tage verdoppelt sich die Fläche"
   ]
  },
  {
   "cell_type": "markdown",
   "id": "ec6feb84",
   "metadata": {
    "slideshow": {
     "slide_type": "slide"
    }
   },
   "source": [
    "## Absorption\n",
    "\n",
    "![Koralle in blaustichigem Wasser](coral_reef.jpg)\n",
    " \n",
    "Photo Credit: Jerry Reid, U.S. Fish and Wildlife Service\n"
   ]
  },
  {
   "cell_type": "markdown",
   "id": "5a3e3ac1",
   "metadata": {
    "slideshow": {
     "slide_type": "slide"
    }
   },
   "source": [
    "## Halbwertstiefe von blauem Licht\n",
    "\n",
    "* In 140m Tiefe nimmt die Intensität von blauem Licht auf 1% ab.\n",
    "* Bestimme $A$ für die Intensitätsfunktion $ k(x) = e^{-A\\cdot x} $\n",
    "* Gleichung\n",
    "  $$\n",
    "      e^{-A\\cdot 140} = 0.01\n",
    "  $$\n",
    "* Logarithmieren\n",
    "  $$\n",
    "      -A \\cdot 140 = \\ln(0.01) = -4.605\n",
    "  $$\n",
    "* Also\n",
    "  $$\n",
    "      A = \\frac{4.605}{140} = 0.03289\n",
    "  $$"
   ]
  },
  {
   "cell_type": "markdown",
   "id": "611af78d",
   "metadata": {
    "slideshow": {
     "slide_type": "slide"
    }
   },
   "source": [
    "* Die Intensitätsfunktion für blaues Licht ist $ e^{-0.03289\\cdot x} $, wenn $ x $ die Wassertiefe bezeichnet.\n",
    "* Gleichung für die Halbwertstiefe $ x_{\\text{hw}} $ \n",
    "  $$\n",
    "      e^{-0.03289\\cdot x_{\\text{hw}}} = 0.5\n",
    "  $$\n",
    "* Also\n",
    "  $$\n",
    "      x_{\\text{hw}} = - \\frac{\\ln(0.5)}{0.03289} = 21.07\n",
    "  $$\n",
    "* Die Halbwertstiefe für blaues Licht beträgt $21m$.\n",
    "* Taucht man $21m$ tiefer, halbiert sich die Intensität des blauen Lichts"
   ]
  },
  {
   "cell_type": "markdown",
   "id": "4c440977",
   "metadata": {
    "slideshow": {
     "slide_type": "fragment"
    }
   },
   "source": [
    "## Erklärung des Blaustichs\n",
    "\n",
    "* Die Halbwertstiefe von rotem Licht beträgt $2m$, die von  grünem Licht ungefähr $6m$ \n",
    "* In $24m$ Tiefe hat sich die Intensität des roten Lichts schon\n",
    "    12mal halbiert, die Intensität ist also nur ein 4000-tel der\n",
    "    Intensität an der Oberfläche.\n",
    "* Dagegen beträgt die Intensität des blauen Lichts in $24m$ Tiefe ungefähr 50%"
   ]
  },
  {
   "cell_type": "markdown",
   "id": "8e154b9d",
   "metadata": {
    "slideshow": {
     "slide_type": "slide"
    }
   },
   "source": [
    "## Wasserfarbe in Abhängigkeit von der Tiefe in Metern"
   ]
  },
  {
   "cell_type": "code",
   "execution_count": null,
   "id": "ae020546",
   "metadata": {},
   "outputs": [],
   "source": [
    "%run wasser.py"
   ]
  },
  {
   "cell_type": "markdown",
   "id": "bcea15bb",
   "metadata": {
    "slideshow": {
     "slide_type": "slide"
    }
   },
   "source": [
    "# Statistik mit Python"
   ]
  },
  {
   "cell_type": "markdown",
   "id": "8b059e48",
   "metadata": {
    "slideshow": {
     "slide_type": "fragment"
    }
   },
   "source": [
    "Installationshinweise auf https://www.math.uni-duesseldorf.de/~internet/bio2324/software.html"
   ]
  },
  {
   "cell_type": "code",
   "execution_count": null,
   "id": "79038f79",
   "metadata": {
    "slideshow": {
     "slide_type": "slide"
    }
   },
   "outputs": [],
   "source": [
    "123456 * 987654"
   ]
  },
  {
   "cell_type": "code",
   "execution_count": null,
   "id": "0b1e16e3",
   "metadata": {},
   "outputs": [],
   "source": [
    "88/12"
   ]
  },
  {
   "cell_type": "markdown",
   "id": "f92cf89e",
   "metadata": {},
   "source": [
    "* Addition `+`\n",
    "* Subtraktion `-`\n",
    "* Multiplikation `*`\n",
    "* Division `/`\n",
    "* Potenz `**`"
   ]
  },
  {
   "cell_type": "code",
   "execution_count": null,
   "id": "0abe0670",
   "metadata": {
    "slideshow": {
     "slide_type": "fragment"
    }
   },
   "outputs": [],
   "source": [
    "2**10"
   ]
  },
  {
   "cell_type": "code",
   "execution_count": null,
   "id": "13ff4749",
   "metadata": {
    "slideshow": {
     "slide_type": "slide"
    }
   },
   "outputs": [],
   "source": [
    "import numpy as np"
   ]
  },
  {
   "cell_type": "markdown",
   "id": "3aa847c0",
   "metadata": {},
   "source": [
    "* Es gibt mindestens fünf Implementierungen von $exp$ in Python\n",
    "* Daher müssen die benötigten Bibiotheken explizit geladen werden"
   ]
  },
  {
   "cell_type": "code",
   "execution_count": null,
   "id": "808e2aed",
   "metadata": {},
   "outputs": [],
   "source": [
    "np.exp(2)"
   ]
  },
  {
   "cell_type": "markdown",
   "id": "12694b33",
   "metadata": {
    "slideshow": {
     "slide_type": "fragment"
    }
   },
   "source": [
    "Der Logarithmus wird aufgerufen als "
   ]
  },
  {
   "cell_type": "code",
   "execution_count": null,
   "id": "85d181fe",
   "metadata": {},
   "outputs": [],
   "source": [
    "np.log(7.389)"
   ]
  },
  {
   "cell_type": "markdown",
   "id": "f285e4d4",
   "metadata": {
    "slideshow": {
     "slide_type": "slide"
    }
   },
   "source": [
    "Im Notebook\n",
    "\n",
    "* grüner Randbalken:  Editiermodus\n",
    "* blauer Randbalken:  Kommandomodus\n",
    "\n",
    "nur im Editiermodus ist der Zelleninhalt veränderlich"
   ]
  },
  {
   "cell_type": "markdown",
   "id": "493406af",
   "metadata": {
    "slideshow": {
     "slide_type": "fragment"
    }
   },
   "source": [
    "# Im Kommandomodus kann die Art der Zelle geändert werden\n",
    "\n",
    "* Markdown:  Text\n",
    "* Code:  Programmcode\n",
    "\n",
    "jeweils Ausführung durch `<Umschalt>`-`<Eingabe>`"
   ]
  },
  {
   "cell_type": "markdown",
   "id": "66c1d454",
   "metadata": {
    "slideshow": {
     "slide_type": "slide"
    }
   },
   "source": [
    "## Plots"
   ]
  },
  {
   "cell_type": "markdown",
   "id": "052360cd",
   "metadata": {},
   "source": [
    "Wir schauen uns die Daten aus dem Beispiel \"Bakterien\" an"
   ]
  },
  {
   "cell_type": "code",
   "execution_count": null,
   "id": "35f11c97",
   "metadata": {
    "slideshow": {
     "slide_type": "fragment"
    }
   },
   "outputs": [],
   "source": [
    "zeit = np.arange(0,8)"
   ]
  },
  {
   "cell_type": "code",
   "execution_count": null,
   "id": "57c96f57",
   "metadata": {},
   "outputs": [],
   "source": [
    "zeit"
   ]
  },
  {
   "cell_type": "code",
   "execution_count": null,
   "id": "85abae4a",
   "metadata": {},
   "outputs": [],
   "source": [
    "konzentration = np.array([10000, 8500,  7225, 6141, 5220, 4437, 3771, 3206])\n",
    "konzentration"
   ]
  },
  {
   "cell_type": "markdown",
   "id": "1b72ef90",
   "metadata": {
    "slideshow": {
     "slide_type": "fragment"
    }
   },
   "source": [
    "* `np.array([ , , , ])`  Liste von Zahlen\n",
    "* `np.arange(n)`_  Spezieller array von 0 bis `n` (für `n` konkrete Zahl einsetzen)"
   ]
  },
  {
   "cell_type": "code",
   "execution_count": null,
   "id": "e9eda651",
   "metadata": {
    "slideshow": {
     "slide_type": "slide"
    }
   },
   "outputs": [],
   "source": [
    "import seaborn as sns\n",
    "from matplotlib import pyplot as plt"
   ]
  },
  {
   "cell_type": "code",
   "execution_count": null,
   "id": "9b773af2",
   "metadata": {},
   "outputs": [],
   "source": [
    "sns.scatterplot(x=zeit, y=konzentration)"
   ]
  },
  {
   "cell_type": "markdown",
   "id": "40b2e6b9",
   "metadata": {
    "slideshow": {
     "slide_type": "slide"
    }
   },
   "source": [
    "Wir wollen die Achsen beschriften"
   ]
  },
  {
   "cell_type": "code",
   "execution_count": null,
   "id": "4a96eae6",
   "metadata": {},
   "outputs": [],
   "source": [
    "ax = sns.scatterplot(x=zeit, y=konzentration)"
   ]
  },
  {
   "cell_type": "code",
   "execution_count": null,
   "id": "4299cfac",
   "metadata": {},
   "outputs": [],
   "source": [
    "ax.set_xlabel(\"Zeit\")\n",
    "ax.set_ylabel(\"Konzentration\")"
   ]
  },
  {
   "cell_type": "markdown",
   "id": "c3ff34c8",
   "metadata": {
    "slideshow": {
     "slide_type": "slide"
    }
   },
   "source": [
    "Die Grafik muss nun explizit aufgerufen werden"
   ]
  },
  {
   "cell_type": "code",
   "execution_count": null,
   "id": "f451a522",
   "metadata": {},
   "outputs": [],
   "source": [
    "ax.figure"
   ]
  },
  {
   "cell_type": "markdown",
   "id": "82050690",
   "metadata": {},
   "source": [
    "Es wird immer das Objekt aus der letzten Zeile einer Zelle dargestellt"
   ]
  },
  {
   "cell_type": "markdown",
   "id": "6ef72b2b",
   "metadata": {
    "slideshow": {
     "slide_type": "slide"
    }
   },
   "source": [
    "Jetzt malen wir noch die Kurve $10000 \\cdot e^{-0.1625\\cdot x}$ dazu."
   ]
  },
  {
   "cell_type": "code",
   "execution_count": null,
   "id": "c57b74b3",
   "metadata": {},
   "outputs": [],
   "source": [
    "zeitstrahl = np.linspace(0, 7)\n",
    "#  50 Zeitpunkte zwischen 0 und 7\n",
    "zeitstrahl"
   ]
  },
  {
   "cell_type": "code",
   "execution_count": null,
   "id": "33a4e652",
   "metadata": {
    "slideshow": {
     "slide_type": "slide"
    }
   },
   "outputs": [],
   "source": [
    "werte = 10000 * np.exp(-0.1625*zeitstrahl)\n",
    "werte"
   ]
  },
  {
   "cell_type": "code",
   "execution_count": null,
   "id": "a0531738",
   "metadata": {
    "slideshow": {
     "slide_type": "slide"
    }
   },
   "outputs": [],
   "source": [
    "sns.lineplot(x=zeitstrahl, y=werte)"
   ]
  },
  {
   "cell_type": "markdown",
   "id": "374f765d",
   "metadata": {
    "slideshow": {
     "slide_type": "slide"
    }
   },
   "source": [
    "Das malen wir jetzt in die andere Achse hinein"
   ]
  },
  {
   "cell_type": "code",
   "execution_count": null,
   "id": "38b64b56",
   "metadata": {},
   "outputs": [],
   "source": [
    "ax2 = sns.lineplot(x=zeitstrahl, y=werte, ax=ax)"
   ]
  },
  {
   "cell_type": "code",
   "execution_count": null,
   "id": "94196602",
   "metadata": {},
   "outputs": [],
   "source": [
    "ax2.figure"
   ]
  },
  {
   "cell_type": "markdown",
   "id": "0a9516f8",
   "metadata": {
    "slideshow": {
     "slide_type": "slide"
    }
   },
   "source": [
    "* `sns.scatterplot`  einzelne Punkte\n",
    "* `sns.lineplot`  durchgezogene Linie\n",
    "\n",
    "Es gibt eine Unzahl von statistischen Zeichenfunktionen.  Die wichtigsten werde ich nach und nach vorstellen."
   ]
  },
  {
   "cell_type": "markdown",
   "id": "dc845e04",
   "metadata": {
    "slideshow": {
     "slide_type": "slide"
    }
   },
   "source": [
    "## Jetzt auch noch eine Grafik zu  den Absorbationstiefen"
   ]
  },
  {
   "cell_type": "code",
   "execution_count": null,
   "id": "7393d01d",
   "metadata": {},
   "outputs": [],
   "source": [
    "tiefe = np.linspace(0, 24)\n",
    "blau = np.exp(-0.03289*tiefe)\n",
    "blau"
   ]
  },
  {
   "cell_type": "code",
   "execution_count": null,
   "id": "04e7f0f6",
   "metadata": {
    "slideshow": {
     "slide_type": "slide"
    }
   },
   "outputs": [],
   "source": [
    "gruen = np.exp(-.1151*tiefe)\n",
    "rot = np.exp(-.3466*tiefe)"
   ]
  },
  {
   "cell_type": "code",
   "execution_count": null,
   "id": "13994c8b",
   "metadata": {},
   "outputs": [],
   "source": [
    "sns.lineplot(x=tiefe, y=blau, color='blue')\n",
    "sns.lineplot(x=tiefe, y=gruen, color='green')\n",
    "ax = sns.lineplot(x=tiefe, y=rot, color='red')\n",
    "ax.set_xlabel('Tiefe [m]')\n",
    "ax.set_ylabel('Anteil')"
   ]
  },
  {
   "cell_type": "code",
   "execution_count": null,
   "id": "c1b97d1d",
   "metadata": {
    "slideshow": {
     "slide_type": "slide"
    }
   },
   "outputs": [],
   "source": [
    "ax.grid(True)\n",
    "ax.figure"
   ]
  },
  {
   "cell_type": "code",
   "execution_count": null,
   "id": "1f99cf66",
   "metadata": {},
   "outputs": [],
   "source": []
  }
 ],
 "metadata": {
  "celltoolbar": "Slideshow",
  "kernelspec": {
   "display_name": "Python 3 (ipykernel)",
   "language": "python",
   "name": "python3"
  },
  "language_info": {
   "codemirror_mode": {
    "name": "ipython",
    "version": 3
   },
   "file_extension": ".py",
   "mimetype": "text/x-python",
   "name": "python",
   "nbconvert_exporter": "python",
   "pygments_lexer": "ipython3",
   "version": "3.11.5"
  }
 },
 "nbformat": 4,
 "nbformat_minor": 5
}
