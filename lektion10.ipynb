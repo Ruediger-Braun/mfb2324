{
 "cells": [
  {
   "cell_type": "markdown",
   "id": "97e910de",
   "metadata": {
    "slideshow": {
     "slide_type": "slide"
    }
   },
   "source": [
    "# Mathematik für Biologiestudierende\n",
    "\n",
    "Wintersemester 2023/24\n",
    "\n",
    "10.01.2024\n",
    "\n",
    "&copy; 2024 Prof. Dr. Rüdiger W. Braun "
   ]
  },
  {
   "cell_type": "markdown",
   "id": "60f487d2",
   "metadata": {
    "slideshow": {
     "slide_type": "slide"
    }
   },
   "source": [
    "# Differentialrechnung \n",
    "\n",
    "Differentialrechnung kommt in der Biologie vor\n",
    "\n",
    "* Bestimmung von Maxima und Minima:  mehrdimensionale Kurvendiskussion\n",
    "  * in der Statistik\n",
    "    * Maximum-Likelihood Schätzer \n",
    "    * z.B. in der Statistik linearer Modelle (Thema im zweiten Semester, passiert aber \"unter der Haube\")\n",
    "* Bei der Modellierung von Prozessen:  Dynamische Systeme\n",
    "* Integrale:  die Verteilungsfunktionen von kontinuierlichen Zufallsvariablen sind Integrale"
   ]
  },
  {
   "cell_type": "markdown",
   "id": "03489860",
   "metadata": {
    "slideshow": {
     "slide_type": "slide"
    }
   },
   "source": [
    "### Ableitung als Tangentensteigung\n",
    "\n",
    "<img src=\"bilder/skizze_abl.svg\" alt=\"Funktion und Tangente\" width=\"45%\"/>"
   ]
  },
  {
   "cell_type": "markdown",
   "id": "a076a104",
   "metadata": {
    "slideshow": {
     "slide_type": "slide"
    }
   },
   "source": [
    "### Beispiel\n",
    "\n",
    "$$\n",
    "f(x) = x^2 \\cdot \\exp(-x)\n",
    "$$\n",
    "\n",
    "$$  f'(x) = \\left( 2x - x^2 \\right) \\cdot \\exp(-x) $$"
   ]
  },
  {
   "cell_type": "markdown",
   "id": "efa0813a",
   "metadata": {},
   "source": [
    "## Abbildung für das Beispiel"
   ]
  },
  {
   "cell_type": "code",
   "execution_count": null,
   "id": "617913cb",
   "metadata": {},
   "outputs": [],
   "source": [
    "import numpy as np\n",
    "import pandas as pd\n",
    "import seaborn as sns\n",
    "\n",
    "df = pd.DataFrame()\n",
    "x = np.linspace(0, 10, 1000)\n",
    "df['x'] = x\n",
    "df['y'] = x**2 * np.exp(-x)\n",
    "df['ys'] = (2*x - x**2) * np.exp(-x)"
   ]
  },
  {
   "cell_type": "code",
   "execution_count": null,
   "id": "7de37198",
   "metadata": {},
   "outputs": [],
   "source": [
    "ax = sns.lineplot(data=df, x='x', y='y')\n",
    "ax.grid(True)"
   ]
  },
  {
   "cell_type": "code",
   "execution_count": null,
   "id": "40193330",
   "metadata": {},
   "outputs": [],
   "source": [
    "ax = sns.lineplot(data=df, x='x', y='ys')\n",
    "ax.grid(True)"
   ]
  },
  {
   "cell_type": "markdown",
   "id": "9954e7d1",
   "metadata": {
    "slideshow": {
     "slide_type": "slide"
    }
   },
   "source": [
    "## Qualitatives Verhalten\n",
    "\n",
    "* wenn $f'(x)>0$, dann wächst die Funktion\n",
    "* wenn $f'(x)<0$, dann fällt sie"
   ]
  },
  {
   "cell_type": "markdown",
   "id": "df102675",
   "metadata": {
    "slideshow": {
     "slide_type": "fragment"
    }
   },
   "source": [
    "Das bedeutet:  Für einen Hoch- oder Tiefpunkt $x_0$ von $f$ gilt $f'(x_0)=0$."
   ]
  },
  {
   "cell_type": "markdown",
   "id": "7f55609f",
   "metadata": {},
   "source": [
    "# Höhere Ableitungen"
   ]
  },
  {
   "cell_type": "markdown",
   "id": "9d59d846",
   "metadata": {},
   "source": [
    "* Die Ableitung der Ableitung nennt man zweite Ableitung und schreibt $f''(x)$ dafür\n",
    "* Zweite Ableitungen treten in der Physik (als Beschleunigung) und überhaupt bei dynamischen Systemen auf\n",
    "* \"Die Infaltion hat sich abgeschwächt\" bedeutet: \"Die zweite Ableitung der Konsumentenpreise ist negativ\""
   ]
  },
  {
   "cell_type": "markdown",
   "id": "e8c15a91",
   "metadata": {},
   "source": [
    "## Beispiel\n",
    "\n",
    "$$ f(x) = x^2 \\cdot \\exp(-x) $$\n",
    "\n",
    "$$  f'(x) = \\left( 2x - x^2 \\right) \\cdot \\exp(-x) $$\n",
    "\n",
    "\\begin{align*}\n",
    "    f''(x) &= \\left( 2 - 2x \\right) \\cdot \\exp(-x) + \\left( 2x - x^2 \\right) (-x) \\exp(-x) && \\text{Produktregel} \\\\\n",
    "    &= \\left( 2 - 4x + x^2 \\right) \\cdot \\exp(-x)\n",
    "\\end{align*}"
   ]
  },
  {
   "cell_type": "markdown",
   "id": "03884e5c",
   "metadata": {
    "slideshow": {
     "slide_type": "fragment"
    }
   },
   "source": [
    "* Wir wollen $f$, $f'$ und $f''$ in ein Bild zeichnen, und zwar mit <code>seaborn</code>\n",
    "* Im Gegensatz zu <code>df</code> von oben benötigen wir dazu ein DataFrame in <emph>Langform</emph>\n",
    "* Das bedeutet, dass die Werte $f(x)$, $f'(x)$ und $f''(x)$ alle in derselben Spaltze stehen und durch einen kategoriellen Wert in einer weiteren Spalte unterschieden werden\n",
    "* Mehrere statistische Auswertungen erwarten die Daten in Langform"
   ]
  },
  {
   "cell_type": "code",
   "execution_count": null,
   "id": "5d2698c0",
   "metadata": {},
   "outputs": [],
   "source": [
    "d0 = pd.DataFrame()\n",
    "d0['x'] = x\n",
    "d0['y'] = x**2 * np.exp(-x)\n",
    "d0['Ableitung'] = \"nullte\"\n",
    "d1 = pd.DataFrame()\n",
    "d1['x'] = x\n",
    "d1['y'] = (2*x - x**2) * np.exp(-x)\n",
    "d1['Ableitung'] = \"erste\"\n",
    "df = pd.concat([d0, d1])\n",
    "d2 = pd.DataFrame()\n",
    "d2['x'] = x\n",
    "d2['y'] = (2-4*x+x**2) * np.exp(-x)\n",
    "d2['Ableitung'] = \"zweite\"\n",
    "df = pd.concat([d0, d1, d2])\n",
    "df"
   ]
  },
  {
   "cell_type": "code",
   "execution_count": null,
   "id": "5258315d",
   "metadata": {},
   "outputs": [],
   "source": [
    "fgrid = sns.relplot(data=df, x='x', y='y', hue='Ableitung', kind='line')\n",
    "fgrid.axes[0,0].grid(True)"
   ]
  },
  {
   "cell_type": "code",
   "execution_count": null,
   "id": "0238811a",
   "metadata": {},
   "outputs": [],
   "source": [
    "import warnings\n",
    "warnings.filterwarnings('ignore', message=\"The figure layout has changed to tight\")"
   ]
  },
  {
   "cell_type": "markdown",
   "id": "6cf3f305",
   "metadata": {},
   "source": [
    "### Was ist fgrid?"
   ]
  },
  {
   "cell_type": "code",
   "execution_count": null,
   "id": "f37c892c",
   "metadata": {},
   "outputs": [],
   "source": [
    "fgrid = sns.relplot(data=df, x='x', y='y', col='Ableitung', kind='line')\n",
    "fgrid.axes[0,1].grid(True)   #  Zeilennummer 0, Spaltennummer 1"
   ]
  },
  {
   "cell_type": "code",
   "execution_count": null,
   "id": "c6703566",
   "metadata": {},
   "outputs": [],
   "source": [
    "sns.relplot?"
   ]
  },
  {
   "cell_type": "code",
   "execution_count": null,
   "id": "d490d589",
   "metadata": {},
   "outputs": [],
   "source": [
    "fgrid = sns.relplot(data=df, x='x', y='y', col='Ableitung', kind='line')\n",
    "[ax.grid(True) for ax in fgrid.axes[0,:]]    #  Nerds only!"
   ]
  },
  {
   "cell_type": "code",
   "execution_count": null,
   "id": "801fb0d8",
   "metadata": {},
   "outputs": [],
   "source": []
  },
  {
   "cell_type": "markdown",
   "id": "6e6a73f9",
   "metadata": {},
   "source": [
    "## Beispiel:  Konzentrationen in einer Zelle\n",
    "\n",
    "* Die Konzentration eines bestimmten Proteins in einer Zelle zum Anfangszeitpunkt $t=0$ beträgt $0\\mu g/m\\ell$\n",
    "* Zuerst steigt sie schnell mit $0.8\\mu g/m\\ell/s$\n",
    "* Nach 2 Sekunden steigt die Konzentration nicht mehr, das Protein wird von da an exponentiell abgebaut"
   ]
  },
  {
   "cell_type": "markdown",
   "id": "bacc7cc5",
   "metadata": {},
   "source": [
    "### Modell\n",
    "\n",
    "$$ f(t) = A \\cdot t \\cdot \\exp(-b\\cdot t) $$\n",
    "\n",
    "\\begin{align*} f'(t) &= A \\cdot \\exp(-b \\cdot t) + A \\cdot t \\cdot(-b) \\cdot \\exp(-b \\cdot t)  \\\\\n",
    "&= (A - Abt) \\cdot \\exp(-b \\cdot t)\n",
    "\\end{align*}"
   ]
  },
  {
   "cell_type": "markdown",
   "id": "ecdc8c01",
   "metadata": {},
   "source": [
    "Wir haben zwei Gleichungen\n",
    "* f'(0) = 0.8\n",
    "* f'(2) = 0"
   ]
  },
  {
   "cell_type": "markdown",
   "id": "cd60752a",
   "metadata": {},
   "source": [
    "Einsetzen\n",
    " \n",
    "* $f'(0) = A$, also $A=0.8$"
   ]
  },
  {
   "cell_type": "markdown",
   "id": "b1b85cec",
   "metadata": {},
   "source": [
    "* $f'(2) = 0$, also $ (A - 2Ab) \\cdot \\exp(-2b) = 0 $\n",
    "\n",
    "Der zweite Faktor ist nicht Null, also muss der erste Faktor verschinden, d.h. $b=0.5$\n"
   ]
  },
  {
   "cell_type": "markdown",
   "id": "9c5fe85a",
   "metadata": {},
   "source": [
    "Unser Modell ist also\n",
    "\n",
    "$$ f(t) = 0.8t \\cdot \\exp(-0.5t)\n",
    "$$"
   ]
  },
  {
   "cell_type": "code",
   "execution_count": null,
   "id": "9fc47a90",
   "metadata": {},
   "outputs": [],
   "source": [
    "t = np.linspace(0, 8)\n",
    "y = 0.8*t * np.exp(-0.5*t)\n",
    "ax = sns.lineplot(x=t, y=y)\n",
    "ax.grid(True)"
   ]
  },
  {
   "cell_type": "code",
   "execution_count": null,
   "id": "4003e34d",
   "metadata": {},
   "outputs": [],
   "source": []
  }
 ],
 "metadata": {
  "celltoolbar": "Slideshow",
  "kernelspec": {
   "display_name": "Python 3 (ipykernel)",
   "language": "python",
   "name": "python3"
  },
  "language_info": {
   "codemirror_mode": {
    "name": "ipython",
    "version": 3
   },
   "file_extension": ".py",
   "mimetype": "text/x-python",
   "name": "python",
   "nbconvert_exporter": "python",
   "pygments_lexer": "ipython3",
   "version": "3.11.5"
  }
 },
 "nbformat": 4,
 "nbformat_minor": 5
}
