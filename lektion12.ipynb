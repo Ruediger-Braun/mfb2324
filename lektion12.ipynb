{
 "cells": [
  {
   "cell_type": "markdown",
   "id": "97e910de",
   "metadata": {
    "slideshow": {
     "slide_type": "slide"
    }
   },
   "source": [
    "# Mathematik für Biologiestudierende\n",
    "\n",
    "Wintersemester 2023/24\n",
    "\n",
    "24.01.2024\n",
    "\n",
    "&copy; 2024 Prof. Dr. Rüdiger W. Braun "
   ]
  },
  {
   "cell_type": "markdown",
   "id": "d262c97d",
   "metadata": {
    "slideshow": {
     "slide_type": "slide"
    }
   },
   "source": [
    "## Normalapproximation\n",
    "\n",
    "* $X$ sei $B(n,p)$-verteilt\n",
    "* Es gilt näherungsweise für natürliche Zahlen $a < b$\n",
    "$$     P(a \\le X \\le b) \n",
    "      \\cong \\Phi\\!\\left( \\frac{b - n \\cdot p}{\\sqrt{n \\cdot p\n",
    "            \\cdot (1-p)}} \\right) - \\Phi\\!\\left( \\frac{a - n\n",
    "          \\cdot p}{\\sqrt{n \\cdot p \\cdot (1-p)}} \\right)  $$\n",
    "* Wenn $a = 0$ oder $b = n$ ist, braucht man nur einen Term\n",
    "\\begin{align*}\n",
    "      P(a \\le X)\n",
    "      &\\cong 1 - \\Phi\\!\\left( \\frac{a - n \\cdot p}{\\sqrt{n \\cdot\n",
    "            p \\cdot (1-p)}} \\right) \\\\\n",
    "      P(X \\le b) \n",
    "      &\\cong \\Phi\\!\\left( \\frac{b - n \\cdot p}{\\sqrt{n \\cdot p\n",
    "            \\cdot (1-p)}} \\right) \n",
    "\\end{align*}  \n"
   ]
  },
  {
   "cell_type": "markdown",
   "id": "1adbcbdd",
   "metadata": {
    "slideshow": {
     "slide_type": "slide"
    }
   },
   "source": [
    "# Normalapproximation zur Versuchsplanung\n",
    "\n",
    "## Extinktionsexperiment\n",
    "\n",
    "* Ein Extinktionsexperiment wird geplant, bei dem die Versuchstiere eine einmal erlernte Aufgabe wieder verlernen   sollen.  Dazu sollen zuerst mindestens 50 Tiere diese Handlung erlernen.  Aus früheren Versuchen weiß man, dass dies nur bei 80% der Versuchstiere gelingt. \n",
    "* Wenn man also zu Beginn der Verlernphase 50 Tiere haben will, welche die Aufgabe gelernt haben, dann muss man deutlich mehr als diese 50 Tiere trainieren.\n",
    "* Wir wollen zu 90% sicher sein, dass mindestens 50 Tiere die Aufgabe gelernt haben"
   ]
  },
  {
   "cell_type": "markdown",
   "id": "e7b951eb",
   "metadata": {
    "slideshow": {
     "slide_type": "slide"
    }
   },
   "source": [
    "### Normalapproximation\n",
    "\n",
    "* $X$ ist die Anzahl der Tiere, welche die Aufgabe gelernt haben\n",
    "* $X$ ist $B_{n,p}$-verteilt für $p=0.8$ und *unbekanntes* n\n",
    "* Ziel\n",
    "$$ P(50 \\le X) \\ge 0.9  $$"
   ]
  },
  {
   "cell_type": "markdown",
   "id": "76c88811",
   "metadata": {
    "slideshow": {
     "slide_type": "fragment"
    }
   },
   "source": [
    "$$ P(50 \\le X) \\cong 1 - \\Phi\\left( \\frac{50 - 0.8 \\cdot n}{\\sqrt{n \\cdot 0.8 \\cdot 0.2}} \\right) \n",
    "\\overset{!}{=} 0.9\n",
    "$$"
   ]
  },
  {
   "cell_type": "markdown",
   "id": "24d0fd49",
   "metadata": {
    "slideshow": {
     "slide_type": "fragment"
    }
   },
   "source": [
    "Das bedeutet\n",
    "$$  \\Phi\\left( \\frac{50 - 0.8 \\cdot n}{\\sqrt{0.16 \\cdot n}} \\right) = 0.1\n",
    "$$"
   ]
  },
  {
   "cell_type": "markdown",
   "id": "993ef3cc",
   "metadata": {
    "slideshow": {
     "slide_type": "slide"
    }
   },
   "source": [
    "* Wir benötigen das $u$ mit $\\Phi(u) = 0.1$.  \n",
    "* Das ist das Quantil $q_{0.1}$"
   ]
  },
  {
   "cell_type": "code",
   "execution_count": null,
   "id": "3fb72009",
   "metadata": {},
   "outputs": [],
   "source": [
    "import numpy as np\n",
    "from scipy import stats\n",
    "Phi = stats.norm()\n",
    "Phi.ppf(0.1)"
   ]
  },
  {
   "cell_type": "markdown",
   "id": "ce0b3d19",
   "metadata": {
    "slideshow": {
     "slide_type": "fragment"
    }
   },
   "source": [
    "* neue Gleichung\n",
    "$$ \\frac{50 - 0.8 \\cdot n}{\\sqrt{0.16 \\cdot n}} = -1.28155  $$ "
   ]
  },
  {
   "cell_type": "markdown",
   "id": "4c03ae10",
   "metadata": {
    "slideshow": {
     "slide_type": "fragment"
    }
   },
   "source": [
    "Nenner hochmultiplizieren"
   ]
  },
  {
   "cell_type": "code",
   "execution_count": null,
   "id": "416eba10",
   "metadata": {},
   "outputs": [],
   "source": [
    "-1.28155 * np.sqrt(0.16)"
   ]
  },
  {
   "cell_type": "markdown",
   "id": "960b7915",
   "metadata": {
    "slideshow": {
     "slide_type": "fragment"
    }
   },
   "source": [
    "$$ 50 - 0.8n = -0.51262 \\sqrt n  $$"
   ]
  },
  {
   "cell_type": "markdown",
   "id": "c6048eff",
   "metadata": {
    "slideshow": {
     "slide_type": "slide"
    }
   },
   "source": [
    "Trick:  Wir nennen $\\sqrt n$ mal kurz $x$ und bringen alles auf die linke Seite.  Dann können wir mit der p-q-Formel weitermachen\n",
    "\n",
    "\n",
    "$$  50 - 0.8 x^2 + 0.51262 x = 0 $$ "
   ]
  },
  {
   "cell_type": "code",
   "execution_count": null,
   "id": "a432b51d",
   "metadata": {},
   "outputs": [],
   "source": [
    "50 / 0.8"
   ]
  },
  {
   "cell_type": "code",
   "execution_count": null,
   "id": "921b31cb",
   "metadata": {},
   "outputs": [],
   "source": [
    "0.51262 / 0.8"
   ]
  },
  {
   "cell_type": "markdown",
   "id": "c9e70bdb",
   "metadata": {
    "slideshow": {
     "slide_type": "fragment"
    }
   },
   "source": [
    "$$ x^2 - 0.640775x - 62.5 = 0    $$"
   ]
  },
  {
   "cell_type": "markdown",
   "id": "ad9e0315",
   "metadata": {
    "slideshow": {
     "slide_type": "fragment"
    }
   },
   "source": [
    "$$ x = \\frac{0.640775}2 \\pm \\sqrt{\\frac{0.640775^2}4 + 62.5} $$\n",
    "\n",
    "Die negative Lösung ist unsinnig"
   ]
  },
  {
   "cell_type": "code",
   "execution_count": null,
   "id": "9c758d7f",
   "metadata": {
    "slideshow": {
     "slide_type": "slide"
    }
   },
   "outputs": [],
   "source": [
    "x = 0.640775 / 2 + np.sqrt(0.640775**2/4 + 62.5)\n",
    "x"
   ]
  },
  {
   "cell_type": "code",
   "execution_count": null,
   "id": "7c7d001e",
   "metadata": {},
   "outputs": [],
   "source": [
    "n = x**2\n",
    "n"
   ]
  },
  {
   "cell_type": "markdown",
   "id": "a997411a",
   "metadata": {},
   "source": [
    "Also 68 Tiere.\n",
    "\n",
    "Das ist dasselbe Ergebnis, das wir in Lektion 6 mit zwei anderen Methoden herausbekommen hatten."
   ]
  },
  {
   "cell_type": "markdown",
   "id": "2f4144d1",
   "metadata": {
    "slideshow": {
     "slide_type": "slide"
    }
   },
   "source": [
    "# t-Test für Erwartungswerte"
   ]
  },
  {
   "cell_type": "markdown",
   "id": "53e5d419",
   "metadata": {
    "slideshow": {
     "slide_type": "slide"
    }
   },
   "source": [
    "## Verbundene und unverbundene Stichproben\n",
    "\n",
    "* Zwei Versuchsreihen liefern Messergebnisse.  Der Test soll entscheiden, ob sich diese Ergebnisse signifikant unterscheiden.\n",
    "\n",
    "* *Unverbundene Stichproben:* Die Messerergebnisse werden an verschiedenen Populationen gewonnen.\n",
    "\n",
    "  Beispiel: 9 Maisfelder werden mit einem Bodenbakterium behandelt, 10 weitere bleiben unbehandelt.  Bei allen wird der Befall mit Maiszünsler bestimmt.\n",
    "\n",
    "* *Verbundene Stichproben:* Beide Messungen werden an derselben Population durchgeführt.\n",
    "\n",
    "  Beispiel: Bei 10 Patienten mit Bluthochdruck wird der Blutdruck vor und nach einer Therapie bestimmt."
   ]
  },
  {
   "cell_type": "markdown",
   "id": "3cc16031",
   "metadata": {
    "slideshow": {
     "slide_type": "slide"
    }
   },
   "source": [
    "## Teststatistik für verbundene Stichproben\n",
    "\n",
    "* Ein Versuch wird $n$-mal durchgeführt\n",
    "* Ein Parameter wird geändert \n",
    "* Der Versuch wird mit dem geänderten Parameter mit *demselben* Kollektiv wiederholt\n",
    "* Die Messergebnisse werden verglichen "
   ]
  },
  {
   "cell_type": "markdown",
   "id": "120fb1a5",
   "metadata": {
    "slideshow": {
     "slide_type": "slide"
    }
   },
   "source": [
    "# t-Test zum Vergleich zweier Erwartungswerte bei verbundenen Stichproben\n",
    "\n",
    "* Gegeben sind Zufallsvariable $X_1, \\dots, X_n$ und $Y_1, \\dots, Y_n$\n",
    "* Verteilungsvoraussetzungen:\n",
    "  * Alle $X_j$ sind normalverteilt mit unbekanntem Erwartungswert $\\mu_1$ und unbekannter Varianz $\\sigma^2$\n",
    "  * Alle $Y_j$ sind normalverteilt mit unbekanntem Erwartungswert $\\mu_2$ und unbekannter Varianz $\\sigma^2$\n",
    "  * Die beiden Varianzen müssen also gleich sein\n",
    "* Ziel: $\\mu_1$ und $\\mu_2$ sollen verglichen werden"
   ]
  },
  {
   "cell_type": "markdown",
   "id": "6a2cde7d",
   "metadata": {
    "slideshow": {
     "slide_type": "slide"
    }
   },
   "source": [
    "* $x_j$ und $ _j$ seien Realisierungen (d.h., die Daten)\n",
    "* $z_j = x_j - y_j$ seien die Differenzen\n",
    "* Bestimme arithmetischen Mittelwert\n",
    "$$      \\overline z = \\frac1n \\sum_{j=1}^n z_j   $$\n",
    "* und Stichprobenstreuung\n",
    "$$      s = \\sqrt{ \\frac1{n-1} \\sum_{j=1}^n (z_j - \\overline z)^2 } $$"
   ]
  },
  {
   "cell_type": "markdown",
   "id": "42d6e597",
   "metadata": {
    "slideshow": {
     "slide_type": "fragment"
    }
   },
   "source": [
    "* Die *Teststatistik* ist\n",
    "$$        t = \\frac{\\overline z}s \\cdot \\sqrt{n}  $$\n",
    "* Die Teststatistik wird mit einem Quantil der $t$-Verteilung verglichen "
   ]
  },
  {
   "cell_type": "markdown",
   "id": "e8729590",
   "metadata": {
    "slideshow": {
     "slide_type": "slide"
    }
   },
   "source": [
    "# Die t-Verteilung\n",
    "\n",
    "* Wenn kein Unterschied zwischen $X_j$ und $Y_j$ besteht, dann ist die Teststatistik für große $n$ annähernd standardnormalverteilt\n",
    "* Die tatsächliche Verteilung der Teststatistik ist die $t$-Verteilung mit $(n-1)$ Freiheitsgraden\n",
    "* Die $t$-Verteilung mit $f$ Freiheitsgraden ist in scipy implementiert als <code>stats.t(f)</code>"
   ]
  },
  {
   "cell_type": "code",
   "execution_count": null,
   "id": "2d631e2c",
   "metadata": {
    "slideshow": {
     "slide_type": "fragment"
    }
   },
   "outputs": [],
   "source": [
    "from scipy import stats"
   ]
  },
  {
   "cell_type": "code",
   "execution_count": null,
   "id": "fd2df8a4",
   "metadata": {},
   "outputs": [],
   "source": [
    "P = stats.t(30)"
   ]
  },
  {
   "cell_type": "markdown",
   "id": "cee17527",
   "metadata": {},
   "source": [
    "Die Verteilungsfunktion heißt wie immer <code>cdf</code>"
   ]
  },
  {
   "cell_type": "code",
   "execution_count": null,
   "id": "2ccece8e",
   "metadata": {},
   "outputs": [],
   "source": [
    "P.cdf(0)"
   ]
  },
  {
   "cell_type": "markdown",
   "id": "84f07983",
   "metadata": {
    "slideshow": {
     "slide_type": "slide"
    }
   },
   "source": [
    "Das Quantil heißt <code>ppf</code>"
   ]
  },
  {
   "cell_type": "code",
   "execution_count": null,
   "id": "fff23268",
   "metadata": {},
   "outputs": [],
   "source": [
    "P.ppf(0.95)"
   ]
  },
  {
   "cell_type": "markdown",
   "id": "aed3d9dd",
   "metadata": {},
   "source": [
    "Zum Vergleich"
   ]
  },
  {
   "cell_type": "code",
   "execution_count": null,
   "id": "00c3b046",
   "metadata": {},
   "outputs": [],
   "source": [
    "stats.norm().ppf(0.95)"
   ]
  },
  {
   "cell_type": "markdown",
   "id": "fafc7fa3",
   "metadata": {
    "slideshow": {
     "slide_type": "slide"
    }
   },
   "source": [
    "## Freiheitsgrade\n",
    "  \n",
    "Heuristisch: \n",
    "\n",
    "* $n$ Versuche, um den Parameter $\\overline z$ zu schätzen \n",
    "* Jeder andere Parameter, der hilfsweise geschätzt werden muss, verringert die Zahl der Freiheitsgrade um 1\n",
    "* Beim $t$-Test für verbundene Stichproben muss $s$ hilfsweise geschätzt werden\n",
    "* Daher gibt es $(n-1)$~Freiheitsgrade\n",
    "* Die Schätzung von $s$ verringert die Genauigkeit.  Daher sind die Quantile der $t$-Verteilungen größer als die der Standardnormalverteilung."
   ]
  },
  {
   "cell_type": "markdown",
   "id": "bdf2e07c",
   "metadata": {
    "slideshow": {
     "slide_type": "slide"
    }
   },
   "source": [
    "## Ein- und zweiseitige Tests\n",
    "\n",
    "* Tests können ein- oder zweiseitig sein\n",
    "* Es sind $\\mu_1$ und $ \\mu_2 $ die unbekannten wahren Erwartungswerte der beiden Stichproben\n",
    "* Bei zweiseitigen Tests ist die Nullhypothese von der Form $H_0 =  \\{\\mu_1 = \\mu_2\\}$\n",
    "* Beim einseitigen unteren Test ist die Nullhypothese von der Form $H_0 = \\{\\mu_1 \\ge \\mu_2\\}$, d.h. die Alternativhypothese ist $\\mu_1 < \\mu_2$\n",
    "* Beim einseitigen oberen Test ist die Nullhypothese von der Form $H_0 = \\{\\mu_1 \\le \\mu_2\\}$, d.h. die Alternativhypothese ist $\\mu_1 > \\mu_2$"
   ]
  },
  {
   "cell_type": "markdown",
   "id": "a5d0cee3",
   "metadata": {
    "slideshow": {
     "slide_type": "slide"
    }
   },
   "source": [
    "### Entscheidungsregel\n",
    "\n",
    "* Das Signifikanzniveau sei $\\alpha$\n",
    "* Die Quantile der $t$-Verteilung müssen verwendet werden\n",
    "\\begin{align*}\n",
    "      &t_{n-1,\\,1-\\alpha/2} &&\\text{beim zweiseitigen Test} \\\\\n",
    "      &t_{n-1,\\,1-\\alpha} &&\\text{bei einem einseitigen Test}\n",
    "\\end{align*}\n",
    "* $z_j = x_j - y_j$ und Teststatistik\n",
    "$$      t = \\frac{\\overline z}s \\cdot \\sqrt{n}  $$"
   ]
  },
  {
   "cell_type": "markdown",
   "id": "1a1dce1b",
   "metadata": {
    "slideshow": {
     "slide_type": "fragment"
    }
   },
   "source": [
    "* Entscheidung:\n",
    "  * $H_0 = \\{\\mu_1=\\mu_2\\} $: Die Nullhypothese $H_0$ wird abgelehnt, wenn $\\left|t\\right| > t_{n-1,\\,1-\\alpha/2}$\n",
    "  * $H_0 = \\{\\mu_1\\le\\mu_2\\}$: Die Nullhypothese $H_0$ wird abgelehnt, wenn $t > t_{n-1,\\,1-\\alpha}$\n",
    "  * $H_0 = \\{\\mu_1\\ge\\mu_2\\}$: Die Nullhypothese $H_0$ wird abgelehnt, wenn $t < -t_{n-1,\\,1-\\alpha}$"
   ]
  },
  {
   "cell_type": "markdown",
   "id": "1b6359dd",
   "metadata": {
    "slideshow": {
     "slide_type": "slide"
    }
   },
   "source": [
    "### Beispiel Blutdrucksenker\n",
    "\n",
    "* 10 Blutdruckpatienten erhalten eine Woche lang das Medikament und eine Woche lang das Placebo.  Der Blutdruck am Ende der jeweiligen Behandlung wird notiert.  Zwischen beiden Behandlungen vergehen zwei Wochen mit Standard-Therapie.\n",
    "* Für den $j$-ten Patienten \n",
    "\\begin{align*}\n",
    "      X_j &= \\text{Blutdruck unter Placebo} \\\\\n",
    "      Y_j &= \\text{Blutdruck unter Medikament} \\\\\n",
    "      Z_j &= X_j - Y_j\n",
    "\\end{align*}"
   ]
  },
  {
   "cell_type": "markdown",
   "id": "7c7a0ea3",
   "metadata": {
    "slideshow": {
     "slide_type": "fragment"
    }
   },
   "source": [
    "* Beim Blutdrucksenker interessiert nur, ob der Blutdruck tatsächlich sinkt\n",
    "* Ein einseitiger Test ist angemessen\n",
    "* $\\mu_1 =$ Blutdruck unter Placebo, $\\mu_2 =$ Blutdruck unter Medikament\n",
    "* Die Nullhypothese ist $ H_0 : \\mu_1 \\le \\mu_2 $, also ein oberer Test\n",
    "* Das Signifikanzniveau ist $\\alpha = 0.05$\n",
    "* Die Zahl der Freiheitsgrade ist 9"
   ]
  },
  {
   "cell_type": "markdown",
   "id": "443ba01a",
   "metadata": {
    "slideshow": {
     "slide_type": "slide"
    }
   },
   "source": [
    "Das benötigte Quantil ist"
   ]
  },
  {
   "cell_type": "code",
   "execution_count": null,
   "id": "2bcb1ead",
   "metadata": {
    "slideshow": {
     "slide_type": "-"
    }
   },
   "outputs": [],
   "source": [
    "P = stats.t(9)"
   ]
  },
  {
   "cell_type": "code",
   "execution_count": null,
   "id": "f5947f62",
   "metadata": {},
   "outputs": [],
   "source": [
    "P.ppf(0.95)"
   ]
  },
  {
   "cell_type": "markdown",
   "id": "99bf9507",
   "metadata": {
    "slideshow": {
     "slide_type": "slide"
    }
   },
   "source": [
    "### Beispieldaten"
   ]
  },
  {
   "cell_type": "code",
   "execution_count": null,
   "id": "d6d6c988",
   "metadata": {},
   "outputs": [],
   "source": [
    "import pandas as pd\n",
    "\n",
    "df = pd.DataFrame()\n",
    "df['x'] = [168, 184, 172, 173, 150, 155, 163, 164, 151, 146]\n",
    "df['y'] = [176, 145, 150, 163, 136, 168, 164, 139, 145, 112]\n",
    "df"
   ]
  },
  {
   "cell_type": "code",
   "execution_count": null,
   "id": "0879284b",
   "metadata": {
    "slideshow": {
     "slide_type": "slide"
    }
   },
   "outputs": [],
   "source": [
    "df['z'] = df.x - df.y\n",
    "df.z.describe()"
   ]
  },
  {
   "cell_type": "code",
   "execution_count": null,
   "id": "c96f7388",
   "metadata": {},
   "outputs": [],
   "source": [
    "t = 12.8 / 17.3641 * np.sqrt(10)\n",
    "t"
   ]
  },
  {
   "cell_type": "markdown",
   "id": "e06a732c",
   "metadata": {},
   "source": [
    "Das ist größer als das Quantil:  Die Nullhypothese kann abgelehnt werden.  Die Wirksamkeit des Blutdruchsenkers ist zu dem angegebenen Signifikanzniveau nachgewiesen."
   ]
  },
  {
   "cell_type": "markdown",
   "id": "660f6614",
   "metadata": {
    "slideshow": {
     "slide_type": "slide"
    }
   },
   "source": [
    "## Automatische Auswertung mit stats"
   ]
  },
  {
   "cell_type": "code",
   "execution_count": null,
   "id": "ea1c149e",
   "metadata": {},
   "outputs": [],
   "source": [
    "stats.ttest_rel(df.x, df.y, alternative=\"greater\")"
   ]
  },
  {
   "cell_type": "code",
   "execution_count": null,
   "id": "c70045bc",
   "metadata": {},
   "outputs": [],
   "source": [
    "res = stats.ttest_rel(df.x, df.y, alternative=\"greater\")\n",
    "res.statistic  #  Die Teststatistik"
   ]
  },
  {
   "cell_type": "code",
   "execution_count": null,
   "id": "f3d4f694",
   "metadata": {},
   "outputs": [],
   "source": [
    "res.pvalue   # Der p-Wert"
   ]
  },
  {
   "cell_type": "markdown",
   "id": "e6f2f2a5",
   "metadata": {},
   "source": [
    "Der p-Wert ist kleiner als das Signifikanzniveau $\\alpha=0.05$, also kann $H_0$ abgelehnt werden"
   ]
  },
  {
   "cell_type": "code",
   "execution_count": null,
   "id": "867d6183",
   "metadata": {},
   "outputs": [],
   "source": [
    "res.df    #  Die Anzahl der Freiheitsgrade"
   ]
  },
  {
   "cell_type": "markdown",
   "id": "1aaefda6",
   "metadata": {
    "slideshow": {
     "slide_type": "slide"
    }
   },
   "source": [
    "## Vergleich mit einem Referenzwert\n",
    "\n",
    "Das ist der Spezialfall, bei dem der zweite Datensatz für alle Einträge gleich dem Referenzwert ist"
   ]
  },
  {
   "cell_type": "markdown",
   "id": "b8e6d0dd",
   "metadata": {
    "slideshow": {
     "slide_type": "fragment"
    }
   },
   "source": [
    "Beispiel\n",
    "\n",
    "* Ein Betrieb leitet Abwasser ein.  Die Konzentration eines bestimmten Schadstoffes darf 0.08% nicht überschreiten\n",
    "* An fünf Messstellen werden insgesamt 80 Proben entnommen\n",
    "* Wenn zum Signifikanzniveau $\\alpha=0.99$ nachgewiesen ist, dass der Schadstoffgehalt über dem Referenzwert 0.08% liegt, dann wird der Betrieb vom Ordnungsamt geschlossen"
   ]
  },
  {
   "cell_type": "code",
   "execution_count": null,
   "id": "fc43da40",
   "metadata": {
    "slideshow": {
     "slide_type": "slide"
    }
   },
   "outputs": [],
   "source": [
    "u = \"https://www.math.uni-duesseldorf.de/~braun/bio2324/data/schadstoffe.csv\""
   ]
  },
  {
   "cell_type": "code",
   "execution_count": null,
   "id": "77b682a8",
   "metadata": {
    "slideshow": {
     "slide_type": "-"
    }
   },
   "outputs": [],
   "source": [
    "df = pd.read_csv(u, index_col=0)"
   ]
  },
  {
   "cell_type": "code",
   "execution_count": null,
   "id": "5ce50fae",
   "metadata": {},
   "outputs": [],
   "source": [
    "df"
   ]
  },
  {
   "cell_type": "code",
   "execution_count": null,
   "id": "f41884c5",
   "metadata": {
    "slideshow": {
     "slide_type": "slide"
    }
   },
   "outputs": [],
   "source": [
    "df.loc[0].Konzentration"
   ]
  },
  {
   "cell_type": "code",
   "execution_count": null,
   "id": "ac86256f",
   "metadata": {
    "slideshow": {
     "slide_type": "slide"
    }
   },
   "outputs": [],
   "source": [
    "df.describe()"
   ]
  },
  {
   "cell_type": "code",
   "execution_count": null,
   "id": "eb271b9b",
   "metadata": {
    "slideshow": {
     "slide_type": "slide"
    }
   },
   "outputs": [],
   "source": [
    "df['referenz'] = 0.08 / 100"
   ]
  },
  {
   "cell_type": "code",
   "execution_count": null,
   "id": "ce923a04",
   "metadata": {},
   "outputs": [],
   "source": [
    "res = stats.ttest_rel(df.Konzentration, df.referenz, alternative=\"greater\")\n",
    "res"
   ]
  },
  {
   "cell_type": "code",
   "execution_count": null,
   "id": "ac84210b",
   "metadata": {},
   "outputs": [],
   "source": [
    "res.pvalue"
   ]
  },
  {
   "cell_type": "markdown",
   "id": "0fefe438",
   "metadata": {},
   "source": [
    "Zum Signifikanzniveau $\\alpha=0.01$ ist die Überschreitung der Grenzwerte nachgewiesen"
   ]
  },
  {
   "cell_type": "markdown",
   "id": "f58c995e",
   "metadata": {
    "slideshow": {
     "slide_type": "slide"
    }
   },
   "source": [
    "# t-Test für unverbundene Stichproben\n",
    "\n",
    "* Ein Versuch wird $n_1$-mal durchgeführt\n",
    "* Ein Parameter wird geändert\n",
    "* Der Versuch wird mit dem geänderten Parameter $n_2$-mal mit einem anderen Kollektiv wiederholt\n",
    "* Die Messergebnisse werden verglichen \n",
    "* Da die Stichproben unverbunden sind, ist $n_1 \\ne n_2$ möglich "
   ]
  },
  {
   "cell_type": "markdown",
   "id": "31955e69",
   "metadata": {
    "slideshow": {
     "slide_type": "slide"
    }
   },
   "source": [
    "## t-Test zum Vergleich zweier Erwartungswerte bei unverbundenen Stichproben\n",
    "\n",
    "* Gegeben sind Zufallsvariable $X_1, \\dots, X_{n_1}$ und $Y_1, \\dots, Y_{n_2}$\n",
    "* Verteilungsvoraussetzungen \n",
    "  * Die $X_j$ sind normalverteilt mit unbekanntem Erwartungswert $\\mu_1$ und unbekannter Varianz $\\sigma^2$\n",
    "  * Die $Y_j$ sind normalverteilt mit unbekanntem Erwartungswert $\\mu_2$ und unbekannter Varianz $\\sigma^2$\n",
    "* Ziel: $\\mu_1$ und $\\mu_2$ sollen verglichen werden"
   ]
  },
  {
   "cell_type": "markdown",
   "id": "83755c44",
   "metadata": {
    "slideshow": {
     "slide_type": "slide"
    }
   },
   "source": [
    "* $x_j$ und $y_j$ seien Realisierungen\n",
    "* Bestimme arithmetische Mittelwerte \n",
    "$$      \\overline x = \\frac1{n_1} \\sum_{j=1}^{n_1} x_j \n",
    "\\text{ und } \\overline y = \\frac1{n_2} \\sum_{j=1}^{n_2} y_j $$\n",
    "* und Stichprobenstreuungen\n",
    "$$  s_x = \\sqrt{ \\frac1{n_1-1} \\sum_{j=1}^{n_1} (x_j - \\overline\n",
    "        x)^2 } \\text{ und } \n",
    "        s_y = \\sqrt{ \\frac1{n_2-1} \\sum_{j=1}^{n_2} (y_j - \\overline y)^2 }  $$"
   ]
  },
  {
   "cell_type": "markdown",
   "id": "a67754d9",
   "metadata": {
    "slideshow": {
     "slide_type": "fragment"
    }
   },
   "source": [
    "## Standardabweichung der gepoolten Stichproben\n",
    "\n",
    "* Bestimme die *Standardabweichung der gepoolten Stichproben*\n",
    "$$       s_p = \\sqrt{ \\frac{(n_1-1) \\cdot s_x^2 + (n_2 - 1) \\cdot\n",
    "          s_y^2}{n_1 + n_2 - 2} }  $$\n",
    "* Die Teststatistik ist\n",
    "$$      t = \\frac{\\overline x - \\overline y}{s_p} \\sqrt{\\frac{n_1\n",
    "          \\cdot n_2}{n_1 + n_2}}  $$"
   ]
  },
  {
   "cell_type": "markdown",
   "id": "94e8e51a",
   "metadata": {
    "slideshow": {
     "slide_type": "slide"
    }
   },
   "source": [
    "## Entscheidungsregel\n",
    "\n",
    "* Bestimme zugehörige Quantile der $t$-Verteilung    \n",
    "\\begin{align*}\n",
    "      &t_{n_1+n_2-2,\\,1-\\alpha/2} && \\text{beim zweiseitigen Test} \\\\\n",
    "      &t_{n_1+n_2-2,\\,1-\\alpha} && \\text{bei einem einseitigen Test}\n",
    "\\end{align*}\n",
    "* Entscheidungsregel\n",
    "  * $H_0 = \\{\\mu_1=\\mu_2\\}$: Die Nullhypothese $H_0$ wird abgelehnt, wenn $\\left|t\\right| > t_{n_1+n_2-2,\\,1-\\alpha/2}$\n",
    "  * $H_0 = \\{\\mu_1\\le\\mu_2\\}$: Die Nullhypothese $H_0$ wird abgelehnt, wenn $t > t_{n_1+n_2-2,\\,1-\\alpha}$\n",
    "  * $H_0 = \\{\\mu_1\\ge\\mu_2\\}$: Die Nullhypothese $H_0$ wird abgelehnt, wenn $t < -t_{n_1+n_2-2,\\,1-\\alpha}$"
   ]
  },
  {
   "cell_type": "markdown",
   "id": "e62c0f87",
   "metadata": {
    "slideshow": {
     "slide_type": "slide"
    }
   },
   "source": [
    "### Beispiel Maiszünsler\n",
    "\n",
    "* Der Maiszünsler soll mit einem Bodenbakterium bekämpft werden\n",
    "* Die folgenden Befallraten (in Larven pro Quadratmeter) wurden gemessen\n"
   ]
  },
  {
   "cell_type": "code",
   "execution_count": null,
   "id": "175b6626",
   "metadata": {},
   "outputs": [],
   "source": [
    "df = pd.DataFrame()\n",
    "#  so gehts es leider nicht\n",
    "# df['unbehandelt'] = [55 , 69 , 64 , 70 , 75 , 70 , 83 , 69 , 75 , 69]\n",
    "# df['behandelt'] = [61 ,  60 , 62 , 58 , 75 , 63 , 52 , 66 , 59]"
   ]
  },
  {
   "cell_type": "code",
   "execution_count": null,
   "id": "d35f70ca",
   "metadata": {
    "slideshow": {
     "slide_type": "slide"
    }
   },
   "outputs": [],
   "source": [
    "df1 = pd.DataFrame()\n",
    "df1['Befall'] = [61 ,  60 , 62 , 58 , 75 , 63 , 52 , 66 , 59]\n",
    "df1['Behandlung'] = 'ja'"
   ]
  },
  {
   "cell_type": "code",
   "execution_count": null,
   "id": "68260baf",
   "metadata": {},
   "outputs": [],
   "source": [
    "df2 = pd.DataFrame()\n",
    "df2['Befall'] = [55 , 69 , 64 , 70 , 75 , 70 , 83 , 69 , 75 , 69]\n",
    "df2['Behandlung'] = 'nein'"
   ]
  },
  {
   "cell_type": "code",
   "execution_count": null,
   "id": "46bc8eee",
   "metadata": {
    "slideshow": {
     "slide_type": "slide"
    }
   },
   "outputs": [],
   "source": [
    "df = pd.concat([df1, df2], ignore_index=True)\n",
    "df"
   ]
  },
  {
   "cell_type": "code",
   "execution_count": null,
   "id": "7341b9b6",
   "metadata": {
    "slideshow": {
     "slide_type": "slide"
    }
   },
   "outputs": [],
   "source": [
    "import seaborn as sns\n",
    "sns.set_theme()"
   ]
  },
  {
   "cell_type": "code",
   "execution_count": null,
   "id": "02367169",
   "metadata": {},
   "outputs": [],
   "source": [
    "sns.displot(data=df, x='Befall', hue='Behandlung', multiple='stack');"
   ]
  },
  {
   "cell_type": "code",
   "execution_count": null,
   "id": "2e7ed46b",
   "metadata": {
    "slideshow": {
     "slide_type": "slide"
    }
   },
   "outputs": [],
   "source": [
    "df1.describe()"
   ]
  },
  {
   "cell_type": "code",
   "execution_count": null,
   "id": "e2a38738",
   "metadata": {},
   "outputs": [],
   "source": [
    "df2.describe()"
   ]
  },
  {
   "cell_type": "code",
   "execution_count": null,
   "id": "adef93fb",
   "metadata": {
    "slideshow": {
     "slide_type": "slide"
    }
   },
   "outputs": [],
   "source": [
    "zaehler = 9*7.325**2 + 8*6.281**2\n",
    "nenner = 17\n",
    "std_pool = np.sqrt( zaehler / nenner )\n",
    "std_pool"
   ]
  },
  {
   "cell_type": "code",
   "execution_count": null,
   "id": "ca08e64a",
   "metadata": {},
   "outputs": [],
   "source": [
    "faktor = 10*9 / (10+9)\n",
    "t = (61.778 - 69.9) / std_pool * np.sqrt(faktor)\n",
    "t   # Teststatistik"
   ]
  },
  {
   "cell_type": "markdown",
   "id": "3ad45ed8",
   "metadata": {
    "slideshow": {
     "slide_type": "slide"
    }
   },
   "source": [
    "* Wir machen den Test zum Signifikanzniveau $\\alpha=0.05$\n",
    "* Die Zahl der Freiheitsgrade ist 17\n",
    "* Das benötigte Quantil ist"
   ]
  },
  {
   "cell_type": "code",
   "execution_count": null,
   "id": "bb03b72b",
   "metadata": {},
   "outputs": [],
   "source": [
    "P = stats.t(17)\n",
    "P.ppf(0.95)"
   ]
  },
  {
   "cell_type": "markdown",
   "id": "089a3ee1",
   "metadata": {},
   "source": [
    "Es gilt $t < -t_{17,0.95}$, also wird die Nullhypothese abgelehnt"
   ]
  },
  {
   "cell_type": "code",
   "execution_count": null,
   "id": "a1804e1c",
   "metadata": {
    "slideshow": {
     "slide_type": "slide"
    }
   },
   "outputs": [],
   "source": [
    "stats.ttest_ind(df1.Befall, df2.Befall, alternative=\"less\")"
   ]
  },
  {
   "cell_type": "markdown",
   "id": "5d0146dc",
   "metadata": {},
   "source": [
    "\n",
    "Der p-Wert ist 0.01"
   ]
  },
  {
   "cell_type": "markdown",
   "id": "1b1bea94",
   "metadata": {
    "slideshow": {
     "slide_type": "slide"
    }
   },
   "source": [
    "* <code>stats.ttest_rel(x,y,alternative)</code> t-Test für verbundene Stichproben (engl: related)\n",
    "* <code>stats.ttest_ind(x,y,alternative)</code> t-Test für unverbundene Stichproben (engl: independent)\n",
    "* x, y: Daten\n",
    "* alternative:  entweder <code>less</code>, <code>greater</code> oder <code>two-sided</code>"
   ]
  },
  {
   "cell_type": "markdown",
   "id": "4a882062",
   "metadata": {
    "slideshow": {
     "slide_type": "slide"
    }
   },
   "source": [
    "### Beispiel: Pinguine"
   ]
  },
  {
   "cell_type": "code",
   "execution_count": null,
   "id": "da7f3d25",
   "metadata": {},
   "outputs": [],
   "source": [
    "df = sns.load_dataset(\"penguins\") \n",
    "df"
   ]
  },
  {
   "cell_type": "markdown",
   "id": "736bfd27",
   "metadata": {
    "slideshow": {
     "slide_type": "slide"
    }
   },
   "source": [
    "Unterscheiden sich die Flügellängen von Adelie- und Zügelpinguinen?"
   ]
  },
  {
   "cell_type": "code",
   "execution_count": null,
   "id": "0829be97",
   "metadata": {},
   "outputs": [],
   "source": [
    "adelie = df[df.species=='Adelie']\n",
    "zuegel = df[df.species=='Chinstrap']"
   ]
  },
  {
   "cell_type": "code",
   "execution_count": null,
   "id": "a2a6b793",
   "metadata": {
    "slideshow": {
     "slide_type": "fragment"
    }
   },
   "outputs": [],
   "source": [
    "# stats.ttest_ind(adelie, zuegel)   #  scheitert wegen NaN"
   ]
  },
  {
   "cell_type": "code",
   "execution_count": null,
   "id": "cbc30aad",
   "metadata": {
    "slideshow": {
     "slide_type": "slide"
    }
   },
   "outputs": [],
   "source": [
    "adelie.dropna()"
   ]
  },
  {
   "cell_type": "code",
   "execution_count": null,
   "id": "eaa94e80",
   "metadata": {
    "slideshow": {
     "slide_type": "slide"
    }
   },
   "outputs": [],
   "source": [
    "stats.ttest_ind(adelie.flipper_length_mm.dropna(), \n",
    "                zuegel.flipper_length_mm.dropna())   #  two-sided ist Voreinstellung"
   ]
  },
  {
   "cell_type": "markdown",
   "id": "47f441dd",
   "metadata": {},
   "source": [
    "Der Unterschied ist signifikant"
   ]
  },
  {
   "cell_type": "markdown",
   "id": "beeb8299",
   "metadata": {
    "slideshow": {
     "slide_type": "slide"
    }
   },
   "source": [
    "# Termine\n",
    "\n",
    "* 31.01.2024:  Probeklausur, Aufgaben werden vorher auf https://www.math.uni-duesseldorf.de/~internet/bio2324 hochgeladen\n",
    "* 06.08.2024:  1. Klausur zu Mathe für Biologiestudierende\n",
    "* 25.09.2024:  2. Klausur zu Mathe für Biologiestudierende\n",
    "\n",
    "Offizielle Klausurtermine auf den Seiten der Biologie https://www.biologie.hhu.de/\n",
    "\n",
    "Die Klausur am 22.02.2024 richtet sich ausschließlich an Wiederholer\n"
   ]
  }
 ],
 "metadata": {
  "celltoolbar": "Slideshow",
  "kernelspec": {
   "display_name": "Python 3 (ipykernel)",
   "language": "python",
   "name": "python3"
  },
  "language_info": {
   "codemirror_mode": {
    "name": "ipython",
    "version": 3
   },
   "file_extension": ".py",
   "mimetype": "text/x-python",
   "name": "python",
   "nbconvert_exporter": "python",
   "pygments_lexer": "ipython3",
   "version": "3.11.4"
  }
 },
 "nbformat": 4,
 "nbformat_minor": 5
}
