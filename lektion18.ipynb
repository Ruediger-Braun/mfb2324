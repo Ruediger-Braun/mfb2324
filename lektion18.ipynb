{
 "cells": [
  {
   "cell_type": "markdown",
   "id": "97e910de",
   "metadata": {
    "slideshow": {
     "slide_type": "slide"
    }
   },
   "source": [
    "# Mathematik für Biologiestudierende II\n",
    "\n",
    "Sommersemester 2024\n",
    "\n",
    "14.05.2024\n",
    "\n",
    "&copy; 2024 Prof. Dr. Rüdiger W. Braun "
   ]
  },
  {
   "cell_type": "code",
   "execution_count": 1,
   "id": "a56ebe0f",
   "metadata": {
    "slideshow": {
     "slide_type": "slide"
    }
   },
   "outputs": [],
   "source": [
    "import numpy as np\n",
    "import pandas as pd\n",
    "from scipy import stats\n",
    "import seaborn as sns\n",
    "sns.set_theme()"
   ]
  },
  {
   "cell_type": "markdown",
   "id": "b67e0f95",
   "metadata": {
    "slideshow": {
     "slide_type": "slide"
    }
   },
   "source": [
    "# ANOVA\n",
    "\n",
    "Übersicht\n",
    "\n",
    "|Verteilungsannahmen               | Test in `scipy.stats` | Post-hoc-Test        | in `scipy.stats` |\n",
    "|:---------------------------------|:----------------------|:---------------------|:-----------------|\n",
    "|normalverteilt, homoskedastisch   | `f_oneway`            | unverbundener t-Test | `ttest_ind`      |\n",
    "|normalverteilt, heteroskedastisch | `alexandergovern`     | Welch-Test           | siehe Lektion 17 |\n",
    "|nicht normalverteil               | `kruskal`             | Mann-Whitney-Test    | `mannwhitneyu`   |"
   ]
  },
  {
   "cell_type": "markdown",
   "id": "9b87aec2",
   "metadata": {
    "slideshow": {
     "slide_type": "fragment"
    }
   },
   "source": [
    "t-Test, Mann-Whitney-Test, ANOVA und die anderen Tests der Tabelle dienen zum Vergleich von Mittelwerten (im parametrischen Fall) und Medianen (im nicht-parametrischen Fall) von kontinuierlichen Merkmalen"
   ]
  },
  {
   "cell_type": "markdown",
   "id": "4b85552b",
   "metadata": {
    "slideshow": {
     "slide_type": "slide"
    }
   },
   "source": [
    "# Tests für kategorielle Daten"
   ]
  },
  {
   "cell_type": "markdown",
   "id": "1809cf7b",
   "metadata": {
    "slideshow": {
     "slide_type": "slide"
    }
   },
   "source": [
    "# $\\chi^2$-Unabhängigkeitsstest"
   ]
  },
  {
   "cell_type": "markdown",
   "id": "91e5fcfb",
   "metadata": {},
   "source": [
    "* Der Unabhängigkeitstest überprüft, ob zwei Merkmale stochastisch unabhängig sind\n",
    "* Die Zufallsvariablen $X_1, \\dots, X_n$ sind unabhängig mit gleicher Verteilung\n",
    "* Die Zufallsvariablen $Y_1, \\dots, Y_n$ sind unabhängig mit gleicher, aber möglicherweise anderer Verteilung\n",
    "* Die Zufallsvariable $X_j$ beschreibt ein Merkmal mit den Ausprägungen $w_1, \\dots, w_s$  \n",
    "* Die Zufallsvariable $Y_j$ beschreibt ein Merkmal mit den Ausprägungen $v_1, \\dots, v_r$\n",
    "* Die Nullhypothese ist $P(X_1=w_\\ell,\\,Y_1=v_k) = P(X_1=w_\\ell) \\cdot P(Y_1=v_k)$ für alle Wahlen von $k$ und $\\ell$ "
   ]
  },
  {
   "cell_type": "markdown",
   "id": "0b1ef48e",
   "metadata": {
    "slideshow": {
     "slide_type": "slide"
    }
   },
   "source": [
    "## Beispiel: Geschlechterverteilung in verschiedenen Fächern\n",
    "   \n",
    "Die Tafel zeigt die eingeschriebenen Erstsemester in einigen Fächern, sortiert nach Geschlecht\n",
    "\n",
    "|                | Biologie | Biochemie | Chemie | Pharmazie |\n",
    "|:---------------|----------|-----------|--------|-----------|\n",
    "| weiblich       | 235      | 75        | 123    | 50        |\n",
    "| nicht weiblich | 153      | 32        | 81     | 19        |\n",
    "\n",
    "<!--| Summe          | 388      | 107       | 204    | 69        |  -->"
   ]
  },
  {
   "cell_type": "markdown",
   "id": "1035c7c2",
   "metadata": {},
   "source": [
    "* Frage: Unterscheiden sich die Geschlechterverhältnisse zwischen den Fächern signifikant zum Niveau $\\alpha = 0.05$\n",
    "* Das ist die Frage nach der Unabhängigkeit der Merkmale \"Studienfach\" und \"Geschlecht\""
   ]
  },
  {
   "cell_type": "markdown",
   "id": "824ed491",
   "metadata": {
    "slideshow": {
     "slide_type": "slide"
    }
   },
   "source": [
    "## Kontingenztafel\n",
    "\n",
    "* Die oben abgebildete Tafel heißt *Kontingenztafel*\n",
    "* Wir geben sie als DataFrame ein"
   ]
  },
  {
   "cell_type": "code",
   "execution_count": 2,
   "id": "0da97065",
   "metadata": {},
   "outputs": [
    {
     "data": {
      "text/html": [
       "<div>\n",
       "<style scoped>\n",
       "    .dataframe tbody tr th:only-of-type {\n",
       "        vertical-align: middle;\n",
       "    }\n",
       "\n",
       "    .dataframe tbody tr th {\n",
       "        vertical-align: top;\n",
       "    }\n",
       "\n",
       "    .dataframe thead th {\n",
       "        text-align: right;\n",
       "    }\n",
       "</style>\n",
       "<table border=\"1\" class=\"dataframe\">\n",
       "  <thead>\n",
       "    <tr style=\"text-align: right;\">\n",
       "      <th></th>\n",
       "      <th>Biologie</th>\n",
       "      <th>Biochemie</th>\n",
       "      <th>Chemie</th>\n",
       "      <th>Pharmazie</th>\n",
       "    </tr>\n",
       "  </thead>\n",
       "  <tbody>\n",
       "    <tr>\n",
       "      <th>weiblich</th>\n",
       "      <td>235</td>\n",
       "      <td>75</td>\n",
       "      <td>123</td>\n",
       "      <td>50</td>\n",
       "    </tr>\n",
       "    <tr>\n",
       "      <th>nicht weiblich</th>\n",
       "      <td>153</td>\n",
       "      <td>32</td>\n",
       "      <td>81</td>\n",
       "      <td>19</td>\n",
       "    </tr>\n",
       "  </tbody>\n",
       "</table>\n",
       "</div>"
      ],
      "text/plain": [
       "                Biologie  Biochemie  Chemie  Pharmazie\n",
       "weiblich             235         75     123         50\n",
       "nicht weiblich       153         32      81         19"
      ]
     },
     "execution_count": 2,
     "metadata": {},
     "output_type": "execute_result"
    }
   ],
   "source": [
    "tafel = pd.DataFrame(index=['weiblich', 'nicht weiblich'])\n",
    "tafel['Biologie'] = [235, 153]\n",
    "tafel['Biochemie'] = [75, 32]\n",
    "tafel['Chemie'] = [123, 81]\n",
    "tafel['Pharmazie'] = [50, 19]\n",
    "tafel"
   ]
  },
  {
   "cell_type": "code",
   "execution_count": 3,
   "id": "f052ee24",
   "metadata": {
    "slideshow": {
     "slide_type": "slide"
    }
   },
   "outputs": [],
   "source": [
    "from statsmodels.graphics.mosaicplot import mosaic"
   ]
  },
  {
   "cell_type": "code",
   "execution_count": 4,
   "id": "b988dd23",
   "metadata": {},
   "outputs": [
    {
     "data": {
      "text/plain": [
       "weiblich        Biologie     235\n",
       "                Biochemie     75\n",
       "                Chemie       123\n",
       "                Pharmazie     50\n",
       "nicht weiblich  Biologie     153\n",
       "                Biochemie     32\n",
       "                Chemie        81\n",
       "                Pharmazie     19\n",
       "dtype: int64"
      ]
     },
     "execution_count": 4,
     "metadata": {},
     "output_type": "execute_result"
    }
   ],
   "source": [
    "tafel.stack()"
   ]
  },
  {
   "cell_type": "code",
   "execution_count": 5,
   "id": "8d272830",
   "metadata": {
    "slideshow": {
     "slide_type": "slide"
    }
   },
   "outputs": [
    {
     "data": {
      "image/png": "[encoded data removed]",
      "text/plain": [
       "<Figure size 640x480 with 3 Axes>"
      ]
     },
     "metadata": {},
     "output_type": "display_data"
    }
   ],
   "source": [
    "mosaic(tafel.stack());"
   ]
  },
  {
   "cell_type": "markdown",
   "id": "55c562a6",
   "metadata": {
    "slideshow": {
     "slide_type": "slide"
    }
   },
   "source": [
    "Die ursprüngliche Kontingenztafel wird später noch gebraucht"
   ]
  },
  {
   "cell_type": "code",
   "execution_count": 8,
   "id": "b9a8ab29",
   "metadata": {},
   "outputs": [
    {
     "data": {
      "text/plain": [
       "3"
      ]
     },
     "execution_count": 8,
     "metadata": {},
     "output_type": "execute_result"
    }
   ],
   "source": [
    "n = 3\n",
    "b = n\n",
    "b"
   ]
  },
  {
   "cell_type": "code",
   "execution_count": 9,
   "id": "07746f80",
   "metadata": {},
   "outputs": [
    {
     "data": {
      "text/plain": [
       "3"
      ]
     },
     "execution_count": 9,
     "metadata": {},
     "output_type": "execute_result"
    }
   ],
   "source": [
    "n = 4\n",
    "b"
   ]
  },
  {
   "cell_type": "code",
   "execution_count": 6,
   "id": "f79078e8",
   "metadata": {},
   "outputs": [],
   "source": [
    "df = tafel.copy()   #  df = tafel vergibt nur einen zweite Namen"
   ]
  },
  {
   "cell_type": "markdown",
   "id": "a0ed0ef6",
   "metadata": {
    "slideshow": {
     "slide_type": "slide"
    }
   },
   "source": [
    "### Spaltensummen"
   ]
  },
  {
   "cell_type": "code",
   "execution_count": 10,
   "id": "97f4b53d",
   "metadata": {},
   "outputs": [
    {
     "data": {
      "text/plain": [
       "Biologie     388\n",
       "Biochemie    107\n",
       "Chemie       204\n",
       "Pharmazie     69\n",
       "dtype: int64"
      ]
     },
     "execution_count": 10,
     "metadata": {},
     "output_type": "execute_result"
    }
   ],
   "source": [
    "df.sum()"
   ]
  },
  {
   "cell_type": "code",
   "execution_count": 11,
   "id": "9a136bae",
   "metadata": {},
   "outputs": [
    {
     "data": {
      "text/html": [
       "<div>\n",
       "<style scoped>\n",
       "    .dataframe tbody tr th:only-of-type {\n",
       "        vertical-align: middle;\n",
       "    }\n",
       "\n",
       "    .dataframe tbody tr th {\n",
       "        vertical-align: top;\n",
       "    }\n",
       "\n",
       "    .dataframe thead th {\n",
       "        text-align: right;\n",
       "    }\n",
       "</style>\n",
       "<table border=\"1\" class=\"dataframe\">\n",
       "  <thead>\n",
       "    <tr style=\"text-align: right;\">\n",
       "      <th></th>\n",
       "      <th>Biologie</th>\n",
       "      <th>Biochemie</th>\n",
       "      <th>Chemie</th>\n",
       "      <th>Pharmazie</th>\n",
       "    </tr>\n",
       "  </thead>\n",
       "  <tbody>\n",
       "    <tr>\n",
       "      <th>weiblich</th>\n",
       "      <td>235</td>\n",
       "      <td>75</td>\n",
       "      <td>123</td>\n",
       "      <td>50</td>\n",
       "    </tr>\n",
       "    <tr>\n",
       "      <th>nicht weiblich</th>\n",
       "      <td>153</td>\n",
       "      <td>32</td>\n",
       "      <td>81</td>\n",
       "      <td>19</td>\n",
       "    </tr>\n",
       "    <tr>\n",
       "      <th>Summe</th>\n",
       "      <td>388</td>\n",
       "      <td>107</td>\n",
       "      <td>204</td>\n",
       "      <td>69</td>\n",
       "    </tr>\n",
       "  </tbody>\n",
       "</table>\n",
       "</div>"
      ],
      "text/plain": [
       "                Biologie  Biochemie  Chemie  Pharmazie\n",
       "weiblich             235         75     123         50\n",
       "nicht weiblich       153         32      81         19\n",
       "Summe                388        107     204         69"
      ]
     },
     "execution_count": 11,
     "metadata": {},
     "output_type": "execute_result"
    }
   ],
   "source": [
    "df.loc['Summe'] = df.sum()\n",
    "df"
   ]
  },
  {
   "cell_type": "markdown",
   "id": "cc7197c3",
   "metadata": {},
   "source": [
    "`loc` referenziert eine Zeile"
   ]
  },
  {
   "cell_type": "markdown",
   "id": "b2a5d35d",
   "metadata": {
    "slideshow": {
     "slide_type": "slide"
    }
   },
   "source": [
    "### Zeilensummen"
   ]
  },
  {
   "cell_type": "code",
   "execution_count": 12,
   "id": "0d70a4d3",
   "metadata": {},
   "outputs": [
    {
     "data": {
      "text/plain": [
       "weiblich          483\n",
       "nicht weiblich    285\n",
       "Summe             768\n",
       "dtype: int64"
      ]
     },
     "execution_count": 12,
     "metadata": {},
     "output_type": "execute_result"
    }
   ],
   "source": [
    "df.sum(axis=1)"
   ]
  },
  {
   "cell_type": "code",
   "execution_count": 13,
   "id": "2bc6f6d0",
   "metadata": {},
   "outputs": [
    {
     "data": {
      "text/html": [
       "<div>\n",
       "<style scoped>\n",
       "    .dataframe tbody tr th:only-of-type {\n",
       "        vertical-align: middle;\n",
       "    }\n",
       "\n",
       "    .dataframe tbody tr th {\n",
       "        vertical-align: top;\n",
       "    }\n",
       "\n",
       "    .dataframe thead th {\n",
       "        text-align: right;\n",
       "    }\n",
       "</style>\n",
       "<table border=\"1\" class=\"dataframe\">\n",
       "  <thead>\n",
       "    <tr style=\"text-align: right;\">\n",
       "      <th></th>\n",
       "      <th>Biologie</th>\n",
       "      <th>Biochemie</th>\n",
       "      <th>Chemie</th>\n",
       "      <th>Pharmazie</th>\n",
       "      <th>insgesamt</th>\n",
       "    </tr>\n",
       "  </thead>\n",
       "  <tbody>\n",
       "    <tr>\n",
       "      <th>weiblich</th>\n",
       "      <td>235</td>\n",
       "      <td>75</td>\n",
       "      <td>123</td>\n",
       "      <td>50</td>\n",
       "      <td>483</td>\n",
       "    </tr>\n",
       "    <tr>\n",
       "      <th>nicht weiblich</th>\n",
       "      <td>153</td>\n",
       "      <td>32</td>\n",
       "      <td>81</td>\n",
       "      <td>19</td>\n",
       "      <td>285</td>\n",
       "    </tr>\n",
       "    <tr>\n",
       "      <th>Summe</th>\n",
       "      <td>388</td>\n",
       "      <td>107</td>\n",
       "      <td>204</td>\n",
       "      <td>69</td>\n",
       "      <td>768</td>\n",
       "    </tr>\n",
       "  </tbody>\n",
       "</table>\n",
       "</div>"
      ],
      "text/plain": [
       "                Biologie  Biochemie  Chemie  Pharmazie  insgesamt\n",
       "weiblich             235         75     123         50        483\n",
       "nicht weiblich       153         32      81         19        285\n",
       "Summe                388        107     204         69        768"
      ]
     },
     "execution_count": 13,
     "metadata": {},
     "output_type": "execute_result"
    }
   ],
   "source": [
    "df['insgesamt'] = df.sum(axis=1)\n",
    "df"
   ]
  },
  {
   "cell_type": "markdown",
   "id": "baecbec5",
   "metadata": {
    "slideshow": {
     "slide_type": "slide"
    }
   },
   "source": [
    "Die Wahrscheinlichkeit, dass eine studierende Person weiblich ist, ist"
   ]
  },
  {
   "cell_type": "code",
   "execution_count": 15,
   "id": "f59e172b",
   "metadata": {},
   "outputs": [
    {
     "data": {
      "text/plain": [
       "0.62890625"
      ]
     },
     "execution_count": 15,
     "metadata": {},
     "output_type": "execute_result"
    }
   ],
   "source": [
    "p_w = 483 / 768\n",
    "p_w"
   ]
  },
  {
   "cell_type": "markdown",
   "id": "c14b39a6",
   "metadata": {},
   "source": [
    "Die Wahrscheinlichkeit, dass eine Person Biologie studiert, ist"
   ]
  },
  {
   "cell_type": "code",
   "execution_count": 16,
   "id": "673283c8",
   "metadata": {},
   "outputs": [
    {
     "data": {
      "text/plain": [
       "0.5052083333333334"
      ]
     },
     "execution_count": 16,
     "metadata": {},
     "output_type": "execute_result"
    }
   ],
   "source": [
    "p_bio = 388 / 768\n",
    "p_bio"
   ]
  },
  {
   "cell_type": "markdown",
   "id": "301c4fa4",
   "metadata": {},
   "source": [
    "Wenn Studienwahl und Geschlecht unabhängig sind, würde man im linken oberen Feld der Tafel den folgenden Wert erwarten"
   ]
  },
  {
   "cell_type": "code",
   "execution_count": 17,
   "id": "ebdc1b67",
   "metadata": {},
   "outputs": [
    {
     "data": {
      "text/plain": [
       "244.015625"
      ]
     },
     "execution_count": 17,
     "metadata": {},
     "output_type": "execute_result"
    }
   ],
   "source": [
    "p_w * p_bio * 768"
   ]
  },
  {
   "cell_type": "markdown",
   "id": "2fb9c251",
   "metadata": {
    "slideshow": {
     "slide_type": "slide"
    }
   },
   "source": [
    "Das machen wir jetzt für alle Einträge der Kontingenztafel"
   ]
  },
  {
   "cell_type": "code",
   "execution_count": 18,
   "id": "e531ed30",
   "metadata": {
    "slideshow": {
     "slide_type": "-"
    }
   },
   "outputs": [
    {
     "data": {
      "text/plain": [
       "Biologie     0.505208\n",
       "Biochemie    0.139323\n",
       "Chemie       0.265625\n",
       "Pharmazie    0.089844\n",
       "insgesamt    1.000000\n",
       "Name: Summe, dtype: float64"
      ]
     },
     "execution_count": 18,
     "metadata": {},
     "output_type": "execute_result"
    }
   ],
   "source": [
    "n = df.loc['Summe'].insgesamt\n",
    "p_zeile = df.loc['Summe'] / n\n",
    "p_zeile"
   ]
  },
  {
   "cell_type": "code",
   "execution_count": 20,
   "id": "df7e4495",
   "metadata": {},
   "outputs": [
    {
     "data": {
      "text/plain": [
       "weiblich          0.628906\n",
       "nicht weiblich    0.371094\n",
       "Summe             1.000000\n",
       "Name: insgesamt, dtype: float64"
      ]
     },
     "execution_count": 20,
     "metadata": {},
     "output_type": "execute_result"
    }
   ],
   "source": [
    "p_spalte = df.insgesamt / n\n",
    "p_spalte"
   ]
  },
  {
   "cell_type": "code",
   "execution_count": 21,
   "id": "95f0bf59",
   "metadata": {
    "slideshow": {
     "slide_type": "slide"
    }
   },
   "outputs": [],
   "source": [
    "erwartet = pd.DataFrame(index = df.index)"
   ]
  },
  {
   "cell_type": "code",
   "execution_count": 22,
   "id": "c86437e5",
   "metadata": {},
   "outputs": [
    {
     "data": {
      "text/html": [
       "<div>\n",
       "<style scoped>\n",
       "    .dataframe tbody tr th:only-of-type {\n",
       "        vertical-align: middle;\n",
       "    }\n",
       "\n",
       "    .dataframe tbody tr th {\n",
       "        vertical-align: top;\n",
       "    }\n",
       "\n",
       "    .dataframe thead th {\n",
       "        text-align: right;\n",
       "    }\n",
       "</style>\n",
       "<table border=\"1\" class=\"dataframe\">\n",
       "  <thead>\n",
       "    <tr style=\"text-align: right;\">\n",
       "      <th></th>\n",
       "      <th>Biologie</th>\n",
       "      <th>Biochemie</th>\n",
       "      <th>Chemie</th>\n",
       "      <th>Pharmazie</th>\n",
       "      <th>insgesamt</th>\n",
       "    </tr>\n",
       "  </thead>\n",
       "  <tbody>\n",
       "    <tr>\n",
       "      <th>weiblich</th>\n",
       "      <td>244.015625</td>\n",
       "      <td>67.292969</td>\n",
       "      <td>128.296875</td>\n",
       "      <td>43.394531</td>\n",
       "      <td>483.0</td>\n",
       "    </tr>\n",
       "    <tr>\n",
       "      <th>nicht weiblich</th>\n",
       "      <td>143.984375</td>\n",
       "      <td>39.707031</td>\n",
       "      <td>75.703125</td>\n",
       "      <td>25.605469</td>\n",
       "      <td>285.0</td>\n",
       "    </tr>\n",
       "    <tr>\n",
       "      <th>Summe</th>\n",
       "      <td>388.000000</td>\n",
       "      <td>107.000000</td>\n",
       "      <td>204.000000</td>\n",
       "      <td>69.000000</td>\n",
       "      <td>768.0</td>\n",
       "    </tr>\n",
       "  </tbody>\n",
       "</table>\n",
       "</div>"
      ],
      "text/plain": [
       "                  Biologie   Biochemie      Chemie  Pharmazie  insgesamt\n",
       "weiblich        244.015625   67.292969  128.296875  43.394531      483.0\n",
       "nicht weiblich  143.984375   39.707031   75.703125  25.605469      285.0\n",
       "Summe           388.000000  107.000000  204.000000  69.000000      768.0"
      ]
     },
     "execution_count": 22,
     "metadata": {},
     "output_type": "execute_result"
    }
   ],
   "source": [
    "erwartet['Biologie'] = n*p_zeile['Biologie']*p_spalte\n",
    "erwartet['Biochemie'] = n*p_zeile['Biochemie']*p_spalte\n",
    "erwartet['Chemie'] = n*p_zeile['Chemie']*p_spalte\n",
    "erwartet['Pharmazie'] = n*p_zeile['Pharmazie']*p_spalte\n",
    "erwartet['insgesamt'] = erwartet.sum(axis=1)\n",
    "erwartet"
   ]
  },
  {
   "cell_type": "code",
   "execution_count": 23,
   "id": "cfced6a6",
   "metadata": {
    "slideshow": {
     "slide_type": "slide"
    }
   },
   "outputs": [
    {
     "data": {
      "image/png": "[encoded data removed]",
      "text/plain": [
       "<Figure size 640x480 with 3 Axes>"
      ]
     },
     "metadata": {},
     "output_type": "display_data"
    }
   ],
   "source": [
    "mosaic(erwartet.stack());"
   ]
  },
  {
   "cell_type": "markdown",
   "id": "eb6317c2",
   "metadata": {
    "slideshow": {
     "slide_type": "slide"
    }
   },
   "source": [
    "Eigentlich wollen wir nur das Bild ohne \"Summe\" und \"insgesamt\":"
   ]
  },
  {
   "cell_type": "code",
   "execution_count": 24,
   "id": "2047254b",
   "metadata": {},
   "outputs": [
    {
     "data": {
      "image/png": "[encoded data removed]",
      "text/plain": [
       "<Figure size 640x480 with 3 Axes>"
      ]
     },
     "metadata": {},
     "output_type": "display_data"
    }
   ],
   "source": [
    "mosaic(erwartet.drop(index='Summe').drop(columns='insgesamt').stack());"
   ]
  },
  {
   "cell_type": "markdown",
   "id": "bd3c708c",
   "metadata": {},
   "source": [
    "Das ist das Bild, wenn die beiden Zufallsvariablen unabhängig sind"
   ]
  },
  {
   "cell_type": "markdown",
   "id": "ad5edde2",
   "metadata": {
    "slideshow": {
     "slide_type": "slide"
    }
   },
   "source": [
    "zum Vergleich"
   ]
  },
  {
   "cell_type": "code",
   "execution_count": 25,
   "id": "355ef8af",
   "metadata": {},
   "outputs": [
    {
     "data": {
      "text/html": [
       "<div>\n",
       "<style scoped>\n",
       "    .dataframe tbody tr th:only-of-type {\n",
       "        vertical-align: middle;\n",
       "    }\n",
       "\n",
       "    .dataframe tbody tr th {\n",
       "        vertical-align: top;\n",
       "    }\n",
       "\n",
       "    .dataframe thead th {\n",
       "        text-align: right;\n",
       "    }\n",
       "</style>\n",
       "<table border=\"1\" class=\"dataframe\">\n",
       "  <thead>\n",
       "    <tr style=\"text-align: right;\">\n",
       "      <th></th>\n",
       "      <th>Biologie</th>\n",
       "      <th>Biochemie</th>\n",
       "      <th>Chemie</th>\n",
       "      <th>Pharmazie</th>\n",
       "      <th>insgesamt</th>\n",
       "    </tr>\n",
       "  </thead>\n",
       "  <tbody>\n",
       "    <tr>\n",
       "      <th>weiblich</th>\n",
       "      <td>-9.015625</td>\n",
       "      <td>7.707031</td>\n",
       "      <td>-5.296875</td>\n",
       "      <td>6.605469</td>\n",
       "      <td>0.0</td>\n",
       "    </tr>\n",
       "    <tr>\n",
       "      <th>nicht weiblich</th>\n",
       "      <td>9.015625</td>\n",
       "      <td>-7.707031</td>\n",
       "      <td>5.296875</td>\n",
       "      <td>-6.605469</td>\n",
       "      <td>0.0</td>\n",
       "    </tr>\n",
       "    <tr>\n",
       "      <th>Summe</th>\n",
       "      <td>0.000000</td>\n",
       "      <td>0.000000</td>\n",
       "      <td>0.000000</td>\n",
       "      <td>0.000000</td>\n",
       "      <td>0.0</td>\n",
       "    </tr>\n",
       "  </tbody>\n",
       "</table>\n",
       "</div>"
      ],
      "text/plain": [
       "                Biologie  Biochemie    Chemie  Pharmazie  insgesamt\n",
       "weiblich       -9.015625   7.707031 -5.296875   6.605469        0.0\n",
       "nicht weiblich  9.015625  -7.707031  5.296875  -6.605469        0.0\n",
       "Summe           0.000000   0.000000  0.000000   0.000000        0.0"
      ]
     },
     "execution_count": 25,
     "metadata": {},
     "output_type": "execute_result"
    }
   ],
   "source": [
    "df - erwartet"
   ]
  },
  {
   "cell_type": "markdown",
   "id": "2b669da0",
   "metadata": {},
   "source": [
    "Aus diesen Unterschieden wird die Statistik berechnet.  Dabei werden die Differenzen quadriert und durch die erwarteten Werte geteilt"
   ]
  },
  {
   "cell_type": "code",
   "execution_count": 26,
   "id": "f3af876f",
   "metadata": {},
   "outputs": [
    {
     "data": {
      "text/html": [
       "<div>\n",
       "<style scoped>\n",
       "    .dataframe tbody tr th:only-of-type {\n",
       "        vertical-align: middle;\n",
       "    }\n",
       "\n",
       "    .dataframe tbody tr th {\n",
       "        vertical-align: top;\n",
       "    }\n",
       "\n",
       "    .dataframe thead th {\n",
       "        text-align: right;\n",
       "    }\n",
       "</style>\n",
       "<table border=\"1\" class=\"dataframe\">\n",
       "  <thead>\n",
       "    <tr style=\"text-align: right;\">\n",
       "      <th></th>\n",
       "      <th>Biologie</th>\n",
       "      <th>Biochemie</th>\n",
       "      <th>Chemie</th>\n",
       "      <th>Pharmazie</th>\n",
       "      <th>insgesamt</th>\n",
       "    </tr>\n",
       "  </thead>\n",
       "  <tbody>\n",
       "    <tr>\n",
       "      <th>weiblich</th>\n",
       "      <td>0.333100</td>\n",
       "      <td>0.882683</td>\n",
       "      <td>0.218687</td>\n",
       "      <td>1.005477</td>\n",
       "      <td>0.0</td>\n",
       "    </tr>\n",
       "    <tr>\n",
       "      <th>nicht weiblich</th>\n",
       "      <td>0.564516</td>\n",
       "      <td>1.495915</td>\n",
       "      <td>0.370617</td>\n",
       "      <td>1.704019</td>\n",
       "      <td>0.0</td>\n",
       "    </tr>\n",
       "    <tr>\n",
       "      <th>Summe</th>\n",
       "      <td>0.000000</td>\n",
       "      <td>0.000000</td>\n",
       "      <td>0.000000</td>\n",
       "      <td>0.000000</td>\n",
       "      <td>0.0</td>\n",
       "    </tr>\n",
       "  </tbody>\n",
       "</table>\n",
       "</div>"
      ],
      "text/plain": [
       "                Biologie  Biochemie    Chemie  Pharmazie  insgesamt\n",
       "weiblich        0.333100   0.882683  0.218687   1.005477        0.0\n",
       "nicht weiblich  0.564516   1.495915  0.370617   1.704019        0.0\n",
       "Summe           0.000000   0.000000  0.000000   0.000000        0.0"
      ]
     },
     "execution_count": 26,
     "metadata": {},
     "output_type": "execute_result"
    }
   ],
   "source": [
    "tafel2 = (df-erwartet)**2 / erwartet\n",
    "tafel2"
   ]
  },
  {
   "cell_type": "markdown",
   "id": "4f27e83d",
   "metadata": {
    "slideshow": {
     "slide_type": "slide"
    }
   },
   "source": [
    "Die Summen müssen neu bestimmt werden"
   ]
  },
  {
   "cell_type": "code",
   "execution_count": 27,
   "id": "033b185d",
   "metadata": {},
   "outputs": [
    {
     "data": {
      "text/html": [
       "<div>\n",
       "<style scoped>\n",
       "    .dataframe tbody tr th:only-of-type {\n",
       "        vertical-align: middle;\n",
       "    }\n",
       "\n",
       "    .dataframe tbody tr th {\n",
       "        vertical-align: top;\n",
       "    }\n",
       "\n",
       "    .dataframe thead th {\n",
       "        text-align: right;\n",
       "    }\n",
       "</style>\n",
       "<table border=\"1\" class=\"dataframe\">\n",
       "  <thead>\n",
       "    <tr style=\"text-align: right;\">\n",
       "      <th></th>\n",
       "      <th>Biologie</th>\n",
       "      <th>Biochemie</th>\n",
       "      <th>Chemie</th>\n",
       "      <th>Pharmazie</th>\n",
       "      <th>insgesamt</th>\n",
       "    </tr>\n",
       "  </thead>\n",
       "  <tbody>\n",
       "    <tr>\n",
       "      <th>weiblich</th>\n",
       "      <td>0.333100</td>\n",
       "      <td>0.882683</td>\n",
       "      <td>0.218687</td>\n",
       "      <td>1.005477</td>\n",
       "      <td>2.439947</td>\n",
       "    </tr>\n",
       "    <tr>\n",
       "      <th>nicht weiblich</th>\n",
       "      <td>0.564516</td>\n",
       "      <td>1.495915</td>\n",
       "      <td>0.370617</td>\n",
       "      <td>1.704019</td>\n",
       "      <td>4.135067</td>\n",
       "    </tr>\n",
       "    <tr>\n",
       "      <th>Summe</th>\n",
       "      <td>0.897616</td>\n",
       "      <td>2.378597</td>\n",
       "      <td>0.589304</td>\n",
       "      <td>2.709497</td>\n",
       "      <td>6.575014</td>\n",
       "    </tr>\n",
       "  </tbody>\n",
       "</table>\n",
       "</div>"
      ],
      "text/plain": [
       "                Biologie  Biochemie    Chemie  Pharmazie  insgesamt\n",
       "weiblich        0.333100   0.882683  0.218687   1.005477   2.439947\n",
       "nicht weiblich  0.564516   1.495915  0.370617   1.704019   4.135067\n",
       "Summe           0.897616   2.378597  0.589304   2.709497   6.575014"
      ]
     },
     "execution_count": 27,
     "metadata": {},
     "output_type": "execute_result"
    }
   ],
   "source": [
    "tafel2.loc['Summe'] = tafel2.sum()\n",
    "tafel2['insgesamt'] = tafel2.sum(axis=1)\n",
    "tafel2"
   ]
  },
  {
   "cell_type": "markdown",
   "id": "858ba07e",
   "metadata": {},
   "source": [
    "Die Summe über alle Einträge ist die Teststatistik"
   ]
  },
  {
   "cell_type": "code",
   "execution_count": 28,
   "id": "7b1904e2",
   "metadata": {},
   "outputs": [
    {
     "data": {
      "text/plain": [
       "6.575014133739289"
      ]
     },
     "execution_count": 28,
     "metadata": {},
     "output_type": "execute_result"
    }
   ],
   "source": [
    "t = tafel2.loc['Summe'].insgesamt\n",
    "t"
   ]
  },
  {
   "cell_type": "markdown",
   "id": "1301d734",
   "metadata": {
    "slideshow": {
     "slide_type": "slide"
    }
   },
   "source": [
    "* Die zum $\\chi^2$-Unabhängigkeitstest gehörende Verteilung ist die $\\chi^2$-Verteilung.\n",
    "* Sie hat Freiheitsgrade\n",
    "* Wenn die Kontingenztafel $r$ Zeilen und $c$ Spalten hat, dann ist die Zahl der Freiheitsgrade gleich $(r-1) \\cdot (c-1)$"
   ]
  },
  {
   "cell_type": "markdown",
   "id": "a6a95977",
   "metadata": {},
   "source": [
    "* Im Beispiel ist das $(2-1) \\cdot (4-1) = 3$ "
   ]
  },
  {
   "cell_type": "code",
   "execution_count": 29,
   "id": "1341ec54",
   "metadata": {},
   "outputs": [
    {
     "data": {
      "text/plain": [
       "0.08675061576179643"
      ]
     },
     "execution_count": 29,
     "metadata": {},
     "output_type": "execute_result"
    }
   ],
   "source": [
    "P = stats.chi2(3)\n",
    "1 - P.cdf(t)"
   ]
  },
  {
   "cell_type": "markdown",
   "id": "8165e5b6",
   "metadata": {},
   "source": [
    "Nicht signifikant"
   ]
  },
  {
   "cell_type": "markdown",
   "id": "6439fef3",
   "metadata": {
    "slideshow": {
     "slide_type": "slide"
    }
   },
   "source": [
    "* Das geht auch automatisch\n",
    "* Achtung:  Es muss die ursprüngliche Kontingenztafel ohne hinzugefügte Summenzeilen oder -Spalten verwendet werden"
   ]
  },
  {
   "cell_type": "code",
   "execution_count": 30,
   "id": "acc5d8ef",
   "metadata": {},
   "outputs": [
    {
     "data": {
      "text/plain": [
       "Chi2ContingencyResult(statistic=6.5750141337392884, pvalue=0.08675061576179643, dof=3, expected_freq=array([[244.015625  ,  67.29296875, 128.296875  ,  43.39453125],\n",
       "       [143.984375  ,  39.70703125,  75.703125  ,  25.60546875]]))"
      ]
     },
     "execution_count": 30,
     "metadata": {},
     "output_type": "execute_result"
    }
   ],
   "source": [
    "res = stats.chi2_contingency(tafel)\n",
    "res"
   ]
  },
  {
   "cell_type": "code",
   "execution_count": 31,
   "id": "ffda6580",
   "metadata": {},
   "outputs": [
    {
     "data": {
      "text/plain": [
       "0.08675061576179643"
      ]
     },
     "execution_count": 31,
     "metadata": {},
     "output_type": "execute_result"
    }
   ],
   "source": [
    "res.pvalue"
   ]
  },
  {
   "cell_type": "code",
   "execution_count": 32,
   "id": "e153db69",
   "metadata": {},
   "outputs": [
    {
     "data": {
      "text/html": [
       "<div>\n",
       "<style scoped>\n",
       "    .dataframe tbody tr th:only-of-type {\n",
       "        vertical-align: middle;\n",
       "    }\n",
       "\n",
       "    .dataframe tbody tr th {\n",
       "        vertical-align: top;\n",
       "    }\n",
       "\n",
       "    .dataframe thead th {\n",
       "        text-align: right;\n",
       "    }\n",
       "</style>\n",
       "<table border=\"1\" class=\"dataframe\">\n",
       "  <thead>\n",
       "    <tr style=\"text-align: right;\">\n",
       "      <th></th>\n",
       "      <th>0</th>\n",
       "      <th>1</th>\n",
       "      <th>2</th>\n",
       "      <th>3</th>\n",
       "    </tr>\n",
       "  </thead>\n",
       "  <tbody>\n",
       "    <tr>\n",
       "      <th>0</th>\n",
       "      <td>244.015625</td>\n",
       "      <td>67.292969</td>\n",
       "      <td>128.296875</td>\n",
       "      <td>43.394531</td>\n",
       "    </tr>\n",
       "    <tr>\n",
       "      <th>1</th>\n",
       "      <td>143.984375</td>\n",
       "      <td>39.707031</td>\n",
       "      <td>75.703125</td>\n",
       "      <td>25.605469</td>\n",
       "    </tr>\n",
       "  </tbody>\n",
       "</table>\n",
       "</div>"
      ],
      "text/plain": [
       "            0          1           2          3\n",
       "0  244.015625  67.292969  128.296875  43.394531\n",
       "1  143.984375  39.707031   75.703125  25.605469"
      ]
     },
     "execution_count": 32,
     "metadata": {},
     "output_type": "execute_result"
    }
   ],
   "source": [
    "pd.DataFrame(res.expected_freq)"
   ]
  },
  {
   "cell_type": "markdown",
   "id": "2a0fe3e0",
   "metadata": {
    "slideshow": {
     "slide_type": "slide"
    }
   },
   "source": [
    "## Anwendbarkeit\n",
    "\n",
    "* Der $\\chi^2$-Unabhängigkeitstest beruht auf einer Approximation\n",
    "* Er ist nur zulässig, wenn alle erwarteten Werte mindestens den Wert 5 haben"
   ]
  }
 ],
 "metadata": {
  "celltoolbar": "Slideshow",
  "kernelspec": {
   "display_name": "Python 3 (ipykernel)",
   "language": "python",
   "name": "python3"
  },
  "language_info": {
   "codemirror_mode": {
    "name": "ipython",
    "version": 3
   },
   "file_extension": ".py",
   "mimetype": "text/x-python",
   "name": "python",
   "nbconvert_exporter": "python",
   "pygments_lexer": "ipython3",
   "version": "3.11.4"
  }
 },
 "nbformat": 4,
 "nbformat_minor": 5
}
