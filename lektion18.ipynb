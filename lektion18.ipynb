{
 "cells": [
  {
   "cell_type": "markdown",
   "id": "97e910de",
   "metadata": {
    "slideshow": {
     "slide_type": "slide"
    }
   },
   "source": [
    "# Mathematik für Biologiestudierende II\n",
    "\n",
    "Sommersemester 2024\n",
    "\n",
    "14.05.2024\n",
    "\n",
    "&copy; 2024 Prof. Dr. Rüdiger W. Braun "
   ]
  },
  {
   "cell_type": "code",
   "execution_count": null,
   "id": "a56ebe0f",
   "metadata": {
    "slideshow": {
     "slide_type": "slide"
    }
   },
   "outputs": [],
   "source": [
    "import numpy as np\n",
    "import pandas as pd\n",
    "from scipy import stats\n",
    "import seaborn as sns\n",
    "sns.set_theme()"
   ]
  },
  {
   "cell_type": "markdown",
   "id": "b67e0f95",
   "metadata": {},
   "source": [
    "# ANOVA\n",
    "\n",
    "Übersicht\n",
    "\n",
    "|Verteilungsannahmen               | Test in `scipy.stats` | Post-hoc-Test        | in `scipy.stats` |\n",
    "|:---------------------------------|:----------------------|:---------------------|:-----------------|\n",
    "|normalverteilt, homoskedastisch   | `f_oneway`            | unverbundener t-Test | `ttest_ind`      |\n",
    "|normalverteilt, heteroskedastisch | `alexandergovern`     | Welch-Test           | siehe Lektion 17 |\n",
    "|nicht normalverteil               | `kruskal`             | Mann-Whitney-Test    | `mannwhitneyu`   |"
   ]
  },
  {
   "cell_type": "markdown",
   "id": "9b87aec2",
   "metadata": {},
   "source": [
    "t-Test, Mann-Whitney-Test, ANOVA und die anderen Tests der Tabelle dienen zum Vergleich von Mittelwerten (im parametrischen Fall) und Medianen (im nicht-parametrischen Fall) von kontinuierlichen Merkmalen"
   ]
  },
  {
   "cell_type": "markdown",
   "id": "4b85552b",
   "metadata": {},
   "source": [
    "# Tests für kategorielle Daten"
   ]
  },
  {
   "cell_type": "markdown",
   "id": "1809cf7b",
   "metadata": {},
   "source": [
    "# $\\chi^2$-Unabhängigkeitsstest"
   ]
  },
  {
   "cell_type": "markdown",
   "id": "91e5fcfb",
   "metadata": {},
   "source": [
    "* Der Unabhängigkeitstest überprüft, ob zwei Merkmale stochastisch unabhängig sind\n",
    "* Die Zufallsvariablen $X_1, \\dots, X_n$ sind unabhängig mit gleicher Verteilung\n",
    "* Die Zufallsvariablen $Y_1, \\dots, Y_n$ sind unabhängig mit gleicher, aber möglicherweise anderer Verteilung\n",
    "* Die Zufallsvariable $X_j$ beschreibt ein Merkmal mit den Ausprägungen $w_1, \\dots, w_s$  \n",
    "* Die Zufallsvariable $Y_j$ beschreibt ein Merkmal mit den Ausprägungen $v_1, \\dots, v_r$\n",
    "* Die Nullhypothese ist $P(X_1=w_\\ell,\\,Y_1=v_k) = P(X_1=w_\\ell) \\cdot P(Y_1=v_k)$ für alle Wahlen von $k$ und $\\ell$ "
   ]
  },
  {
   "cell_type": "code",
   "execution_count": null,
   "id": "7aa1f97f",
   "metadata": {},
   "outputs": [],
   "source": []
  },
  {
   "cell_type": "markdown",
   "id": "0b1ef48e",
   "metadata": {},
   "source": [
    "## Beispiel: Geschlechterverteilung in verschiedenen Fächern\n",
    "   \n",
    "Die Tafel zeigt die eingeschriebenen Erstsemester in einigen Fächern, sortiert nach Geschlecht\n",
    "\n",
    "|                | Biologie | Biochemie | Chemie | Pharmazie |\n",
    "|:---------------|----------|-----------|--------|-----------|\n",
    "| weiblich       | 235      | 75        | 123    | 50        |\n",
    "| nicht weiblich | 153      | 32        | 81     | 19        |\n",
    "\n",
    "<!--| Summe          | 388      | 107       | 204    | 69        |  -->"
   ]
  },
  {
   "cell_type": "markdown",
   "id": "1035c7c2",
   "metadata": {},
   "source": [
    "* Frage: Unterscheiden sich die Geschlechterverhältnisse zwischen den Fächern signifikant zum Niveau $\\alpha = 0.05$\n",
    "* Das ist die Frage nach der Unabhängigkeit der Merkmale \"Studienfach\" und \"Geschlecht\""
   ]
  },
  {
   "cell_type": "markdown",
   "id": "824ed491",
   "metadata": {},
   "source": [
    "## Kontingenztafel\n",
    "\n",
    "* Die oben abgebildete Tafel heißt *Kontingenztafel*\n",
    "* Wir geben sie als DataFrame ein"
   ]
  },
  {
   "cell_type": "code",
   "execution_count": null,
   "id": "0da97065",
   "metadata": {},
   "outputs": [],
   "source": [
    "tafel = pd.DataFrame(index=['weiblich', 'nicht weiblich'])\n",
    "tafel['Biologie'] = [235, 153]\n",
    "tafel['Biochemie'] = [75, 32]\n",
    "tafel['Chemie'] = [123, 81]\n",
    "tafel['Pharmazie'] = [50, 19]\n",
    "tafel"
   ]
  },
  {
   "cell_type": "markdown",
   "id": "55c562a6",
   "metadata": {},
   "source": [
    "Die ursprünglcihe Kontingenztafel wird später noch gebraucht"
   ]
  },
  {
   "cell_type": "code",
   "execution_count": null,
   "id": "f79078e8",
   "metadata": {},
   "outputs": [],
   "source": [
    "df = tafel.copy()   #  df = tafel vergibt nur einen zweite Namen"
   ]
  },
  {
   "cell_type": "markdown",
   "id": "a0ed0ef6",
   "metadata": {},
   "source": [
    "### Spaltensummen"
   ]
  },
  {
   "cell_type": "code",
   "execution_count": null,
   "id": "97f4b53d",
   "metadata": {},
   "outputs": [],
   "source": [
    "df.sum()"
   ]
  },
  {
   "cell_type": "code",
   "execution_count": null,
   "id": "9a136bae",
   "metadata": {},
   "outputs": [],
   "source": [
    "df.loc['Summe'] = df.sum()\n",
    "df"
   ]
  },
  {
   "cell_type": "markdown",
   "id": "cc7197c3",
   "metadata": {},
   "source": [
    "`loc` referenziert eine Zeile"
   ]
  },
  {
   "cell_type": "markdown",
   "id": "b2a5d35d",
   "metadata": {},
   "source": [
    "### Zeilensummen"
   ]
  },
  {
   "cell_type": "code",
   "execution_count": null,
   "id": "0d70a4d3",
   "metadata": {},
   "outputs": [],
   "source": [
    "df.sum(axis=1)"
   ]
  },
  {
   "cell_type": "code",
   "execution_count": null,
   "id": "2bc6f6d0",
   "metadata": {},
   "outputs": [],
   "source": [
    "df['insgesamt'] = df.sum(axis=1)\n",
    "df"
   ]
  },
  {
   "cell_type": "markdown",
   "id": "baecbec5",
   "metadata": {},
   "source": [
    "Die Wahrscheinlichkeit, dass eine studierende Person weiblich ist, ist"
   ]
  },
  {
   "cell_type": "code",
   "execution_count": null,
   "id": "f59e172b",
   "metadata": {},
   "outputs": [],
   "source": [
    "p_w = 483 / 768\n",
    "p_w"
   ]
  },
  {
   "cell_type": "markdown",
   "id": "c14b39a6",
   "metadata": {},
   "source": [
    "Die Wahrscheinlichkeit, dass eine Person Biologie studiert, ist"
   ]
  },
  {
   "cell_type": "code",
   "execution_count": null,
   "id": "673283c8",
   "metadata": {},
   "outputs": [],
   "source": [
    "p_bio = 388 / 768\n",
    "p_bio"
   ]
  },
  {
   "cell_type": "markdown",
   "id": "301c4fa4",
   "metadata": {},
   "source": [
    "Wenn Studienwahl und Geschlecht unabhängig sind, würde man im linken oberen Feld der Tafel den Wert"
   ]
  },
  {
   "cell_type": "code",
   "execution_count": null,
   "id": "ebdc1b67",
   "metadata": {},
   "outputs": [],
   "source": [
    "p_w * p_bio * 768"
   ]
  },
  {
   "cell_type": "markdown",
   "id": "66307147",
   "metadata": {},
   "source": [
    "erwarten"
   ]
  },
  {
   "cell_type": "code",
   "execution_count": null,
   "id": "e531ed30",
   "metadata": {},
   "outputs": [],
   "source": [
    "n = df.loc['Summe'].insgesamt\n",
    "p_zeile = df.loc['Summe'] / n\n",
    "p_zeile"
   ]
  },
  {
   "cell_type": "code",
   "execution_count": null,
   "id": "df7e4495",
   "metadata": {},
   "outputs": [],
   "source": [
    "p_spalte = df.insgesamt / n\n",
    "p_spalte"
   ]
  },
  {
   "cell_type": "code",
   "execution_count": null,
   "id": "95f0bf59",
   "metadata": {},
   "outputs": [],
   "source": [
    "erwartet = pd.DataFrame(index = df.index)"
   ]
  },
  {
   "cell_type": "code",
   "execution_count": null,
   "id": "c86437e5",
   "metadata": {},
   "outputs": [],
   "source": [
    "erwartet['Biologie'] = n*p_zeile['Biologie']*p_spalte\n",
    "erwartet['Biochemie'] = n*p_zeile['Biochemie']*p_spalte\n",
    "erwartet['Chemie'] = n*p_zeile['Chemie']*p_spalte\n",
    "erwartet['Pharmazie'] = n*p_zeile['Pharmazie']*p_spalte\n",
    "erwartet['insgesamt'] = erwartet.sum(axis=1)\n",
    "erwartet"
   ]
  },
  {
   "cell_type": "markdown",
   "id": "ad5edde2",
   "metadata": {},
   "source": [
    "zum Vergleich"
   ]
  },
  {
   "cell_type": "code",
   "execution_count": null,
   "id": "355ef8af",
   "metadata": {},
   "outputs": [],
   "source": [
    "df - erwartet"
   ]
  },
  {
   "cell_type": "markdown",
   "id": "2b669da0",
   "metadata": {},
   "source": [
    "Aus diesen Unterschiedenn wird die Statistik berechnet"
   ]
  },
  {
   "cell_type": "code",
   "execution_count": null,
   "id": "f3af876f",
   "metadata": {},
   "outputs": [],
   "source": [
    "tafel2 = (df-erwartet)**2 / erwartet\n",
    "tafel2"
   ]
  },
  {
   "cell_type": "markdown",
   "id": "4f27e83d",
   "metadata": {},
   "source": [
    "Die Summen müssen neu bestimmt werden"
   ]
  },
  {
   "cell_type": "code",
   "execution_count": null,
   "id": "033b185d",
   "metadata": {},
   "outputs": [],
   "source": [
    "tafel2.loc['Summe'] = tafel2.sum()\n",
    "tafel2['insgesamt'] = tafel2.sum(axis=1)\n",
    "tafel2"
   ]
  },
  {
   "cell_type": "markdown",
   "id": "858ba07e",
   "metadata": {},
   "source": [
    "Die Summe über alle Einträge ist die Teststatistik"
   ]
  },
  {
   "cell_type": "code",
   "execution_count": null,
   "id": "7b1904e2",
   "metadata": {},
   "outputs": [],
   "source": [
    "t = tafel2.loc['Summe'].insgesamt\n",
    "t"
   ]
  },
  {
   "cell_type": "markdown",
   "id": "1301d734",
   "metadata": {},
   "source": [
    "* Die zum $\\chi^2$-Unabhängigkeitstest gehörende Verteilung ist die $\\chi^2$-Verteilung.\n",
    "* Sie hat Freiheitsgrade\n",
    "* Wenn die Kontingenztafel r Zeilen und c Spalten hat, dann ist die Zahl der Freiheitsgrade gleich $(r-1) \\cdot (c-1)$"
   ]
  },
  {
   "cell_type": "markdown",
   "id": "a6a95977",
   "metadata": {},
   "source": [
    "* Im Beispiel ist das $(2-1) \\cdot (4-1) = 3$ "
   ]
  },
  {
   "cell_type": "code",
   "execution_count": null,
   "id": "1341ec54",
   "metadata": {},
   "outputs": [],
   "source": [
    "P = stats.chi2(3)\n",
    "1 - P.cdf(t)"
   ]
  },
  {
   "cell_type": "markdown",
   "id": "8165e5b6",
   "metadata": {},
   "source": [
    "Nicht signifikant"
   ]
  },
  {
   "cell_type": "markdown",
   "id": "6439fef3",
   "metadata": {},
   "source": [
    "* Das geht auch automatisch\n",
    "* Achtung:  Es muss die ursprüngliche Kontingenztafel ohne hinzugefügte Summenzeilen oder -Spalten verwendet werden"
   ]
  },
  {
   "cell_type": "code",
   "execution_count": null,
   "id": "acc5d8ef",
   "metadata": {},
   "outputs": [],
   "source": [
    "res = stats.chi2_contingency(tafel)\n",
    "res"
   ]
  },
  {
   "cell_type": "code",
   "execution_count": null,
   "id": "ffda6580",
   "metadata": {},
   "outputs": [],
   "source": [
    "res.pvalue"
   ]
  },
  {
   "cell_type": "code",
   "execution_count": null,
   "id": "e153db69",
   "metadata": {},
   "outputs": [],
   "source": [
    "pd.DataFrame(res.expected_freq)"
   ]
  },
  {
   "cell_type": "markdown",
   "id": "2a0fe3e0",
   "metadata": {},
   "source": [
    "## Anwendbarkeit\n",
    "\n",
    "* Der $\\chi^2$-Unabhängigkeitstest beruht auf einer Approximation\n",
    "* Er ist nur zulässig, wenn alle erwarteten Werte mindestens den Wert 5 haben"
   ]
  },
  {
   "cell_type": "code",
   "execution_count": null,
   "id": "54c12696",
   "metadata": {},
   "outputs": [],
   "source": []
  }
 ],
 "metadata": {
  "celltoolbar": "Slideshow",
  "kernelspec": {
   "display_name": "Python 3 (ipykernel)",
   "language": "python",
   "name": "python3"
  },
  "language_info": {
   "codemirror_mode": {
    "name": "ipython",
    "version": 3
   },
   "file_extension": ".py",
   "mimetype": "text/x-python",
   "name": "python",
   "nbconvert_exporter": "python",
   "pygments_lexer": "ipython3",
   "version": "3.11.5"
  }
 },
 "nbformat": 4,
 "nbformat_minor": 5
}
