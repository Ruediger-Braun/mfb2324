{
 "cells": [
  {
   "cell_type": "markdown",
   "id": "e01baa24",
   "metadata": {
    "slideshow": {
     "slide_type": "slide"
    }
   },
   "source": [
    "# Mathematik für Biologiestudierende\n",
    "\n",
    "Wintersemester 2023/24\n",
    "\n",
    "22. November 2023\n",
    "\n",
    "&copy; 2023 Prof. Dr. Rüdiger W. Braun "
   ]
  },
  {
   "cell_type": "markdown",
   "id": "37eb92d9",
   "metadata": {
    "slideshow": {
     "slide_type": "slide"
    }
   },
   "source": [
    "## Binomialverteilung"
   ]
  },
  {
   "cell_type": "markdown",
   "id": "11a97eca",
   "metadata": {
    "slideshow": {
     "slide_type": "slide"
    }
   },
   "source": [
    "## Binomialverteilung\n",
    "\n",
    "* $B_{n,p}(k)$ ist die Wahrscheinlichkeit von genau $k$ Erfolgen, wenn ein ja/nein-Experiment mit     Erfolgswahrscheinlichkeit $p$ genau $n$-mal unabhängig wiederholt wird\n",
    "$$\n",
    "      B_{n,p}(k) =\n",
    "      \\begin{pmatrix}\n",
    "        n \\\\ k\n",
    "      \\end{pmatrix}\n",
    "      \\cdot p^k \\cdot (1-p)^{n-k} $$\n",
    "* $B_{n,p}$ bezeichnet man als *Binomialverteilung*"
   ]
  },
  {
   "cell_type": "markdown",
   "id": "1a90bba4",
   "metadata": {
    "slideshow": {
     "slide_type": "slide"
    }
   },
   "source": [
    "# Beispiel Parasiten"
   ]
  },
  {
   "cell_type": "markdown",
   "id": "12372bce",
   "metadata": {},
   "source": [
    "Bestimmte Fische erkranken mit 15% Wahrscheinlichkeit an einem Parasiten.\n",
    "\n",
    "Wir beobachten 47 Fische.  Mit welcher Wahrscheinlichkeit erkranken genau 5 Fische?"
   ]
  },
  {
   "cell_type": "markdown",
   "id": "2f9c59de",
   "metadata": {
    "slideshow": {
     "slide_type": "fragment"
    }
   },
   "source": [
    "\\begin{align*}\n",
    "    B_{47, 0.15}(5)\n",
    "    &= \\begin{pmatrix}  47 \\\\ 5 \\end{pmatrix} \\cdot 0.15^5 \\cdot 0.85^{42} \\\\\n",
    "    &= 1533939 \\cdot 0.0000759375 \\cdot \\cdot 0.0018541 \\\\\n",
    "    &= 0.126433\n",
    "\\end{align*}"
   ]
  },
  {
   "cell_type": "code",
   "execution_count": null,
   "id": "e07d2dc4",
   "metadata": {
    "slideshow": {
     "slide_type": "slide"
    }
   },
   "outputs": [],
   "source": [
    "from scipy import stats"
   ]
  },
  {
   "cell_type": "code",
   "execution_count": null,
   "id": "a3c18dcb",
   "metadata": {},
   "outputs": [],
   "source": [
    "P = stats.binom(47, 0.15)"
   ]
  },
  {
   "cell_type": "code",
   "execution_count": null,
   "id": "cecba20e",
   "metadata": {},
   "outputs": [],
   "source": [
    "P.pmf(5)"
   ]
  },
  {
   "cell_type": "markdown",
   "id": "f71b8650",
   "metadata": {
    "slideshow": {
     "slide_type": "slide"
    }
   },
   "source": [
    "# Kumulierte Verteilung"
   ]
  },
  {
   "cell_type": "markdown",
   "id": "140c4a3d",
   "metadata": {},
   "source": [
    "Die interessantere Frage ist:  Mit welcher Wahrscheinlichkeit erkranken höchstens 5 Fische?"
   ]
  },
  {
   "cell_type": "markdown",
   "id": "0334cf37",
   "metadata": {},
   "source": [
    "| $$k$$    | $$B_{47, 0.15}(k)$$ |\n",
    "|----------|---------------------|\n",
    "| 0        | 0.00048             |\n",
    "| 1        | 0.00399             |\n",
    "| 2        | 0.01621             |\n",
    "| 3        | 0.04292             |\n",
    "| 4        | 0.08331             |\n",
    "| 5        | 0.12643             |\n",
    "| $$\\sum$$ | 0.27335             |"
   ]
  },
  {
   "cell_type": "markdown",
   "id": "63e34deb",
   "metadata": {
    "slideshow": {
     "slide_type": "slide"
    }
   },
   "source": [
    "* Das ist umständlich.\n",
    "* Mit `P.cdf` erhält man die kumulierten Werte der Binomialverteilung\n",
    "\n",
    "\"cdf\": cumulative function"
   ]
  },
  {
   "cell_type": "code",
   "execution_count": null,
   "id": "bc70e44b",
   "metadata": {},
   "outputs": [],
   "source": [
    "P = stats.binom(47, 0.15)   # an dieser Stelle redundant"
   ]
  },
  {
   "cell_type": "code",
   "execution_count": null,
   "id": "f2a53af8",
   "metadata": {},
   "outputs": [],
   "source": [
    "P.cdf(5)"
   ]
  },
  {
   "cell_type": "markdown",
   "id": "ef2c36d2",
   "metadata": {
    "slideshow": {
     "slide_type": "slide"
    }
   },
   "source": [
    "<img src=\"bilder/bar47.svg\" alt=\"Graph der Binomialverteilung B(47, 0.15)\" width=\"150%\"/>\n",
    "\n",
    "Wir haben die orange Fläche im Bild ausgerechnet."
   ]
  },
  {
   "cell_type": "markdown",
   "id": "4ccfa3fa",
   "metadata": {
    "slideshow": {
     "slide_type": "slide"
    }
   },
   "source": [
    "Mit welcher Wahrscheinlichkeit erkranken mindesten 6 Fische?\n",
    "\n",
    "* \"Mindestens 6\" ist das Gegenteil von \"höchstens 5\"\n",
    "* Antwort $1-0.27335 = 0.72665$"
   ]
  },
  {
   "cell_type": "markdown",
   "id": "b584ec20",
   "metadata": {
    "slideshow": {
     "slide_type": "slide"
    }
   },
   "source": [
    "## Fische in saubererem Wasser\n",
    "\n",
    "* Es gelingt, die Erkrankungsraten der Fische um 5 Prozentpunkte auf 80% zu senken \n",
    "* Wie hoch ist nun die Wahrscheinlichkeit, dass höchstens 5 Fische erkranken?"
   ]
  },
  {
   "cell_type": "code",
   "execution_count": null,
   "id": "e73c5fb0",
   "metadata": {
    "slideshow": {
     "slide_type": "fragment"
    }
   },
   "outputs": [],
   "source": [
    "P = stats.binom(47, 0.10)\n",
    "P.cdf(5)"
   ]
  },
  {
   "cell_type": "markdown",
   "id": "1da7add3",
   "metadata": {
    "slideshow": {
     "slide_type": "slide"
    }
   },
   "source": [
    "<img src=\"bilder/bar47_b.svg\" alt=\"Graph der Binomialverteilung B(47, 0.10)\" width=\"150%\"/>"
   ]
  },
  {
   "cell_type": "markdown",
   "id": "7b9976ac",
   "metadata": {
    "slideshow": {
     "slide_type": "slide"
    }
   },
   "source": [
    "# Beispiel zur Binomialverteilung: $L$-Bakterien\n",
    "\n",
    "* Chiralität:  Manche Moleküle kommen bei gleicher chemischer Zusammensetzung in zwei verschiedenen geometrischen Formen vor.  Man bezeichnet dann eine von beiden als ``rechtsdrehend'', die andere als ``linksdrehend''\n",
    "* Von einem bestimmten Bodenbakterium gibt es zwei Varianten, je nachdem ob ein bestimmtes Molekül in der linksdrehenden oder der rechtsdrehenden Version bevorzugt aufgenommen wird.  Wir nennen die beiden Varianten $L$-Bakterium und $R$-Bakterium.  "
   ]
  },
  {
   "cell_type": "markdown",
   "id": "6aa61ca0",
   "metadata": {
    "slideshow": {
     "slide_type": "fragment"
    }
   },
   "source": [
    "* In ungestörtem Boden befinden sich 75% $L$-Bakterien und 25% $R$-Bakterien.  "
   ]
  },
  {
   "cell_type": "markdown",
   "id": "8635c928",
   "metadata": {
    "slideshow": {
     "slide_type": "fragment"
    }
   },
   "source": [
    "* Die Bakterien werden einem Pestizid ausgesetzt.  Nach einigen Generationen werden die Nachkommen getestet, ob sie rechts- oder linksdrehende Varianten aufnehmen\n",
    "* 13 der 27 Nachkommen sind $R$-Bakterien.  Ist dieses Ergebnis so ungewöhnlich, dass man einen Einfluss des Pestizids vermuten muss?"
   ]
  },
  {
   "cell_type": "markdown",
   "id": "e7b3eb72",
   "metadata": {
    "slideshow": {
     "slide_type": "slide"
    }
   },
   "source": [
    "## $L$-Bakterien: Fortsetzung \n",
    "\n",
    "* Mit Wahrscheinlichkeit\n",
    "    \\begin{equation*}\n",
    "      B_{27,\\,0.75}(14) =\n",
    "      \\begin{pmatrix}\n",
    "        27 \\\\\n",
    "        14\n",
    "      \\end{pmatrix}\n",
    "      \\cdot 0.75^{14} \\cdot 0.25^{13}\n",
    "      = 0.005326\n",
    "    \\end{equation*}\n",
    "    sind 14 von 27 Bakterien $L$-Bakterien\n",
    "* Das ist aber nicht die richtige Frage."
   ]
  },
  {
   "cell_type": "markdown",
   "id": "3f84c782",
   "metadata": {
    "slideshow": {
     "slide_type": "slide"
    }
   },
   "source": [
    "## $L$-Bakterien: Fortsetzung\n",
    "\n",
    "* Wenn weniger als 14 der Bakterien $L$-Bakterien gewesen wären, hätten wir das noch ungewöhnlicher gefunden\n",
    "* Wir suchen also die Wahrscheinlichkeit, dass von 27 Bakterien **höchstens** 14 $L$-Bakterien sind,\n",
    "* d. h. wir suchen\n",
    "    \\begin{equation*}\n",
    "      \\sum_{k=0}^{14} B_{27,\\,0.75}(k)\n",
    "    \\end{equation*}\n",
    "* Wir suchen also einen kumulierten Wert der Binomialverteilung"
   ]
  },
  {
   "cell_type": "code",
   "execution_count": null,
   "id": "08df22c9",
   "metadata": {
    "slideshow": {
     "slide_type": "fragment"
    }
   },
   "outputs": [],
   "source": [
    "P = stats.binom(27, 0.75)\n",
    "P.cdf(14)"
   ]
  },
  {
   "cell_type": "markdown",
   "id": "f41ec54a",
   "metadata": {
    "slideshow": {
     "slide_type": "slide"
    }
   },
   "source": [
    "# Versuchsplanung\n",
    "\n",
    "## Extinktionsexperiment\n",
    "\n",
    "* Ein Extinktionsexperiment wird geplant, bei dem die Versuchstiere eine einmal erlernte Aufgabe wieder verlernen   sollen.  Dazu sollen zuerst mindestens 50 Tiere diese Handlung erlernen.  Aus früheren Versuchen weiß man, dass dies nur bei 80% der Versuchstiere gelingt. "
   ]
  },
  {
   "cell_type": "markdown",
   "id": "c9697ad4",
   "metadata": {
    "slideshow": {
     "slide_type": "fragment"
    }
   },
   "source": [
    "* Wenn man also zu Beginn der Verlernphase 50 Tiere haben will, welche die Aufgabe gelernt haben, dann muss man deutlich mehr als diese 50 Tiere trainieren.\n",
    "* Wie viele?"
   ]
  },
  {
   "cell_type": "markdown",
   "id": "7b8d6fc4",
   "metadata": {
    "slideshow": {
     "slide_type": "fragment"
    }
   },
   "source": [
    "* Hier muss man zweistufig vorgehen:  Für jedes feste $n$ schaut man nach, wie hoch die Wahrscheinlichkeit ist, dass 50 oder mehr Tiere die Aufgabe erlernt haben.  Als Antwort gibt man das kleinste $n$, bei dem diese Wahrscheinlichkeit groß genug ist."
   ]
  },
  {
   "cell_type": "markdown",
   "id": "31d22919",
   "metadata": {
    "slideshow": {
     "slide_type": "fragment"
    }
   },
   "source": [
    "* Wie viele Versuchstiere werden benötigt, damit mit einer Wahrscheinlichkeit von mindestens 90% die Zahl der Versuchstiere, welche die Aufgabe gelernt haben, mindestens gleich 50 ist?"
   ]
  },
  {
   "cell_type": "code",
   "execution_count": null,
   "id": "ae71da49",
   "metadata": {
    "slideshow": {
     "slide_type": "slide"
    }
   },
   "outputs": [],
   "source": [
    "P = stats.binom(100, 0.80)\n",
    "P.cdf(49)   # muss kleiner 0.1  sein"
   ]
  },
  {
   "cell_type": "code",
   "execution_count": null,
   "id": "8f39627e",
   "metadata": {},
   "outputs": [],
   "source": [
    "P = stats.binom(50, 0.80)\n",
    "P.cdf(49)  "
   ]
  },
  {
   "cell_type": "code",
   "execution_count": null,
   "id": "ef9e6585",
   "metadata": {},
   "outputs": [],
   "source": [
    "P = stats.binom(70, 0.80)\n",
    "P.cdf(49)  "
   ]
  },
  {
   "cell_type": "code",
   "execution_count": null,
   "id": "4134e517",
   "metadata": {},
   "outputs": [],
   "source": [
    "P = stats.binom(65, 0.80)\n",
    "P.cdf(49)   "
   ]
  },
  {
   "cell_type": "code",
   "execution_count": null,
   "id": "91a3b65d",
   "metadata": {},
   "outputs": [],
   "source": [
    "P = stats.binom(68, 0.80)\n",
    "P.cdf(49)   # muss kleiner 0.5  sein"
   ]
  },
  {
   "cell_type": "code",
   "execution_count": null,
   "id": "7389a38d",
   "metadata": {},
   "outputs": [],
   "source": [
    "P = stats.binom(67, 0.80)\n",
    "P.cdf(49)   # muss kleiner 0.5  sein"
   ]
  },
  {
   "cell_type": "markdown",
   "id": "397d1bdd",
   "metadata": {
    "slideshow": {
     "slide_type": "fragment"
    }
   },
   "source": [
    "Wir brauchen 68 Tiere\n",
    "\n",
    "Und wir können das mit `python` ausrechnen, ohne eine `for`-Schleife zu programmieren"
   ]
  },
  {
   "cell_type": "markdown",
   "id": "c64c1aa7",
   "metadata": {
    "slideshow": {
     "slide_type": "slide"
    }
   },
   "source": [
    "Geht auch grafisch mit `seaborn`"
   ]
  },
  {
   "cell_type": "code",
   "execution_count": null,
   "id": "e9dd762a",
   "metadata": {},
   "outputs": [],
   "source": [
    "import seaborn as sns\n",
    "import numpy as np"
   ]
  },
  {
   "cell_type": "code",
   "execution_count": null,
   "id": "3032c513",
   "metadata": {},
   "outputs": [],
   "source": [
    "k = np.arange(50, 80)\n",
    "P = stats.binom(k, 0.80)\n",
    "B = P.cdf(49)"
   ]
  },
  {
   "cell_type": "code",
   "execution_count": null,
   "id": "4f4a49c6",
   "metadata": {
    "slideshow": {
     "slide_type": "slide"
    }
   },
   "outputs": [],
   "source": [
    "ax = sns.scatterplot(x=k, y=B)\n",
    "ax.grid(True)"
   ]
  }
 ],
 "metadata": {
  "celltoolbar": "Slideshow",
  "kernelspec": {
   "display_name": "Python 3 (ipykernel)",
   "language": "python",
   "name": "python3"
  },
  "language_info": {
   "codemirror_mode": {
    "name": "ipython",
    "version": 3
   },
   "file_extension": ".py",
   "mimetype": "text/x-python",
   "name": "python",
   "nbconvert_exporter": "python",
   "pygments_lexer": "ipython3",
   "version": "3.11.5"
  }
 },
 "nbformat": 4,
 "nbformat_minor": 5
}
