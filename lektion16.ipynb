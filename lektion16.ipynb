{
 "cells": [
  {
   "cell_type": "markdown",
   "id": "97e910de",
   "metadata": {
    "slideshow": {
     "slide_type": "slide"
    }
   },
   "source": [
    "# Mathematik für Biologiestudierende II\n",
    "\n",
    "Sommersemester 2024\n",
    "\n",
    "30.04.2024\n",
    "\n",
    "&copy; 2024 Prof. Dr. Rüdiger W. Braun "
   ]
  },
  {
   "cell_type": "code",
   "execution_count": 1,
   "id": "a56ebe0f",
   "metadata": {
    "slideshow": {
     "slide_type": "slide"
    }
   },
   "outputs": [],
   "source": [
    "import numpy as np\n",
    "import pandas as pd\n",
    "from scipy import stats\n",
    "import seaborn as sns\n",
    "sns.set_theme()"
   ]
  },
  {
   "cell_type": "markdown",
   "id": "dd7f096a",
   "metadata": {
    "slideshow": {
     "slide_type": "slide"
    }
   },
   "source": [
    "# Mutiples Testen"
   ]
  },
  {
   "cell_type": "markdown",
   "id": "1edb2f97",
   "metadata": {
    "slideshow": {
     "slide_type": "slide"
    }
   },
   "source": [
    "### Beispiel Gummibärchen\n",
    "\n",
    "![Cartoon aus xkcd](https://imgs.xkcd.com/comics/significant.png)\n",
    "\n",
    "Quelle: https://xkcd.com/882"
   ]
  },
  {
   "cell_type": "markdown",
   "id": "29c886c4",
   "metadata": {
    "slideshow": {
     "slide_type": "slide"
    }
   },
   "source": [
    "* Ein Fall von Data Snooping\n",
    "* Bei einem Signifikanztest zum Nivea $\\alpha=0.05$ wird in 5% der Fälle die Nullhypothese fälschlich abgelehnt\n",
    "* In dem Beispiel des Cartoons gibt es 20 Experimente; es ist zu erwarten, dass in einem Fall die Nullhypothese zu unrecht abgelehnt wird"
   ]
  },
  {
   "cell_type": "markdown",
   "id": "eb7ebae9",
   "metadata": {
    "slideshow": {
     "slide_type": "slide"
    }
   },
   "source": [
    "## Multiple Vergleiche\n",
    "\n",
    "Möglichkeiten für korrektes Vorgehen\n",
    " "
   ]
  },
  {
   "cell_type": "markdown",
   "id": "86ddfa1d",
   "metadata": {},
   "source": [
    "Man testet die Nullhypothese \n",
    "\n",
    "> $H_0$ = \"Grüne Gummibärchen verursachen keine Akne\"\n",
    "\n",
    "in einem neuen Experiment zum Signifikanzniveau~5\\%"
   ]
  },
  {
   "cell_type": "markdown",
   "id": "e116429c",
   "metadata": {
    "slideshow": {
     "slide_type": "fragment"
    }
   },
   "source": [
    "oder man rechnet des multiple Experiment mit einer Korrektur des Signifikanzniveaus\n",
    "\n",
    "* Bonferroni-Korrektur\n",
    "* Bonferroni-Holm-Korrektur\n",
    "* False Discovery Rate"
   ]
  },
  {
   "cell_type": "markdown",
   "id": "d9b12080",
   "metadata": {
    "slideshow": {
     "slide_type": "slide"
    }
   },
   "source": [
    "## Bonferroni-Korrektur\n",
    "\n",
    "* Wenn man simultan $n$ Vergleiche durchführt, dann schreibt die Bonferroni-Korrektur vor, dass man jeden einzelnen Vergleich zum Signifikanzniveau $\\frac\\alpha n$ durchführt\n",
    "* Im Beispiel der Gummibärchen hätten die Einzelversuche zum Signifikanzniveau $\\frac\\alpha{20} = 0.0025$ durchgeführt werden müssen"
   ]
  },
  {
   "cell_type": "markdown",
   "id": "c85e13be",
   "metadata": {
    "slideshow": {
     "slide_type": "fragment"
    }
   },
   "source": [
    "* Im Beispiel der Schwarzstörche hätte für jeden Einzeltest das Signifikanzniveau $\\alpha = \\frac{0.05}{100} =  0.0005$ gewählt werden müssen"
   ]
  },
  {
   "cell_type": "markdown",
   "id": "d82eaa21",
   "metadata": {
    "slideshow": {
     "slide_type": "slide"
    }
   },
   "source": [
    "## Bonferroni-Holm-Korrektur \n",
    "\n",
    "erkläre ich, nachdem ich die Bonferroni-Korrektur für die ANOVA vorgemacht habe"
   ]
  },
  {
   "cell_type": "markdown",
   "id": "4c5e8b27",
   "metadata": {
    "slideshow": {
     "slide_type": "slide"
    }
   },
   "source": [
    "## False Discovery Rate\n",
    "\n",
    "* Beispiel Bilddaten: 20 MNR-Aufnahmen von gesunden Gehirnen und 20 MNR-Aufnahmen von erkrankten Gehirnen, wobei die Gehirne auf einen Standardatlas normalisiert werden\n",
    "* In einem Bild werden alle Voxel (3D-Pixel) markiert, bei denen der Eisengehalt der Gruppe der Erkrankten signifikant über dem der Gruppe der Gesunden liegt"
   ]
  },
  {
   "cell_type": "markdown",
   "id": "17cf2adf",
   "metadata": {
    "slideshow": {
     "slide_type": "fragment"
    }
   },
   "source": [
    "*  Millionen von parallelen Experimenten:  Bonferroni-Korrektur praktisch unmöglich\n",
    "* Alternative: False Discovery Rate\n",
    "* FDR von 1% sagt: im Schnitt sind nur 1% aller markierten Voxel falsch\n",
    "* Zum Vergleich: Ein multipler Test zum Signifikanzniveau 5% sagt: Die Wahrscheinlichkeit, dass auch nur ein einziges Voxel zu Unrecht markiert ist, beträgt höchstens 5%"
   ]
  },
  {
   "cell_type": "markdown",
   "id": "d1f1e40c",
   "metadata": {
    "slideshow": {
     "slide_type": "slide"
    }
   },
   "source": [
    "# ANOVA"
   ]
  },
  {
   "cell_type": "markdown",
   "id": "c5800032",
   "metadata": {
    "slideshow": {
     "slide_type": "slide"
    }
   },
   "source": [
    "Zurück zu den Pinguinen"
   ]
  },
  {
   "cell_type": "code",
   "execution_count": 2,
   "id": "d518e687",
   "metadata": {},
   "outputs": [],
   "source": [
    "df = sns.load_dataset(\"penguins\") \n",
    "gA = df[df.species=='Adelie'].bill_length_mm\n",
    "gG = df[df.species=='Gentoo'].bill_length_mm\n",
    "gC = df[df.species=='Chinstrap'].bill_length_mm"
   ]
  },
  {
   "cell_type": "code",
   "execution_count": 3,
   "id": "53b0731f",
   "metadata": {},
   "outputs": [
    {
     "data": {
      "text/plain": [
       "F_onewayResult(statistic=410.6002550405077, pvalue=2.6946137388895484e-91)"
      ]
     },
     "execution_count": 3,
     "metadata": {},
     "output_type": "execute_result"
    }
   ],
   "source": [
    "res = stats.f_oneway(gA.dropna(), gG.dropna(), gC.dropna())\n",
    "res"
   ]
  },
  {
   "cell_type": "markdown",
   "id": "6c4cee44",
   "metadata": {},
   "source": [
    "Die Schnabellängen unterscheiden sich also"
   ]
  },
  {
   "cell_type": "markdown",
   "id": "6175f1d2",
   "metadata": {
    "slideshow": {
     "slide_type": "slide"
    }
   },
   "source": [
    "Wir hätten auch drei t-Tests rechnen können"
   ]
  },
  {
   "cell_type": "code",
   "execution_count": 4,
   "id": "383097be",
   "metadata": {},
   "outputs": [
    {
     "data": {
      "text/plain": [
       "TtestResult(statistic=-25.09530115900974, pvalue=9.324042980315958e-73, df=272.0)"
      ]
     },
     "execution_count": 4,
     "metadata": {},
     "output_type": "execute_result"
    }
   ],
   "source": [
    "r1 = stats.ttest_ind(gA.dropna(), gG.dropna())\n",
    "r1"
   ]
  },
  {
   "cell_type": "code",
   "execution_count": 11,
   "id": "58d89779",
   "metadata": {},
   "outputs": [
    {
     "data": {
      "text/plain": [
       "TtestResult(statistic=-23.801939237440887, pvalue=2.011759018655462e-62, df=217.0)"
      ]
     },
     "execution_count": 11,
     "metadata": {},
     "output_type": "execute_result"
    }
   ],
   "source": [
    "r2 = stats.ttest_ind(gA.dropna(), gC.dropna())\n",
    "r2"
   ]
  },
  {
   "cell_type": "code",
   "execution_count": 12,
   "id": "adb5b8ef",
   "metadata": {},
   "outputs": [
    {
     "data": {
      "text/plain": [
       "TtestResult(statistic=-2.7694045269151144, pvalue=0.006175813141889592, df=189.0)"
      ]
     },
     "execution_count": 12,
     "metadata": {},
     "output_type": "execute_result"
    }
   ],
   "source": [
    "r3 = stats.ttest_ind(gG.dropna(), gC.dropna())\n",
    "r3"
   ]
  },
  {
   "cell_type": "markdown",
   "id": "035a378f",
   "metadata": {
    "slideshow": {
     "slide_type": "slide"
    }
   },
   "source": [
    "* Das ist multiples Testen, muss also korrigiert werden"
   ]
  },
  {
   "cell_type": "markdown",
   "id": "f3d2eee6",
   "metadata": {},
   "source": [
    "* Drei Tests gerechnet\n",
    "* Gewünscht: $\\alpha=0.01$\n",
    "* Bonferroni-Korrektur:  Jeden einzelnen Test zu $\\frac\\alpha3 = 0.003333$ auswerten"
   ]
  },
  {
   "cell_type": "markdown",
   "id": "bdad07f3",
   "metadata": {},
   "source": [
    "* Zu $\\alpha=0.01$ werden Unterschiede in den Schnabellängen zwischen Adelie- und Eselspinguinen und zwischen Adelie- und Zügelpinguinen gefunden\n",
    "* Der Unterschied zwischen Esels- und Zügelpinguinen ist nicht signifikant"
   ]
  },
  {
   "cell_type": "markdown",
   "id": "fd4f6360",
   "metadata": {
    "slideshow": {
     "slide_type": "slide"
    }
   },
   "source": [
    "# Post-hoc Analyse"
   ]
  },
  {
   "cell_type": "markdown",
   "id": "cf08580b",
   "metadata": {
    "slideshow": {
     "slide_type": "fragment"
    }
   },
   "source": [
    "* Wenn die ANOVA einen signifikanten Unterschied zwischen den Gruppen gezeigt hat, dann versucht man mit der post-hoc Analyise herauszubekommen, zwischen welchen beiden Gruppen signifikante Unterschiede bestehen\n",
    "* Die post-hoc Analyse muss für multiple Vergleiche korrigiert werden"
   ]
  },
  {
   "cell_type": "code",
   "execution_count": 31,
   "id": "486118d0",
   "metadata": {
    "slideshow": {
     "slide_type": "slide"
    }
   },
   "outputs": [],
   "source": [
    "import statsmodels.sandbox.stats.multicomp as mc"
   ]
  },
  {
   "cell_type": "markdown",
   "id": "50feae8a",
   "metadata": {},
   "source": [
    "Achtung:  Hier wird irgendwann der Bestandteil `sandbox` überflüssig"
   ]
  },
  {
   "cell_type": "code",
   "execution_count": 32,
   "id": "7a20cac7",
   "metadata": {
    "slideshow": {
     "slide_type": "fragment"
    }
   },
   "outputs": [
    {
     "data": {
      "text/plain": [
       "(array([ True,  True, False]),\n",
       " array([2.79721289e-72, 6.03527706e-62, 1.85274394e-02]),\n",
       " 0.003344506587403595,\n",
       " 0.0033333333333333335)"
      ]
     },
     "execution_count": 32,
     "metadata": {},
     "output_type": "execute_result"
    }
   ],
   "source": [
    "mc.multipletests([r1.pvalue, r2.pvalue, r3.pvalue], alpha=0.01, method='bonferroni')"
   ]
  },
  {
   "cell_type": "markdown",
   "id": "35e2cd5b",
   "metadata": {
    "slideshow": {
     "slide_type": "fragment"
    }
   },
   "source": [
    "### Dasselbe mit Bonferroni-Holm"
   ]
  },
  {
   "cell_type": "code",
   "execution_count": 33,
   "id": "44acfcab",
   "metadata": {},
   "outputs": [
    {
     "data": {
      "text/plain": [
       "(array([ True,  True,  True]),\n",
       " array([2.79721289e-72, 4.02351804e-62, 6.17581314e-03]),\n",
       " 0.003344506587403595,\n",
       " 0.0033333333333333335)"
      ]
     },
     "execution_count": 33,
     "metadata": {},
     "output_type": "execute_result"
    }
   ],
   "source": [
    "mc.multipletests([r1.pvalue, r2.pvalue, r3.pvalue], alpha=0.01, method='holm')"
   ]
  },
  {
   "cell_type": "markdown",
   "id": "347c7b0b",
   "metadata": {
    "slideshow": {
     "slide_type": "slide"
    }
   },
   "source": [
    "## Bonferroni-Holm"
   ]
  },
  {
   "cell_type": "markdown",
   "id": "22d0f77f",
   "metadata": {},
   "source": [
    "* n multiple Vergleiche werden durchgeführt\n",
    "* Die p-Werte werden der Größe nach geordnet\n",
    "* der kleinste p-Wert muss signifikant zu $\\frac\\alpha n$ sein\n",
    "* der zweitkleinste zu $\\frac\\alpha{n-1}$\n",
    "* drittkleinste zu $\\frac\\alpha{n-2}$\n",
    "* usw.\n",
    "* der größte zum Niveau $\\alpha$"
   ]
  },
  {
   "cell_type": "markdown",
   "id": "f38f4804",
   "metadata": {
    "slideshow": {
     "slide_type": "slide"
    }
   },
   "source": [
    "Bei den Pinguinen\n",
    "\n",
    "* der kleinste p-Wert ist 2.79721289e-72, er ist kleiner als $\\frac{0.01}3 = 0.003333$\n",
    "* der zweitkleinste p-Wert ist 4.02351804e-62, er ist kleiner als $\\frac{0.01}2 = 0.005$\n",
    "* der drittkleinste p-Wert ist 0.006175813142, er ist kleiner als $\\alpha = 0.01$\n"
   ]
  },
  {
   "cell_type": "markdown",
   "id": "644087bc",
   "metadata": {
    "slideshow": {
     "slide_type": "fragment"
    }
   },
   "source": [
    "* Wendet man Bonferroni-Holm an, so unterscheiden sich die auch Schnabellängen zwischen Esels- und Zügelpinguinen signifikant"
   ]
  },
  {
   "cell_type": "markdown",
   "id": "a0b934a2",
   "metadata": {
    "slideshow": {
     "slide_type": "fragment"
    }
   },
   "source": [
    "* Genau wie die Wahl des Signifikanzniveaus muss die Frage nach der Korrektur des p-Werts innerhalb der Fachwissenschaft beantwortet werden"
   ]
  },
  {
   "cell_type": "code",
   "execution_count": null,
   "id": "62e12122",
   "metadata": {},
   "outputs": [],
   "source": []
  }
 ],
 "metadata": {
  "celltoolbar": "Slideshow",
  "kernelspec": {
   "display_name": "Python 3 (ipykernel)",
   "language": "python",
   "name": "python3"
  },
  "language_info": {
   "codemirror_mode": {
    "name": "ipython",
    "version": 3
   },
   "file_extension": ".py",
   "mimetype": "text/x-python",
   "name": "python",
   "nbconvert_exporter": "python",
   "pygments_lexer": "ipython3",
   "version": "3.11.5"
  }
 },
 "nbformat": 4,
 "nbformat_minor": 5
}
