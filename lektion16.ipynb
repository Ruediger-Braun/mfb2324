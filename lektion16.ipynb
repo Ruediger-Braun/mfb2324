{
 "cells": [
  {
   "cell_type": "markdown",
   "id": "97e910de",
   "metadata": {
    "slideshow": {
     "slide_type": "slide"
    }
   },
   "source": [
    "# Mathematik für Biologiestudierende II\n",
    "\n",
    "Sommersemester 2024\n",
    "\n",
    "30.04.2024\n",
    "\n",
    "&copy; 2024 Prof. Dr. Rüdiger W. Braun "
   ]
  },
  {
   "cell_type": "code",
   "execution_count": null,
   "id": "a56ebe0f",
   "metadata": {
    "slideshow": {
     "slide_type": "slide"
    }
   },
   "outputs": [],
   "source": [
    "import numpy as np\n",
    "import pandas as pd\n",
    "from scipy import stats\n",
    "import seaborn as sns\n",
    "sns.set_theme()"
   ]
  },
  {
   "cell_type": "markdown",
   "id": "9feb729f",
   "metadata": {
    "slideshow": {
     "slide_type": "slide"
    }
   },
   "source": [
    "# Mutiples Testen"
   ]
  },
  {
   "cell_type": "markdown",
   "id": "0ad4174d",
   "metadata": {
    "slideshow": {
     "slide_type": "slide"
    }
   },
   "source": [
    "### Beispiel Gummibärchen\n",
    "\n",
    "![Cartoon aus xkcd](bilder/signi1.png)\n",
    "\n",
    "Quelle: https://xkcd.com/882"
   ]
  },
  {
   "cell_type": "markdown",
   "id": "5a139c88",
   "metadata": {
    "slideshow": {
     "slide_type": "slide"
    }
   },
   "source": [
    "![Cartoon aus xkcd](bilder/signi2.png)"
   ]
  },
  {
   "cell_type": "markdown",
   "id": "9ad2ab3d",
   "metadata": {
    "slideshow": {
     "slide_type": "slide"
    }
   },
   "source": [
    "![Cartoon aus xkcd](bilder/signi3.png)"
   ]
  },
  {
   "cell_type": "markdown",
   "id": "77d18ede",
   "metadata": {
    "slideshow": {
     "slide_type": "slide"
    }
   },
   "source": [
    "![Cartoon aus xkcd](bilder/signi4.png)"
   ]
  },
  {
   "cell_type": "markdown",
   "id": "9fdd4338",
   "metadata": {
    "slideshow": {
     "slide_type": "fragment"
    }
   },
   "source": [
    "* Ein Fall von Data Snooping\n",
    "* Bei einem Signifikanztest zum Nivea $\\alpha=0.05$ wird in 5% der Fälle die Nullhypothese fälschlich abgelehnt\n",
    "* In dem Beispiel des Cartoons gibt es 20 Experimente; es ist zu erwarten, dass in einem Fall die Nullhypothese zu unrecht abgelehnt wird"
   ]
  },
  {
   "cell_type": "markdown",
   "id": "75e52c1b",
   "metadata": {
    "slideshow": {
     "slide_type": "slide"
    }
   },
   "source": [
    "## Multiple Vergleiche\n",
    "\n",
    "Möglichkeiten für korrektes Vorgehen\n",
    " "
   ]
  },
  {
   "cell_type": "markdown",
   "id": "061a8612",
   "metadata": {},
   "source": [
    "Man testet die Nullhypothese \n",
    "\n",
    "> $H_0$ = \"Grüne Gummibärchen verursachen keine Akne\"\n",
    "\n",
    "in einem neuen Experiment zum Signifikanzniveau~5\\%"
   ]
  },
  {
   "cell_type": "markdown",
   "id": "45ab4bff",
   "metadata": {
    "slideshow": {
     "slide_type": "fragment"
    }
   },
   "source": [
    "oder man rechnet des multiple Experiment mit einer Korrektur des Signifikanzniveaus\n",
    "\n",
    "* Bonferroni-Korrektur\n",
    "* Bonferroni-Holm-Korrektur\n",
    "* False Discovery Rate"
   ]
  },
  {
   "cell_type": "markdown",
   "id": "893fb136",
   "metadata": {
    "slideshow": {
     "slide_type": "slide"
    }
   },
   "source": [
    "## Bonferroni-Korrektur\n",
    "\n",
    "* Wenn man simultan $n$ Vergleiche durchführt, dann schreibt die Bonferroni-Korrektur vor, dass man jeden einzelnen Vergleich zum Signifikanzniveau $\\frac\\alpha n$ durchführt\n",
    "* Im Beispiel der Gummibärchen hätten die Einzelversuche zum Signifikanzniveau $\\frac\\alpha{20} = 0.0025$ durchgeführt werden müssen"
   ]
  },
  {
   "cell_type": "markdown",
   "id": "c2f9631c",
   "metadata": {
    "slideshow": {
     "slide_type": "fragment"
    }
   },
   "source": [
    "* Im Beispiel der Schwarzstörche hätte für jeden Einzeltest das Signifikanzniveau $\\alpha = \\frac{0.05}{100} =  0.0005$ gewählt werden müssen"
   ]
  },
  {
   "cell_type": "markdown",
   "id": "5c7a2cae",
   "metadata": {
    "slideshow": {
     "slide_type": "slide"
    }
   },
   "source": [
    "## Bonferroni-Holm-Korrektur \n",
    "\n",
    "erkläre ich, nachdem ich die Bonferroni-Korrektur für die ANOVA vorgemacht habe"
   ]
  },
  {
   "cell_type": "markdown",
   "id": "0056a985",
   "metadata": {
    "slideshow": {
     "slide_type": "slide"
    }
   },
   "source": [
    "## False Discovery Rate\n",
    "\n",
    "* Beispiel Bilddaten: 20 MNR-Aufnahmen von gesunden Gehirnen und 20 MNR-Aufnahmen von erkrankten Gehirnen, wobei die Gehirne auf einen Standardatlas normalisiert werden\n",
    "* In einem Bild werden alle Voxel (3D-Pixel) markiert, bei denen der Eisengehalt der Gruppe der Erkrankten signifikant über dem der Gruppe der Gesunden liegt"
   ]
  },
  {
   "cell_type": "markdown",
   "id": "ea7837ea",
   "metadata": {
    "slideshow": {
     "slide_type": "fragment"
    }
   },
   "source": [
    "*  Millionen von parallelen Experimenten:  Bonferroni-Korrektur praktisch unmöglich\n",
    "* Alternative: False Discovery Rate\n",
    "* FDR von 1% sagt: im Schnitt sind nur 1% aller markierten Voxel falsch\n",
    "* Zum Vergleich: Ein multipler Test zum Signifikanzniveau 5% sagt: Die Wahrscheinlichkeit, dass auch nur ein einziges Voxel zu Unrecht markiert ist, beträgt höchstens 5%"
   ]
  },
  {
   "cell_type": "markdown",
   "id": "eef413bc",
   "metadata": {
    "slideshow": {
     "slide_type": "slide"
    }
   },
   "source": [
    "# ANOVA"
   ]
  },
  {
   "cell_type": "markdown",
   "id": "11b2a65e",
   "metadata": {
    "slideshow": {
     "slide_type": "slide"
    }
   },
   "source": [
    "Zurück zu den Pinguinen"
   ]
  },
  {
   "cell_type": "code",
   "execution_count": null,
   "id": "ffe11921",
   "metadata": {},
   "outputs": [],
   "source": [
    "df = sns.load_dataset(\"penguins\") \n",
    "gA = df[df.species=='Adelie'].bill_length_mm\n",
    "gG = df[df.species=='Gentoo'].bill_length_mm\n",
    "gC = df[df.species=='Chinstrap'].bill_length_mm"
   ]
  },
  {
   "cell_type": "code",
   "execution_count": null,
   "id": "28891f91",
   "metadata": {},
   "outputs": [],
   "source": [
    "res = stats.f_oneway(gA.dropna(), gG.dropna(), gC.dropna())\n",
    "res"
   ]
  },
  {
   "cell_type": "markdown",
   "id": "9f517837",
   "metadata": {},
   "source": [
    "Die Schnabellängen unterscheiden sich also"
   ]
  },
  {
   "cell_type": "markdown",
   "id": "33199a50",
   "metadata": {
    "slideshow": {
     "slide_type": "slide"
    }
   },
   "source": [
    "Wir hätten auch drei t-Tests rechnen können"
   ]
  },
  {
   "cell_type": "code",
   "execution_count": null,
   "id": "25edc3fc",
   "metadata": {},
   "outputs": [],
   "source": [
    "r1 = stats.ttest_ind(gA.dropna(), gG.dropna())\n",
    "r1"
   ]
  },
  {
   "cell_type": "code",
   "execution_count": null,
   "id": "fe5a8c49",
   "metadata": {},
   "outputs": [],
   "source": [
    "r2 = stats.ttest_ind(gA.dropna(), gC.dropna())\n",
    "r2"
   ]
  },
  {
   "cell_type": "code",
   "execution_count": null,
   "id": "f75b4315",
   "metadata": {},
   "outputs": [],
   "source": [
    "r3 = stats.ttest_ind(gG.dropna(), gC.dropna())\n",
    "r3"
   ]
  },
  {
   "cell_type": "markdown",
   "id": "da9ff9dd",
   "metadata": {
    "slideshow": {
     "slide_type": "slide"
    }
   },
   "source": [
    "* Das ist multiples Testen, muss also korrigiert werden"
   ]
  },
  {
   "cell_type": "markdown",
   "id": "ffa1548e",
   "metadata": {},
   "source": [
    "* Drei Tests gerechnet\n",
    "* Gewünscht: $\\alpha=0.01$\n",
    "* Bonferroni-Korrektur:  Jeden einzelnen Test zu $\\frac\\alpha3 = 0.003333$ auswerten"
   ]
  },
  {
   "cell_type": "markdown",
   "id": "3399ca8e",
   "metadata": {},
   "source": [
    "* Zu $\\alpha=0.01$ werden Unterschiede in den Schnabellängen zwischen Adelie- und Eselspinguinen und zwischen Adelie- und Zügelpinguinen gefunden\n",
    "* Der Unterschied zwischen Esels- und Zügelpinguinen ist nicht signifikant"
   ]
  },
  {
   "cell_type": "markdown",
   "id": "66ff52e1",
   "metadata": {
    "slideshow": {
     "slide_type": "slide"
    }
   },
   "source": [
    "# Post-hoc Analyse"
   ]
  },
  {
   "cell_type": "markdown",
   "id": "19da8db0",
   "metadata": {
    "slideshow": {
     "slide_type": "fragment"
    }
   },
   "source": [
    "* Wenn die ANOVA einen signifikanten Unterschied zwischen den Gruppen gezeigt hat, dann versucht man mit der post-hoc Analyise herauszubekommen, zwischen welchen beiden Gruppen signifikante Unterschiede bestehen\n",
    "* Die post-hoc Analyse muss für multiple Vergleiche korrigiert werden"
   ]
  },
  {
   "cell_type": "code",
   "execution_count": null,
   "id": "c332f2f6",
   "metadata": {
    "slideshow": {
     "slide_type": "slide"
    }
   },
   "outputs": [],
   "source": [
    "from statsmodels.sandbox.stats.multicomp import MultiComparison"
   ]
  },
  {
   "cell_type": "markdown",
   "id": "a87f71d2",
   "metadata": {},
   "source": [
    "Achtung:  Hier wird irgendwann der Bestandteil `sandbox` überflüssig"
   ]
  },
  {
   "cell_type": "markdown",
   "id": "cfca1d56",
   "metadata": {
    "slideshow": {
     "slide_type": "slide"
    }
   },
   "source": [
    "Wir müssen die nan-Werte los werden"
   ]
  },
  {
   "cell_type": "code",
   "execution_count": null,
   "id": "6c9b73f7",
   "metadata": {},
   "outputs": [],
   "source": [
    "df_dropped = df[df.bill_length_mm.notnull()]\n",
    "df_dropped.head()"
   ]
  },
  {
   "cell_type": "code",
   "execution_count": null,
   "id": "bda65df0",
   "metadata": {
    "slideshow": {
     "slide_type": "slide"
    }
   },
   "outputs": [],
   "source": [
    "muc = MultiComparison(df_dropped.bill_length_mm, df_dropped.species)"
   ]
  },
  {
   "cell_type": "code",
   "execution_count": null,
   "id": "f822a808",
   "metadata": {},
   "outputs": [],
   "source": [
    "muc.allpairtest(stats.ttest_ind, alpha=0.01, method='bonferroni')[0]"
   ]
  },
  {
   "cell_type": "markdown",
   "id": "0868e538",
   "metadata": {
    "slideshow": {
     "slide_type": "slide"
    }
   },
   "source": [
    "### Dasselbe mit Bonferroni-Holm"
   ]
  },
  {
   "cell_type": "code",
   "execution_count": null,
   "id": "9798d595",
   "metadata": {},
   "outputs": [],
   "source": [
    "muc.allpairtest(stats.ttest_ind, alpha=0.01, method='holm')[0]"
   ]
  },
  {
   "cell_type": "markdown",
   "id": "9e9daf5c",
   "metadata": {
    "slideshow": {
     "slide_type": "slide"
    }
   },
   "source": [
    "## Bonferroni-Holm"
   ]
  },
  {
   "cell_type": "markdown",
   "id": "dac9a636",
   "metadata": {},
   "source": [
    "* n multiple Vergleiche werden durchgeführt\n",
    "* Die p-Werte werden der Größe nach geordnet\n",
    "* der kleinste p-Wert muss signifikant zu $\\frac\\alpha n$ sein\n",
    "* der zweitkleinste zu $\\frac\\alpha{n-1}$\n",
    "* drittkleinste zu $\\frac\\alpha{n-2}$\n",
    "* usw.\n",
    "* der größte zum Niveau $\\alpha$"
   ]
  },
  {
   "cell_type": "markdown",
   "id": "02309bff",
   "metadata": {
    "slideshow": {
     "slide_type": "slide"
    }
   },
   "source": [
    "Bei den Pinguinen\n",
    "\n",
    "* der kleinste p-Wert ist 2.79721289e-72, er ist kleiner als $\\frac{0.01}3 = 0.003333$\n",
    "* der zweitkleinste p-Wert ist 4.02351804e-62, er ist kleiner als $\\frac{0.01}2 = 0.005$\n",
    "* der drittkleinste p-Wert ist 0.006175813142, er ist kleiner als $\\alpha = 0.01$\n"
   ]
  },
  {
   "cell_type": "markdown",
   "id": "ba73e90e",
   "metadata": {
    "slideshow": {
     "slide_type": "fragment"
    }
   },
   "source": [
    "* Wendet man Bonferroni-Holm an, so unterscheiden sich auch die Schnabellängen zwischen Esels- und Zügelpinguinen signifikant"
   ]
  },
  {
   "cell_type": "markdown",
   "id": "3749dd84",
   "metadata": {
    "slideshow": {
     "slide_type": "fragment"
    }
   },
   "source": [
    "* Genau wie die Wahl des Signifikanzniveaus muss die Frage nach der Korrektur des p-Werts innerhalb der Fachwissenschaft beantwortet werden"
   ]
  },
  {
   "cell_type": "code",
   "execution_count": null,
   "id": "5446efa9",
   "metadata": {
    "slideshow": {
     "slide_type": "slide"
    }
   },
   "outputs": [],
   "source": [
    "sns.displot(df, x='bill_length_mm', col='species');"
   ]
  },
  {
   "cell_type": "markdown",
   "id": "19d5467d",
   "metadata": {
    "slideshow": {
     "slide_type": "slide"
    }
   },
   "source": [
    "### Beispiel Taxis"
   ]
  },
  {
   "cell_type": "code",
   "execution_count": null,
   "id": "26178394",
   "metadata": {
    "slideshow": {
     "slide_type": "slide"
    }
   },
   "outputs": [],
   "source": [
    "df = sns.load_dataset('taxis')"
   ]
  },
  {
   "cell_type": "code",
   "execution_count": null,
   "id": "2c0a9f29",
   "metadata": {},
   "outputs": [],
   "source": [
    "df.head()"
   ]
  },
  {
   "cell_type": "code",
   "execution_count": null,
   "id": "172d4c5a",
   "metadata": {
    "slideshow": {
     "slide_type": "slide"
    }
   },
   "outputs": [],
   "source": [
    "df.dropoff_borough.value_counts()"
   ]
  },
  {
   "cell_type": "code",
   "execution_count": null,
   "id": "d5769ac2",
   "metadata": {},
   "outputs": [],
   "source": [
    "m = df[df.dropoff_borough=='Manhattan'].tip\n",
    "q = df[df.dropoff_borough=='Queens'].tip\n",
    "b = df[df.dropoff_borough=='Brooklyn'].tip\n",
    "x = df[df.dropoff_borough=='Bronx'].tip\n",
    "s = df[df.dropoff_borough=='Staten Island'].tip"
   ]
  },
  {
   "cell_type": "code",
   "execution_count": null,
   "id": "6bd903b6",
   "metadata": {
    "slideshow": {
     "slide_type": "slide"
    }
   },
   "outputs": [],
   "source": [
    "stats.f_oneway(m, q, b, x, s)"
   ]
  },
  {
   "cell_type": "markdown",
   "id": "2dd84eee",
   "metadata": {},
   "source": [
    "Das Trinkgeld hängt vom Aussteigeort ab"
   ]
  },
  {
   "cell_type": "markdown",
   "id": "71de071c",
   "metadata": {
    "slideshow": {
     "slide_type": "slide"
    }
   },
   "source": [
    "Bei den nans machen wir es uns jetzt einfach"
   ]
  },
  {
   "cell_type": "code",
   "execution_count": null,
   "id": "18b69cb4",
   "metadata": {},
   "outputs": [],
   "source": [
    "df_dropped = df.dropna()"
   ]
  },
  {
   "cell_type": "code",
   "execution_count": null,
   "id": "960c3cba",
   "metadata": {
    "slideshow": {
     "slide_type": "fragment"
    }
   },
   "outputs": [],
   "source": [
    "df_dropped.describe()"
   ]
  },
  {
   "cell_type": "code",
   "execution_count": null,
   "id": "bacfebda",
   "metadata": {
    "slideshow": {
     "slide_type": "slide"
    }
   },
   "outputs": [],
   "source": [
    "muc = MultiComparison(df_dropped.tip, df_dropped.dropoff_borough)"
   ]
  },
  {
   "cell_type": "code",
   "execution_count": null,
   "id": "917c0d83",
   "metadata": {},
   "outputs": [],
   "source": [
    "muc.allpairtest(stats.ttest_ind, method='holm')[0]"
   ]
  }
 ],
 "metadata": {
  "celltoolbar": "Slideshow",
  "kernelspec": {
   "display_name": "Python 3 (ipykernel)",
   "language": "python",
   "name": "python3"
  },
  "language_info": {
   "codemirror_mode": {
    "name": "ipython",
    "version": 3
   },
   "file_extension": ".py",
   "mimetype": "text/x-python",
   "name": "python",
   "nbconvert_exporter": "python",
   "pygments_lexer": "ipython3",
   "version": "3.11.5"
  }
 },
 "nbformat": 4,
 "nbformat_minor": 5
}
