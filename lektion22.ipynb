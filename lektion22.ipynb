{
 "cells": [
  {
   "cell_type": "markdown",
   "id": "97e910de",
   "metadata": {
    "slideshow": {
     "slide_type": "slide"
    }
   },
   "source": [
    "## Mathematik für Biologiestudierende II\n",
    "\n",
    "Sommersemester 2024\n",
    "\n",
    "11.06.2024\n",
    "\n",
    "&copy; 2024 Prof. Dr. Rüdiger W. Braun "
   ]
  },
  {
   "cell_type": "code",
   "execution_count": null,
   "id": "71cb2719",
   "metadata": {
    "slideshow": {
     "slide_type": "slide"
    }
   },
   "outputs": [],
   "source": [
    "import numpy as np\n",
    "import pandas as pd\n",
    "from scipy import stats\n",
    "import seaborn as sns\n",
    "sns.set_theme()"
   ]
  },
  {
   "cell_type": "markdown",
   "id": "6a646d3b",
   "metadata": {
    "slideshow": {
     "slide_type": "slide"
    }
   },
   "source": [
    "# Lineare Modelle"
   ]
  },
  {
   "cell_type": "markdown",
   "id": "cbe544e6",
   "metadata": {
    "slideshow": {
     "slide_type": "slide"
    }
   },
   "source": [
    "* eine lineare Funktion einer Variablen ist eine Funktion der Form\n",
    "$$   y = m \\cdot x + b\n",
    "$$\n",
    "* bei der linearen Regression besteht die Aufgabe darin, $m$ und $b$ zu bestimmen\n",
    "* beim linearen Modell werden $m$ und $b$ auch bestimmt, man erhält aber zusätzlich noch ein Konfidenzintervall für sie"
   ]
  },
  {
   "cell_type": "markdown",
   "id": "98f1daf3",
   "metadata": {},
   "source": [
    "* Literatur: \"Linear Models with Python\" von Faraway\n",
    "* Statsmodels: https://www.statsmodels.org/stable/user-guide.html"
   ]
  },
  {
   "cell_type": "markdown",
   "id": "22b1846c",
   "metadata": {
    "slideshow": {
     "slide_type": "slide"
    }
   },
   "source": [
    "Wir beginnen mit den Blutdruckdaten"
   ]
  },
  {
   "cell_type": "code",
   "execution_count": null,
   "id": "b0d58cee",
   "metadata": {},
   "outputs": [],
   "source": [
    "df = pd.read_csv(\"blutdruckdaten.csv\")\n",
    "df.head()"
   ]
  },
  {
   "cell_type": "code",
   "execution_count": null,
   "id": "9a067e85",
   "metadata": {
    "slideshow": {
     "slide_type": "slide"
    }
   },
   "outputs": [],
   "source": [
    "sns.regplot(df, x='Alter', y='Blutdruck');"
   ]
  },
  {
   "cell_type": "code",
   "execution_count": null,
   "id": "bd668ccb",
   "metadata": {
    "slideshow": {
     "slide_type": "slide"
    }
   },
   "outputs": [],
   "source": [
    "import statsmodels.formula.api as smf"
   ]
  },
  {
   "cell_type": "code",
   "execution_count": null,
   "id": "bef06868",
   "metadata": {},
   "outputs": [],
   "source": [
    "formel = 'Blutdruck ~ Alter'"
   ]
  },
  {
   "cell_type": "markdown",
   "id": "59fa0afa",
   "metadata": {},
   "source": [
    "Das bedeutet:\n",
    "\n",
    "* wir wollen den Blutdruck modellieren\n",
    "* als einzigen unabhängigen Parameter wählen wir das Alter"
   ]
  },
  {
   "cell_type": "code",
   "execution_count": null,
   "id": "619fa142",
   "metadata": {
    "slideshow": {
     "slide_type": "slide"
    }
   },
   "outputs": [],
   "source": [
    "modell = smf.ols(formel, df)"
   ]
  },
  {
   "cell_type": "markdown",
   "id": "dc36470d",
   "metadata": {},
   "source": [
    "* `ols`: ordinary least squares\n",
    "* Lektion 20: die Regression ist \"bestmöglich\" in dem Sinn, dass\n",
    "$$\n",
    "    \\sum_{j=1}^n (m \\cdot x_j + b - y_j)^2 \n",
    "$$\n",
    "minimal wird\n",
    "* daher der Name \"Methode der kleinsten Quadrate\""
   ]
  },
  {
   "cell_type": "code",
   "execution_count": null,
   "id": "5b248d44",
   "metadata": {
    "slideshow": {
     "slide_type": "slide"
    }
   },
   "outputs": [],
   "source": [
    "res = modell.fit()"
   ]
  },
  {
   "cell_type": "code",
   "execution_count": null,
   "id": "8849dc33",
   "metadata": {},
   "outputs": [],
   "source": [
    "res.summary()"
   ]
  },
  {
   "cell_type": "markdown",
   "id": "603e7c5a",
   "metadata": {
    "slideshow": {
     "slide_type": "slide"
    }
   },
   "source": [
    "* Ich werde die wichtigsten Daten aus dieser Ausgabe erkären\n",
    "* aber nicht alle"
   ]
  },
  {
   "cell_type": "markdown",
   "id": "e0a1c6ec",
   "metadata": {
    "slideshow": {
     "slide_type": "fragment"
    }
   },
   "source": [
    "zum Vergleich:  wir hatten in Lektion 20 die lineare Regression zu Fuß gerechnet und für die Steigung den folgenden Wert erhalten:"
   ]
  },
  {
   "cell_type": "code",
   "execution_count": null,
   "id": "756792a3",
   "metadata": {},
   "outputs": [],
   "source": [
    "cov = 348.57\n",
    "var_x = 231.13\n",
    "m = cov / var_x\n",
    "np.round(m, 4)"
   ]
  },
  {
   "cell_type": "markdown",
   "id": "9dbf1a55",
   "metadata": {},
   "source": [
    "* Das ist genau die Zahl, die in der Spalte `coef` und der Zeile `Alter` steht"
   ]
  },
  {
   "cell_type": "markdown",
   "id": "9f41acb1",
   "metadata": {
    "slideshow": {
     "slide_type": "slide"
    }
   },
   "source": [
    "* Der Wert für den Ordinatenabschnitt (engl: \"intercept\") war damals"
   ]
  },
  {
   "cell_type": "code",
   "execution_count": null,
   "id": "55cf947a",
   "metadata": {},
   "outputs": [],
   "source": [
    "xq = 44.800  # Mittelwert für x\n",
    "yq = 147.93  # Mittelwert für y\n",
    "b = yq - m*xq\n",
    "np.round(b, 4)"
   ]
  },
  {
   "cell_type": "markdown",
   "id": "fd39c4c8",
   "metadata": {},
   "source": [
    "* Das ist die Zahl, die in der Spalte `coef` und der Zeile `Intercept` steht\n",
    "* es gibt eine kleine Abweichung durch Rundungsfehler\n"
   ]
  },
  {
   "cell_type": "markdown",
   "id": "13dc4456",
   "metadata": {
    "slideshow": {
     "slide_type": "slide"
    }
   },
   "source": [
    "Wir schauen uns die Zeile `Alter` weiter an:"
   ]
  },
  {
   "cell_type": "code",
   "execution_count": null,
   "id": "b015c436",
   "metadata": {},
   "outputs": [],
   "source": [
    "res.summary()"
   ]
  },
  {
   "cell_type": "markdown",
   "id": "caff9e72",
   "metadata": {
    "slideshow": {
     "slide_type": "slide"
    }
   },
   "source": [
    "* Der Eintrag `P>|t|` bezeichnet den p-Wert für den zweiseitigen Test, dass `coef` ungleich 0 ist.\n",
    "* `coef` ist das *m* aus der Formel der linearen Regression\n"
   ]
  },
  {
   "cell_type": "markdown",
   "id": "7722b06f",
   "metadata": {
    "slideshow": {
     "slide_type": "fragment"
    }
   },
   "source": [
    "* wenn die Nullhypothese $H_0=\\{m\\ne0\\}$ nicht abgelehnt werden kann, dann bedeutet das, dass zum Signifikanzniveau $\\alpha=0.05$ nicht nachgewiesen wurde, dass das Alter überhaupt einen Einfluss auf den Blutdruck hat"
   ]
  },
  {
   "cell_type": "markdown",
   "id": "df3e2f89",
   "metadata": {
    "slideshow": {
     "slide_type": "slide"
    }
   },
   "source": [
    "* zum Vergleich fügen wir eine zufällige Zeile an"
   ]
  },
  {
   "cell_type": "code",
   "execution_count": null,
   "id": "7670c449",
   "metadata": {},
   "outputs": [],
   "source": [
    "P = stats.norm()\n",
    "df['Zufallsdaten'] = P.rvs(size=30)"
   ]
  },
  {
   "cell_type": "code",
   "execution_count": null,
   "id": "d964b25a",
   "metadata": {
    "slideshow": {
     "slide_type": "-"
    }
   },
   "outputs": [],
   "source": [
    "formel2 = 'Blutdruck ~ Zufallsdaten'\n",
    "modell2 = smf.ols(formel2, df)"
   ]
  },
  {
   "cell_type": "code",
   "execution_count": null,
   "id": "49300ea1",
   "metadata": {
    "slideshow": {
     "slide_type": "slide"
    }
   },
   "outputs": [],
   "source": [
    "res2 = modell2.fit()\n",
    "res2.summary()"
   ]
  },
  {
   "cell_type": "markdown",
   "id": "1e70996f",
   "metadata": {},
   "source": [
    "* Der Wert für `P>|t|` ist größer als 0.05\n",
    "* Daher kann die Nulhypothese, dass `Zufallsdaten` keinen Einfluss auf `Blutdruck` hat, nicht abglehent werden"
   ]
  },
  {
   "cell_type": "code",
   "execution_count": null,
   "id": "3aace635",
   "metadata": {
    "slideshow": {
     "slide_type": "slide"
    }
   },
   "outputs": [],
   "source": [
    "sns.regplot(df, x='Zufallsdaten', y='Blutdruck');"
   ]
  },
  {
   "cell_type": "markdown",
   "id": "baaebaf6",
   "metadata": {
    "slideshow": {
     "slide_type": "slide"
    }
   },
   "source": [
    "Weiter mit der Zeile `Alter`"
   ]
  },
  {
   "cell_type": "code",
   "execution_count": null,
   "id": "2312d967",
   "metadata": {
    "scrolled": true,
    "slideshow": {
     "slide_type": "slide"
    }
   },
   "outputs": [],
   "source": [
    "res.summary()"
   ]
  },
  {
   "cell_type": "markdown",
   "id": "0f007127",
   "metadata": {},
   "source": [
    "* Die Einträge `[0.025` und `0.975]` geben die untere und die obere Vertrauensgrenze des Konfidenzintervalls zum Konfidenzniveau 0.95 an"
   ]
  },
  {
   "cell_type": "markdown",
   "id": "d61abd2b",
   "metadata": {
    "slideshow": {
     "slide_type": "slide"
    }
   },
   "source": [
    "* Variante:  99%-Konfidenzintervall\n",
    "* Achtung:  Für Konfidenzintervall zum Konfidenzniveau $1-\\alpha$ muss $\\alpha$ eingegeben werden"
   ]
  },
  {
   "cell_type": "code",
   "execution_count": null,
   "id": "42cd3dc8",
   "metadata": {},
   "outputs": [],
   "source": [
    "res.conf_int(alpha=.01)"
   ]
  },
  {
   "cell_type": "markdown",
   "id": "fff2ebd5",
   "metadata": {},
   "source": [
    "Der Wert für $m$ in der Formel für die lineare Regression liegt mit 99% Sicherheit zwischen 0.993 und 2.034."
   ]
  },
  {
   "cell_type": "markdown",
   "id": "f4f3e9f9",
   "metadata": {
    "slideshow": {
     "slide_type": "slide"
    }
   },
   "source": [
    "* Der Eintrag `t` ist der Wert der Teststatistik, aus dem der p-Wert bestimmt worden ist"
   ]
  },
  {
   "cell_type": "markdown",
   "id": "6042830f",
   "metadata": {
    "slideshow": {
     "slide_type": "slide"
    }
   },
   "source": [
    "In Lektion 21 hattenn wir den Korrelationskoeffizienten bestimmt"
   ]
  },
  {
   "cell_type": "code",
   "execution_count": null,
   "id": "9ee72059",
   "metadata": {},
   "outputs": [],
   "source": [
    "r = 0.83705"
   ]
  },
  {
   "cell_type": "code",
   "execution_count": null,
   "id": "5c0c084c",
   "metadata": {
    "slideshow": {
     "slide_type": "-"
    }
   },
   "outputs": [],
   "source": [
    "r**2"
   ]
  },
  {
   "cell_type": "code",
   "execution_count": null,
   "id": "be7f8083",
   "metadata": {
    "slideshow": {
     "slide_type": "slide"
    }
   },
   "outputs": [],
   "source": [
    "res.summary()"
   ]
  },
  {
   "cell_type": "markdown",
   "id": "5c4895a8",
   "metadata": {},
   "source": [
    "* $r^2$ ist die Größe, die in `res.summary()` als `R-squared` auftaucht"
   ]
  },
  {
   "cell_type": "markdown",
   "id": "27b30176",
   "metadata": {
    "slideshow": {
     "slide_type": "slide"
    }
   },
   "source": [
    "# Anderes Beispiel: Größen von Vätern und Söhnen"
   ]
  },
  {
   "cell_type": "code",
   "execution_count": null,
   "id": "665a0039",
   "metadata": {
    "slideshow": {
     "slide_type": "slide"
    }
   },
   "outputs": [],
   "source": [
    "df = pd.read_csv('galton.csv')\n",
    "df.head()"
   ]
  },
  {
   "cell_type": "markdown",
   "id": "5537dcbf",
   "metadata": {},
   "source": [
    "Ein Datensatz zum Buch \"Linear Models with Python\" von Faraway"
   ]
  },
  {
   "cell_type": "code",
   "execution_count": null,
   "id": "1ff33215",
   "metadata": {
    "slideshow": {
     "slide_type": "slide"
    }
   },
   "outputs": [],
   "source": [
    "formel = 'childHeight ~ mother'"
   ]
  },
  {
   "cell_type": "code",
   "execution_count": null,
   "id": "20b4b7ba",
   "metadata": {},
   "outputs": [],
   "source": [
    "modell = smf.ols(formel, df)"
   ]
  },
  {
   "cell_type": "code",
   "execution_count": null,
   "id": "6340edba",
   "metadata": {
    "scrolled": true,
    "slideshow": {
     "slide_type": "slide"
    }
   },
   "outputs": [],
   "source": [
    "res = modell.fit()\n",
    "res.summary()"
   ]
  },
  {
   "cell_type": "markdown",
   "id": "e560d901",
   "metadata": {},
   "source": [
    "``childHeight = 0.4465*father  + 38.3626``"
   ]
  },
  {
   "cell_type": "markdown",
   "id": "0fa2b020",
   "metadata": {},
   "source": [
    "Vorfaktor ist kleiner als 1:  Regression to the mean"
   ]
  },
  {
   "cell_type": "code",
   "execution_count": null,
   "id": "96fa5b4b",
   "metadata": {
    "slideshow": {
     "slide_type": "slide"
    }
   },
   "outputs": [],
   "source": [
    "sns.regplot(df, x='father', y='childHeight')"
   ]
  },
  {
   "cell_type": "code",
   "execution_count": null,
   "id": "e4008931",
   "metadata": {},
   "outputs": [],
   "source": []
  }
 ],
 "metadata": {
  "celltoolbar": "Slideshow",
  "kernelspec": {
   "display_name": "Python 3 (ipykernel)",
   "language": "python",
   "name": "python3"
  },
  "language_info": {
   "codemirror_mode": {
    "name": "ipython",
    "version": 3
   },
   "file_extension": ".py",
   "mimetype": "text/x-python",
   "name": "python",
   "nbconvert_exporter": "python",
   "pygments_lexer": "ipython3",
   "version": "3.11.4"
  }
 },
 "nbformat": 4,
 "nbformat_minor": 5
}
